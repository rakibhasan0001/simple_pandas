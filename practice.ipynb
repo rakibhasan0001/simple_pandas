{
 "cells": [
  {
   "cell_type": "code",
   "execution_count": 1,
   "id": "civilian-scott",
   "metadata": {},
   "outputs": [],
   "source": [
    "age_list=[47,12,28,52,35]\n",
    "for i,age in enumerate(age_list):\n",
    "    if age<18:\n",
    "        is_minor=True\n",
    "        age_list[i]='minor'"
   ]
  },
  {
   "cell_type": "code",
   "execution_count": 4,
   "id": "intimate-masters",
   "metadata": {},
   "outputs": [
    {
     "name": "stdout",
     "output_type": "stream",
     "text": [
      "(0, 47)\n",
      "(1, 'minor')\n",
      "(2, 28)\n",
      "(3, 52)\n",
      "(4, 35)\n"
     ]
    }
   ],
   "source": [
    "enumerate(age_list)\n",
    "for i in enumerate(age_list):\n",
    "    print(i)"
   ]
  },
  {
   "cell_type": "code",
   "execution_count": 13,
   "id": "public-recycling",
   "metadata": {},
   "outputs": [
    {
     "name": "stdout",
     "output_type": "stream",
     "text": [
      "[1]\n",
      "duration: 0.000997 \n"
     ]
    }
   ],
   "source": [
    "import time\n",
    "start_time=time.time()\n",
    "list1 = [1, 2]\n",
    "list2 = [1, 3]\n",
    "\n",
    "\n",
    "list1_as_set = set(list1)\n",
    "intersection = list1_as_set.intersection(list2)\n",
    "# Find common elements of set and list\n",
    "\n",
    "intersection_as_list = list(intersection)\n",
    "\n",
    "print(intersection_as_list)\n",
    "print('duration: {} '.format(round(time.time()-start_time,6)))"
   ]
  },
  {
   "cell_type": "code",
   "execution_count": 8,
   "id": "collective-tyler",
   "metadata": {},
   "outputs": [
    {
     "name": "stdout",
     "output_type": "stream",
     "text": [
      "[1 3 4]\n",
      "duration: 0.04382586479187012 \n"
     ]
    }
   ],
   "source": [
    "import numpy as np\n",
    "start_time=time.time()\n",
    "\n",
    "ar1 = np.array([0, 1, 2, 3, 4])\n",
    "ar2 = [1, 3, 4]\n",
    "\n",
    "# Common values between two arrays\n",
    "print(np.intersect1d(ar1, ar2))\n",
    "print('duration: {} '.format(time.time()-start_time))"
   ]
  },
  {
   "cell_type": "code",
   "execution_count": 10,
   "id": "original-former",
   "metadata": {},
   "outputs": [
    {
     "ename": "AttributeError",
     "evalue": "'float' object has no attribute 'round'",
     "output_type": "error",
     "traceback": [
      "\u001b[1;31m---------------------------------------------------------------------------\u001b[0m",
      "\u001b[1;31mAttributeError\u001b[0m                            Traceback (most recent call last)",
      "\u001b[1;32m<ipython-input-10-e9a1aeaac0d9>\u001b[0m in \u001b[0;36m<module>\u001b[1;34m\u001b[0m\n\u001b[0;32m      1\u001b[0m \u001b[0mnum\u001b[0m\u001b[1;33m=\u001b[0m\u001b[1;36m8.89893\u001b[0m\u001b[1;33m\u001b[0m\u001b[1;33m\u001b[0m\u001b[0m\n\u001b[1;32m----> 2\u001b[1;33m \u001b[0mprint\u001b[0m\u001b[1;33m(\u001b[0m\u001b[0mnum\u001b[0m\u001b[1;33m.\u001b[0m\u001b[0mround\u001b[0m\u001b[1;33m(\u001b[0m\u001b[1;36m4\u001b[0m\u001b[1;33m)\u001b[0m\u001b[1;33m)\u001b[0m\u001b[1;33m\u001b[0m\u001b[1;33m\u001b[0m\u001b[0m\n\u001b[0m",
      "\u001b[1;31mAttributeError\u001b[0m: 'float' object has no attribute 'round'"
     ]
    }
   ],
   "source": [
    "num=8.89893\n",
    "print(num.round(4))"
   ]
  },
  {
   "cell_type": "code",
   "execution_count": 12,
   "id": "furnished-world",
   "metadata": {},
   "outputs": [
    {
     "name": "stdout",
     "output_type": "stream",
     "text": [
      "5.77\n"
     ]
    }
   ],
   "source": [
    "x = round(5.76543,2)\n",
    "print(x)"
   ]
  },
  {
   "cell_type": "code",
   "execution_count": 15,
   "id": "signed-jurisdiction",
   "metadata": {},
   "outputs": [
    {
     "name": "stdout",
     "output_type": "stream",
     "text": [
      "2020 Tesla Model S\n"
     ]
    },
    {
     "ename": "TypeError",
     "evalue": "read_odometer() missing 1 required positional argument: 'self'",
     "output_type": "error",
     "traceback": [
      "\u001b[1;31m---------------------------------------------------------------------------\u001b[0m",
      "\u001b[1;31mTypeError\u001b[0m                                 Traceback (most recent call last)",
      "\u001b[1;32m<ipython-input-15-a6767847466f>\u001b[0m in \u001b[0;36m<module>\u001b[1;34m\u001b[0m\n\u001b[0;32m     31\u001b[0m \u001b[0mprint\u001b[0m\u001b[1;33m(\u001b[0m\u001b[0mmilage_car\u001b[0m\u001b[1;33m.\u001b[0m\u001b[0mincrement_odometer\u001b[0m\u001b[1;33m(\u001b[0m\u001b[1;33m)\u001b[0m\u001b[1;33m)\u001b[0m\u001b[1;33m\u001b[0m\u001b[1;33m\u001b[0m\u001b[0m\n\u001b[0;32m     32\u001b[0m '''\n\u001b[1;32m---> 33\u001b[1;33m \u001b[0mprint\u001b[0m\u001b[1;33m(\u001b[0m\u001b[0mcar\u001b[0m\u001b[1;33m.\u001b[0m\u001b[0mread_odometer\u001b[0m\u001b[1;33m(\u001b[0m\u001b[1;33m)\u001b[0m\u001b[1;33m)\u001b[0m\u001b[1;33m\u001b[0m\u001b[1;33m\u001b[0m\u001b[0m\n\u001b[0m",
      "\u001b[1;31mTypeError\u001b[0m: read_odometer() missing 1 required positional argument: 'self'"
     ]
    }
   ],
   "source": [
    "class car:\n",
    "    def __init__(self,make,model,year):\n",
    "        self.make=make\n",
    "        self.model=model\n",
    "        self.year=year\n",
    "        self.odometer_reading=0\n",
    "    def descriptive_name(self):\n",
    "        longname=f'{self.year} {self.make} {self.model}'\n",
    "        return longname.title()\n",
    "    def read_odometer(self):\n",
    "        print(f'this car has {self.odometer_reading} miles on it')\n",
    "    def update_odometer(self,milage):\n",
    "        if milage >= self.odometer_reading:\n",
    "            self.odometer_reading=milage\n",
    "        else:\n",
    "            print('dont violate your rule')\n",
    "    def increment_odometer(self,milage):\n",
    "        self.odometer_reading += milage\n",
    "        \n",
    "        \n",
    "class electricCar(car):\n",
    "    def __init__(self,make,model,year):\n",
    "        super().__init__(make,model,year)\n",
    "\n",
    "my_tesla=electricCar('tesla','model S',2020)\n",
    "print(my_tesla.descriptive_name())\n",
    "\n",
    "'''----error----\n",
    "milage=88\n",
    "milage_car=car.update_odometer()\n",
    "print(milage_car.increment_odometer())\n",
    "'''\n",
    "print(car.read_odometer())"
   ]
  },
  {
   "cell_type": "markdown",
   "id": "adequate-import",
   "metadata": {},
   "source": [
    "# define attribute and method for child class"
   ]
  },
  {
   "cell_type": "code",
   "execution_count": 16,
   "id": "ambient-cathedral",
   "metadata": {},
   "outputs": [
    {
     "name": "stdout",
     "output_type": "stream",
     "text": [
      "2020 Tesla Model S\n",
      "this car has 75w  battery\n"
     ]
    }
   ],
   "source": [
    "class car:\n",
    "    def __init__(self,make,model,year):\n",
    "        self.make=make\n",
    "        self.model=model\n",
    "        self.year=year\n",
    "        self.odometer_reading=0\n",
    "    def descriptive_name(self):\n",
    "        longname=f'{self.year} {self.make} {self.model}'\n",
    "        return longname.title()\n",
    "    def read_odometer(self):\n",
    "        print(f'this car has {self.odometer_reading} miles on it')\n",
    "    def update_odometer(self,milage):\n",
    "        if milage >= self.odometer_reading:\n",
    "            self.odometer_reading=milage\n",
    "        else:\n",
    "            print('dont violate your rule')\n",
    "    def increment_odometer(self,milage):\n",
    "        self.odometer_reading += milage\n",
    "        \n",
    "        \n",
    "class electricCar(car):\n",
    "    def __init__(self,make,model,year):\n",
    "        super().__init__(make,model,year)\n",
    "        self.battery_size=75\n",
    "    def descibe_battery(self):\n",
    "        print(f'this car has {self.battery_size}w  battery')\n",
    "\n",
    "my_tesla=electricCar('tesla','model S',2020)\n",
    "print(my_tesla.descriptive_name())\n",
    "\n",
    "'''----error----\n",
    "milage=88\n",
    "milage_car=car.update_odometer()\n",
    "print(milage_car.increment_odometer())\n",
    "'''\n",
    "# print(car.read_odometer()) error\n",
    "my_tesla.descibe_battery()\n"
   ]
  },
  {
   "cell_type": "markdown",
   "id": "western-relief",
   "metadata": {},
   "source": [
    "# istance as attibute "
   ]
  },
  {
   "cell_type": "code",
   "execution_count": 10,
   "id": "massive-letters",
   "metadata": {},
   "outputs": [
    {
     "name": "stdout",
     "output_type": "stream",
     "text": [
      "Make an electric car, and check the battery:\n",
      "This car has a 60-kWh battery.\n",
      "\n",
      "Upgrade the battery, and check it again:\n",
      "Upgraded the battery to 85 kWh.\n",
      "This car has a 85-kWh battery.\n",
      "\n",
      "Try upgrading the battery a second time.\n",
      "The battery is already upgraded.\n",
      "This car has a 85-kWh battery.\n"
     ]
    }
   ],
   "source": [
    "class Car():\n",
    "    \"\"\"A simple attempt to represent a car.\"\"\"\n",
    "\n",
    "    def __init__(self, manufacturer, model, year):\n",
    "        \"\"\"Initialize attributes to describe a car.\"\"\"\n",
    "        self.manufacturer = manufacturer\n",
    "        self.model = model\n",
    "        self.year = year\n",
    "        self.odometer_reading = 0\n",
    "        \n",
    "    def get_descriptive_name(self):\n",
    "        \"\"\"Return a neatly formatted descriptive name.\"\"\"\n",
    "        long_name = str(self.year) + ' ' + self.manufacturer + ' ' + self.model\n",
    "        return long_name.title()\n",
    "    \n",
    "    def read_odometer(self):\n",
    "        \"\"\"Print a statement showing the car's mileage.\"\"\"\n",
    "        print(\"This car has \" + str(self.odometer_reading) + \" miles on it.\")\n",
    "        \n",
    "    def update_odometer(self, mileage):\n",
    "        \"\"\"\n",
    "        Set the odometer reading to the given value.\n",
    "        Reject the change if it attempts to roll the odometer back.\n",
    "        \"\"\"\n",
    "        if mileage >= self.odometer_reading:\n",
    "            self.odometer_reading = mileage\n",
    "        else:\n",
    "            print(\"You can't roll back an odometer!\")\n",
    "    \n",
    "    def increment_odometer(self, miles):\n",
    "        \"\"\"Add the given amount to the odometer reading.\"\"\"\n",
    "        self.odometer_reading += miles\n",
    "\n",
    "class Battery():\n",
    "    \"\"\"A simple attempt to model a battery for an electric car.\"\"\"\n",
    "\n",
    "    def __init__(self, battery_size=60):\n",
    "        \"\"\"Initialize the batteery's attributes.\"\"\"\n",
    "        self.battery_size = battery_size\n",
    "\n",
    "    def describe_battery(self):\n",
    "        \"\"\"Print a statement describing the battery size.\"\"\"\n",
    "        print(\"This car has a \" + str(self.battery_size) + \"-kWh battery.\")\n",
    "\n",
    "        \n",
    "    def get_range(self):\n",
    "        \"\"\"Print a statement about the range this battery provides.\"\"\"\n",
    "        if self.battery_size == 60:\n",
    "            range = 140\n",
    "        elif self.battery_size == 85:\n",
    "            range = 185\n",
    "            \n",
    "        message = \"This car can go approximately \" + str(range)\n",
    "        message += \" miles on a full charge.\"\n",
    "        print(message)\n",
    "\n",
    "    def upgrade_battery(self):\n",
    "        \"\"\"Upgrade the battery if possible.\"\"\"\n",
    "        if self.battery_size == 60:\n",
    "            self.battery_size = 85\n",
    "            print(\"Upgraded the battery to 85 kWh.\")\n",
    "        else:\n",
    "            print(\"The battery is already upgraded.\")\n",
    "    \n",
    "        \n",
    "class ElectricCar(Car):\n",
    "    \"\"\"Models aspects of a car, specific to electric vehicles.\"\"\"\n",
    "\n",
    "    def __init__(self, manufacturer, model, year):\n",
    "        \"\"\"\n",
    "        Initialize attributes of the parent class.\n",
    "        Then initialize attributes specific to an electric car.\n",
    "        \"\"\"\n",
    "        super().__init__(manufacturer, model, year)\n",
    "        self.battery = Battery()\n",
    "\n",
    "\n",
    "print(\"Make an electric car, and check the battery:\")\n",
    "my_tesla = ElectricCar('tesla', 'model s', 2016)\n",
    "my_tesla.battery.describe_battery()\n",
    "\n",
    "print(\"\\nUpgrade the battery, and check it again:\")\n",
    "my_tesla.battery.upgrade_battery()\n",
    "my_tesla.battery.describe_battery()\n",
    "\n",
    "print(\"\\nTry upgrading the battery a second time.\")\n",
    "my_tesla.battery.upgrade_battery()\n",
    "my_tesla.battery.describe_battery()\n",
    "#my_tesla -> electriccar -> battery -> Battery -> describe_battery"
   ]
  },
  {
   "cell_type": "code",
   "execution_count": null,
   "id": "dried-greeting",
   "metadata": {},
   "outputs": [],
   "source": []
  },
  {
   "cell_type": "code",
   "execution_count": null,
   "id": "liked-windsor",
   "metadata": {},
   "outputs": [],
   "source": []
  }
 ],
 "metadata": {
  "kernelspec": {
   "display_name": "Python 3",
   "language": "python",
   "name": "python3"
  },
  "language_info": {
   "codemirror_mode": {
    "name": "ipython",
    "version": 3
   },
   "file_extension": ".py",
   "mimetype": "text/x-python",
   "name": "python",
   "nbconvert_exporter": "python",
   "pygments_lexer": "ipython3",
   "version": "3.9.2"
  }
 },
 "nbformat": 4,
 "nbformat_minor": 5
}
