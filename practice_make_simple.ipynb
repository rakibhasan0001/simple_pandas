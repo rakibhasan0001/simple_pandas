{
 "cells": [
  {
   "cell_type": "code",
   "execution_count": 65,
   "id": "variable-format",
   "metadata": {},
   "outputs": [
    {
     "data": {
      "text/html": [
       "<div>\n",
       "<style scoped>\n",
       "    .dataframe tbody tr th:only-of-type {\n",
       "        vertical-align: middle;\n",
       "    }\n",
       "\n",
       "    .dataframe tbody tr th {\n",
       "        vertical-align: top;\n",
       "    }\n",
       "\n",
       "    .dataframe thead th {\n",
       "        text-align: right;\n",
       "    }\n",
       "</style>\n",
       "<table border=\"1\" class=\"dataframe\">\n",
       "  <thead>\n",
       "    <tr style=\"text-align: right;\">\n",
       "      <th></th>\n",
       "      <th>a</th>\n",
       "      <th>b</th>\n",
       "      <th>c</th>\n",
       "      <th>d</th>\n",
       "      <th>e</th>\n",
       "      <th>f</th>\n",
       "    </tr>\n",
       "  </thead>\n",
       "  <tbody>\n",
       "    <tr>\n",
       "      <th>0</th>\n",
       "      <td>country</td>\n",
       "      <td>beer_servings</td>\n",
       "      <td>spirit_servings</td>\n",
       "      <td>wine_servings</td>\n",
       "      <td>total_litres_of_pure_alcohol</td>\n",
       "      <td>continent</td>\n",
       "    </tr>\n",
       "    <tr>\n",
       "      <th>1</th>\n",
       "      <td>Afghanistan</td>\n",
       "      <td>0</td>\n",
       "      <td>0</td>\n",
       "      <td>0</td>\n",
       "      <td>0.0</td>\n",
       "      <td>Asia</td>\n",
       "    </tr>\n",
       "    <tr>\n",
       "      <th>2</th>\n",
       "      <td>Albania</td>\n",
       "      <td>89</td>\n",
       "      <td>132</td>\n",
       "      <td>54</td>\n",
       "      <td>4.9</td>\n",
       "      <td>Europe</td>\n",
       "    </tr>\n",
       "    <tr>\n",
       "      <th>3</th>\n",
       "      <td>Algeria</td>\n",
       "      <td>25</td>\n",
       "      <td>0</td>\n",
       "      <td>14</td>\n",
       "      <td>0.7</td>\n",
       "      <td>Africa</td>\n",
       "    </tr>\n",
       "    <tr>\n",
       "      <th>4</th>\n",
       "      <td>Andorra</td>\n",
       "      <td>245</td>\n",
       "      <td>138</td>\n",
       "      <td>312</td>\n",
       "      <td>12.4</td>\n",
       "      <td>Europe</td>\n",
       "    </tr>\n",
       "    <tr>\n",
       "      <th>...</th>\n",
       "      <td>...</td>\n",
       "      <td>...</td>\n",
       "      <td>...</td>\n",
       "      <td>...</td>\n",
       "      <td>...</td>\n",
       "      <td>...</td>\n",
       "    </tr>\n",
       "    <tr>\n",
       "      <th>189</th>\n",
       "      <td>Venezuela</td>\n",
       "      <td>333</td>\n",
       "      <td>100</td>\n",
       "      <td>3</td>\n",
       "      <td>7.7</td>\n",
       "      <td>South America</td>\n",
       "    </tr>\n",
       "    <tr>\n",
       "      <th>190</th>\n",
       "      <td>Vietnam</td>\n",
       "      <td>111</td>\n",
       "      <td>2</td>\n",
       "      <td>1</td>\n",
       "      <td>2.0</td>\n",
       "      <td>Asia</td>\n",
       "    </tr>\n",
       "    <tr>\n",
       "      <th>191</th>\n",
       "      <td>Yemen</td>\n",
       "      <td>6</td>\n",
       "      <td>0</td>\n",
       "      <td>0</td>\n",
       "      <td>0.1</td>\n",
       "      <td>Asia</td>\n",
       "    </tr>\n",
       "    <tr>\n",
       "      <th>192</th>\n",
       "      <td>Zambia</td>\n",
       "      <td>32</td>\n",
       "      <td>19</td>\n",
       "      <td>4</td>\n",
       "      <td>2.5</td>\n",
       "      <td>Africa</td>\n",
       "    </tr>\n",
       "    <tr>\n",
       "      <th>193</th>\n",
       "      <td>Zimbabwe</td>\n",
       "      <td>64</td>\n",
       "      <td>18</td>\n",
       "      <td>4</td>\n",
       "      <td>4.7</td>\n",
       "      <td>Africa</td>\n",
       "    </tr>\n",
       "  </tbody>\n",
       "</table>\n",
       "<p>194 rows × 6 columns</p>\n",
       "</div>"
      ],
      "text/plain": [
       "               a              b                c              d  \\\n",
       "0        country  beer_servings  spirit_servings  wine_servings   \n",
       "1    Afghanistan              0                0              0   \n",
       "2        Albania             89              132             54   \n",
       "3        Algeria             25                0             14   \n",
       "4        Andorra            245              138            312   \n",
       "..           ...            ...              ...            ...   \n",
       "189    Venezuela            333              100              3   \n",
       "190      Vietnam            111                2              1   \n",
       "191        Yemen              6                0              0   \n",
       "192       Zambia             32               19              4   \n",
       "193     Zimbabwe             64               18              4   \n",
       "\n",
       "                                e              f  \n",
       "0    total_litres_of_pure_alcohol      continent  \n",
       "1                             0.0           Asia  \n",
       "2                             4.9         Europe  \n",
       "3                             0.7         Africa  \n",
       "4                            12.4         Europe  \n",
       "..                            ...            ...  \n",
       "189                           7.7  South America  \n",
       "190                           2.0           Asia  \n",
       "191                           0.1           Asia  \n",
       "192                           2.5         Africa  \n",
       "193                           4.7         Africa  \n",
       "\n",
       "[194 rows x 6 columns]"
      ]
     },
     "execution_count": 65,
     "metadata": {},
     "output_type": "execute_result"
    }
   ],
   "source": [
    "import pandas as pd\n",
    "drinks=pd.read_csv('drinks_by_country.txt',header=None,names=['a','b','c','d','e','f'])\n",
    "\n",
    "drinks"
   ]
  },
  {
   "cell_type": "code",
   "execution_count": 66,
   "id": "decimal-friendly",
   "metadata": {},
   "outputs": [
    {
     "data": {
      "text/html": [
       "<div>\n",
       "<style scoped>\n",
       "    .dataframe tbody tr th:only-of-type {\n",
       "        vertical-align: middle;\n",
       "    }\n",
       "\n",
       "    .dataframe tbody tr th {\n",
       "        vertical-align: top;\n",
       "    }\n",
       "\n",
       "    .dataframe thead th {\n",
       "        text-align: right;\n",
       "    }\n",
       "</style>\n",
       "<table border=\"1\" class=\"dataframe\">\n",
       "  <thead>\n",
       "    <tr style=\"text-align: right;\">\n",
       "      <th></th>\n",
       "      <th>a</th>\n",
       "      <th>b</th>\n",
       "      <th>c</th>\n",
       "      <th>d</th>\n",
       "      <th>e</th>\n",
       "      <th>f</th>\n",
       "    </tr>\n",
       "  </thead>\n",
       "  <tbody>\n",
       "    <tr>\n",
       "      <th>0</th>\n",
       "      <td>Angola</td>\n",
       "      <td>217</td>\n",
       "      <td>57</td>\n",
       "      <td>45</td>\n",
       "      <td>5.9</td>\n",
       "      <td>Africa</td>\n",
       "    </tr>\n",
       "    <tr>\n",
       "      <th>1</th>\n",
       "      <td>Antigua &amp; Barbuda</td>\n",
       "      <td>102</td>\n",
       "      <td>128</td>\n",
       "      <td>45</td>\n",
       "      <td>4.9</td>\n",
       "      <td>North America</td>\n",
       "    </tr>\n",
       "    <tr>\n",
       "      <th>2</th>\n",
       "      <td>Argentina</td>\n",
       "      <td>193</td>\n",
       "      <td>25</td>\n",
       "      <td>221</td>\n",
       "      <td>8.3</td>\n",
       "      <td>South America</td>\n",
       "    </tr>\n",
       "    <tr>\n",
       "      <th>3</th>\n",
       "      <td>Armenia</td>\n",
       "      <td>21</td>\n",
       "      <td>179</td>\n",
       "      <td>11</td>\n",
       "      <td>3.8</td>\n",
       "      <td>Europe</td>\n",
       "    </tr>\n",
       "    <tr>\n",
       "      <th>4</th>\n",
       "      <td>Australia</td>\n",
       "      <td>261</td>\n",
       "      <td>72</td>\n",
       "      <td>212</td>\n",
       "      <td>10.4</td>\n",
       "      <td>Oceania</td>\n",
       "    </tr>\n",
       "    <tr>\n",
       "      <th>...</th>\n",
       "      <td>...</td>\n",
       "      <td>...</td>\n",
       "      <td>...</td>\n",
       "      <td>...</td>\n",
       "      <td>...</td>\n",
       "      <td>...</td>\n",
       "    </tr>\n",
       "    <tr>\n",
       "      <th>184</th>\n",
       "      <td>Venezuela</td>\n",
       "      <td>333</td>\n",
       "      <td>100</td>\n",
       "      <td>3</td>\n",
       "      <td>7.7</td>\n",
       "      <td>South America</td>\n",
       "    </tr>\n",
       "    <tr>\n",
       "      <th>185</th>\n",
       "      <td>Vietnam</td>\n",
       "      <td>111</td>\n",
       "      <td>2</td>\n",
       "      <td>1</td>\n",
       "      <td>2.0</td>\n",
       "      <td>Asia</td>\n",
       "    </tr>\n",
       "    <tr>\n",
       "      <th>186</th>\n",
       "      <td>Yemen</td>\n",
       "      <td>6</td>\n",
       "      <td>0</td>\n",
       "      <td>0</td>\n",
       "      <td>0.1</td>\n",
       "      <td>Asia</td>\n",
       "    </tr>\n",
       "    <tr>\n",
       "      <th>187</th>\n",
       "      <td>Zambia</td>\n",
       "      <td>32</td>\n",
       "      <td>19</td>\n",
       "      <td>4</td>\n",
       "      <td>2.5</td>\n",
       "      <td>Africa</td>\n",
       "    </tr>\n",
       "    <tr>\n",
       "      <th>188</th>\n",
       "      <td>Zimbabwe</td>\n",
       "      <td>64</td>\n",
       "      <td>18</td>\n",
       "      <td>4</td>\n",
       "      <td>4.7</td>\n",
       "      <td>Africa</td>\n",
       "    </tr>\n",
       "  </tbody>\n",
       "</table>\n",
       "<p>189 rows × 6 columns</p>\n",
       "</div>"
      ],
      "text/plain": [
       "                     a    b    c    d     e              f\n",
       "0               Angola  217   57   45   5.9         Africa\n",
       "1    Antigua & Barbuda  102  128   45   4.9  North America\n",
       "2            Argentina  193   25  221   8.3  South America\n",
       "3              Armenia   21  179   11   3.8         Europe\n",
       "4            Australia  261   72  212  10.4        Oceania\n",
       "..                 ...  ...  ...  ...   ...            ...\n",
       "184          Venezuela  333  100    3   7.7  South America\n",
       "185            Vietnam  111    2    1   2.0           Asia\n",
       "186              Yemen    6    0    0   0.1           Asia\n",
       "187             Zambia   32   19    4   2.5         Africa\n",
       "188           Zimbabwe   64   18    4   4.7         Africa\n",
       "\n",
       "[189 rows x 6 columns]"
      ]
     },
     "execution_count": 66,
     "metadata": {},
     "output_type": "execute_result"
    }
   ],
   "source": [
    "drinks=pd.read_csv('drinks_by_country.txt',header=4,names=['a','b','c','d','e','f'])\n",
    "\n",
    "drinks"
   ]
  },
  {
   "cell_type": "code",
   "execution_count": 67,
   "id": "forbidden-lloyd",
   "metadata": {},
   "outputs": [
    {
     "data": {
      "text/html": [
       "<div>\n",
       "<style scoped>\n",
       "    .dataframe tbody tr th:only-of-type {\n",
       "        vertical-align: middle;\n",
       "    }\n",
       "\n",
       "    .dataframe tbody tr th {\n",
       "        vertical-align: top;\n",
       "    }\n",
       "\n",
       "    .dataframe thead th {\n",
       "        text-align: right;\n",
       "    }\n",
       "</style>\n",
       "<table border=\"1\" class=\"dataframe\">\n",
       "  <thead>\n",
       "    <tr style=\"text-align: right;\">\n",
       "      <th></th>\n",
       "      <th>City</th>\n",
       "      <th>Colors Reported</th>\n",
       "      <th>Shape Reported</th>\n",
       "      <th>State</th>\n",
       "      <th>Time</th>\n",
       "    </tr>\n",
       "  </thead>\n",
       "  <tbody>\n",
       "    <tr>\n",
       "      <th>0</th>\n",
       "      <td>Ithaca</td>\n",
       "      <td>NaN</td>\n",
       "      <td>TRIANGLE</td>\n",
       "      <td>NY</td>\n",
       "      <td>6/1/1930 22:00</td>\n",
       "    </tr>\n",
       "    <tr>\n",
       "      <th>1</th>\n",
       "      <td>Willingboro</td>\n",
       "      <td>NaN</td>\n",
       "      <td>OTHER</td>\n",
       "      <td>NJ</td>\n",
       "      <td>6/30/1930 20:00</td>\n",
       "    </tr>\n",
       "    <tr>\n",
       "      <th>2</th>\n",
       "      <td>Holyoke</td>\n",
       "      <td>NaN</td>\n",
       "      <td>OVAL</td>\n",
       "      <td>CO</td>\n",
       "      <td>2/15/1931 14:00</td>\n",
       "    </tr>\n",
       "    <tr>\n",
       "      <th>3</th>\n",
       "      <td>Abilene</td>\n",
       "      <td>NaN</td>\n",
       "      <td>DISK</td>\n",
       "      <td>KS</td>\n",
       "      <td>6/1/1931 13:00</td>\n",
       "    </tr>\n",
       "    <tr>\n",
       "      <th>4</th>\n",
       "      <td>New York Worlds Fair</td>\n",
       "      <td>NaN</td>\n",
       "      <td>LIGHT</td>\n",
       "      <td>NY</td>\n",
       "      <td>4/18/1933 19:00</td>\n",
       "    </tr>\n",
       "  </tbody>\n",
       "</table>\n",
       "</div>"
      ],
      "text/plain": [
       "                   City Colors Reported Shape Reported State             Time\n",
       "0                Ithaca             NaN       TRIANGLE    NY   6/1/1930 22:00\n",
       "1           Willingboro             NaN          OTHER    NJ  6/30/1930 20:00\n",
       "2               Holyoke             NaN           OVAL    CO  2/15/1931 14:00\n",
       "3               Abilene             NaN           DISK    KS   6/1/1931 13:00\n",
       "4  New York Worlds Fair             NaN          LIGHT    NY  4/18/1933 19:00"
      ]
     },
     "execution_count": 67,
     "metadata": {},
     "output_type": "execute_result"
    }
   ],
   "source": [
    "import pandas as pd\n",
    "ufo=pd.read_csv('ufo.txt')\n",
    "ufo.head()"
   ]
  },
  {
   "cell_type": "code",
   "execution_count": 68,
   "id": "equivalent-glass",
   "metadata": {},
   "outputs": [
    {
     "data": {
      "text/html": [
       "<div>\n",
       "<style scoped>\n",
       "    .dataframe tbody tr th:only-of-type {\n",
       "        vertical-align: middle;\n",
       "    }\n",
       "\n",
       "    .dataframe tbody tr th {\n",
       "        vertical-align: top;\n",
       "    }\n",
       "\n",
       "    .dataframe thead th {\n",
       "        text-align: right;\n",
       "    }\n",
       "</style>\n",
       "<table border=\"1\" class=\"dataframe\">\n",
       "  <thead>\n",
       "    <tr style=\"text-align: right;\">\n",
       "      <th></th>\n",
       "      <th>City</th>\n",
       "      <th>Colors Reported</th>\n",
       "      <th>Shape Reported</th>\n",
       "      <th>State</th>\n",
       "      <th>Time</th>\n",
       "      <th>new_column</th>\n",
       "    </tr>\n",
       "  </thead>\n",
       "  <tbody>\n",
       "    <tr>\n",
       "      <th>0</th>\n",
       "      <td>Ithaca</td>\n",
       "      <td>NaN</td>\n",
       "      <td>TRIANGLE</td>\n",
       "      <td>NY</td>\n",
       "      <td>6/1/1930 22:00</td>\n",
       "      <td>Ithaca----NY</td>\n",
       "    </tr>\n",
       "    <tr>\n",
       "      <th>1</th>\n",
       "      <td>Willingboro</td>\n",
       "      <td>NaN</td>\n",
       "      <td>OTHER</td>\n",
       "      <td>NJ</td>\n",
       "      <td>6/30/1930 20:00</td>\n",
       "      <td>Willingboro----NJ</td>\n",
       "    </tr>\n",
       "    <tr>\n",
       "      <th>2</th>\n",
       "      <td>Holyoke</td>\n",
       "      <td>NaN</td>\n",
       "      <td>OVAL</td>\n",
       "      <td>CO</td>\n",
       "      <td>2/15/1931 14:00</td>\n",
       "      <td>Holyoke----CO</td>\n",
       "    </tr>\n",
       "    <tr>\n",
       "      <th>3</th>\n",
       "      <td>Abilene</td>\n",
       "      <td>NaN</td>\n",
       "      <td>DISK</td>\n",
       "      <td>KS</td>\n",
       "      <td>6/1/1931 13:00</td>\n",
       "      <td>Abilene----KS</td>\n",
       "    </tr>\n",
       "    <tr>\n",
       "      <th>4</th>\n",
       "      <td>New York Worlds Fair</td>\n",
       "      <td>NaN</td>\n",
       "      <td>LIGHT</td>\n",
       "      <td>NY</td>\n",
       "      <td>4/18/1933 19:00</td>\n",
       "      <td>New York Worlds Fair----NY</td>\n",
       "    </tr>\n",
       "    <tr>\n",
       "      <th>...</th>\n",
       "      <td>...</td>\n",
       "      <td>...</td>\n",
       "      <td>...</td>\n",
       "      <td>...</td>\n",
       "      <td>...</td>\n",
       "      <td>...</td>\n",
       "    </tr>\n",
       "    <tr>\n",
       "      <th>18236</th>\n",
       "      <td>Grant Park</td>\n",
       "      <td>NaN</td>\n",
       "      <td>TRIANGLE</td>\n",
       "      <td>IL</td>\n",
       "      <td>12/31/2000 23:00</td>\n",
       "      <td>Grant Park----IL</td>\n",
       "    </tr>\n",
       "    <tr>\n",
       "      <th>18237</th>\n",
       "      <td>Spirit Lake</td>\n",
       "      <td>NaN</td>\n",
       "      <td>DISK</td>\n",
       "      <td>IA</td>\n",
       "      <td>12/31/2000 23:00</td>\n",
       "      <td>Spirit Lake----IA</td>\n",
       "    </tr>\n",
       "    <tr>\n",
       "      <th>18238</th>\n",
       "      <td>Eagle River</td>\n",
       "      <td>NaN</td>\n",
       "      <td>NaN</td>\n",
       "      <td>WI</td>\n",
       "      <td>12/31/2000 23:45</td>\n",
       "      <td>Eagle River----WI</td>\n",
       "    </tr>\n",
       "    <tr>\n",
       "      <th>18239</th>\n",
       "      <td>Eagle River</td>\n",
       "      <td>RED</td>\n",
       "      <td>LIGHT</td>\n",
       "      <td>WI</td>\n",
       "      <td>12/31/2000 23:45</td>\n",
       "      <td>Eagle River----WI</td>\n",
       "    </tr>\n",
       "    <tr>\n",
       "      <th>18240</th>\n",
       "      <td>Ybor</td>\n",
       "      <td>NaN</td>\n",
       "      <td>OVAL</td>\n",
       "      <td>FL</td>\n",
       "      <td>12/31/2000 23:59</td>\n",
       "      <td>Ybor----FL</td>\n",
       "    </tr>\n",
       "  </tbody>\n",
       "</table>\n",
       "<p>18241 rows × 6 columns</p>\n",
       "</div>"
      ],
      "text/plain": [
       "                       City Colors Reported Shape Reported State  \\\n",
       "0                    Ithaca             NaN       TRIANGLE    NY   \n",
       "1               Willingboro             NaN          OTHER    NJ   \n",
       "2                   Holyoke             NaN           OVAL    CO   \n",
       "3                   Abilene             NaN           DISK    KS   \n",
       "4      New York Worlds Fair             NaN          LIGHT    NY   \n",
       "...                     ...             ...            ...   ...   \n",
       "18236            Grant Park             NaN       TRIANGLE    IL   \n",
       "18237           Spirit Lake             NaN           DISK    IA   \n",
       "18238           Eagle River             NaN            NaN    WI   \n",
       "18239           Eagle River             RED          LIGHT    WI   \n",
       "18240                  Ybor             NaN           OVAL    FL   \n",
       "\n",
       "                   Time                  new_column  \n",
       "0        6/1/1930 22:00                Ithaca----NY  \n",
       "1       6/30/1930 20:00           Willingboro----NJ  \n",
       "2       2/15/1931 14:00               Holyoke----CO  \n",
       "3        6/1/1931 13:00               Abilene----KS  \n",
       "4       4/18/1933 19:00  New York Worlds Fair----NY  \n",
       "...                 ...                         ...  \n",
       "18236  12/31/2000 23:00            Grant Park----IL  \n",
       "18237  12/31/2000 23:00           Spirit Lake----IA  \n",
       "18238  12/31/2000 23:45           Eagle River----WI  \n",
       "18239  12/31/2000 23:45           Eagle River----WI  \n",
       "18240  12/31/2000 23:59                  Ybor----FL  \n",
       "\n",
       "[18241 rows x 6 columns]"
      ]
     },
     "execution_count": 68,
     "metadata": {},
     "output_type": "execute_result"
    }
   ],
   "source": [
    "ufo.City\n",
    "ufo['new_column']=ufo.City + '----' +ufo.State\n",
    "ufo"
   ]
  },
  {
   "cell_type": "code",
   "execution_count": 69,
   "id": "collectible-commitment",
   "metadata": {},
   "outputs": [
    {
     "data": {
      "text/html": [
       "<div>\n",
       "<style scoped>\n",
       "    .dataframe tbody tr th:only-of-type {\n",
       "        vertical-align: middle;\n",
       "    }\n",
       "\n",
       "    .dataframe tbody tr th {\n",
       "        vertical-align: top;\n",
       "    }\n",
       "\n",
       "    .dataframe thead th {\n",
       "        text-align: right;\n",
       "    }\n",
       "</style>\n",
       "<table border=\"1\" class=\"dataframe\">\n",
       "  <thead>\n",
       "    <tr style=\"text-align: right;\">\n",
       "      <th></th>\n",
       "      <th>star_rating</th>\n",
       "      <th>title</th>\n",
       "      <th>content_rating</th>\n",
       "      <th>genre</th>\n",
       "      <th>duration</th>\n",
       "      <th>actors_list</th>\n",
       "    </tr>\n",
       "  </thead>\n",
       "  <tbody>\n",
       "    <tr>\n",
       "      <th>0</th>\n",
       "      <td>9.3</td>\n",
       "      <td>The Shawshank Redemption</td>\n",
       "      <td>R</td>\n",
       "      <td>Crime</td>\n",
       "      <td>142</td>\n",
       "      <td>[u'Tim Robbins', u'Morgan Freeman', u'Bob Gunt...</td>\n",
       "    </tr>\n",
       "    <tr>\n",
       "      <th>1</th>\n",
       "      <td>9.2</td>\n",
       "      <td>The Godfather</td>\n",
       "      <td>R</td>\n",
       "      <td>Crime</td>\n",
       "      <td>175</td>\n",
       "      <td>[u'Marlon Brando', u'Al Pacino', u'James Caan']</td>\n",
       "    </tr>\n",
       "    <tr>\n",
       "      <th>2</th>\n",
       "      <td>9.1</td>\n",
       "      <td>The Godfather: Part II</td>\n",
       "      <td>R</td>\n",
       "      <td>Crime</td>\n",
       "      <td>200</td>\n",
       "      <td>[u'Al Pacino', u'Robert De Niro', u'Robert Duv...</td>\n",
       "    </tr>\n",
       "    <tr>\n",
       "      <th>3</th>\n",
       "      <td>9.0</td>\n",
       "      <td>The Dark Knight</td>\n",
       "      <td>PG-13</td>\n",
       "      <td>Action</td>\n",
       "      <td>152</td>\n",
       "      <td>[u'Christian Bale', u'Heath Ledger', u'Aaron E...</td>\n",
       "    </tr>\n",
       "    <tr>\n",
       "      <th>4</th>\n",
       "      <td>8.9</td>\n",
       "      <td>Pulp Fiction</td>\n",
       "      <td>R</td>\n",
       "      <td>Crime</td>\n",
       "      <td>154</td>\n",
       "      <td>[u'John Travolta', u'Uma Thurman', u'Samuel L....</td>\n",
       "    </tr>\n",
       "    <tr>\n",
       "      <th>...</th>\n",
       "      <td>...</td>\n",
       "      <td>...</td>\n",
       "      <td>...</td>\n",
       "      <td>...</td>\n",
       "      <td>...</td>\n",
       "      <td>...</td>\n",
       "    </tr>\n",
       "    <tr>\n",
       "      <th>974</th>\n",
       "      <td>7.4</td>\n",
       "      <td>Tootsie</td>\n",
       "      <td>PG</td>\n",
       "      <td>Comedy</td>\n",
       "      <td>116</td>\n",
       "      <td>[u'Dustin Hoffman', u'Jessica Lange', u'Teri G...</td>\n",
       "    </tr>\n",
       "    <tr>\n",
       "      <th>975</th>\n",
       "      <td>7.4</td>\n",
       "      <td>Back to the Future Part III</td>\n",
       "      <td>PG</td>\n",
       "      <td>Adventure</td>\n",
       "      <td>118</td>\n",
       "      <td>[u'Michael J. Fox', u'Christopher Lloyd', u'Ma...</td>\n",
       "    </tr>\n",
       "    <tr>\n",
       "      <th>976</th>\n",
       "      <td>7.4</td>\n",
       "      <td>Master and Commander: The Far Side of the World</td>\n",
       "      <td>PG-13</td>\n",
       "      <td>Action</td>\n",
       "      <td>138</td>\n",
       "      <td>[u'Russell Crowe', u'Paul Bettany', u'Billy Bo...</td>\n",
       "    </tr>\n",
       "    <tr>\n",
       "      <th>977</th>\n",
       "      <td>7.4</td>\n",
       "      <td>Poltergeist</td>\n",
       "      <td>PG</td>\n",
       "      <td>Horror</td>\n",
       "      <td>114</td>\n",
       "      <td>[u'JoBeth Williams', u\"Heather O'Rourke\", u'Cr...</td>\n",
       "    </tr>\n",
       "    <tr>\n",
       "      <th>978</th>\n",
       "      <td>7.4</td>\n",
       "      <td>Wall Street</td>\n",
       "      <td>R</td>\n",
       "      <td>Crime</td>\n",
       "      <td>126</td>\n",
       "      <td>[u'Charlie Sheen', u'Michael Douglas', u'Tamar...</td>\n",
       "    </tr>\n",
       "  </tbody>\n",
       "</table>\n",
       "<p>979 rows × 6 columns</p>\n",
       "</div>"
      ],
      "text/plain": [
       "     star_rating                                            title  \\\n",
       "0            9.3                         The Shawshank Redemption   \n",
       "1            9.2                                    The Godfather   \n",
       "2            9.1                           The Godfather: Part II   \n",
       "3            9.0                                  The Dark Knight   \n",
       "4            8.9                                     Pulp Fiction   \n",
       "..           ...                                              ...   \n",
       "974          7.4                                          Tootsie   \n",
       "975          7.4                      Back to the Future Part III   \n",
       "976          7.4  Master and Commander: The Far Side of the World   \n",
       "977          7.4                                      Poltergeist   \n",
       "978          7.4                                      Wall Street   \n",
       "\n",
       "    content_rating      genre  duration  \\\n",
       "0                R      Crime       142   \n",
       "1                R      Crime       175   \n",
       "2                R      Crime       200   \n",
       "3            PG-13     Action       152   \n",
       "4                R      Crime       154   \n",
       "..             ...        ...       ...   \n",
       "974             PG     Comedy       116   \n",
       "975             PG  Adventure       118   \n",
       "976          PG-13     Action       138   \n",
       "977             PG     Horror       114   \n",
       "978              R      Crime       126   \n",
       "\n",
       "                                           actors_list  \n",
       "0    [u'Tim Robbins', u'Morgan Freeman', u'Bob Gunt...  \n",
       "1      [u'Marlon Brando', u'Al Pacino', u'James Caan']  \n",
       "2    [u'Al Pacino', u'Robert De Niro', u'Robert Duv...  \n",
       "3    [u'Christian Bale', u'Heath Ledger', u'Aaron E...  \n",
       "4    [u'John Travolta', u'Uma Thurman', u'Samuel L....  \n",
       "..                                                 ...  \n",
       "974  [u'Dustin Hoffman', u'Jessica Lange', u'Teri G...  \n",
       "975  [u'Michael J. Fox', u'Christopher Lloyd', u'Ma...  \n",
       "976  [u'Russell Crowe', u'Paul Bettany', u'Billy Bo...  \n",
       "977  [u'JoBeth Williams', u\"Heather O'Rourke\", u'Cr...  \n",
       "978  [u'Charlie Sheen', u'Michael Douglas', u'Tamar...  \n",
       "\n",
       "[979 rows x 6 columns]"
      ]
     },
     "execution_count": 69,
     "metadata": {},
     "output_type": "execute_result"
    }
   ],
   "source": [
    "import pandas as pd\n",
    "movies=pd.read_csv('imbd_rating.txt')\n",
    "movies"
   ]
  },
  {
   "cell_type": "code",
   "execution_count": 70,
   "id": "binary-proposal",
   "metadata": {},
   "outputs": [
    {
     "data": {
      "text/plain": [
       "star_rating       float64\n",
       "title              object\n",
       "content_rating     object\n",
       "genre              object\n",
       "duration            int64\n",
       "actors_list        object\n",
       "dtype: object"
      ]
     },
     "execution_count": 70,
     "metadata": {},
     "output_type": "execute_result"
    }
   ],
   "source": [
    "movies.dtypes"
   ]
  },
  {
   "cell_type": "code",
   "execution_count": 71,
   "id": "beginning-matter",
   "metadata": {},
   "outputs": [
    {
     "data": {
      "text/html": [
       "<div>\n",
       "<style scoped>\n",
       "    .dataframe tbody tr th:only-of-type {\n",
       "        vertical-align: middle;\n",
       "    }\n",
       "\n",
       "    .dataframe tbody tr th {\n",
       "        vertical-align: top;\n",
       "    }\n",
       "\n",
       "    .dataframe thead th {\n",
       "        text-align: right;\n",
       "    }\n",
       "</style>\n",
       "<table border=\"1\" class=\"dataframe\">\n",
       "  <thead>\n",
       "    <tr style=\"text-align: right;\">\n",
       "      <th></th>\n",
       "      <th>star_rating</th>\n",
       "      <th>duration</th>\n",
       "    </tr>\n",
       "  </thead>\n",
       "  <tbody>\n",
       "    <tr>\n",
       "      <th>count</th>\n",
       "      <td>979.000000</td>\n",
       "      <td>979.000000</td>\n",
       "    </tr>\n",
       "    <tr>\n",
       "      <th>mean</th>\n",
       "      <td>7.889785</td>\n",
       "      <td>120.979571</td>\n",
       "    </tr>\n",
       "    <tr>\n",
       "      <th>std</th>\n",
       "      <td>0.336069</td>\n",
       "      <td>26.218010</td>\n",
       "    </tr>\n",
       "    <tr>\n",
       "      <th>min</th>\n",
       "      <td>7.400000</td>\n",
       "      <td>64.000000</td>\n",
       "    </tr>\n",
       "    <tr>\n",
       "      <th>25%</th>\n",
       "      <td>7.600000</td>\n",
       "      <td>102.000000</td>\n",
       "    </tr>\n",
       "    <tr>\n",
       "      <th>50%</th>\n",
       "      <td>7.800000</td>\n",
       "      <td>117.000000</td>\n",
       "    </tr>\n",
       "    <tr>\n",
       "      <th>75%</th>\n",
       "      <td>8.100000</td>\n",
       "      <td>134.000000</td>\n",
       "    </tr>\n",
       "    <tr>\n",
       "      <th>max</th>\n",
       "      <td>9.300000</td>\n",
       "      <td>242.000000</td>\n",
       "    </tr>\n",
       "  </tbody>\n",
       "</table>\n",
       "</div>"
      ],
      "text/plain": [
       "       star_rating    duration\n",
       "count   979.000000  979.000000\n",
       "mean      7.889785  120.979571\n",
       "std       0.336069   26.218010\n",
       "min       7.400000   64.000000\n",
       "25%       7.600000  102.000000\n",
       "50%       7.800000  117.000000\n",
       "75%       8.100000  134.000000\n",
       "max       9.300000  242.000000"
      ]
     },
     "execution_count": 71,
     "metadata": {},
     "output_type": "execute_result"
    }
   ],
   "source": [
    "movies.describe()"
   ]
  },
  {
   "cell_type": "code",
   "execution_count": 72,
   "id": "waiting-istanbul",
   "metadata": {},
   "outputs": [
    {
     "data": {
      "text/html": [
       "<div>\n",
       "<style scoped>\n",
       "    .dataframe tbody tr th:only-of-type {\n",
       "        vertical-align: middle;\n",
       "    }\n",
       "\n",
       "    .dataframe tbody tr th {\n",
       "        vertical-align: top;\n",
       "    }\n",
       "\n",
       "    .dataframe thead th {\n",
       "        text-align: right;\n",
       "    }\n",
       "</style>\n",
       "<table border=\"1\" class=\"dataframe\">\n",
       "  <thead>\n",
       "    <tr style=\"text-align: right;\">\n",
       "      <th></th>\n",
       "      <th>title</th>\n",
       "      <th>content_rating</th>\n",
       "      <th>genre</th>\n",
       "      <th>actors_list</th>\n",
       "    </tr>\n",
       "  </thead>\n",
       "  <tbody>\n",
       "    <tr>\n",
       "      <th>count</th>\n",
       "      <td>979</td>\n",
       "      <td>976</td>\n",
       "      <td>979</td>\n",
       "      <td>979</td>\n",
       "    </tr>\n",
       "    <tr>\n",
       "      <th>unique</th>\n",
       "      <td>975</td>\n",
       "      <td>12</td>\n",
       "      <td>16</td>\n",
       "      <td>969</td>\n",
       "    </tr>\n",
       "    <tr>\n",
       "      <th>top</th>\n",
       "      <td>True Grit</td>\n",
       "      <td>R</td>\n",
       "      <td>Drama</td>\n",
       "      <td>[u'Daniel Radcliffe', u'Emma Watson', u'Rupert...</td>\n",
       "    </tr>\n",
       "    <tr>\n",
       "      <th>freq</th>\n",
       "      <td>2</td>\n",
       "      <td>460</td>\n",
       "      <td>278</td>\n",
       "      <td>6</td>\n",
       "    </tr>\n",
       "  </tbody>\n",
       "</table>\n",
       "</div>"
      ],
      "text/plain": [
       "            title content_rating  genre  \\\n",
       "count         979            976    979   \n",
       "unique        975             12     16   \n",
       "top     True Grit              R  Drama   \n",
       "freq            2            460    278   \n",
       "\n",
       "                                              actors_list  \n",
       "count                                                 979  \n",
       "unique                                                969  \n",
       "top     [u'Daniel Radcliffe', u'Emma Watson', u'Rupert...  \n",
       "freq                                                    6  "
      ]
     },
     "execution_count": 72,
     "metadata": {},
     "output_type": "execute_result"
    }
   ],
   "source": [
    "movies.describe(include=['object'])"
   ]
  },
  {
   "cell_type": "raw",
   "id": "unknown-business",
   "metadata": {},
   "source": [
    "# replace mathod"
   ]
  },
  {
   "cell_type": "code",
   "execution_count": 73,
   "id": "grave-retailer",
   "metadata": {},
   "outputs": [
    {
     "data": {
      "text/html": [
       "<div>\n",
       "<style scoped>\n",
       "    .dataframe tbody tr th:only-of-type {\n",
       "        vertical-align: middle;\n",
       "    }\n",
       "\n",
       "    .dataframe tbody tr th {\n",
       "        vertical-align: top;\n",
       "    }\n",
       "\n",
       "    .dataframe thead th {\n",
       "        text-align: right;\n",
       "    }\n",
       "</style>\n",
       "<table border=\"1\" class=\"dataframe\">\n",
       "  <thead>\n",
       "    <tr style=\"text-align: right;\">\n",
       "      <th></th>\n",
       "      <th>City</th>\n",
       "      <th>Colors Reported</th>\n",
       "      <th>Shape Reported</th>\n",
       "      <th>State</th>\n",
       "      <th>Time</th>\n",
       "    </tr>\n",
       "  </thead>\n",
       "  <tbody>\n",
       "    <tr>\n",
       "      <th>0</th>\n",
       "      <td>Ithaca</td>\n",
       "      <td>NaN</td>\n",
       "      <td>TRIANGLE</td>\n",
       "      <td>NY</td>\n",
       "      <td>6/1/1930 22:00</td>\n",
       "    </tr>\n",
       "    <tr>\n",
       "      <th>1</th>\n",
       "      <td>Willingboro</td>\n",
       "      <td>NaN</td>\n",
       "      <td>OTHER</td>\n",
       "      <td>NJ</td>\n",
       "      <td>6/30/1930 20:00</td>\n",
       "    </tr>\n",
       "    <tr>\n",
       "      <th>2</th>\n",
       "      <td>Holyoke</td>\n",
       "      <td>NaN</td>\n",
       "      <td>OVAL</td>\n",
       "      <td>CO</td>\n",
       "      <td>2/15/1931 14:00</td>\n",
       "    </tr>\n",
       "    <tr>\n",
       "      <th>3</th>\n",
       "      <td>Abilene</td>\n",
       "      <td>NaN</td>\n",
       "      <td>DISK</td>\n",
       "      <td>KS</td>\n",
       "      <td>6/1/1931 13:00</td>\n",
       "    </tr>\n",
       "    <tr>\n",
       "      <th>4</th>\n",
       "      <td>New York Worlds Fair</td>\n",
       "      <td>NaN</td>\n",
       "      <td>LIGHT</td>\n",
       "      <td>NY</td>\n",
       "      <td>4/18/1933 19:00</td>\n",
       "    </tr>\n",
       "  </tbody>\n",
       "</table>\n",
       "</div>"
      ],
      "text/plain": [
       "                   City Colors Reported Shape Reported State             Time\n",
       "0                Ithaca             NaN       TRIANGLE    NY   6/1/1930 22:00\n",
       "1           Willingboro             NaN          OTHER    NJ  6/30/1930 20:00\n",
       "2               Holyoke             NaN           OVAL    CO  2/15/1931 14:00\n",
       "3               Abilene             NaN           DISK    KS   6/1/1931 13:00\n",
       "4  New York Worlds Fair             NaN          LIGHT    NY  4/18/1933 19:00"
      ]
     },
     "execution_count": 73,
     "metadata": {},
     "output_type": "execute_result"
    }
   ],
   "source": [
    "import pandas as pd\n",
    "ufo=pd.read_csv('ufo.txt')\n",
    "ufo.head()"
   ]
  },
  {
   "cell_type": "code",
   "execution_count": 74,
   "id": "governmental-living",
   "metadata": {},
   "outputs": [
    {
     "data": {
      "text/html": [
       "<div>\n",
       "<style scoped>\n",
       "    .dataframe tbody tr th:only-of-type {\n",
       "        vertical-align: middle;\n",
       "    }\n",
       "\n",
       "    .dataframe tbody tr th {\n",
       "        vertical-align: top;\n",
       "    }\n",
       "\n",
       "    .dataframe thead th {\n",
       "        text-align: right;\n",
       "    }\n",
       "</style>\n",
       "<table border=\"1\" class=\"dataframe\">\n",
       "  <thead>\n",
       "    <tr style=\"text-align: right;\">\n",
       "      <th></th>\n",
       "      <th>new city</th>\n",
       "      <th>Colors Reported</th>\n",
       "      <th>new shape</th>\n",
       "      <th>state</th>\n",
       "      <th>new time</th>\n",
       "    </tr>\n",
       "  </thead>\n",
       "  <tbody>\n",
       "    <tr>\n",
       "      <th>0</th>\n",
       "      <td>Ithaca</td>\n",
       "      <td>NaN</td>\n",
       "      <td>TRIANGLE</td>\n",
       "      <td>NY</td>\n",
       "      <td>6/1/1930 22:00</td>\n",
       "    </tr>\n",
       "    <tr>\n",
       "      <th>1</th>\n",
       "      <td>Willingboro</td>\n",
       "      <td>NaN</td>\n",
       "      <td>OTHER</td>\n",
       "      <td>NJ</td>\n",
       "      <td>6/30/1930 20:00</td>\n",
       "    </tr>\n",
       "    <tr>\n",
       "      <th>2</th>\n",
       "      <td>Holyoke</td>\n",
       "      <td>NaN</td>\n",
       "      <td>OVAL</td>\n",
       "      <td>CO</td>\n",
       "      <td>2/15/1931 14:00</td>\n",
       "    </tr>\n",
       "    <tr>\n",
       "      <th>3</th>\n",
       "      <td>Abilene</td>\n",
       "      <td>NaN</td>\n",
       "      <td>DISK</td>\n",
       "      <td>KS</td>\n",
       "      <td>6/1/1931 13:00</td>\n",
       "    </tr>\n",
       "    <tr>\n",
       "      <th>4</th>\n",
       "      <td>New York Worlds Fair</td>\n",
       "      <td>NaN</td>\n",
       "      <td>LIGHT</td>\n",
       "      <td>NY</td>\n",
       "      <td>4/18/1933 19:00</td>\n",
       "    </tr>\n",
       "    <tr>\n",
       "      <th>...</th>\n",
       "      <td>...</td>\n",
       "      <td>...</td>\n",
       "      <td>...</td>\n",
       "      <td>...</td>\n",
       "      <td>...</td>\n",
       "    </tr>\n",
       "    <tr>\n",
       "      <th>18236</th>\n",
       "      <td>Grant Park</td>\n",
       "      <td>NaN</td>\n",
       "      <td>TRIANGLE</td>\n",
       "      <td>IL</td>\n",
       "      <td>12/31/2000 23:00</td>\n",
       "    </tr>\n",
       "    <tr>\n",
       "      <th>18237</th>\n",
       "      <td>Spirit Lake</td>\n",
       "      <td>NaN</td>\n",
       "      <td>DISK</td>\n",
       "      <td>IA</td>\n",
       "      <td>12/31/2000 23:00</td>\n",
       "    </tr>\n",
       "    <tr>\n",
       "      <th>18238</th>\n",
       "      <td>Eagle River</td>\n",
       "      <td>NaN</td>\n",
       "      <td>NaN</td>\n",
       "      <td>WI</td>\n",
       "      <td>12/31/2000 23:45</td>\n",
       "    </tr>\n",
       "    <tr>\n",
       "      <th>18239</th>\n",
       "      <td>Eagle River</td>\n",
       "      <td>RED</td>\n",
       "      <td>LIGHT</td>\n",
       "      <td>WI</td>\n",
       "      <td>12/31/2000 23:45</td>\n",
       "    </tr>\n",
       "    <tr>\n",
       "      <th>18240</th>\n",
       "      <td>Ybor</td>\n",
       "      <td>NaN</td>\n",
       "      <td>OVAL</td>\n",
       "      <td>FL</td>\n",
       "      <td>12/31/2000 23:59</td>\n",
       "    </tr>\n",
       "  </tbody>\n",
       "</table>\n",
       "<p>18241 rows × 5 columns</p>\n",
       "</div>"
      ],
      "text/plain": [
       "                   new city Colors Reported new shape state          new time\n",
       "0                    Ithaca             NaN  TRIANGLE    NY    6/1/1930 22:00\n",
       "1               Willingboro             NaN     OTHER    NJ   6/30/1930 20:00\n",
       "2                   Holyoke             NaN      OVAL    CO   2/15/1931 14:00\n",
       "3                   Abilene             NaN      DISK    KS    6/1/1931 13:00\n",
       "4      New York Worlds Fair             NaN     LIGHT    NY   4/18/1933 19:00\n",
       "...                     ...             ...       ...   ...               ...\n",
       "18236            Grant Park             NaN  TRIANGLE    IL  12/31/2000 23:00\n",
       "18237           Spirit Lake             NaN      DISK    IA  12/31/2000 23:00\n",
       "18238           Eagle River             NaN       NaN    WI  12/31/2000 23:45\n",
       "18239           Eagle River             RED     LIGHT    WI  12/31/2000 23:45\n",
       "18240                  Ybor             NaN      OVAL    FL  12/31/2000 23:59\n",
       "\n",
       "[18241 rows x 5 columns]"
      ]
     },
     "execution_count": 74,
     "metadata": {},
     "output_type": "execute_result"
    }
   ],
   "source": [
    "ufo.rename(columns={'City':'new city','Color Reported':'new color','Shape Reported':'new shape','State':'state','Time':'new time'},inplace=True)\n",
    "ufo"
   ]
  },
  {
   "cell_type": "code",
   "execution_count": 75,
   "id": "beneficial-clearance",
   "metadata": {},
   "outputs": [
    {
     "data": {
      "text/html": [
       "<div>\n",
       "<style scoped>\n",
       "    .dataframe tbody tr th:only-of-type {\n",
       "        vertical-align: middle;\n",
       "    }\n",
       "\n",
       "    .dataframe tbody tr th {\n",
       "        vertical-align: top;\n",
       "    }\n",
       "\n",
       "    .dataframe thead th {\n",
       "        text-align: right;\n",
       "    }\n",
       "</style>\n",
       "<table border=\"1\" class=\"dataframe\">\n",
       "  <thead>\n",
       "    <tr style=\"text-align: right;\">\n",
       "      <th></th>\n",
       "      <th>city</th>\n",
       "      <th>report</th>\n",
       "      <th>shape tab</th>\n",
       "      <th>state</th>\n",
       "      <th>time</th>\n",
       "    </tr>\n",
       "  </thead>\n",
       "  <tbody>\n",
       "    <tr>\n",
       "      <th>0</th>\n",
       "      <td>Ithaca</td>\n",
       "      <td>NaN</td>\n",
       "      <td>TRIANGLE</td>\n",
       "      <td>NY</td>\n",
       "      <td>6/1/1930 22:00</td>\n",
       "    </tr>\n",
       "    <tr>\n",
       "      <th>1</th>\n",
       "      <td>Willingboro</td>\n",
       "      <td>NaN</td>\n",
       "      <td>OTHER</td>\n",
       "      <td>NJ</td>\n",
       "      <td>6/30/1930 20:00</td>\n",
       "    </tr>\n",
       "    <tr>\n",
       "      <th>2</th>\n",
       "      <td>Holyoke</td>\n",
       "      <td>NaN</td>\n",
       "      <td>OVAL</td>\n",
       "      <td>CO</td>\n",
       "      <td>2/15/1931 14:00</td>\n",
       "    </tr>\n",
       "    <tr>\n",
       "      <th>3</th>\n",
       "      <td>Abilene</td>\n",
       "      <td>NaN</td>\n",
       "      <td>DISK</td>\n",
       "      <td>KS</td>\n",
       "      <td>6/1/1931 13:00</td>\n",
       "    </tr>\n",
       "    <tr>\n",
       "      <th>4</th>\n",
       "      <td>New York Worlds Fair</td>\n",
       "      <td>NaN</td>\n",
       "      <td>LIGHT</td>\n",
       "      <td>NY</td>\n",
       "      <td>4/18/1933 19:00</td>\n",
       "    </tr>\n",
       "  </tbody>\n",
       "</table>\n",
       "</div>"
      ],
      "text/plain": [
       "                   city report shape tab state             time\n",
       "0                Ithaca    NaN  TRIANGLE    NY   6/1/1930 22:00\n",
       "1           Willingboro    NaN     OTHER    NJ  6/30/1930 20:00\n",
       "2               Holyoke    NaN      OVAL    CO  2/15/1931 14:00\n",
       "3               Abilene    NaN      DISK    KS   6/1/1931 13:00\n",
       "4  New York Worlds Fair    NaN     LIGHT    NY  4/18/1933 19:00"
      ]
     },
     "execution_count": 75,
     "metadata": {},
     "output_type": "execute_result"
    }
   ],
   "source": [
    "new_identity=['city','report','shape tab','state','time']\n",
    "ufo.columns=new_identity\n",
    "ufo.head()"
   ]
  },
  {
   "cell_type": "code",
   "execution_count": 76,
   "id": "collective-conditioning",
   "metadata": {},
   "outputs": [
    {
     "data": {
      "text/html": [
       "<div>\n",
       "<style scoped>\n",
       "    .dataframe tbody tr th:only-of-type {\n",
       "        vertical-align: middle;\n",
       "    }\n",
       "\n",
       "    .dataframe tbody tr th {\n",
       "        vertical-align: top;\n",
       "    }\n",
       "\n",
       "    .dataframe thead th {\n",
       "        text-align: right;\n",
       "    }\n",
       "</style>\n",
       "<table border=\"1\" class=\"dataframe\">\n",
       "  <thead>\n",
       "    <tr style=\"text-align: right;\">\n",
       "      <th></th>\n",
       "      <th>city</th>\n",
       "      <th>report</th>\n",
       "      <th>shape tab</th>\n",
       "      <th>state</th>\n",
       "      <th>time</th>\n",
       "    </tr>\n",
       "  </thead>\n",
       "  <tbody>\n",
       "    <tr>\n",
       "      <th>0</th>\n",
       "      <td>Ithaca</td>\n",
       "      <td>NaN</td>\n",
       "      <td>TRIANGLE</td>\n",
       "      <td>NY</td>\n",
       "      <td>6/1/1930 22:00</td>\n",
       "    </tr>\n",
       "    <tr>\n",
       "      <th>1</th>\n",
       "      <td>Willingboro</td>\n",
       "      <td>NaN</td>\n",
       "      <td>OTHER</td>\n",
       "      <td>NJ</td>\n",
       "      <td>6/30/1930 20:00</td>\n",
       "    </tr>\n",
       "    <tr>\n",
       "      <th>2</th>\n",
       "      <td>Holyoke</td>\n",
       "      <td>NaN</td>\n",
       "      <td>OVAL</td>\n",
       "      <td>CO</td>\n",
       "      <td>2/15/1931 14:00</td>\n",
       "    </tr>\n",
       "    <tr>\n",
       "      <th>3</th>\n",
       "      <td>Abilene</td>\n",
       "      <td>NaN</td>\n",
       "      <td>DISK</td>\n",
       "      <td>KS</td>\n",
       "      <td>6/1/1931 13:00</td>\n",
       "    </tr>\n",
       "    <tr>\n",
       "      <th>4</th>\n",
       "      <td>New York Worlds Fair</td>\n",
       "      <td>NaN</td>\n",
       "      <td>LIGHT</td>\n",
       "      <td>NY</td>\n",
       "      <td>4/18/1933 19:00</td>\n",
       "    </tr>\n",
       "  </tbody>\n",
       "</table>\n",
       "</div>"
      ],
      "text/plain": [
       "                   city report shape tab state             time\n",
       "0                Ithaca    NaN  TRIANGLE    NY   6/1/1930 22:00\n",
       "1           Willingboro    NaN     OTHER    NJ  6/30/1930 20:00\n",
       "2               Holyoke    NaN      OVAL    CO  2/15/1931 14:00\n",
       "3               Abilene    NaN      DISK    KS   6/1/1931 13:00\n",
       "4  New York Worlds Fair    NaN     LIGHT    NY  4/18/1933 19:00"
      ]
     },
     "execution_count": 76,
     "metadata": {},
     "output_type": "execute_result"
    }
   ],
   "source": [
    "new_name=['city','report','shape tab','state','time']\n",
    "ufo.columns=new_name\n",
    "ufo.head()"
   ]
  },
  {
   "cell_type": "code",
   "execution_count": 77,
   "id": "unsigned-potential",
   "metadata": {},
   "outputs": [
    {
     "data": {
      "text/html": [
       "<div>\n",
       "<style scoped>\n",
       "    .dataframe tbody tr th:only-of-type {\n",
       "        vertical-align: middle;\n",
       "    }\n",
       "\n",
       "    .dataframe tbody tr th {\n",
       "        vertical-align: top;\n",
       "    }\n",
       "\n",
       "    .dataframe thead th {\n",
       "        text-align: right;\n",
       "    }\n",
       "</style>\n",
       "<table border=\"1\" class=\"dataframe\">\n",
       "  <thead>\n",
       "    <tr style=\"text-align: right;\">\n",
       "      <th></th>\n",
       "      <th>city</th>\n",
       "      <th>report</th>\n",
       "      <th>shape tab</th>\n",
       "      <th>state</th>\n",
       "      <th>time</th>\n",
       "    </tr>\n",
       "  </thead>\n",
       "  <tbody>\n",
       "    <tr>\n",
       "      <th>0</th>\n",
       "      <td>Ithaca</td>\n",
       "      <td>NaN</td>\n",
       "      <td>TRIANGLE</td>\n",
       "      <td>NY</td>\n",
       "      <td>6/1/1930 22:00</td>\n",
       "    </tr>\n",
       "    <tr>\n",
       "      <th>1</th>\n",
       "      <td>Willingboro</td>\n",
       "      <td>NaN</td>\n",
       "      <td>OTHER</td>\n",
       "      <td>NJ</td>\n",
       "      <td>6/30/1930 20:00</td>\n",
       "    </tr>\n",
       "    <tr>\n",
       "      <th>2</th>\n",
       "      <td>Holyoke</td>\n",
       "      <td>NaN</td>\n",
       "      <td>OVAL</td>\n",
       "      <td>CO</td>\n",
       "      <td>2/15/1931 14:00</td>\n",
       "    </tr>\n",
       "    <tr>\n",
       "      <th>3</th>\n",
       "      <td>Abilene</td>\n",
       "      <td>NaN</td>\n",
       "      <td>DISK</td>\n",
       "      <td>KS</td>\n",
       "      <td>6/1/1931 13:00</td>\n",
       "    </tr>\n",
       "    <tr>\n",
       "      <th>4</th>\n",
       "      <td>New York Worlds Fair</td>\n",
       "      <td>NaN</td>\n",
       "      <td>LIGHT</td>\n",
       "      <td>NY</td>\n",
       "      <td>4/18/1933 19:00</td>\n",
       "    </tr>\n",
       "  </tbody>\n",
       "</table>\n",
       "</div>"
      ],
      "text/plain": [
       "                   city report shape tab state             time\n",
       "0                Ithaca    NaN  TRIANGLE    NY   6/1/1930 22:00\n",
       "1           Willingboro    NaN     OTHER    NJ  6/30/1930 20:00\n",
       "2               Holyoke    NaN      OVAL    CO  2/15/1931 14:00\n",
       "3               Abilene    NaN      DISK    KS   6/1/1931 13:00\n",
       "4  New York Worlds Fair    NaN     LIGHT    NY  4/18/1933 19:00"
      ]
     },
     "execution_count": 77,
     "metadata": {},
     "output_type": "execute_result"
    }
   ],
   "source": [
    "ufo.columns.str.replace(' ','__')\n",
    "ufo.head()"
   ]
  },
  {
   "cell_type": "code",
   "execution_count": 78,
   "id": "respiratory-nursing",
   "metadata": {},
   "outputs": [
    {
     "data": {
      "text/html": [
       "<div>\n",
       "<style scoped>\n",
       "    .dataframe tbody tr th:only-of-type {\n",
       "        vertical-align: middle;\n",
       "    }\n",
       "\n",
       "    .dataframe tbody tr th {\n",
       "        vertical-align: top;\n",
       "    }\n",
       "\n",
       "    .dataframe thead th {\n",
       "        text-align: right;\n",
       "    }\n",
       "</style>\n",
       "<table border=\"1\" class=\"dataframe\">\n",
       "  <thead>\n",
       "    <tr style=\"text-align: right;\">\n",
       "      <th></th>\n",
       "      <th>Colors Reported</th>\n",
       "      <th>Shape Reported</th>\n",
       "      <th>State</th>\n",
       "      <th>Time</th>\n",
       "    </tr>\n",
       "  </thead>\n",
       "  <tbody>\n",
       "    <tr>\n",
       "      <th>0</th>\n",
       "      <td>NaN</td>\n",
       "      <td>TRIANGLE</td>\n",
       "      <td>NY</td>\n",
       "      <td>6/1/1930 22:00</td>\n",
       "    </tr>\n",
       "    <tr>\n",
       "      <th>1</th>\n",
       "      <td>NaN</td>\n",
       "      <td>OTHER</td>\n",
       "      <td>NJ</td>\n",
       "      <td>6/30/1930 20:00</td>\n",
       "    </tr>\n",
       "    <tr>\n",
       "      <th>2</th>\n",
       "      <td>NaN</td>\n",
       "      <td>OVAL</td>\n",
       "      <td>CO</td>\n",
       "      <td>2/15/1931 14:00</td>\n",
       "    </tr>\n",
       "    <tr>\n",
       "      <th>3</th>\n",
       "      <td>NaN</td>\n",
       "      <td>DISK</td>\n",
       "      <td>KS</td>\n",
       "      <td>6/1/1931 13:00</td>\n",
       "    </tr>\n",
       "    <tr>\n",
       "      <th>4</th>\n",
       "      <td>NaN</td>\n",
       "      <td>LIGHT</td>\n",
       "      <td>NY</td>\n",
       "      <td>4/18/1933 19:00</td>\n",
       "    </tr>\n",
       "  </tbody>\n",
       "</table>\n",
       "</div>"
      ],
      "text/plain": [
       "  Colors Reported Shape Reported State             Time\n",
       "0             NaN       TRIANGLE    NY   6/1/1930 22:00\n",
       "1             NaN          OTHER    NJ  6/30/1930 20:00\n",
       "2             NaN           OVAL    CO  2/15/1931 14:00\n",
       "3             NaN           DISK    KS   6/1/1931 13:00\n",
       "4             NaN          LIGHT    NY  4/18/1933 19:00"
      ]
     },
     "execution_count": 78,
     "metadata": {},
     "output_type": "execute_result"
    }
   ],
   "source": [
    "import pandas as pd\n",
    "ufo=pd.read_csv('ufo.txt')\n",
    "ufo.drop('City',axis=1,inplace=True)\n",
    "ufo.head()"
   ]
  },
  {
   "cell_type": "code",
   "execution_count": 79,
   "id": "dated-postage",
   "metadata": {},
   "outputs": [
    {
     "data": {
      "text/html": [
       "<div>\n",
       "<style scoped>\n",
       "    .dataframe tbody tr th:only-of-type {\n",
       "        vertical-align: middle;\n",
       "    }\n",
       "\n",
       "    .dataframe tbody tr th {\n",
       "        vertical-align: top;\n",
       "    }\n",
       "\n",
       "    .dataframe thead th {\n",
       "        text-align: right;\n",
       "    }\n",
       "</style>\n",
       "<table border=\"1\" class=\"dataframe\">\n",
       "  <thead>\n",
       "    <tr style=\"text-align: right;\">\n",
       "      <th></th>\n",
       "      <th>Colors Reported</th>\n",
       "      <th>Shape Reported</th>\n",
       "    </tr>\n",
       "  </thead>\n",
       "  <tbody>\n",
       "    <tr>\n",
       "      <th>0</th>\n",
       "      <td>NaN</td>\n",
       "      <td>TRIANGLE</td>\n",
       "    </tr>\n",
       "    <tr>\n",
       "      <th>1</th>\n",
       "      <td>NaN</td>\n",
       "      <td>OTHER</td>\n",
       "    </tr>\n",
       "    <tr>\n",
       "      <th>2</th>\n",
       "      <td>NaN</td>\n",
       "      <td>OVAL</td>\n",
       "    </tr>\n",
       "    <tr>\n",
       "      <th>3</th>\n",
       "      <td>NaN</td>\n",
       "      <td>DISK</td>\n",
       "    </tr>\n",
       "    <tr>\n",
       "      <th>4</th>\n",
       "      <td>NaN</td>\n",
       "      <td>LIGHT</td>\n",
       "    </tr>\n",
       "    <tr>\n",
       "      <th>...</th>\n",
       "      <td>...</td>\n",
       "      <td>...</td>\n",
       "    </tr>\n",
       "    <tr>\n",
       "      <th>18236</th>\n",
       "      <td>NaN</td>\n",
       "      <td>TRIANGLE</td>\n",
       "    </tr>\n",
       "    <tr>\n",
       "      <th>18237</th>\n",
       "      <td>NaN</td>\n",
       "      <td>DISK</td>\n",
       "    </tr>\n",
       "    <tr>\n",
       "      <th>18238</th>\n",
       "      <td>NaN</td>\n",
       "      <td>NaN</td>\n",
       "    </tr>\n",
       "    <tr>\n",
       "      <th>18239</th>\n",
       "      <td>RED</td>\n",
       "      <td>LIGHT</td>\n",
       "    </tr>\n",
       "    <tr>\n",
       "      <th>18240</th>\n",
       "      <td>NaN</td>\n",
       "      <td>OVAL</td>\n",
       "    </tr>\n",
       "  </tbody>\n",
       "</table>\n",
       "<p>18241 rows × 2 columns</p>\n",
       "</div>"
      ],
      "text/plain": [
       "      Colors Reported Shape Reported\n",
       "0                 NaN       TRIANGLE\n",
       "1                 NaN          OTHER\n",
       "2                 NaN           OVAL\n",
       "3                 NaN           DISK\n",
       "4                 NaN          LIGHT\n",
       "...               ...            ...\n",
       "18236             NaN       TRIANGLE\n",
       "18237             NaN           DISK\n",
       "18238             NaN            NaN\n",
       "18239             RED          LIGHT\n",
       "18240             NaN           OVAL\n",
       "\n",
       "[18241 rows x 2 columns]"
      ]
     },
     "execution_count": 79,
     "metadata": {},
     "output_type": "execute_result"
    }
   ],
   "source": [
    "ufo.drop(['Time','State'],axis=1)"
   ]
  },
  {
   "cell_type": "code",
   "execution_count": 80,
   "id": "acceptable-scottish",
   "metadata": {},
   "outputs": [
    {
     "data": {
      "text/html": [
       "<div>\n",
       "<style scoped>\n",
       "    .dataframe tbody tr th:only-of-type {\n",
       "        vertical-align: middle;\n",
       "    }\n",
       "\n",
       "    .dataframe tbody tr th {\n",
       "        vertical-align: top;\n",
       "    }\n",
       "\n",
       "    .dataframe thead th {\n",
       "        text-align: right;\n",
       "    }\n",
       "</style>\n",
       "<table border=\"1\" class=\"dataframe\">\n",
       "  <thead>\n",
       "    <tr style=\"text-align: right;\">\n",
       "      <th></th>\n",
       "      <th>Colors Reported</th>\n",
       "      <th>Shape Reported</th>\n",
       "      <th>State</th>\n",
       "      <th>Time</th>\n",
       "    </tr>\n",
       "  </thead>\n",
       "  <tbody>\n",
       "    <tr>\n",
       "      <th>0</th>\n",
       "      <td>NaN</td>\n",
       "      <td>TRIANGLE</td>\n",
       "      <td>NY</td>\n",
       "      <td>6/1/1930 22:00</td>\n",
       "    </tr>\n",
       "    <tr>\n",
       "      <th>1</th>\n",
       "      <td>NaN</td>\n",
       "      <td>OTHER</td>\n",
       "      <td>NJ</td>\n",
       "      <td>6/30/1930 20:00</td>\n",
       "    </tr>\n",
       "    <tr>\n",
       "      <th>2</th>\n",
       "      <td>NaN</td>\n",
       "      <td>OVAL</td>\n",
       "      <td>CO</td>\n",
       "      <td>2/15/1931 14:00</td>\n",
       "    </tr>\n",
       "    <tr>\n",
       "      <th>5</th>\n",
       "      <td>NaN</td>\n",
       "      <td>DISK</td>\n",
       "      <td>ND</td>\n",
       "      <td>9/15/1934 15:30</td>\n",
       "    </tr>\n",
       "    <tr>\n",
       "      <th>6</th>\n",
       "      <td>NaN</td>\n",
       "      <td>CIRCLE</td>\n",
       "      <td>CA</td>\n",
       "      <td>6/15/1935 0:00</td>\n",
       "    </tr>\n",
       "    <tr>\n",
       "      <th>...</th>\n",
       "      <td>...</td>\n",
       "      <td>...</td>\n",
       "      <td>...</td>\n",
       "      <td>...</td>\n",
       "    </tr>\n",
       "    <tr>\n",
       "      <th>18236</th>\n",
       "      <td>NaN</td>\n",
       "      <td>TRIANGLE</td>\n",
       "      <td>IL</td>\n",
       "      <td>12/31/2000 23:00</td>\n",
       "    </tr>\n",
       "    <tr>\n",
       "      <th>18237</th>\n",
       "      <td>NaN</td>\n",
       "      <td>DISK</td>\n",
       "      <td>IA</td>\n",
       "      <td>12/31/2000 23:00</td>\n",
       "    </tr>\n",
       "    <tr>\n",
       "      <th>18238</th>\n",
       "      <td>NaN</td>\n",
       "      <td>NaN</td>\n",
       "      <td>WI</td>\n",
       "      <td>12/31/2000 23:45</td>\n",
       "    </tr>\n",
       "    <tr>\n",
       "      <th>18239</th>\n",
       "      <td>RED</td>\n",
       "      <td>LIGHT</td>\n",
       "      <td>WI</td>\n",
       "      <td>12/31/2000 23:45</td>\n",
       "    </tr>\n",
       "    <tr>\n",
       "      <th>18240</th>\n",
       "      <td>NaN</td>\n",
       "      <td>OVAL</td>\n",
       "      <td>FL</td>\n",
       "      <td>12/31/2000 23:59</td>\n",
       "    </tr>\n",
       "  </tbody>\n",
       "</table>\n",
       "<p>18239 rows × 4 columns</p>\n",
       "</div>"
      ],
      "text/plain": [
       "      Colors Reported Shape Reported State              Time\n",
       "0                 NaN       TRIANGLE    NY    6/1/1930 22:00\n",
       "1                 NaN          OTHER    NJ   6/30/1930 20:00\n",
       "2                 NaN           OVAL    CO   2/15/1931 14:00\n",
       "5                 NaN           DISK    ND   9/15/1934 15:30\n",
       "6                 NaN         CIRCLE    CA    6/15/1935 0:00\n",
       "...               ...            ...   ...               ...\n",
       "18236             NaN       TRIANGLE    IL  12/31/2000 23:00\n",
       "18237             NaN           DISK    IA  12/31/2000 23:00\n",
       "18238             NaN            NaN    WI  12/31/2000 23:45\n",
       "18239             RED          LIGHT    WI  12/31/2000 23:45\n",
       "18240             NaN           OVAL    FL  12/31/2000 23:59\n",
       "\n",
       "[18239 rows x 4 columns]"
      ]
     },
     "execution_count": 80,
     "metadata": {},
     "output_type": "execute_result"
    }
   ],
   "source": [
    "ufo.drop([3,4],axis=0)"
   ]
  },
  {
   "cell_type": "code",
   "execution_count": 81,
   "id": "narrow-murray",
   "metadata": {},
   "outputs": [
    {
     "data": {
      "text/html": [
       "<div>\n",
       "<style scoped>\n",
       "    .dataframe tbody tr th:only-of-type {\n",
       "        vertical-align: middle;\n",
       "    }\n",
       "\n",
       "    .dataframe tbody tr th {\n",
       "        vertical-align: top;\n",
       "    }\n",
       "\n",
       "    .dataframe thead th {\n",
       "        text-align: right;\n",
       "    }\n",
       "</style>\n",
       "<table border=\"1\" class=\"dataframe\">\n",
       "  <thead>\n",
       "    <tr style=\"text-align: right;\">\n",
       "      <th></th>\n",
       "      <th>star_rating</th>\n",
       "      <th>title</th>\n",
       "      <th>content_rating</th>\n",
       "      <th>genre</th>\n",
       "      <th>duration</th>\n",
       "      <th>actors_list</th>\n",
       "    </tr>\n",
       "  </thead>\n",
       "  <tbody>\n",
       "    <tr>\n",
       "      <th>0</th>\n",
       "      <td>9.3</td>\n",
       "      <td>The Shawshank Redemption</td>\n",
       "      <td>R</td>\n",
       "      <td>Crime</td>\n",
       "      <td>142</td>\n",
       "      <td>[u'Tim Robbins', u'Morgan Freeman', u'Bob Gunt...</td>\n",
       "    </tr>\n",
       "    <tr>\n",
       "      <th>1</th>\n",
       "      <td>9.2</td>\n",
       "      <td>The Godfather</td>\n",
       "      <td>R</td>\n",
       "      <td>Crime</td>\n",
       "      <td>175</td>\n",
       "      <td>[u'Marlon Brando', u'Al Pacino', u'James Caan']</td>\n",
       "    </tr>\n",
       "    <tr>\n",
       "      <th>2</th>\n",
       "      <td>9.1</td>\n",
       "      <td>The Godfather: Part II</td>\n",
       "      <td>R</td>\n",
       "      <td>Crime</td>\n",
       "      <td>200</td>\n",
       "      <td>[u'Al Pacino', u'Robert De Niro', u'Robert Duv...</td>\n",
       "    </tr>\n",
       "    <tr>\n",
       "      <th>3</th>\n",
       "      <td>9.0</td>\n",
       "      <td>The Dark Knight</td>\n",
       "      <td>PG-13</td>\n",
       "      <td>Action</td>\n",
       "      <td>152</td>\n",
       "      <td>[u'Christian Bale', u'Heath Ledger', u'Aaron E...</td>\n",
       "    </tr>\n",
       "    <tr>\n",
       "      <th>4</th>\n",
       "      <td>8.9</td>\n",
       "      <td>Pulp Fiction</td>\n",
       "      <td>R</td>\n",
       "      <td>Crime</td>\n",
       "      <td>154</td>\n",
       "      <td>[u'John Travolta', u'Uma Thurman', u'Samuel L....</td>\n",
       "    </tr>\n",
       "    <tr>\n",
       "      <th>...</th>\n",
       "      <td>...</td>\n",
       "      <td>...</td>\n",
       "      <td>...</td>\n",
       "      <td>...</td>\n",
       "      <td>...</td>\n",
       "      <td>...</td>\n",
       "    </tr>\n",
       "    <tr>\n",
       "      <th>974</th>\n",
       "      <td>7.4</td>\n",
       "      <td>Tootsie</td>\n",
       "      <td>PG</td>\n",
       "      <td>Comedy</td>\n",
       "      <td>116</td>\n",
       "      <td>[u'Dustin Hoffman', u'Jessica Lange', u'Teri G...</td>\n",
       "    </tr>\n",
       "    <tr>\n",
       "      <th>975</th>\n",
       "      <td>7.4</td>\n",
       "      <td>Back to the Future Part III</td>\n",
       "      <td>PG</td>\n",
       "      <td>Adventure</td>\n",
       "      <td>118</td>\n",
       "      <td>[u'Michael J. Fox', u'Christopher Lloyd', u'Ma...</td>\n",
       "    </tr>\n",
       "    <tr>\n",
       "      <th>976</th>\n",
       "      <td>7.4</td>\n",
       "      <td>Master and Commander: The Far Side of the World</td>\n",
       "      <td>PG-13</td>\n",
       "      <td>Action</td>\n",
       "      <td>138</td>\n",
       "      <td>[u'Russell Crowe', u'Paul Bettany', u'Billy Bo...</td>\n",
       "    </tr>\n",
       "    <tr>\n",
       "      <th>977</th>\n",
       "      <td>7.4</td>\n",
       "      <td>Poltergeist</td>\n",
       "      <td>PG</td>\n",
       "      <td>Horror</td>\n",
       "      <td>114</td>\n",
       "      <td>[u'JoBeth Williams', u\"Heather O'Rourke\", u'Cr...</td>\n",
       "    </tr>\n",
       "    <tr>\n",
       "      <th>978</th>\n",
       "      <td>7.4</td>\n",
       "      <td>Wall Street</td>\n",
       "      <td>R</td>\n",
       "      <td>Crime</td>\n",
       "      <td>126</td>\n",
       "      <td>[u'Charlie Sheen', u'Michael Douglas', u'Tamar...</td>\n",
       "    </tr>\n",
       "  </tbody>\n",
       "</table>\n",
       "<p>979 rows × 6 columns</p>\n",
       "</div>"
      ],
      "text/plain": [
       "     star_rating                                            title  \\\n",
       "0            9.3                         The Shawshank Redemption   \n",
       "1            9.2                                    The Godfather   \n",
       "2            9.1                           The Godfather: Part II   \n",
       "3            9.0                                  The Dark Knight   \n",
       "4            8.9                                     Pulp Fiction   \n",
       "..           ...                                              ...   \n",
       "974          7.4                                          Tootsie   \n",
       "975          7.4                      Back to the Future Part III   \n",
       "976          7.4  Master and Commander: The Far Side of the World   \n",
       "977          7.4                                      Poltergeist   \n",
       "978          7.4                                      Wall Street   \n",
       "\n",
       "    content_rating      genre  duration  \\\n",
       "0                R      Crime       142   \n",
       "1                R      Crime       175   \n",
       "2                R      Crime       200   \n",
       "3            PG-13     Action       152   \n",
       "4                R      Crime       154   \n",
       "..             ...        ...       ...   \n",
       "974             PG     Comedy       116   \n",
       "975             PG  Adventure       118   \n",
       "976          PG-13     Action       138   \n",
       "977             PG     Horror       114   \n",
       "978              R      Crime       126   \n",
       "\n",
       "                                           actors_list  \n",
       "0    [u'Tim Robbins', u'Morgan Freeman', u'Bob Gunt...  \n",
       "1      [u'Marlon Brando', u'Al Pacino', u'James Caan']  \n",
       "2    [u'Al Pacino', u'Robert De Niro', u'Robert Duv...  \n",
       "3    [u'Christian Bale', u'Heath Ledger', u'Aaron E...  \n",
       "4    [u'John Travolta', u'Uma Thurman', u'Samuel L....  \n",
       "..                                                 ...  \n",
       "974  [u'Dustin Hoffman', u'Jessica Lange', u'Teri G...  \n",
       "975  [u'Michael J. Fox', u'Christopher Lloyd', u'Ma...  \n",
       "976  [u'Russell Crowe', u'Paul Bettany', u'Billy Bo...  \n",
       "977  [u'JoBeth Williams', u\"Heather O'Rourke\", u'Cr...  \n",
       "978  [u'Charlie Sheen', u'Michael Douglas', u'Tamar...  \n",
       "\n",
       "[979 rows x 6 columns]"
      ]
     },
     "execution_count": 81,
     "metadata": {},
     "output_type": "execute_result"
    }
   ],
   "source": [
    "import pandas as pd\n",
    "movies=pd.read_csv('imbd_rating.txt')\n",
    "movies"
   ]
  },
  {
   "cell_type": "code",
   "execution_count": 82,
   "id": "great-worse",
   "metadata": {},
   "outputs": [
    {
     "data": {
      "text/plain": [
       "978    7.4\n",
       "950    7.4\n",
       "949    7.4\n",
       "948    7.4\n",
       "947    7.4\n",
       "      ... \n",
       "6      8.9\n",
       "3      9.0\n",
       "2      9.1\n",
       "1      9.2\n",
       "0      9.3\n",
       "Name: star_rating, Length: 979, dtype: float64"
      ]
     },
     "execution_count": 82,
     "metadata": {},
     "output_type": "execute_result"
    }
   ],
   "source": [
    "movies.star_rating.sort_values()"
   ]
  },
  {
   "cell_type": "code",
   "execution_count": 83,
   "id": "developed-queens",
   "metadata": {},
   "outputs": [
    {
     "data": {
      "text/plain": [
       "0      9.3\n",
       "1      9.2\n",
       "2      9.1\n",
       "3      9.0\n",
       "4      8.9\n",
       "      ... \n",
       "948    7.4\n",
       "949    7.4\n",
       "950    7.4\n",
       "951    7.4\n",
       "978    7.4\n",
       "Name: star_rating, Length: 979, dtype: float64"
      ]
     },
     "execution_count": 83,
     "metadata": {},
     "output_type": "execute_result"
    }
   ],
   "source": [
    "movies['star_rating'].sort_values(ascending=False)"
   ]
  },
  {
   "cell_type": "code",
   "execution_count": 84,
   "id": "compressed-hierarchy",
   "metadata": {},
   "outputs": [
    {
     "data": {
      "text/html": [
       "<div>\n",
       "<style scoped>\n",
       "    .dataframe tbody tr th:only-of-type {\n",
       "        vertical-align: middle;\n",
       "    }\n",
       "\n",
       "    .dataframe tbody tr th {\n",
       "        vertical-align: top;\n",
       "    }\n",
       "\n",
       "    .dataframe thead th {\n",
       "        text-align: right;\n",
       "    }\n",
       "</style>\n",
       "<table border=\"1\" class=\"dataframe\">\n",
       "  <thead>\n",
       "    <tr style=\"text-align: right;\">\n",
       "      <th></th>\n",
       "      <th>star_rating</th>\n",
       "      <th>title</th>\n",
       "      <th>content_rating</th>\n",
       "      <th>genre</th>\n",
       "      <th>duration</th>\n",
       "      <th>actors_list</th>\n",
       "    </tr>\n",
       "  </thead>\n",
       "  <tbody>\n",
       "    <tr>\n",
       "      <th>0</th>\n",
       "      <td>9.3</td>\n",
       "      <td>The Shawshank Redemption</td>\n",
       "      <td>R</td>\n",
       "      <td>Crime</td>\n",
       "      <td>142</td>\n",
       "      <td>[u'Tim Robbins', u'Morgan Freeman', u'Bob Gunt...</td>\n",
       "    </tr>\n",
       "    <tr>\n",
       "      <th>1</th>\n",
       "      <td>9.2</td>\n",
       "      <td>The Godfather</td>\n",
       "      <td>R</td>\n",
       "      <td>Crime</td>\n",
       "      <td>175</td>\n",
       "      <td>[u'Marlon Brando', u'Al Pacino', u'James Caan']</td>\n",
       "    </tr>\n",
       "    <tr>\n",
       "      <th>2</th>\n",
       "      <td>9.1</td>\n",
       "      <td>The Godfather: Part II</td>\n",
       "      <td>R</td>\n",
       "      <td>Crime</td>\n",
       "      <td>200</td>\n",
       "      <td>[u'Al Pacino', u'Robert De Niro', u'Robert Duv...</td>\n",
       "    </tr>\n",
       "    <tr>\n",
       "      <th>3</th>\n",
       "      <td>9.0</td>\n",
       "      <td>The Dark Knight</td>\n",
       "      <td>PG-13</td>\n",
       "      <td>Action</td>\n",
       "      <td>152</td>\n",
       "      <td>[u'Christian Bale', u'Heath Ledger', u'Aaron E...</td>\n",
       "    </tr>\n",
       "    <tr>\n",
       "      <th>4</th>\n",
       "      <td>8.9</td>\n",
       "      <td>Pulp Fiction</td>\n",
       "      <td>R</td>\n",
       "      <td>Crime</td>\n",
       "      <td>154</td>\n",
       "      <td>[u'John Travolta', u'Uma Thurman', u'Samuel L....</td>\n",
       "    </tr>\n",
       "    <tr>\n",
       "      <th>...</th>\n",
       "      <td>...</td>\n",
       "      <td>...</td>\n",
       "      <td>...</td>\n",
       "      <td>...</td>\n",
       "      <td>...</td>\n",
       "      <td>...</td>\n",
       "    </tr>\n",
       "    <tr>\n",
       "      <th>975</th>\n",
       "      <td>7.4</td>\n",
       "      <td>Back to the Future Part III</td>\n",
       "      <td>PG</td>\n",
       "      <td>Adventure</td>\n",
       "      <td>118</td>\n",
       "      <td>[u'Michael J. Fox', u'Christopher Lloyd', u'Ma...</td>\n",
       "    </tr>\n",
       "    <tr>\n",
       "      <th>977</th>\n",
       "      <td>7.4</td>\n",
       "      <td>Poltergeist</td>\n",
       "      <td>PG</td>\n",
       "      <td>Horror</td>\n",
       "      <td>114</td>\n",
       "      <td>[u'JoBeth Williams', u\"Heather O'Rourke\", u'Cr...</td>\n",
       "    </tr>\n",
       "    <tr>\n",
       "      <th>972</th>\n",
       "      <td>7.4</td>\n",
       "      <td>Blue Valentine</td>\n",
       "      <td>NC-17</td>\n",
       "      <td>Drama</td>\n",
       "      <td>112</td>\n",
       "      <td>[u'Ryan Gosling', u'Michelle Williams', u'John...</td>\n",
       "    </tr>\n",
       "    <tr>\n",
       "      <th>938</th>\n",
       "      <td>7.4</td>\n",
       "      <td>Alice in Wonderland</td>\n",
       "      <td>G</td>\n",
       "      <td>Animation</td>\n",
       "      <td>75</td>\n",
       "      <td>[u'Kathryn Beaumont', u'Ed Wynn', u'Richard Ha...</td>\n",
       "    </tr>\n",
       "    <tr>\n",
       "      <th>936</th>\n",
       "      <td>7.4</td>\n",
       "      <td>True Grit</td>\n",
       "      <td>NaN</td>\n",
       "      <td>Adventure</td>\n",
       "      <td>128</td>\n",
       "      <td>[u'John Wayne', u'Kim Darby', u'Glen Campbell']</td>\n",
       "    </tr>\n",
       "  </tbody>\n",
       "</table>\n",
       "<p>979 rows × 6 columns</p>\n",
       "</div>"
      ],
      "text/plain": [
       "     star_rating                        title content_rating      genre  \\\n",
       "0            9.3     The Shawshank Redemption              R      Crime   \n",
       "1            9.2                The Godfather              R      Crime   \n",
       "2            9.1       The Godfather: Part II              R      Crime   \n",
       "3            9.0              The Dark Knight          PG-13     Action   \n",
       "4            8.9                 Pulp Fiction              R      Crime   \n",
       "..           ...                          ...            ...        ...   \n",
       "975          7.4  Back to the Future Part III             PG  Adventure   \n",
       "977          7.4                  Poltergeist             PG     Horror   \n",
       "972          7.4               Blue Valentine          NC-17      Drama   \n",
       "938          7.4          Alice in Wonderland              G  Animation   \n",
       "936          7.4                    True Grit            NaN  Adventure   \n",
       "\n",
       "     duration                                        actors_list  \n",
       "0         142  [u'Tim Robbins', u'Morgan Freeman', u'Bob Gunt...  \n",
       "1         175    [u'Marlon Brando', u'Al Pacino', u'James Caan']  \n",
       "2         200  [u'Al Pacino', u'Robert De Niro', u'Robert Duv...  \n",
       "3         152  [u'Christian Bale', u'Heath Ledger', u'Aaron E...  \n",
       "4         154  [u'John Travolta', u'Uma Thurman', u'Samuel L....  \n",
       "..        ...                                                ...  \n",
       "975       118  [u'Michael J. Fox', u'Christopher Lloyd', u'Ma...  \n",
       "977       114  [u'JoBeth Williams', u\"Heather O'Rourke\", u'Cr...  \n",
       "972       112  [u'Ryan Gosling', u'Michelle Williams', u'John...  \n",
       "938        75  [u'Kathryn Beaumont', u'Ed Wynn', u'Richard Ha...  \n",
       "936       128    [u'John Wayne', u'Kim Darby', u'Glen Campbell']  \n",
       "\n",
       "[979 rows x 6 columns]"
      ]
     },
     "execution_count": 84,
     "metadata": {},
     "output_type": "execute_result"
    }
   ],
   "source": [
    "movies.columns\n",
    "movies.sort_values(['star_rating','content_rating'],ascending=[False,False])"
   ]
  },
  {
   "cell_type": "code",
   "execution_count": 85,
   "id": "wrapped-suggestion",
   "metadata": {},
   "outputs": [
    {
     "data": {
      "text/html": [
       "<div>\n",
       "<style scoped>\n",
       "    .dataframe tbody tr th:only-of-type {\n",
       "        vertical-align: middle;\n",
       "    }\n",
       "\n",
       "    .dataframe tbody tr th {\n",
       "        vertical-align: top;\n",
       "    }\n",
       "\n",
       "    .dataframe thead th {\n",
       "        text-align: right;\n",
       "    }\n",
       "</style>\n",
       "<table border=\"1\" class=\"dataframe\">\n",
       "  <thead>\n",
       "    <tr style=\"text-align: right;\">\n",
       "      <th></th>\n",
       "      <th>star_rating</th>\n",
       "      <th>title</th>\n",
       "      <th>content_rating</th>\n",
       "      <th>genre</th>\n",
       "      <th>duration</th>\n",
       "      <th>actors_list</th>\n",
       "    </tr>\n",
       "  </thead>\n",
       "  <tbody>\n",
       "    <tr>\n",
       "      <th>count</th>\n",
       "      <td>979.000000</td>\n",
       "      <td>979</td>\n",
       "      <td>976</td>\n",
       "      <td>979</td>\n",
       "      <td>979.000000</td>\n",
       "      <td>979</td>\n",
       "    </tr>\n",
       "    <tr>\n",
       "      <th>unique</th>\n",
       "      <td>NaN</td>\n",
       "      <td>975</td>\n",
       "      <td>12</td>\n",
       "      <td>16</td>\n",
       "      <td>NaN</td>\n",
       "      <td>969</td>\n",
       "    </tr>\n",
       "    <tr>\n",
       "      <th>top</th>\n",
       "      <td>NaN</td>\n",
       "      <td>True Grit</td>\n",
       "      <td>R</td>\n",
       "      <td>Drama</td>\n",
       "      <td>NaN</td>\n",
       "      <td>[u'Daniel Radcliffe', u'Emma Watson', u'Rupert...</td>\n",
       "    </tr>\n",
       "    <tr>\n",
       "      <th>freq</th>\n",
       "      <td>NaN</td>\n",
       "      <td>2</td>\n",
       "      <td>460</td>\n",
       "      <td>278</td>\n",
       "      <td>NaN</td>\n",
       "      <td>6</td>\n",
       "    </tr>\n",
       "    <tr>\n",
       "      <th>mean</th>\n",
       "      <td>7.889785</td>\n",
       "      <td>NaN</td>\n",
       "      <td>NaN</td>\n",
       "      <td>NaN</td>\n",
       "      <td>120.979571</td>\n",
       "      <td>NaN</td>\n",
       "    </tr>\n",
       "    <tr>\n",
       "      <th>std</th>\n",
       "      <td>0.336069</td>\n",
       "      <td>NaN</td>\n",
       "      <td>NaN</td>\n",
       "      <td>NaN</td>\n",
       "      <td>26.218010</td>\n",
       "      <td>NaN</td>\n",
       "    </tr>\n",
       "    <tr>\n",
       "      <th>min</th>\n",
       "      <td>7.400000</td>\n",
       "      <td>NaN</td>\n",
       "      <td>NaN</td>\n",
       "      <td>NaN</td>\n",
       "      <td>64.000000</td>\n",
       "      <td>NaN</td>\n",
       "    </tr>\n",
       "    <tr>\n",
       "      <th>25%</th>\n",
       "      <td>7.600000</td>\n",
       "      <td>NaN</td>\n",
       "      <td>NaN</td>\n",
       "      <td>NaN</td>\n",
       "      <td>102.000000</td>\n",
       "      <td>NaN</td>\n",
       "    </tr>\n",
       "    <tr>\n",
       "      <th>50%</th>\n",
       "      <td>7.800000</td>\n",
       "      <td>NaN</td>\n",
       "      <td>NaN</td>\n",
       "      <td>NaN</td>\n",
       "      <td>117.000000</td>\n",
       "      <td>NaN</td>\n",
       "    </tr>\n",
       "    <tr>\n",
       "      <th>75%</th>\n",
       "      <td>8.100000</td>\n",
       "      <td>NaN</td>\n",
       "      <td>NaN</td>\n",
       "      <td>NaN</td>\n",
       "      <td>134.000000</td>\n",
       "      <td>NaN</td>\n",
       "    </tr>\n",
       "    <tr>\n",
       "      <th>max</th>\n",
       "      <td>9.300000</td>\n",
       "      <td>NaN</td>\n",
       "      <td>NaN</td>\n",
       "      <td>NaN</td>\n",
       "      <td>242.000000</td>\n",
       "      <td>NaN</td>\n",
       "    </tr>\n",
       "  </tbody>\n",
       "</table>\n",
       "</div>"
      ],
      "text/plain": [
       "        star_rating      title content_rating  genre    duration  \\\n",
       "count    979.000000        979            976    979  979.000000   \n",
       "unique          NaN        975             12     16         NaN   \n",
       "top             NaN  True Grit              R  Drama         NaN   \n",
       "freq            NaN          2            460    278         NaN   \n",
       "mean       7.889785        NaN            NaN    NaN  120.979571   \n",
       "std        0.336069        NaN            NaN    NaN   26.218010   \n",
       "min        7.400000        NaN            NaN    NaN   64.000000   \n",
       "25%        7.600000        NaN            NaN    NaN  102.000000   \n",
       "50%        7.800000        NaN            NaN    NaN  117.000000   \n",
       "75%        8.100000        NaN            NaN    NaN  134.000000   \n",
       "max        9.300000        NaN            NaN    NaN  242.000000   \n",
       "\n",
       "                                              actors_list  \n",
       "count                                                 979  \n",
       "unique                                                969  \n",
       "top     [u'Daniel Radcliffe', u'Emma Watson', u'Rupert...  \n",
       "freq                                                    6  \n",
       "mean                                                  NaN  \n",
       "std                                                   NaN  \n",
       "min                                                   NaN  \n",
       "25%                                                   NaN  \n",
       "50%                                                   NaN  \n",
       "75%                                                   NaN  \n",
       "max                                                   NaN  "
      ]
     },
     "execution_count": 85,
     "metadata": {},
     "output_type": "execute_result"
    }
   ],
   "source": [
    "movies.describe(include='all')"
   ]
  },
  {
   "cell_type": "code",
   "execution_count": 86,
   "id": "sublime-labor",
   "metadata": {},
   "outputs": [
    {
     "data": {
      "text/plain": [
       "dtype('int64')"
      ]
     },
     "execution_count": 86,
     "metadata": {},
     "output_type": "execute_result"
    }
   ],
   "source": [
    "movies.duration.dtype"
   ]
  },
  {
   "cell_type": "code",
   "execution_count": 87,
   "id": "atlantic-grenada",
   "metadata": {},
   "outputs": [
    {
     "data": {
      "text/html": [
       "<div>\n",
       "<style scoped>\n",
       "    .dataframe tbody tr th:only-of-type {\n",
       "        vertical-align: middle;\n",
       "    }\n",
       "\n",
       "    .dataframe tbody tr th {\n",
       "        vertical-align: top;\n",
       "    }\n",
       "\n",
       "    .dataframe thead th {\n",
       "        text-align: right;\n",
       "    }\n",
       "</style>\n",
       "<table border=\"1\" class=\"dataframe\">\n",
       "  <thead>\n",
       "    <tr style=\"text-align: right;\">\n",
       "      <th></th>\n",
       "      <th>star_rating</th>\n",
       "      <th>title</th>\n",
       "      <th>content_rating</th>\n",
       "      <th>genre</th>\n",
       "      <th>duration</th>\n",
       "      <th>actors_list</th>\n",
       "    </tr>\n",
       "  </thead>\n",
       "  <tbody>\n",
       "    <tr>\n",
       "      <th>2</th>\n",
       "      <td>9.1</td>\n",
       "      <td>The Godfather: Part II</td>\n",
       "      <td>R</td>\n",
       "      <td>Crime</td>\n",
       "      <td>200</td>\n",
       "      <td>[u'Al Pacino', u'Robert De Niro', u'Robert Duv...</td>\n",
       "    </tr>\n",
       "    <tr>\n",
       "      <th>7</th>\n",
       "      <td>8.9</td>\n",
       "      <td>The Lord of the Rings: The Return of the King</td>\n",
       "      <td>PG-13</td>\n",
       "      <td>Adventure</td>\n",
       "      <td>201</td>\n",
       "      <td>[u'Elijah Wood', u'Viggo Mortensen', u'Ian McK...</td>\n",
       "    </tr>\n",
       "    <tr>\n",
       "      <th>17</th>\n",
       "      <td>8.7</td>\n",
       "      <td>Seven Samurai</td>\n",
       "      <td>UNRATED</td>\n",
       "      <td>Drama</td>\n",
       "      <td>207</td>\n",
       "      <td>[u'Toshir\\xf4 Mifune', u'Takashi Shimura', u'K...</td>\n",
       "    </tr>\n",
       "    <tr>\n",
       "      <th>78</th>\n",
       "      <td>8.4</td>\n",
       "      <td>Once Upon a Time in America</td>\n",
       "      <td>R</td>\n",
       "      <td>Crime</td>\n",
       "      <td>229</td>\n",
       "      <td>[u'Robert De Niro', u'James Woods', u'Elizabet...</td>\n",
       "    </tr>\n",
       "    <tr>\n",
       "      <th>85</th>\n",
       "      <td>8.4</td>\n",
       "      <td>Lawrence of Arabia</td>\n",
       "      <td>PG</td>\n",
       "      <td>Adventure</td>\n",
       "      <td>216</td>\n",
       "      <td>[u\"Peter O'Toole\", u'Alec Guinness', u'Anthony...</td>\n",
       "    </tr>\n",
       "    <tr>\n",
       "      <th>142</th>\n",
       "      <td>8.3</td>\n",
       "      <td>Lagaan: Once Upon a Time in India</td>\n",
       "      <td>PG</td>\n",
       "      <td>Adventure</td>\n",
       "      <td>224</td>\n",
       "      <td>[u'Aamir Khan', u'Gracy Singh', u'Rachel Shell...</td>\n",
       "    </tr>\n",
       "    <tr>\n",
       "      <th>157</th>\n",
       "      <td>8.2</td>\n",
       "      <td>Gone with the Wind</td>\n",
       "      <td>G</td>\n",
       "      <td>Drama</td>\n",
       "      <td>238</td>\n",
       "      <td>[u'Clark Gable', u'Vivien Leigh', u'Thomas Mit...</td>\n",
       "    </tr>\n",
       "    <tr>\n",
       "      <th>204</th>\n",
       "      <td>8.1</td>\n",
       "      <td>Ben-Hur</td>\n",
       "      <td>G</td>\n",
       "      <td>Adventure</td>\n",
       "      <td>212</td>\n",
       "      <td>[u'Charlton Heston', u'Jack Hawkins', u'Stephe...</td>\n",
       "    </tr>\n",
       "    <tr>\n",
       "      <th>445</th>\n",
       "      <td>7.9</td>\n",
       "      <td>The Ten Commandments</td>\n",
       "      <td>APPROVED</td>\n",
       "      <td>Adventure</td>\n",
       "      <td>220</td>\n",
       "      <td>[u'Charlton Heston', u'Yul Brynner', u'Anne Ba...</td>\n",
       "    </tr>\n",
       "    <tr>\n",
       "      <th>476</th>\n",
       "      <td>7.8</td>\n",
       "      <td>Hamlet</td>\n",
       "      <td>PG-13</td>\n",
       "      <td>Drama</td>\n",
       "      <td>242</td>\n",
       "      <td>[u'Kenneth Branagh', u'Julie Christie', u'Dere...</td>\n",
       "    </tr>\n",
       "    <tr>\n",
       "      <th>630</th>\n",
       "      <td>7.7</td>\n",
       "      <td>Malcolm X</td>\n",
       "      <td>PG-13</td>\n",
       "      <td>Biography</td>\n",
       "      <td>202</td>\n",
       "      <td>[u'Denzel Washington', u'Angela Bassett', u'De...</td>\n",
       "    </tr>\n",
       "    <tr>\n",
       "      <th>767</th>\n",
       "      <td>7.6</td>\n",
       "      <td>It's a Mad, Mad, Mad, Mad World</td>\n",
       "      <td>APPROVED</td>\n",
       "      <td>Action</td>\n",
       "      <td>205</td>\n",
       "      <td>[u'Spencer Tracy', u'Milton Berle', u'Ethel Me...</td>\n",
       "    </tr>\n",
       "  </tbody>\n",
       "</table>\n",
       "</div>"
      ],
      "text/plain": [
       "     star_rating                                          title  \\\n",
       "2            9.1                         The Godfather: Part II   \n",
       "7            8.9  The Lord of the Rings: The Return of the King   \n",
       "17           8.7                                  Seven Samurai   \n",
       "78           8.4                    Once Upon a Time in America   \n",
       "85           8.4                             Lawrence of Arabia   \n",
       "142          8.3              Lagaan: Once Upon a Time in India   \n",
       "157          8.2                             Gone with the Wind   \n",
       "204          8.1                                        Ben-Hur   \n",
       "445          7.9                           The Ten Commandments   \n",
       "476          7.8                                         Hamlet   \n",
       "630          7.7                                      Malcolm X   \n",
       "767          7.6                It's a Mad, Mad, Mad, Mad World   \n",
       "\n",
       "    content_rating      genre  duration  \\\n",
       "2                R      Crime       200   \n",
       "7            PG-13  Adventure       201   \n",
       "17         UNRATED      Drama       207   \n",
       "78               R      Crime       229   \n",
       "85              PG  Adventure       216   \n",
       "142             PG  Adventure       224   \n",
       "157              G      Drama       238   \n",
       "204              G  Adventure       212   \n",
       "445       APPROVED  Adventure       220   \n",
       "476          PG-13      Drama       242   \n",
       "630          PG-13  Biography       202   \n",
       "767       APPROVED     Action       205   \n",
       "\n",
       "                                           actors_list  \n",
       "2    [u'Al Pacino', u'Robert De Niro', u'Robert Duv...  \n",
       "7    [u'Elijah Wood', u'Viggo Mortensen', u'Ian McK...  \n",
       "17   [u'Toshir\\xf4 Mifune', u'Takashi Shimura', u'K...  \n",
       "78   [u'Robert De Niro', u'James Woods', u'Elizabet...  \n",
       "85   [u\"Peter O'Toole\", u'Alec Guinness', u'Anthony...  \n",
       "142  [u'Aamir Khan', u'Gracy Singh', u'Rachel Shell...  \n",
       "157  [u'Clark Gable', u'Vivien Leigh', u'Thomas Mit...  \n",
       "204  [u'Charlton Heston', u'Jack Hawkins', u'Stephe...  \n",
       "445  [u'Charlton Heston', u'Yul Brynner', u'Anne Ba...  \n",
       "476  [u'Kenneth Branagh', u'Julie Christie', u'Dere...  \n",
       "630  [u'Denzel Washington', u'Angela Bassett', u'De...  \n",
       "767  [u'Spencer Tracy', u'Milton Berle', u'Ethel Me...  "
      ]
     },
     "execution_count": 87,
     "metadata": {},
     "output_type": "execute_result"
    }
   ],
   "source": [
    "boolians=[]\n",
    "for length in movies.duration:\n",
    "    if length>=200:\n",
    "        boolians.append(True)\n",
    "    else:\n",
    "        boolians.append(False)\n",
    "is_in=pd.Series(boolians)\n",
    "movies[is_in]"
   ]
  },
  {
   "cell_type": "code",
   "execution_count": 88,
   "id": "personal-watershed",
   "metadata": {},
   "outputs": [
    {
     "data": {
      "text/html": [
       "<div>\n",
       "<style scoped>\n",
       "    .dataframe tbody tr th:only-of-type {\n",
       "        vertical-align: middle;\n",
       "    }\n",
       "\n",
       "    .dataframe tbody tr th {\n",
       "        vertical-align: top;\n",
       "    }\n",
       "\n",
       "    .dataframe thead th {\n",
       "        text-align: right;\n",
       "    }\n",
       "</style>\n",
       "<table border=\"1\" class=\"dataframe\">\n",
       "  <thead>\n",
       "    <tr style=\"text-align: right;\">\n",
       "      <th></th>\n",
       "      <th>star_rating</th>\n",
       "      <th>title</th>\n",
       "      <th>content_rating</th>\n",
       "      <th>genre</th>\n",
       "      <th>duration</th>\n",
       "      <th>actors_list</th>\n",
       "    </tr>\n",
       "  </thead>\n",
       "  <tbody>\n",
       "    <tr>\n",
       "      <th>2</th>\n",
       "      <td>9.1</td>\n",
       "      <td>The Godfather: Part II</td>\n",
       "      <td>R</td>\n",
       "      <td>Crime</td>\n",
       "      <td>200</td>\n",
       "      <td>[u'Al Pacino', u'Robert De Niro', u'Robert Duv...</td>\n",
       "    </tr>\n",
       "    <tr>\n",
       "      <th>7</th>\n",
       "      <td>8.9</td>\n",
       "      <td>The Lord of the Rings: The Return of the King</td>\n",
       "      <td>PG-13</td>\n",
       "      <td>Adventure</td>\n",
       "      <td>201</td>\n",
       "      <td>[u'Elijah Wood', u'Viggo Mortensen', u'Ian McK...</td>\n",
       "    </tr>\n",
       "    <tr>\n",
       "      <th>17</th>\n",
       "      <td>8.7</td>\n",
       "      <td>Seven Samurai</td>\n",
       "      <td>UNRATED</td>\n",
       "      <td>Drama</td>\n",
       "      <td>207</td>\n",
       "      <td>[u'Toshir\\xf4 Mifune', u'Takashi Shimura', u'K...</td>\n",
       "    </tr>\n",
       "    <tr>\n",
       "      <th>78</th>\n",
       "      <td>8.4</td>\n",
       "      <td>Once Upon a Time in America</td>\n",
       "      <td>R</td>\n",
       "      <td>Crime</td>\n",
       "      <td>229</td>\n",
       "      <td>[u'Robert De Niro', u'James Woods', u'Elizabet...</td>\n",
       "    </tr>\n",
       "    <tr>\n",
       "      <th>85</th>\n",
       "      <td>8.4</td>\n",
       "      <td>Lawrence of Arabia</td>\n",
       "      <td>PG</td>\n",
       "      <td>Adventure</td>\n",
       "      <td>216</td>\n",
       "      <td>[u\"Peter O'Toole\", u'Alec Guinness', u'Anthony...</td>\n",
       "    </tr>\n",
       "    <tr>\n",
       "      <th>142</th>\n",
       "      <td>8.3</td>\n",
       "      <td>Lagaan: Once Upon a Time in India</td>\n",
       "      <td>PG</td>\n",
       "      <td>Adventure</td>\n",
       "      <td>224</td>\n",
       "      <td>[u'Aamir Khan', u'Gracy Singh', u'Rachel Shell...</td>\n",
       "    </tr>\n",
       "    <tr>\n",
       "      <th>157</th>\n",
       "      <td>8.2</td>\n",
       "      <td>Gone with the Wind</td>\n",
       "      <td>G</td>\n",
       "      <td>Drama</td>\n",
       "      <td>238</td>\n",
       "      <td>[u'Clark Gable', u'Vivien Leigh', u'Thomas Mit...</td>\n",
       "    </tr>\n",
       "    <tr>\n",
       "      <th>204</th>\n",
       "      <td>8.1</td>\n",
       "      <td>Ben-Hur</td>\n",
       "      <td>G</td>\n",
       "      <td>Adventure</td>\n",
       "      <td>212</td>\n",
       "      <td>[u'Charlton Heston', u'Jack Hawkins', u'Stephe...</td>\n",
       "    </tr>\n",
       "    <tr>\n",
       "      <th>445</th>\n",
       "      <td>7.9</td>\n",
       "      <td>The Ten Commandments</td>\n",
       "      <td>APPROVED</td>\n",
       "      <td>Adventure</td>\n",
       "      <td>220</td>\n",
       "      <td>[u'Charlton Heston', u'Yul Brynner', u'Anne Ba...</td>\n",
       "    </tr>\n",
       "    <tr>\n",
       "      <th>476</th>\n",
       "      <td>7.8</td>\n",
       "      <td>Hamlet</td>\n",
       "      <td>PG-13</td>\n",
       "      <td>Drama</td>\n",
       "      <td>242</td>\n",
       "      <td>[u'Kenneth Branagh', u'Julie Christie', u'Dere...</td>\n",
       "    </tr>\n",
       "    <tr>\n",
       "      <th>630</th>\n",
       "      <td>7.7</td>\n",
       "      <td>Malcolm X</td>\n",
       "      <td>PG-13</td>\n",
       "      <td>Biography</td>\n",
       "      <td>202</td>\n",
       "      <td>[u'Denzel Washington', u'Angela Bassett', u'De...</td>\n",
       "    </tr>\n",
       "    <tr>\n",
       "      <th>767</th>\n",
       "      <td>7.6</td>\n",
       "      <td>It's a Mad, Mad, Mad, Mad World</td>\n",
       "      <td>APPROVED</td>\n",
       "      <td>Action</td>\n",
       "      <td>205</td>\n",
       "      <td>[u'Spencer Tracy', u'Milton Berle', u'Ethel Me...</td>\n",
       "    </tr>\n",
       "  </tbody>\n",
       "</table>\n",
       "</div>"
      ],
      "text/plain": [
       "     star_rating                                          title  \\\n",
       "2            9.1                         The Godfather: Part II   \n",
       "7            8.9  The Lord of the Rings: The Return of the King   \n",
       "17           8.7                                  Seven Samurai   \n",
       "78           8.4                    Once Upon a Time in America   \n",
       "85           8.4                             Lawrence of Arabia   \n",
       "142          8.3              Lagaan: Once Upon a Time in India   \n",
       "157          8.2                             Gone with the Wind   \n",
       "204          8.1                                        Ben-Hur   \n",
       "445          7.9                           The Ten Commandments   \n",
       "476          7.8                                         Hamlet   \n",
       "630          7.7                                      Malcolm X   \n",
       "767          7.6                It's a Mad, Mad, Mad, Mad World   \n",
       "\n",
       "    content_rating      genre  duration  \\\n",
       "2                R      Crime       200   \n",
       "7            PG-13  Adventure       201   \n",
       "17         UNRATED      Drama       207   \n",
       "78               R      Crime       229   \n",
       "85              PG  Adventure       216   \n",
       "142             PG  Adventure       224   \n",
       "157              G      Drama       238   \n",
       "204              G  Adventure       212   \n",
       "445       APPROVED  Adventure       220   \n",
       "476          PG-13      Drama       242   \n",
       "630          PG-13  Biography       202   \n",
       "767       APPROVED     Action       205   \n",
       "\n",
       "                                           actors_list  \n",
       "2    [u'Al Pacino', u'Robert De Niro', u'Robert Duv...  \n",
       "7    [u'Elijah Wood', u'Viggo Mortensen', u'Ian McK...  \n",
       "17   [u'Toshir\\xf4 Mifune', u'Takashi Shimura', u'K...  \n",
       "78   [u'Robert De Niro', u'James Woods', u'Elizabet...  \n",
       "85   [u\"Peter O'Toole\", u'Alec Guinness', u'Anthony...  \n",
       "142  [u'Aamir Khan', u'Gracy Singh', u'Rachel Shell...  \n",
       "157  [u'Clark Gable', u'Vivien Leigh', u'Thomas Mit...  \n",
       "204  [u'Charlton Heston', u'Jack Hawkins', u'Stephe...  \n",
       "445  [u'Charlton Heston', u'Yul Brynner', u'Anne Ba...  \n",
       "476  [u'Kenneth Branagh', u'Julie Christie', u'Dere...  \n",
       "630  [u'Denzel Washington', u'Angela Bassett', u'De...  \n",
       "767  [u'Spencer Tracy', u'Milton Berle', u'Ethel Me...  "
      ]
     },
     "execution_count": 88,
     "metadata": {},
     "output_type": "execute_result"
    }
   ],
   "source": [
    "movies[movies.duration >=200]"
   ]
  },
  {
   "cell_type": "code",
   "execution_count": 89,
   "id": "outside-complexity",
   "metadata": {},
   "outputs": [
    {
     "name": "stderr",
     "output_type": "stream",
     "text": [
      "<ipython-input-89-114b1ebdcd27>:2: DeprecationWarning: The default dtype for empty Series will be 'object' instead of 'float64' in a future version. Specify a dtype explicitly to silence this warning.\n",
      "  is_long=pd.Series(boolians)\n"
     ]
    },
    {
     "data": {
      "text/html": [
       "<div>\n",
       "<style scoped>\n",
       "    .dataframe tbody tr th:only-of-type {\n",
       "        vertical-align: middle;\n",
       "    }\n",
       "\n",
       "    .dataframe tbody tr th {\n",
       "        vertical-align: top;\n",
       "    }\n",
       "\n",
       "    .dataframe thead th {\n",
       "        text-align: right;\n",
       "    }\n",
       "</style>\n",
       "<table border=\"1\" class=\"dataframe\">\n",
       "  <thead>\n",
       "    <tr style=\"text-align: right;\">\n",
       "      <th></th>\n",
       "      <th>star_rating</th>\n",
       "      <th>title</th>\n",
       "      <th>content_rating</th>\n",
       "      <th>genre</th>\n",
       "      <th>duration</th>\n",
       "      <th>actors_list</th>\n",
       "    </tr>\n",
       "  </thead>\n",
       "  <tbody>\n",
       "    <tr>\n",
       "      <th>2</th>\n",
       "      <td>9.1</td>\n",
       "      <td>The Godfather: Part II</td>\n",
       "      <td>R</td>\n",
       "      <td>Crime</td>\n",
       "      <td>200</td>\n",
       "      <td>[u'Al Pacino', u'Robert De Niro', u'Robert Duv...</td>\n",
       "    </tr>\n",
       "    <tr>\n",
       "      <th>7</th>\n",
       "      <td>8.9</td>\n",
       "      <td>The Lord of the Rings: The Return of the King</td>\n",
       "      <td>PG-13</td>\n",
       "      <td>Adventure</td>\n",
       "      <td>201</td>\n",
       "      <td>[u'Elijah Wood', u'Viggo Mortensen', u'Ian McK...</td>\n",
       "    </tr>\n",
       "    <tr>\n",
       "      <th>17</th>\n",
       "      <td>8.7</td>\n",
       "      <td>Seven Samurai</td>\n",
       "      <td>UNRATED</td>\n",
       "      <td>Drama</td>\n",
       "      <td>207</td>\n",
       "      <td>[u'Toshir\\xf4 Mifune', u'Takashi Shimura', u'K...</td>\n",
       "    </tr>\n",
       "    <tr>\n",
       "      <th>78</th>\n",
       "      <td>8.4</td>\n",
       "      <td>Once Upon a Time in America</td>\n",
       "      <td>R</td>\n",
       "      <td>Crime</td>\n",
       "      <td>229</td>\n",
       "      <td>[u'Robert De Niro', u'James Woods', u'Elizabet...</td>\n",
       "    </tr>\n",
       "    <tr>\n",
       "      <th>85</th>\n",
       "      <td>8.4</td>\n",
       "      <td>Lawrence of Arabia</td>\n",
       "      <td>PG</td>\n",
       "      <td>Adventure</td>\n",
       "      <td>216</td>\n",
       "      <td>[u\"Peter O'Toole\", u'Alec Guinness', u'Anthony...</td>\n",
       "    </tr>\n",
       "    <tr>\n",
       "      <th>142</th>\n",
       "      <td>8.3</td>\n",
       "      <td>Lagaan: Once Upon a Time in India</td>\n",
       "      <td>PG</td>\n",
       "      <td>Adventure</td>\n",
       "      <td>224</td>\n",
       "      <td>[u'Aamir Khan', u'Gracy Singh', u'Rachel Shell...</td>\n",
       "    </tr>\n",
       "    <tr>\n",
       "      <th>157</th>\n",
       "      <td>8.2</td>\n",
       "      <td>Gone with the Wind</td>\n",
       "      <td>G</td>\n",
       "      <td>Drama</td>\n",
       "      <td>238</td>\n",
       "      <td>[u'Clark Gable', u'Vivien Leigh', u'Thomas Mit...</td>\n",
       "    </tr>\n",
       "    <tr>\n",
       "      <th>204</th>\n",
       "      <td>8.1</td>\n",
       "      <td>Ben-Hur</td>\n",
       "      <td>G</td>\n",
       "      <td>Adventure</td>\n",
       "      <td>212</td>\n",
       "      <td>[u'Charlton Heston', u'Jack Hawkins', u'Stephe...</td>\n",
       "    </tr>\n",
       "    <tr>\n",
       "      <th>445</th>\n",
       "      <td>7.9</td>\n",
       "      <td>The Ten Commandments</td>\n",
       "      <td>APPROVED</td>\n",
       "      <td>Adventure</td>\n",
       "      <td>220</td>\n",
       "      <td>[u'Charlton Heston', u'Yul Brynner', u'Anne Ba...</td>\n",
       "    </tr>\n",
       "    <tr>\n",
       "      <th>476</th>\n",
       "      <td>7.8</td>\n",
       "      <td>Hamlet</td>\n",
       "      <td>PG-13</td>\n",
       "      <td>Drama</td>\n",
       "      <td>242</td>\n",
       "      <td>[u'Kenneth Branagh', u'Julie Christie', u'Dere...</td>\n",
       "    </tr>\n",
       "    <tr>\n",
       "      <th>630</th>\n",
       "      <td>7.7</td>\n",
       "      <td>Malcolm X</td>\n",
       "      <td>PG-13</td>\n",
       "      <td>Biography</td>\n",
       "      <td>202</td>\n",
       "      <td>[u'Denzel Washington', u'Angela Bassett', u'De...</td>\n",
       "    </tr>\n",
       "    <tr>\n",
       "      <th>767</th>\n",
       "      <td>7.6</td>\n",
       "      <td>It's a Mad, Mad, Mad, Mad World</td>\n",
       "      <td>APPROVED</td>\n",
       "      <td>Action</td>\n",
       "      <td>205</td>\n",
       "      <td>[u'Spencer Tracy', u'Milton Berle', u'Ethel Me...</td>\n",
       "    </tr>\n",
       "  </tbody>\n",
       "</table>\n",
       "</div>"
      ],
      "text/plain": [
       "     star_rating                                          title  \\\n",
       "2            9.1                         The Godfather: Part II   \n",
       "7            8.9  The Lord of the Rings: The Return of the King   \n",
       "17           8.7                                  Seven Samurai   \n",
       "78           8.4                    Once Upon a Time in America   \n",
       "85           8.4                             Lawrence of Arabia   \n",
       "142          8.3              Lagaan: Once Upon a Time in India   \n",
       "157          8.2                             Gone with the Wind   \n",
       "204          8.1                                        Ben-Hur   \n",
       "445          7.9                           The Ten Commandments   \n",
       "476          7.8                                         Hamlet   \n",
       "630          7.7                                      Malcolm X   \n",
       "767          7.6                It's a Mad, Mad, Mad, Mad World   \n",
       "\n",
       "    content_rating      genre  duration  \\\n",
       "2                R      Crime       200   \n",
       "7            PG-13  Adventure       201   \n",
       "17         UNRATED      Drama       207   \n",
       "78               R      Crime       229   \n",
       "85              PG  Adventure       216   \n",
       "142             PG  Adventure       224   \n",
       "157              G      Drama       238   \n",
       "204              G  Adventure       212   \n",
       "445       APPROVED  Adventure       220   \n",
       "476          PG-13      Drama       242   \n",
       "630          PG-13  Biography       202   \n",
       "767       APPROVED     Action       205   \n",
       "\n",
       "                                           actors_list  \n",
       "2    [u'Al Pacino', u'Robert De Niro', u'Robert Duv...  \n",
       "7    [u'Elijah Wood', u'Viggo Mortensen', u'Ian McK...  \n",
       "17   [u'Toshir\\xf4 Mifune', u'Takashi Shimura', u'K...  \n",
       "78   [u'Robert De Niro', u'James Woods', u'Elizabet...  \n",
       "85   [u\"Peter O'Toole\", u'Alec Guinness', u'Anthony...  \n",
       "142  [u'Aamir Khan', u'Gracy Singh', u'Rachel Shell...  \n",
       "157  [u'Clark Gable', u'Vivien Leigh', u'Thomas Mit...  \n",
       "204  [u'Charlton Heston', u'Jack Hawkins', u'Stephe...  \n",
       "445  [u'Charlton Heston', u'Yul Brynner', u'Anne Ba...  \n",
       "476  [u'Kenneth Branagh', u'Julie Christie', u'Dere...  \n",
       "630  [u'Denzel Washington', u'Angela Bassett', u'De...  \n",
       "767  [u'Spencer Tracy', u'Milton Berle', u'Ethel Me...  "
      ]
     },
     "execution_count": 89,
     "metadata": {},
     "output_type": "execute_result"
    }
   ],
   "source": [
    "boolians=[]\n",
    "is_long=pd.Series(boolians)\n",
    "is_long=movies.duration >=200\n",
    "movies[is_long]"
   ]
  },
  {
   "cell_type": "code",
   "execution_count": 90,
   "id": "abstract-owner",
   "metadata": {},
   "outputs": [
    {
     "data": {
      "text/html": [
       "<div>\n",
       "<style scoped>\n",
       "    .dataframe tbody tr th:only-of-type {\n",
       "        vertical-align: middle;\n",
       "    }\n",
       "\n",
       "    .dataframe tbody tr th {\n",
       "        vertical-align: top;\n",
       "    }\n",
       "\n",
       "    .dataframe thead th {\n",
       "        text-align: right;\n",
       "    }\n",
       "</style>\n",
       "<table border=\"1\" class=\"dataframe\">\n",
       "  <thead>\n",
       "    <tr style=\"text-align: right;\">\n",
       "      <th></th>\n",
       "      <th>star_rating</th>\n",
       "      <th>title</th>\n",
       "      <th>content_rating</th>\n",
       "      <th>genre</th>\n",
       "      <th>duration</th>\n",
       "      <th>actors_list</th>\n",
       "    </tr>\n",
       "  </thead>\n",
       "  <tbody>\n",
       "    <tr>\n",
       "      <th>767</th>\n",
       "      <td>7.6</td>\n",
       "      <td>It's a Mad, Mad, Mad, Mad World</td>\n",
       "      <td>APPROVED</td>\n",
       "      <td>Action</td>\n",
       "      <td>205</td>\n",
       "      <td>[u'Spencer Tracy', u'Milton Berle', u'Ethel Me...</td>\n",
       "    </tr>\n",
       "  </tbody>\n",
       "</table>\n",
       "</div>"
      ],
      "text/plain": [
       "     star_rating                            title content_rating   genre  \\\n",
       "767          7.6  It's a Mad, Mad, Mad, Mad World       APPROVED  Action   \n",
       "\n",
       "     duration                                        actors_list  \n",
       "767       205  [u'Spencer Tracy', u'Milton Berle', u'Ethel Me...  "
      ]
     },
     "execution_count": 90,
     "metadata": {},
     "output_type": "execute_result"
    }
   ],
   "source": [
    "movies[(movies.duration >= 200) & (movies.genre == 'Action')]"
   ]
  },
  {
   "cell_type": "code",
   "execution_count": 91,
   "id": "funded-austria",
   "metadata": {},
   "outputs": [
    {
     "data": {
      "text/html": [
       "<div>\n",
       "<style scoped>\n",
       "    .dataframe tbody tr th:only-of-type {\n",
       "        vertical-align: middle;\n",
       "    }\n",
       "\n",
       "    .dataframe tbody tr th {\n",
       "        vertical-align: top;\n",
       "    }\n",
       "\n",
       "    .dataframe thead th {\n",
       "        text-align: right;\n",
       "    }\n",
       "</style>\n",
       "<table border=\"1\" class=\"dataframe\">\n",
       "  <thead>\n",
       "    <tr style=\"text-align: right;\">\n",
       "      <th></th>\n",
       "      <th>star_rating</th>\n",
       "      <th>title</th>\n",
       "      <th>content_rating</th>\n",
       "      <th>genre</th>\n",
       "      <th>duration</th>\n",
       "      <th>actors_list</th>\n",
       "    </tr>\n",
       "  </thead>\n",
       "  <tbody>\n",
       "    <tr>\n",
       "      <th>3</th>\n",
       "      <td>9.0</td>\n",
       "      <td>The Dark Knight</td>\n",
       "      <td>PG-13</td>\n",
       "      <td>Action</td>\n",
       "      <td>152</td>\n",
       "      <td>[u'Christian Bale', u'Heath Ledger', u'Aaron E...</td>\n",
       "    </tr>\n",
       "    <tr>\n",
       "      <th>11</th>\n",
       "      <td>8.8</td>\n",
       "      <td>Inception</td>\n",
       "      <td>PG-13</td>\n",
       "      <td>Action</td>\n",
       "      <td>148</td>\n",
       "      <td>[u'Leonardo DiCaprio', u'Joseph Gordon-Levitt'...</td>\n",
       "    </tr>\n",
       "    <tr>\n",
       "      <th>12</th>\n",
       "      <td>8.8</td>\n",
       "      <td>Star Wars: Episode V - The Empire Strikes Back</td>\n",
       "      <td>PG</td>\n",
       "      <td>Action</td>\n",
       "      <td>124</td>\n",
       "      <td>[u'Mark Hamill', u'Harrison Ford', u'Carrie Fi...</td>\n",
       "    </tr>\n",
       "    <tr>\n",
       "      <th>19</th>\n",
       "      <td>8.7</td>\n",
       "      <td>Star Wars</td>\n",
       "      <td>PG</td>\n",
       "      <td>Action</td>\n",
       "      <td>121</td>\n",
       "      <td>[u'Mark Hamill', u'Harrison Ford', u'Carrie Fi...</td>\n",
       "    </tr>\n",
       "    <tr>\n",
       "      <th>20</th>\n",
       "      <td>8.7</td>\n",
       "      <td>The Matrix</td>\n",
       "      <td>R</td>\n",
       "      <td>Action</td>\n",
       "      <td>136</td>\n",
       "      <td>[u'Keanu Reeves', u'Laurence Fishburne', u'Car...</td>\n",
       "    </tr>\n",
       "    <tr>\n",
       "      <th>...</th>\n",
       "      <td>...</td>\n",
       "      <td>...</td>\n",
       "      <td>...</td>\n",
       "      <td>...</td>\n",
       "      <td>...</td>\n",
       "      <td>...</td>\n",
       "    </tr>\n",
       "    <tr>\n",
       "      <th>918</th>\n",
       "      <td>7.5</td>\n",
       "      <td>Running Scared</td>\n",
       "      <td>R</td>\n",
       "      <td>Action</td>\n",
       "      <td>122</td>\n",
       "      <td>[u'Paul Walker', u'Cameron Bright', u'Chazz Pa...</td>\n",
       "    </tr>\n",
       "    <tr>\n",
       "      <th>954</th>\n",
       "      <td>7.4</td>\n",
       "      <td>X-Men</td>\n",
       "      <td>PG-13</td>\n",
       "      <td>Action</td>\n",
       "      <td>104</td>\n",
       "      <td>[u'Patrick Stewart', u'Hugh Jackman', u'Ian Mc...</td>\n",
       "    </tr>\n",
       "    <tr>\n",
       "      <th>963</th>\n",
       "      <td>7.4</td>\n",
       "      <td>La Femme Nikita</td>\n",
       "      <td>R</td>\n",
       "      <td>Action</td>\n",
       "      <td>118</td>\n",
       "      <td>[u'Anne Parillaud', u'Marc Duret', u'Patrick F...</td>\n",
       "    </tr>\n",
       "    <tr>\n",
       "      <th>967</th>\n",
       "      <td>7.4</td>\n",
       "      <td>The Rock</td>\n",
       "      <td>R</td>\n",
       "      <td>Action</td>\n",
       "      <td>136</td>\n",
       "      <td>[u'Sean Connery', u'Nicolas Cage', u'Ed Harris']</td>\n",
       "    </tr>\n",
       "    <tr>\n",
       "      <th>976</th>\n",
       "      <td>7.4</td>\n",
       "      <td>Master and Commander: The Far Side of the World</td>\n",
       "      <td>PG-13</td>\n",
       "      <td>Action</td>\n",
       "      <td>138</td>\n",
       "      <td>[u'Russell Crowe', u'Paul Bettany', u'Billy Bo...</td>\n",
       "    </tr>\n",
       "  </tbody>\n",
       "</table>\n",
       "<p>136 rows × 6 columns</p>\n",
       "</div>"
      ],
      "text/plain": [
       "     star_rating                                            title  \\\n",
       "3            9.0                                  The Dark Knight   \n",
       "11           8.8                                        Inception   \n",
       "12           8.8   Star Wars: Episode V - The Empire Strikes Back   \n",
       "19           8.7                                        Star Wars   \n",
       "20           8.7                                       The Matrix   \n",
       "..           ...                                              ...   \n",
       "918          7.5                                   Running Scared   \n",
       "954          7.4                                            X-Men   \n",
       "963          7.4                                  La Femme Nikita   \n",
       "967          7.4                                         The Rock   \n",
       "976          7.4  Master and Commander: The Far Side of the World   \n",
       "\n",
       "    content_rating   genre  duration  \\\n",
       "3            PG-13  Action       152   \n",
       "11           PG-13  Action       148   \n",
       "12              PG  Action       124   \n",
       "19              PG  Action       121   \n",
       "20               R  Action       136   \n",
       "..             ...     ...       ...   \n",
       "918              R  Action       122   \n",
       "954          PG-13  Action       104   \n",
       "963              R  Action       118   \n",
       "967              R  Action       136   \n",
       "976          PG-13  Action       138   \n",
       "\n",
       "                                           actors_list  \n",
       "3    [u'Christian Bale', u'Heath Ledger', u'Aaron E...  \n",
       "11   [u'Leonardo DiCaprio', u'Joseph Gordon-Levitt'...  \n",
       "12   [u'Mark Hamill', u'Harrison Ford', u'Carrie Fi...  \n",
       "19   [u'Mark Hamill', u'Harrison Ford', u'Carrie Fi...  \n",
       "20   [u'Keanu Reeves', u'Laurence Fishburne', u'Car...  \n",
       "..                                                 ...  \n",
       "918  [u'Paul Walker', u'Cameron Bright', u'Chazz Pa...  \n",
       "954  [u'Patrick Stewart', u'Hugh Jackman', u'Ian Mc...  \n",
       "963  [u'Anne Parillaud', u'Marc Duret', u'Patrick F...  \n",
       "967   [u'Sean Connery', u'Nicolas Cage', u'Ed Harris']  \n",
       "976  [u'Russell Crowe', u'Paul Bettany', u'Billy Bo...  \n",
       "\n",
       "[136 rows x 6 columns]"
      ]
     },
     "execution_count": 91,
     "metadata": {},
     "output_type": "execute_result"
    }
   ],
   "source": [
    "movies[(movies.genre=='Action')|(movies.genre=='Drame')]"
   ]
  },
  {
   "cell_type": "code",
   "execution_count": 92,
   "id": "improving-flower",
   "metadata": {},
   "outputs": [
    {
     "data": {
      "text/html": [
       "<div>\n",
       "<style scoped>\n",
       "    .dataframe tbody tr th:only-of-type {\n",
       "        vertical-align: middle;\n",
       "    }\n",
       "\n",
       "    .dataframe tbody tr th {\n",
       "        vertical-align: top;\n",
       "    }\n",
       "\n",
       "    .dataframe thead th {\n",
       "        text-align: right;\n",
       "    }\n",
       "</style>\n",
       "<table border=\"1\" class=\"dataframe\">\n",
       "  <thead>\n",
       "    <tr style=\"text-align: right;\">\n",
       "      <th></th>\n",
       "      <th>star_rating</th>\n",
       "      <th>title</th>\n",
       "      <th>content_rating</th>\n",
       "      <th>genre</th>\n",
       "      <th>duration</th>\n",
       "      <th>actors_list</th>\n",
       "    </tr>\n",
       "  </thead>\n",
       "  <tbody>\n",
       "    <tr>\n",
       "      <th>2</th>\n",
       "      <td>9.1</td>\n",
       "      <td>The Godfather: Part II</td>\n",
       "      <td>R</td>\n",
       "      <td>Crime</td>\n",
       "      <td>200</td>\n",
       "      <td>[u'Al Pacino', u'Robert De Niro', u'Robert Duv...</td>\n",
       "    </tr>\n",
       "    <tr>\n",
       "      <th>3</th>\n",
       "      <td>9.0</td>\n",
       "      <td>The Dark Knight</td>\n",
       "      <td>PG-13</td>\n",
       "      <td>Action</td>\n",
       "      <td>152</td>\n",
       "      <td>[u'Christian Bale', u'Heath Ledger', u'Aaron E...</td>\n",
       "    </tr>\n",
       "    <tr>\n",
       "      <th>7</th>\n",
       "      <td>8.9</td>\n",
       "      <td>The Lord of the Rings: The Return of the King</td>\n",
       "      <td>PG-13</td>\n",
       "      <td>Adventure</td>\n",
       "      <td>201</td>\n",
       "      <td>[u'Elijah Wood', u'Viggo Mortensen', u'Ian McK...</td>\n",
       "    </tr>\n",
       "    <tr>\n",
       "      <th>11</th>\n",
       "      <td>8.8</td>\n",
       "      <td>Inception</td>\n",
       "      <td>PG-13</td>\n",
       "      <td>Action</td>\n",
       "      <td>148</td>\n",
       "      <td>[u'Leonardo DiCaprio', u'Joseph Gordon-Levitt'...</td>\n",
       "    </tr>\n",
       "    <tr>\n",
       "      <th>12</th>\n",
       "      <td>8.8</td>\n",
       "      <td>Star Wars: Episode V - The Empire Strikes Back</td>\n",
       "      <td>PG</td>\n",
       "      <td>Action</td>\n",
       "      <td>124</td>\n",
       "      <td>[u'Mark Hamill', u'Harrison Ford', u'Carrie Fi...</td>\n",
       "    </tr>\n",
       "    <tr>\n",
       "      <th>...</th>\n",
       "      <td>...</td>\n",
       "      <td>...</td>\n",
       "      <td>...</td>\n",
       "      <td>...</td>\n",
       "      <td>...</td>\n",
       "      <td>...</td>\n",
       "    </tr>\n",
       "    <tr>\n",
       "      <th>918</th>\n",
       "      <td>7.5</td>\n",
       "      <td>Running Scared</td>\n",
       "      <td>R</td>\n",
       "      <td>Action</td>\n",
       "      <td>122</td>\n",
       "      <td>[u'Paul Walker', u'Cameron Bright', u'Chazz Pa...</td>\n",
       "    </tr>\n",
       "    <tr>\n",
       "      <th>954</th>\n",
       "      <td>7.4</td>\n",
       "      <td>X-Men</td>\n",
       "      <td>PG-13</td>\n",
       "      <td>Action</td>\n",
       "      <td>104</td>\n",
       "      <td>[u'Patrick Stewart', u'Hugh Jackman', u'Ian Mc...</td>\n",
       "    </tr>\n",
       "    <tr>\n",
       "      <th>963</th>\n",
       "      <td>7.4</td>\n",
       "      <td>La Femme Nikita</td>\n",
       "      <td>R</td>\n",
       "      <td>Action</td>\n",
       "      <td>118</td>\n",
       "      <td>[u'Anne Parillaud', u'Marc Duret', u'Patrick F...</td>\n",
       "    </tr>\n",
       "    <tr>\n",
       "      <th>967</th>\n",
       "      <td>7.4</td>\n",
       "      <td>The Rock</td>\n",
       "      <td>R</td>\n",
       "      <td>Action</td>\n",
       "      <td>136</td>\n",
       "      <td>[u'Sean Connery', u'Nicolas Cage', u'Ed Harris']</td>\n",
       "    </tr>\n",
       "    <tr>\n",
       "      <th>976</th>\n",
       "      <td>7.4</td>\n",
       "      <td>Master and Commander: The Far Side of the World</td>\n",
       "      <td>PG-13</td>\n",
       "      <td>Action</td>\n",
       "      <td>138</td>\n",
       "      <td>[u'Russell Crowe', u'Paul Bettany', u'Billy Bo...</td>\n",
       "    </tr>\n",
       "  </tbody>\n",
       "</table>\n",
       "<p>147 rows × 6 columns</p>\n",
       "</div>"
      ],
      "text/plain": [
       "     star_rating                                            title  \\\n",
       "2            9.1                           The Godfather: Part II   \n",
       "3            9.0                                  The Dark Knight   \n",
       "7            8.9    The Lord of the Rings: The Return of the King   \n",
       "11           8.8                                        Inception   \n",
       "12           8.8   Star Wars: Episode V - The Empire Strikes Back   \n",
       "..           ...                                              ...   \n",
       "918          7.5                                   Running Scared   \n",
       "954          7.4                                            X-Men   \n",
       "963          7.4                                  La Femme Nikita   \n",
       "967          7.4                                         The Rock   \n",
       "976          7.4  Master and Commander: The Far Side of the World   \n",
       "\n",
       "    content_rating      genre  duration  \\\n",
       "2                R      Crime       200   \n",
       "3            PG-13     Action       152   \n",
       "7            PG-13  Adventure       201   \n",
       "11           PG-13     Action       148   \n",
       "12              PG     Action       124   \n",
       "..             ...        ...       ...   \n",
       "918              R     Action       122   \n",
       "954          PG-13     Action       104   \n",
       "963              R     Action       118   \n",
       "967              R     Action       136   \n",
       "976          PG-13     Action       138   \n",
       "\n",
       "                                           actors_list  \n",
       "2    [u'Al Pacino', u'Robert De Niro', u'Robert Duv...  \n",
       "3    [u'Christian Bale', u'Heath Ledger', u'Aaron E...  \n",
       "7    [u'Elijah Wood', u'Viggo Mortensen', u'Ian McK...  \n",
       "11   [u'Leonardo DiCaprio', u'Joseph Gordon-Levitt'...  \n",
       "12   [u'Mark Hamill', u'Harrison Ford', u'Carrie Fi...  \n",
       "..                                                 ...  \n",
       "918  [u'Paul Walker', u'Cameron Bright', u'Chazz Pa...  \n",
       "954  [u'Patrick Stewart', u'Hugh Jackman', u'Ian Mc...  \n",
       "963  [u'Anne Parillaud', u'Marc Duret', u'Patrick F...  \n",
       "967   [u'Sean Connery', u'Nicolas Cage', u'Ed Harris']  \n",
       "976  [u'Russell Crowe', u'Paul Bettany', u'Billy Bo...  \n",
       "\n",
       "[147 rows x 6 columns]"
      ]
     },
     "execution_count": 92,
     "metadata": {},
     "output_type": "execute_result"
    }
   ],
   "source": [
    "movies[(movies.genre=='Action')|(movies.duration >= 200)]"
   ]
  },
  {
   "cell_type": "code",
   "execution_count": 93,
   "id": "latter-greenhouse",
   "metadata": {},
   "outputs": [
    {
     "data": {
      "text/html": [
       "<div>\n",
       "<style scoped>\n",
       "    .dataframe tbody tr th:only-of-type {\n",
       "        vertical-align: middle;\n",
       "    }\n",
       "\n",
       "    .dataframe tbody tr th {\n",
       "        vertical-align: top;\n",
       "    }\n",
       "\n",
       "    .dataframe thead th {\n",
       "        text-align: right;\n",
       "    }\n",
       "</style>\n",
       "<table border=\"1\" class=\"dataframe\">\n",
       "  <thead>\n",
       "    <tr style=\"text-align: right;\">\n",
       "      <th></th>\n",
       "      <th>star_rating</th>\n",
       "      <th>title</th>\n",
       "      <th>content_rating</th>\n",
       "      <th>genre</th>\n",
       "      <th>duration</th>\n",
       "      <th>actors_list</th>\n",
       "    </tr>\n",
       "  </thead>\n",
       "  <tbody>\n",
       "    <tr>\n",
       "      <th>3</th>\n",
       "      <td>9.0</td>\n",
       "      <td>The Dark Knight</td>\n",
       "      <td>PG-13</td>\n",
       "      <td>Action</td>\n",
       "      <td>152</td>\n",
       "      <td>[u'Christian Bale', u'Heath Ledger', u'Aaron E...</td>\n",
       "    </tr>\n",
       "    <tr>\n",
       "      <th>5</th>\n",
       "      <td>8.9</td>\n",
       "      <td>12 Angry Men</td>\n",
       "      <td>NOT RATED</td>\n",
       "      <td>Drama</td>\n",
       "      <td>96</td>\n",
       "      <td>[u'Henry Fonda', u'Lee J. Cobb', u'Martin Bals...</td>\n",
       "    </tr>\n",
       "    <tr>\n",
       "      <th>9</th>\n",
       "      <td>8.9</td>\n",
       "      <td>Fight Club</td>\n",
       "      <td>R</td>\n",
       "      <td>Drama</td>\n",
       "      <td>139</td>\n",
       "      <td>[u'Brad Pitt', u'Edward Norton', u'Helena Bonh...</td>\n",
       "    </tr>\n",
       "    <tr>\n",
       "      <th>11</th>\n",
       "      <td>8.8</td>\n",
       "      <td>Inception</td>\n",
       "      <td>PG-13</td>\n",
       "      <td>Action</td>\n",
       "      <td>148</td>\n",
       "      <td>[u'Leonardo DiCaprio', u'Joseph Gordon-Levitt'...</td>\n",
       "    </tr>\n",
       "    <tr>\n",
       "      <th>12</th>\n",
       "      <td>8.8</td>\n",
       "      <td>Star Wars: Episode V - The Empire Strikes Back</td>\n",
       "      <td>PG</td>\n",
       "      <td>Action</td>\n",
       "      <td>124</td>\n",
       "      <td>[u'Mark Hamill', u'Harrison Ford', u'Carrie Fi...</td>\n",
       "    </tr>\n",
       "    <tr>\n",
       "      <th>...</th>\n",
       "      <td>...</td>\n",
       "      <td>...</td>\n",
       "      <td>...</td>\n",
       "      <td>...</td>\n",
       "      <td>...</td>\n",
       "      <td>...</td>\n",
       "    </tr>\n",
       "    <tr>\n",
       "      <th>968</th>\n",
       "      <td>7.4</td>\n",
       "      <td>The English Patient</td>\n",
       "      <td>R</td>\n",
       "      <td>Drama</td>\n",
       "      <td>162</td>\n",
       "      <td>[u'Ralph Fiennes', u'Juliette Binoche', u'Will...</td>\n",
       "    </tr>\n",
       "    <tr>\n",
       "      <th>970</th>\n",
       "      <td>7.4</td>\n",
       "      <td>Wonder Boys</td>\n",
       "      <td>R</td>\n",
       "      <td>Drama</td>\n",
       "      <td>107</td>\n",
       "      <td>[u'Michael Douglas', u'Tobey Maguire', u'Franc...</td>\n",
       "    </tr>\n",
       "    <tr>\n",
       "      <th>972</th>\n",
       "      <td>7.4</td>\n",
       "      <td>Blue Valentine</td>\n",
       "      <td>NC-17</td>\n",
       "      <td>Drama</td>\n",
       "      <td>112</td>\n",
       "      <td>[u'Ryan Gosling', u'Michelle Williams', u'John...</td>\n",
       "    </tr>\n",
       "    <tr>\n",
       "      <th>973</th>\n",
       "      <td>7.4</td>\n",
       "      <td>The Cider House Rules</td>\n",
       "      <td>PG-13</td>\n",
       "      <td>Drama</td>\n",
       "      <td>126</td>\n",
       "      <td>[u'Tobey Maguire', u'Charlize Theron', u'Micha...</td>\n",
       "    </tr>\n",
       "    <tr>\n",
       "      <th>976</th>\n",
       "      <td>7.4</td>\n",
       "      <td>Master and Commander: The Far Side of the World</td>\n",
       "      <td>PG-13</td>\n",
       "      <td>Action</td>\n",
       "      <td>138</td>\n",
       "      <td>[u'Russell Crowe', u'Paul Bettany', u'Billy Bo...</td>\n",
       "    </tr>\n",
       "  </tbody>\n",
       "</table>\n",
       "<p>414 rows × 6 columns</p>\n",
       "</div>"
      ],
      "text/plain": [
       "     star_rating                                            title  \\\n",
       "3            9.0                                  The Dark Knight   \n",
       "5            8.9                                     12 Angry Men   \n",
       "9            8.9                                       Fight Club   \n",
       "11           8.8                                        Inception   \n",
       "12           8.8   Star Wars: Episode V - The Empire Strikes Back   \n",
       "..           ...                                              ...   \n",
       "968          7.4                              The English Patient   \n",
       "970          7.4                                      Wonder Boys   \n",
       "972          7.4                                   Blue Valentine   \n",
       "973          7.4                            The Cider House Rules   \n",
       "976          7.4  Master and Commander: The Far Side of the World   \n",
       "\n",
       "    content_rating   genre  duration  \\\n",
       "3            PG-13  Action       152   \n",
       "5        NOT RATED   Drama        96   \n",
       "9                R   Drama       139   \n",
       "11           PG-13  Action       148   \n",
       "12              PG  Action       124   \n",
       "..             ...     ...       ...   \n",
       "968              R   Drama       162   \n",
       "970              R   Drama       107   \n",
       "972          NC-17   Drama       112   \n",
       "973          PG-13   Drama       126   \n",
       "976          PG-13  Action       138   \n",
       "\n",
       "                                           actors_list  \n",
       "3    [u'Christian Bale', u'Heath Ledger', u'Aaron E...  \n",
       "5    [u'Henry Fonda', u'Lee J. Cobb', u'Martin Bals...  \n",
       "9    [u'Brad Pitt', u'Edward Norton', u'Helena Bonh...  \n",
       "11   [u'Leonardo DiCaprio', u'Joseph Gordon-Levitt'...  \n",
       "12   [u'Mark Hamill', u'Harrison Ford', u'Carrie Fi...  \n",
       "..                                                 ...  \n",
       "968  [u'Ralph Fiennes', u'Juliette Binoche', u'Will...  \n",
       "970  [u'Michael Douglas', u'Tobey Maguire', u'Franc...  \n",
       "972  [u'Ryan Gosling', u'Michelle Williams', u'John...  \n",
       "973  [u'Tobey Maguire', u'Charlize Theron', u'Micha...  \n",
       "976  [u'Russell Crowe', u'Paul Bettany', u'Billy Bo...  \n",
       "\n",
       "[414 rows x 6 columns]"
      ]
     },
     "execution_count": 93,
     "metadata": {},
     "output_type": "execute_result"
    }
   ],
   "source": [
    "movies[movies.genre.isin(['Action','Drama'])]"
   ]
  },
  {
   "cell_type": "code",
   "execution_count": 94,
   "id": "continuing-territory",
   "metadata": {
    "scrolled": true
   },
   "outputs": [
    {
     "name": "stdout",
     "output_type": "stream",
     "text": [
      "0 Crime 142\n",
      "1 Crime 175\n",
      "2 Crime 200\n",
      "3 Action 152\n",
      "4 Crime 154\n",
      "5 Drama 96\n",
      "6 Western 161\n",
      "7 Adventure 201\n",
      "8 Biography 195\n",
      "9 Drama 139\n",
      "10 Adventure 178\n",
      "11 Action 148\n",
      "12 Action 124\n",
      "13 Drama 142\n",
      "14 Adventure 179\n",
      "15 Adventure 169\n",
      "16 Drama 133\n",
      "17 Drama 207\n",
      "18 Biography 146\n",
      "19 Action 121\n",
      "20 Action 136\n",
      "21 Crime 130\n",
      "22 Drama 130\n",
      "23 Crime 106\n",
      "24 Drama 127\n",
      "25 Comedy 116\n",
      "26 Western 175\n",
      "27 Drama 118\n",
      "28 Crime 110\n",
      "29 Comedy 87\n",
      "30 Animation 125\n",
      "31 Biography 112\n",
      "32 Drama 102\n",
      "33 Drama 107\n",
      "34 Crime 119\n",
      "35 Comedy 87\n",
      "36 Action 169\n",
      "37 Action 115\n",
      "38 Mystery 112\n",
      "39 Horror 109\n",
      "40 Crime 189\n",
      "41 Drama 110\n",
      "42 Biography 150\n",
      "43 Action 165\n",
      "44 Action 155\n",
      "45 Action 137\n",
      "46 Mystery 113\n",
      "47 Drama 165\n",
      "48 Comedy 95\n",
      "49 Crime 151\n",
      "50 Drama 155\n",
      "51 Drama 153\n",
      "52 Comedy 125\n",
      "53 Drama 130\n",
      "54 Adventure 116\n",
      "55 Animation 89\n",
      "56 Drama 137\n",
      "57 Horror 117\n",
      "58 Drama 88\n",
      "59 Western 165\n",
      "60 Comedy 170\n",
      "61 Animation 89\n",
      "62 Horror 146\n",
      "63 Crime 99\n",
      "64 Animation 98\n",
      "65 Crime 116\n",
      "66 Comedy 156\n",
      "67 Drama 122\n",
      "68 Adventure 149\n",
      "69 Animation 134\n",
      "70 Comedy 122\n",
      "71 Adventure 136\n",
      "72 Drama 157\n",
      "73 Drama 123\n",
      "74 Drama 119\n",
      "75 Action 137\n",
      "76 Mystery 128\n",
      "77 Drama 120\n",
      "78 Crime 229\n",
      "79 Crime 107\n",
      "80 Action 134\n",
      "81 Animation 103\n",
      "82 Action 177\n",
      "83 Drama 129\n",
      "84 Drama 102\n",
      "85 Adventure 216\n",
      "86 Crime 136\n",
      "87 Drama 93\n",
      "88 Comedy 68\n",
      "89 Drama 189\n",
      "90 Crime 99\n",
      "91 Drama 108\n",
      "92 Crime 113\n",
      "93 Comedy 181\n",
      "94 Comedy 103\n",
      "95 Drama 138\n",
      "96 Action 110\n",
      "97 Comedy 129\n",
      "98 Crime 88\n",
      "99 Biography 160\n",
      "100 Action 126\n",
      "101 Adventure 91\n",
      "102 Drama 116\n",
      "103 Comedy 125\n",
      "104 Drama 143\n",
      "105 Film-Noir 93\n",
      "106 Comedy 102\n",
      "107 Western 132\n",
      "108 Drama 153\n",
      "109 Comedy 183\n",
      "110 Mystery 160\n",
      "111 Comedy 120\n",
      "112 Crime 138\n",
      "113 Action 140\n",
      "114 Adventure 153\n",
      "115 Crime 170\n",
      "116 Drama 129\n",
      "117 Animation 81\n",
      "118 Action 127\n",
      "119 Western 131\n",
      "120 Adventure 172\n",
      "121 Drama 115\n",
      "122 Crime 108\n",
      "123 Action 107\n",
      "124 Biography 129\n",
      "125 Biography 156\n",
      "126 Animation 96\n",
      "127 Drama 91\n",
      "128 Adventure 95\n",
      "129 Action 162\n",
      "130 Drama 130\n",
      "131 Animation 86\n",
      "132 Drama 186\n",
      "133 Adventure 151\n",
      "134 Drama 96\n",
      "135 Action 170\n",
      "136 Drama 118\n",
      "137 Adventure 161\n",
      "138 Action 131\n",
      "139 Drama 126\n",
      "140 Adventure 131\n",
      "141 Drama 129\n",
      "142 Adventure 224\n",
      "143 Biography 180\n",
      "144 Comedy 105\n",
      "145 Sci-Fi 117\n",
      "146 Drama 140\n",
      "147 Animation 119\n",
      "148 Biography 124\n",
      "149 Mystery 130\n",
      "150 Drama 139\n",
      "151 Comedy 107\n",
      "152 Action 132\n",
      "153 Comedy 117\n",
      "154 Crime 126\n",
      "155 Comedy 122\n",
      "156 Biography 178\n",
      "157 Drama 238\n",
      "158 Drama 149\n",
      "159 Drama 172\n",
      "160 Animation 98\n",
      "161 Horror 116\n",
      "162 Drama 116\n",
      "163 Action 123\n",
      "164 Adventure 148\n",
      "165 Comedy 123\n",
      "166 Drama 182\n",
      "167 Animation 92\n",
      "168 Drama 93\n",
      "169 Crime 100\n",
      "170 Biography 135\n",
      "171 Crime 105\n",
      "172 Drama 94\n",
      "173 Action 140\n",
      "174 Drama 83\n",
      "175 Crime 95\n",
      "176 Crime 98\n",
      "177 Action 143\n",
      "178 Crime 99\n",
      "179 Adventure 98\n",
      "180 Drama 121\n",
      "181 Drama 163\n",
      "182 Crime 121\n",
      "183 Comedy 167\n",
      "184 Drama 188\n",
      "185 Drama 121\n",
      "186 Horror 109\n",
      "187 Biography 110\n",
      "188 Drama 129\n",
      "189 Comedy 127\n",
      "190 Comedy 94\n",
      "191 Drama 107\n",
      "192 Animation 100\n",
      "193 Animation 117\n",
      "194 Action 129\n",
      "195 Drama 120\n",
      "196 Action 121\n",
      "197 Biography 133\n",
      "198 Action 111\n",
      "199 Crime 122\n",
      "200 Crime 101\n",
      "201 Biography 134\n",
      "202 Drama 165\n",
      "203 Drama 138\n",
      "204 Adventure 212\n",
      "205 Drama 154\n",
      "206 Adventure 89\n",
      "207 Drama 134\n",
      "208 Comedy 93\n",
      "209 Biography 114\n",
      "210 Film-Noir 88\n",
      "211 Drama 130\n",
      "212 Crime 101\n",
      "213 Drama 158\n",
      "214 Adventure 99\n",
      "215 Drama 108\n",
      "216 Crime 124\n",
      "217 Crime 132\n",
      "218 Drama 113\n",
      "219 Drama 131\n",
      "220 Biography 191\n",
      "221 Drama 167\n",
      "222 Adventure 130\n",
      "223 Drama 147\n",
      "224 Adventure 102\n",
      "225 Crime 88\n",
      "226 Drama 165\n",
      "227 Drama 132\n",
      "228 Drama 118\n",
      "229 Crime 101\n",
      "230 Drama 108\n",
      "231 Comedy 174\n",
      "232 Drama 98\n",
      "233 Crime 92\n",
      "234 Crime 98\n",
      "235 Action 106\n",
      "236 Western 85\n",
      "237 Drama 101\n",
      "238 Drama 105\n",
      "239 Action 115\n",
      "240 Action 115\n",
      "241 Animation 124\n",
      "242 Drama 105\n",
      "243 Drama 103\n",
      "244 Mystery 138\n",
      "245 Adventure 184\n",
      "246 Comedy 120\n",
      "247 Drama 99\n",
      "248 Action 131\n",
      "249 Mystery 138\n",
      "250 Drama 98\n",
      "251 Drama 123\n",
      "252 Comedy 118\n",
      "253 Crime 114\n",
      "254 Comedy 118\n",
      "255 Comedy 112\n",
      "256 Animation 124\n",
      "257 Crime 160\n",
      "258 Crime 67\n",
      "259 Drama 146\n",
      "260 Biography 125\n",
      "261 Action 115\n",
      "262 Drama 134\n",
      "263 Western 141\n",
      "264 Mystery 129\n",
      "265 Comedy 104\n",
      "266 Comedy 94\n",
      "267 Drama 124\n",
      "268 Action 150\n",
      "269 Drama 119\n",
      "270 Drama 128\n",
      "271 Adventure 143\n",
      "272 Crime 85\n",
      "273 Biography 151\n",
      "274 Biography 118\n",
      "275 Comedy 101\n",
      "276 Action 99\n",
      "277 Animation 92\n",
      "278 Crime 125\n",
      "279 Drama 102\n",
      "280 Comedy 106\n",
      "281 Action 107\n",
      "282 Comedy 91\n",
      "283 Drama 80\n",
      "284 Drama 122\n",
      "285 Comedy 102\n",
      "286 Biography 112\n",
      "287 Comedy 92\n",
      "288 Drama 135\n",
      "289 Drama 136\n",
      "290 Crime 153\n",
      "291 Drama 105\n",
      "292 Mystery 126\n",
      "293 Comedy 68\n",
      "294 Animation 84\n",
      "295 Drama 103\n",
      "296 Action 145\n",
      "297 Crime 80\n",
      "298 Comedy 106\n",
      "299 Adventure 127\n",
      "300 Crime 178\n",
      "301 Action 137\n",
      "302 Biography 172\n",
      "303 Animation 76\n",
      "304 Comedy 130\n",
      "305 Animation 96\n",
      "306 Comedy 82\n",
      "307 Drama 115\n",
      "308 Animation 95\n",
      "309 Adventure 143\n",
      "310 Adventure 125\n",
      "311 Drama 120\n",
      "312 Action 127\n",
      "313 Biography 112\n",
      "314 Comedy 104\n",
      "315 Comedy 113\n",
      "316 Drama 189\n",
      "317 Horror 127\n",
      "318 Drama 188\n",
      "319 Comedy 96\n",
      "320 Drama 113\n",
      "321 Sci-Fi 132\n",
      "322 Horror 122\n",
      "323 Drama 126\n",
      "324 Crime 140\n",
      "325 Drama 133\n",
      "326 Drama 112\n",
      "327 Action 102\n",
      "328 Adventure 93\n",
      "329 Crime 109\n",
      "330 Horror 81\n",
      "331 Drama 108\n",
      "332 Animation 111\n",
      "333 Adventure 119\n",
      "334 Drama 96\n",
      "335 Drama 197\n",
      "336 Adventure 127\n",
      "337 Drama 138\n",
      "338 History 66\n",
      "339 Adventure 181\n",
      "340 Biography 141\n",
      "341 Biography 144\n",
      "342 Drama 128\n",
      "343 Animation 83\n",
      "344 Drama 121\n",
      "345 Drama 98\n",
      "346 Biography 117\n",
      "347 Drama 94\n",
      "348 Biography 174\n",
      "349 Action 112\n",
      "350 Thriller 108\n",
      "351 Horror 70\n",
      "352 Comedy 99\n",
      "353 Horror 96\n",
      "354 Action 137\n",
      "355 Drama 136\n",
      "356 Comedy 100\n",
      "357 Animation 90\n",
      "358 Comedy 96\n",
      "359 Adventure 161\n",
      "360 Drama 115\n",
      "361 Drama 181\n",
      "362 Adventure 169\n",
      "363 Drama 98\n",
      "364 Drama 136\n",
      "365 Crime 138\n",
      "366 Action 119\n",
      "367 Comedy 123\n",
      "368 Adventure 112\n",
      "369 Crime 120\n",
      "370 Comedy 103\n",
      "371 Drama 97\n",
      "372 Drama 109\n",
      "373 Drama 165\n",
      "374 Drama 156\n",
      "375 Drama 147\n",
      "376 Adventure 100\n",
      "377 Drama 126\n",
      "378 Animation 115\n",
      "379 Drama 105\n",
      "380 Action 144\n",
      "381 Animation 102\n",
      "382 Comedy 107\n",
      "383 Crime 119\n",
      "384 Crime 90\n",
      "385 Action 197\n",
      "386 Animation 86\n",
      "387 Drama 113\n",
      "388 Action 133\n",
      "389 Drama 64\n",
      "390 Drama 141\n",
      "391 Action 113\n",
      "392 Drama 122\n",
      "393 Adventure 105\n",
      "394 Comedy 119\n",
      "395 Animation 102\n",
      "396 Drama 122\n",
      "397 Drama 123\n",
      "398 Drama 113\n",
      "399 Comedy 97\n",
      "400 Biography 117\n",
      "401 Action 111\n",
      "402 Drama 85\n",
      "403 Action 99\n",
      "404 Drama 134\n",
      "405 Horror 75\n",
      "406 Drama 109\n",
      "407 Crime 117\n",
      "408 Sci-Fi 91\n",
      "409 Action 128\n",
      "410 Biography 111\n",
      "411 Action 119\n",
      "412 Crime 100\n",
      "413 Crime 114\n",
      "414 Animation 92\n",
      "415 Drama 141\n",
      "416 Drama 101\n",
      "417 Animation 115\n",
      "418 Biography 127\n",
      "419 Adventure 96\n",
      "420 Action 129\n",
      "421 Western 135\n",
      "422 Drama 109\n",
      "423 Biography 157\n",
      "424 Adventure 193\n",
      "425 Crime 94\n",
      "426 Crime 155\n",
      "427 Drama 113\n",
      "428 Drama 130\n",
      "429 Adventure 117\n",
      "430 Drama 159\n",
      "431 Drama 141\n",
      "432 Drama 112\n",
      "433 Action 162\n",
      "434 Action 126\n",
      "435 Comedy 120\n",
      "436 Crime 144\n",
      "437 Action 120\n",
      "438 Crime 109\n",
      "439 Drama 97\n",
      "440 Action 108\n",
      "441 Crime 115\n",
      "442 Biography 136\n",
      "443 Animation 90\n",
      "444 Drama 170\n",
      "445 Adventure 220\n",
      "446 Biography 116\n",
      "447 Biography 134\n",
      "448 Drama 124\n",
      "449 Drama 91\n",
      "450 Biography 103\n",
      "451 Comedy 96\n",
      "452 Action 119\n",
      "453 Animation 98\n",
      "454 Adventure 101\n",
      "455 Action 93\n",
      "456 Drama 179\n",
      "457 Drama 155\n",
      "458 Comedy 121\n",
      "459 Comedy 103\n",
      "460 Biography 127\n",
      "461 Animation 103\n",
      "462 Comedy 107\n",
      "463 Drama 100\n",
      "464 Comedy 92\n",
      "465 Comedy 94\n",
      "466 Crime 158\n",
      "467 Mystery 86\n",
      "468 Family 115\n",
      "469 Action 130\n",
      "470 Action 107\n",
      "471 Animation 100\n",
      "472 Comedy 108\n",
      "473 Drama 124\n",
      "474 Crime 131\n",
      "475 Comedy 122\n",
      "476 Drama 242\n",
      "477 Drama 127\n",
      "478 Crime 141\n",
      "479 Adventure 126\n",
      "480 Comedy 89\n",
      "481 Drama 113\n",
      "482 Crime 152\n",
      "483 Comedy 107\n",
      "484 Sci-Fi 92\n",
      "485 Drama 145\n",
      "486 Comedy 84\n",
      "487 Animation 126\n",
      "488 Action 132\n",
      "489 Animation 78\n",
      "490 Drama 117\n",
      "491 Action 128\n",
      "492 Crime 100\n",
      "493 Crime 128\n",
      "494 Animation 100\n",
      "495 Crime 143\n",
      "496 Thriller 107\n",
      "497 Family 100\n",
      "498 Animation 125\n",
      "499 Drama 106\n",
      "500 Biography 157\n",
      "501 Animation 94\n",
      "502 Action 104\n",
      "503 Drama 94\n",
      "504 Drama 153\n",
      "505 Drama 123\n",
      "506 Crime 120\n",
      "507 Drama 105\n",
      "508 Drama 166\n",
      "509 Action 112\n",
      "510 Adventure 94\n",
      "511 Drama 111\n",
      "512 Animation 87\n",
      "513 Horror 80\n",
      "514 Biography 108\n",
      "515 Action 102\n",
      "516 Comedy 105\n",
      "517 Action 136\n",
      "518 Animation 101\n",
      "519 Comedy 100\n",
      "520 Adventure 108\n",
      "521 Drama 101\n",
      "522 Adventure 106\n",
      "523 Drama 105\n",
      "524 Comedy 88\n",
      "525 Drama 129\n",
      "526 Drama 138\n",
      "527 Comedy 129\n",
      "528 Drama 118\n",
      "529 Action 139\n",
      "530 Drama 123\n",
      "531 Action 150\n",
      "532 Action 132\n",
      "533 Action 80\n",
      "534 Action 178\n",
      "535 Comedy 79\n",
      "536 Biography 163\n",
      "537 Adventure 114\n",
      "538 Drama 144\n",
      "539 Action 130\n",
      "540 Drama 154\n",
      "541 Animation 81\n",
      "542 Comedy 95\n",
      "543 Drama 101\n",
      "544 Drama 120\n",
      "545 Comedy 93\n",
      "546 Comedy 115\n",
      "547 Biography 106\n",
      "548 Drama 120\n",
      "549 Crime 110\n",
      "550 Biography 123\n",
      "551 Adventure 142\n",
      "552 Action 99\n",
      "553 Comedy 112\n",
      "554 Biography 120\n",
      "555 Adventure 122\n",
      "556 Crime 130\n",
      "557 Comedy 139\n",
      "558 Drama 129\n",
      "559 Drama 141\n",
      "560 Biography 127\n",
      "561 Biography 130\n",
      "562 Drama 118\n",
      "563 Action 110\n",
      "564 Adventure 115\n",
      "565 Comedy 101\n",
      "566 Crime 112\n",
      "567 Action 108\n",
      "568 Action 143\n",
      "569 Biography 152\n",
      "570 Action 117\n",
      "571 Crime 121\n",
      "572 Horror 119\n",
      "573 Action 114\n",
      "574 Biography 122\n",
      "575 Drama 105\n",
      "576 Adventure 110\n",
      "577 Crime 116\n",
      "578 Comedy 139\n",
      "579 Biography 121\n",
      "580 Comedy 109\n",
      "581 Action 146\n",
      "582 Comedy 113\n",
      "583 Mystery 100\n",
      "584 Comedy 121\n",
      "585 Biography 113\n",
      "586 Action 113\n",
      "587 Crime 117\n",
      "588 Comedy 93\n",
      "589 Drama 101\n",
      "590 Comedy 90\n",
      "591 Action 131\n",
      "592 Drama 98\n",
      "593 Comedy 93\n",
      "594 Drama 121\n",
      "595 Comedy 82\n",
      "596 Crime 124\n",
      "597 Comedy 100\n",
      "598 Action 117\n",
      "599 Comedy 99\n",
      "600 Drama 116\n",
      "601 Biography 123\n",
      "602 Comedy 114\n",
      "603 Drama 133\n",
      "604 Drama 105\n",
      "605 Adventure 127\n",
      "606 Drama 144\n",
      "607 Animation 90\n",
      "608 Comedy 118\n",
      "609 Drama 122\n",
      "610 Action 102\n",
      "611 Comedy 187\n",
      "612 Comedy 87\n",
      "613 Action 154\n",
      "614 Comedy 89\n",
      "615 Comedy 88\n",
      "616 Crime 129\n",
      "617 Animation 95\n",
      "618 Drama 118\n",
      "619 Action 98\n",
      "620 Drama 194\n",
      "621 Crime 114\n",
      "622 Comedy 80\n",
      "623 Action 130\n",
      "624 Crime 135\n",
      "625 Animation 101\n",
      "626 Biography 105\n",
      "627 Biography 129\n",
      "628 Drama 134\n",
      "629 Adventure 143\n",
      "630 Biography 202\n",
      "631 Comedy 89\n",
      "632 Drama 106\n",
      "633 Action 92\n",
      "634 Drama 137\n",
      "635 Drama 124\n",
      "636 Crime 122\n",
      "637 Sci-Fi 113\n",
      "638 Fantasy 112\n",
      "639 Comedy 110\n",
      "640 Comedy 135\n"
     ]
    },
    {
     "name": "stdout",
     "output_type": "stream",
     "text": [
      "641 Comedy 88\n",
      "642 Adventure 146\n",
      "643 Drama 104\n",
      "644 Drama 125\n",
      "645 Drama 131\n",
      "646 Comedy 91\n",
      "647 Drama 142\n",
      "648 Crime 129\n",
      "649 Action 158\n",
      "650 Comedy 102\n",
      "651 Crime 99\n",
      "652 Crime 101\n",
      "653 Action 104\n",
      "654 Drama 119\n",
      "655 Horror 103\n",
      "656 Animation 88\n",
      "657 Animation 100\n",
      "658 Adventure 146\n",
      "659 Drama 150\n",
      "660 Biography 140\n",
      "661 Action 140\n",
      "662 Adventure 110\n",
      "663 Comedy 97\n",
      "664 Animation 102\n",
      "665 Drama 152\n",
      "666 Crime 100\n",
      "667 Comedy 94\n",
      "668 Comedy 85\n",
      "669 Animation 104\n",
      "670 Crime 112\n",
      "671 Action 191\n",
      "672 Drama 119\n",
      "673 Drama 111\n",
      "674 Animation 94\n",
      "675 Action 103\n",
      "676 Drama 134\n",
      "677 Crime 157\n",
      "678 Drama 158\n",
      "679 Drama 127\n",
      "680 Drama 101\n",
      "681 Crime 109\n",
      "682 Biography 98\n",
      "683 Action 134\n",
      "684 Action 168\n",
      "685 Action 93\n",
      "686 Action 145\n",
      "687 Film-Noir 111\n",
      "688 Horror 88\n",
      "689 Drama 123\n",
      "690 Biography 121\n",
      "691 Action 144\n",
      "692 Comedy 116\n",
      "693 Comedy 124\n",
      "694 Crime 147\n",
      "695 Drama 106\n",
      "696 Comedy 113\n",
      "697 Crime 129\n",
      "698 Adventure 94\n",
      "699 Action 126\n",
      "700 Biography 128\n",
      "701 Action 111\n",
      "702 Drama 146\n",
      "703 Horror 85\n",
      "704 Western 105\n",
      "705 Drama 132\n",
      "706 Drama 130\n",
      "707 Action 162\n",
      "708 Horror 113\n",
      "709 Drama 110\n",
      "710 Comedy 113\n",
      "711 Crime 162\n",
      "712 Comedy 110\n",
      "713 Animation 78\n",
      "714 Comedy 92\n",
      "715 Comedy 95\n",
      "716 Drama 138\n",
      "717 Action 102\n",
      "718 Drama 128\n",
      "719 Comedy 96\n",
      "720 Drama 164\n",
      "721 Drama 126\n",
      "722 Action 110\n",
      "723 Comedy 109\n",
      "724 Crime 122\n",
      "725 Biography 124\n",
      "726 Action 128\n",
      "727 Adventure 157\n",
      "728 Thriller 120\n",
      "729 Action 102\n",
      "730 Crime 152\n",
      "731 Drama 170\n",
      "732 Crime 102\n",
      "733 Action 116\n",
      "734 Drama 164\n",
      "735 Comedy 85\n",
      "736 Horror 104\n",
      "737 Comedy 99\n",
      "738 Comedy 81\n",
      "739 Drama 131\n",
      "740 Action 101\n",
      "741 Comedy 121\n",
      "742 Mystery 69\n",
      "743 Animation 92\n",
      "744 Action 94\n",
      "745 Action 141\n",
      "746 Crime 116\n",
      "747 Crime 98\n",
      "748 Action 135\n",
      "749 Action 121\n",
      "750 Comedy 108\n",
      "751 Drama 114\n",
      "752 Comedy 102\n",
      "753 Action 112\n",
      "754 Adventure 140\n",
      "755 Drama 157\n",
      "756 Biography 128\n",
      "757 Crime 108\n",
      "758 Adventure 139\n",
      "759 Animation 83\n",
      "760 Drama 131\n",
      "761 Crime 113\n",
      "762 Drama 136\n",
      "763 Biography 96\n",
      "764 Action 118\n",
      "765 Action 108\n",
      "766 Animation 83\n",
      "767 Action 205\n",
      "768 Drama 124\n",
      "769 Horror 111\n",
      "770 Drama 137\n",
      "771 Comedy 104\n",
      "772 Comedy 109\n",
      "773 Drama 115\n",
      "774 Drama 99\n",
      "775 Drama 114\n",
      "776 Biography 133\n",
      "777 Drama 131\n",
      "778 Action 131\n",
      "779 Horror 123\n",
      "780 Action 126\n",
      "781 Comedy 97\n",
      "782 Biography 126\n",
      "783 Comedy 89\n",
      "784 Crime 122\n",
      "785 Drama 121\n",
      "786 Crime 125\n",
      "787 Action 105\n",
      "788 Biography 118\n",
      "789 Animation 81\n",
      "790 Drama 115\n",
      "791 Comedy 126\n",
      "792 Comedy 113\n",
      "793 Comedy 107\n",
      "794 Adventure 126\n",
      "795 Drama 111\n",
      "796 Horror 85\n",
      "797 Crime 120\n",
      "798 Comedy 93\n",
      "799 Crime 100\n",
      "800 Drama 107\n",
      "801 Action 126\n",
      "802 Crime 131\n",
      "803 Action 116\n",
      "804 Biography 143\n",
      "805 Drama 93\n",
      "806 Comedy 96\n",
      "807 Biography 160\n",
      "808 Comedy 137\n",
      "809 Action 119\n",
      "810 Drama 114\n",
      "811 Biography 98\n",
      "812 Action 111\n",
      "813 Drama 138\n",
      "814 Adventure 144\n",
      "815 Action 107\n",
      "816 Drama 114\n",
      "817 Biography 125\n",
      "818 Biography 146\n",
      "819 Drama 113\n",
      "820 Animation 85\n",
      "821 Comedy 97\n",
      "822 Drama 93\n",
      "823 Crime 113\n",
      "824 Biography 128\n",
      "825 Biography 114\n",
      "826 Crime 147\n",
      "827 Drama 127\n",
      "828 Crime 167\n",
      "829 Biography 124\n",
      "830 Crime 109\n",
      "831 Drama 124\n",
      "832 Action 102\n",
      "833 Crime 130\n",
      "834 Drama 125\n",
      "835 Animation 98\n",
      "836 Crime 154\n",
      "837 Crime 97\n",
      "838 Drama 128\n",
      "839 Comedy 98\n",
      "840 Biography 101\n",
      "841 Crime 147\n",
      "842 Drama 172\n",
      "843 Crime 125\n",
      "844 Animation 88\n",
      "845 Drama 125\n",
      "846 Crime 121\n",
      "847 Horror 112\n",
      "848 Thriller 120\n",
      "849 Drama 133\n",
      "850 Comedy 110\n",
      "851 Drama 135\n",
      "852 Adventure 110\n",
      "853 Animation 80\n",
      "854 Drama 135\n",
      "855 Crime 101\n",
      "856 Action 112\n",
      "857 Comedy 124\n",
      "858 Action 129\n",
      "859 Drama 104\n",
      "860 Horror 96\n",
      "861 Drama 105\n",
      "862 Drama 109\n",
      "863 Mystery 117\n",
      "864 Horror 78\n",
      "865 Crime 138\n",
      "866 Mystery 106\n",
      "867 Comedy 90\n",
      "868 Comedy 106\n",
      "869 Horror 91\n",
      "870 Drama 112\n",
      "871 Action 134\n",
      "872 Drama 112\n",
      "873 Crime 104\n",
      "874 Drama 101\n",
      "875 Drama 120\n",
      "876 Biography 123\n",
      "877 Drama 133\n",
      "878 Comedy 110\n",
      "879 Drama 129\n",
      "880 Comedy 120\n",
      "881 Horror 83\n",
      "882 Animation 88\n",
      "883 Crime 96\n",
      "884 Action 139\n",
      "885 Action 113\n",
      "886 Drama 84\n",
      "887 Drama 106\n",
      "888 Biography 170\n",
      "889 Drama 144\n",
      "890 Comedy 104\n",
      "891 Adventure 153\n",
      "892 Biography 85\n",
      "893 Crime 130\n",
      "894 Mystery 93\n",
      "895 Drama 148\n",
      "896 Action 115\n",
      "897 Drama 102\n",
      "898 Adventure 125\n",
      "899 Comedy 106\n",
      "900 Adventure 121\n",
      "901 Drama 143\n",
      "902 Thriller 116\n",
      "903 Biography 99\n",
      "904 Drama 116\n",
      "905 Horror 128\n",
      "906 Action 119\n",
      "907 Crime 104\n",
      "908 Action 114\n",
      "909 Adventure 152\n",
      "910 Drama 129\n",
      "911 Adventure 103\n",
      "912 Comedy 112\n",
      "913 Horror 92\n",
      "914 Drama 141\n",
      "915 Crime 106\n",
      "916 Drama 109\n",
      "917 Drama 104\n",
      "918 Action 122\n",
      "919 Comedy 111\n",
      "920 Crime 112\n",
      "921 Comedy 116\n",
      "922 Drama 130\n",
      "923 Drama 133\n",
      "924 Crime 134\n",
      "925 Drama 92\n",
      "926 Drama 104\n",
      "927 Crime 110\n",
      "928 Comedy 97\n",
      "929 Comedy 100\n",
      "930 Biography 118\n",
      "931 Crime 112\n",
      "932 Adventure 138\n",
      "933 Comedy 92\n",
      "934 Comedy 118\n",
      "935 Adventure 140\n",
      "936 Adventure 128\n",
      "937 Adventure 101\n",
      "938 Animation 75\n",
      "939 Drama 97\n",
      "940 Comedy 111\n",
      "941 Drama 175\n",
      "942 Comedy 94\n",
      "943 Adventure 97\n",
      "944 Comedy 132\n",
      "945 Drama 120\n",
      "946 Drama 107\n",
      "947 Drama 89\n",
      "948 Comedy 86\n",
      "949 Comedy 103\n",
      "950 Crime 108\n",
      "951 Drama 105\n",
      "952 Comedy 117\n",
      "953 Adventure 102\n",
      "954 Action 104\n",
      "955 Drama 157\n",
      "956 Comedy 104\n",
      "957 Comedy 98\n",
      "958 Drama 109\n",
      "959 Comedy 96\n",
      "960 Comedy 103\n",
      "961 Biography 114\n",
      "962 Comedy 99\n",
      "963 Action 118\n",
      "964 Biography 150\n",
      "965 Mystery 105\n",
      "966 Animation 87\n",
      "967 Action 136\n",
      "968 Drama 162\n",
      "969 Crime 109\n",
      "970 Drama 107\n",
      "971 Comedy 90\n",
      "972 Drama 112\n",
      "973 Drama 126\n",
      "974 Comedy 116\n",
      "975 Adventure 118\n",
      "976 Action 138\n",
      "977 Horror 114\n",
      "978 Crime 126\n"
     ]
    }
   ],
   "source": [
    "#important iterrow\n",
    "for index,row in movies.iterrows():\n",
    "    print(index,row.genre,row.duration)"
   ]
  },
  {
   "cell_type": "code",
   "execution_count": 95,
   "id": "bound-viewer",
   "metadata": {},
   "outputs": [
    {
     "data": {
      "text/html": [
       "<div>\n",
       "<style scoped>\n",
       "    .dataframe tbody tr th:only-of-type {\n",
       "        vertical-align: middle;\n",
       "    }\n",
       "\n",
       "    .dataframe tbody tr th {\n",
       "        vertical-align: top;\n",
       "    }\n",
       "\n",
       "    .dataframe thead th {\n",
       "        text-align: right;\n",
       "    }\n",
       "</style>\n",
       "<table border=\"1\" class=\"dataframe\">\n",
       "  <thead>\n",
       "    <tr style=\"text-align: right;\">\n",
       "      <th></th>\n",
       "      <th>star_rating</th>\n",
       "      <th>duration</th>\n",
       "    </tr>\n",
       "  </thead>\n",
       "  <tbody>\n",
       "    <tr>\n",
       "      <th>count</th>\n",
       "      <td>979.000000</td>\n",
       "      <td>979.000000</td>\n",
       "    </tr>\n",
       "    <tr>\n",
       "      <th>mean</th>\n",
       "      <td>7.889785</td>\n",
       "      <td>120.979571</td>\n",
       "    </tr>\n",
       "    <tr>\n",
       "      <th>std</th>\n",
       "      <td>0.336069</td>\n",
       "      <td>26.218010</td>\n",
       "    </tr>\n",
       "    <tr>\n",
       "      <th>min</th>\n",
       "      <td>7.400000</td>\n",
       "      <td>64.000000</td>\n",
       "    </tr>\n",
       "    <tr>\n",
       "      <th>25%</th>\n",
       "      <td>7.600000</td>\n",
       "      <td>102.000000</td>\n",
       "    </tr>\n",
       "    <tr>\n",
       "      <th>50%</th>\n",
       "      <td>7.800000</td>\n",
       "      <td>117.000000</td>\n",
       "    </tr>\n",
       "    <tr>\n",
       "      <th>75%</th>\n",
       "      <td>8.100000</td>\n",
       "      <td>134.000000</td>\n",
       "    </tr>\n",
       "    <tr>\n",
       "      <th>max</th>\n",
       "      <td>9.300000</td>\n",
       "      <td>242.000000</td>\n",
       "    </tr>\n",
       "  </tbody>\n",
       "</table>\n",
       "</div>"
      ],
      "text/plain": [
       "       star_rating    duration\n",
       "count   979.000000  979.000000\n",
       "mean      7.889785  120.979571\n",
       "std       0.336069   26.218010\n",
       "min       7.400000   64.000000\n",
       "25%       7.600000  102.000000\n",
       "50%       7.800000  117.000000\n",
       "75%       8.100000  134.000000\n",
       "max       9.300000  242.000000"
      ]
     },
     "execution_count": 95,
     "metadata": {},
     "output_type": "execute_result"
    }
   ],
   "source": [
    "import numpy as np\n",
    "movies.describe(include=np.number)"
   ]
  },
  {
   "cell_type": "code",
   "execution_count": 96,
   "id": "brown-procedure",
   "metadata": {},
   "outputs": [
    {
     "ename": "TypeError",
     "evalue": "str.join() takes exactly one argument (0 given)",
     "output_type": "error",
     "traceback": [
      "\u001b[1;31m---------------------------------------------------------------------------\u001b[0m",
      "\u001b[1;31mTypeError\u001b[0m                                 Traceback (most recent call last)",
      "\u001b[1;32m<ipython-input-96-916124ca0b50>\u001b[0m in \u001b[0;36m<module>\u001b[1;34m\u001b[0m\n\u001b[0;32m      1\u001b[0m \u001b[0mlist\u001b[0m\u001b[1;33m=\u001b[0m\u001b[1;33m[\u001b[0m\u001b[1;34m'a'\u001b[0m\u001b[1;33m,\u001b[0m\u001b[1;34m'b'\u001b[0m\u001b[1;33m,\u001b[0m\u001b[1;34m'c'\u001b[0m\u001b[1;33m]\u001b[0m\u001b[1;33m\u001b[0m\u001b[1;33m\u001b[0m\u001b[0m\n\u001b[1;32m----> 2\u001b[1;33m \u001b[0mprint\u001b[0m\u001b[1;33m(\u001b[0m\u001b[0m__doc__\u001b[0m\u001b[1;33m.\u001b[0m\u001b[0mjoin\u001b[0m\u001b[1;33m(\u001b[0m\u001b[1;33m)\u001b[0m\u001b[1;33m)\u001b[0m\u001b[1;33m\u001b[0m\u001b[1;33m\u001b[0m\u001b[0m\n\u001b[0m",
      "\u001b[1;31mTypeError\u001b[0m: str.join() takes exactly one argument (0 given)"
     ]
    }
   ],
   "source": [
    "list=['a','b','c']\n",
    "print(__doc__.join())"
   ]
  },
  {
   "cell_type": "code",
   "execution_count": null,
   "id": "subtle-shoulder",
   "metadata": {},
   "outputs": [],
   "source": [
    "'.'.join(['ab', 'pq', 'rs'])"
   ]
  },
  {
   "cell_type": "code",
   "execution_count": null,
   "id": "identified-wealth",
   "metadata": {},
   "outputs": [],
   "source": [
    "import pandas as pd\n",
    "games=pd.read_csv('video_games.csv')\n",
    "games.head()"
   ]
  },
  {
   "cell_type": "code",
   "execution_count": null,
   "id": "mechanical-fundamentals",
   "metadata": {},
   "outputs": [],
   "source": [
    "games.columns\n",
    "games.mean(axis=0)#axis 0 means column"
   ]
  },
  {
   "cell_type": "code",
   "execution_count": null,
   "id": "prerequisite-arlington",
   "metadata": {},
   "outputs": [],
   "source": [
    "games.columns\n",
    "games.mean(axis=1).describe()"
   ]
  },
  {
   "cell_type": "code",
   "execution_count": null,
   "id": "higher-cosmetic",
   "metadata": {},
   "outputs": [],
   "source": [
    "games.mean(axis='index')"
   ]
  },
  {
   "cell_type": "markdown",
   "id": "coated-pressure",
   "metadata": {},
   "source": [
    "# string method"
   ]
  },
  {
   "cell_type": "code",
   "execution_count": null,
   "id": "interpreted-platform",
   "metadata": {},
   "outputs": [],
   "source": [
    "games.Title"
   ]
  },
  {
   "cell_type": "code",
   "execution_count": null,
   "id": "critical-governor",
   "metadata": {},
   "outputs": [],
   "source": [
    "games.Title.str.replace('Super','dumb').str.replace('Hot Shots Golf: Open Tee','rakib hasan')\n",
    "games.Title.str.replace('Super Mario 64 DS','mario new').str.replace('Secret Files','golf')"
   ]
  },
  {
   "cell_type": "code",
   "execution_count": null,
   "id": "original-force",
   "metadata": {},
   "outputs": [],
   "source": [
    "games.Title.str.contains('Chicken')"
   ]
  },
  {
   "cell_type": "code",
   "execution_count": null,
   "id": "simplified-upper",
   "metadata": {},
   "outputs": [],
   "source": [
    "import pandas as pd\n",
    "drinks=pd.read_csv('drinks_by_country.txt')\n",
    "drinks"
   ]
  },
  {
   "cell_type": "code",
   "execution_count": null,
   "id": "organized-tongue",
   "metadata": {},
   "outputs": [],
   "source": [
    "drinks.dtypes"
   ]
  },
  {
   "cell_type": "code",
   "execution_count": null,
   "id": "opposite-amino",
   "metadata": {},
   "outputs": [],
   "source": [
    "import pandas as pd\n",
    "drinks=pd.read_csv('drinks_by_country.txt',dtype={'beer_servings':float})\n",
    "drinks.head()\n",
    "drinks.dtypes"
   ]
  },
  {
   "cell_type": "code",
   "execution_count": null,
   "id": "southeast-shoulder",
   "metadata": {},
   "outputs": [],
   "source": [
    "drinks['beer_servings']=drinks.beer_servings.astype(int)\n",
    "drinks.dtypes"
   ]
  },
  {
   "cell_type": "code",
   "execution_count": null,
   "id": "seeing-clearance",
   "metadata": {},
   "outputs": [],
   "source": [
    "drinks.groupby('continent').mean()"
   ]
  },
  {
   "cell_type": "code",
   "execution_count": null,
   "id": "controlling-swing",
   "metadata": {},
   "outputs": [],
   "source": [
    "drinks.continent=='Africa'"
   ]
  },
  {
   "cell_type": "code",
   "execution_count": null,
   "id": "talented-explorer",
   "metadata": {},
   "outputs": [],
   "source": [
    ">>> arrays = [['Falcon', 'Falcon', 'Parrot', 'Parrot'],\n",
    "...           ['Captive', 'Wild', 'Captive', 'Wild']]\n",
    ">>> index = pd.MultiIndex.from_arrays(arrays, names=('Animal', 'Type'))\n",
    ">>> df = pd.DataFrame({'Max Speed': [390., 350., 30., 20.]},\n",
    "...                   index=index)\n",
    ">>> df"
   ]
  },
  {
   "cell_type": "code",
   "execution_count": null,
   "id": "advised-alliance",
   "metadata": {},
   "outputs": [],
   "source": [
    "drinks.groupby('continent').beer_servings.max()"
   ]
  },
  {
   "cell_type": "code",
   "execution_count": null,
   "id": "chubby-queensland",
   "metadata": {},
   "outputs": [],
   "source": [
    "drinks[drinks.continent == 'Africa']"
   ]
  },
  {
   "cell_type": "code",
   "execution_count": null,
   "id": "statutory-priest",
   "metadata": {},
   "outputs": [],
   "source": [
    "%matplotlib inline\n",
    "drinks.groupby('continent').beer_servings.agg(['min','max','count','mean']).plot(kind='bar')"
   ]
  },
  {
   "cell_type": "code",
   "execution_count": null,
   "id": "single-pencil",
   "metadata": {},
   "outputs": [],
   "source": [
    "movies=pd.read_csv('imbd_rating.txt')\n",
    "movies.head()"
   ]
  },
  {
   "cell_type": "code",
   "execution_count": null,
   "id": "parental-delight",
   "metadata": {},
   "outputs": [],
   "source": [
    "movies.describe()"
   ]
  },
  {
   "cell_type": "code",
   "execution_count": null,
   "id": "palestinian-diana",
   "metadata": {},
   "outputs": [],
   "source": [
    "movies.genre.value_counts()"
   ]
  },
  {
   "cell_type": "code",
   "execution_count": null,
   "id": "interested-paragraph",
   "metadata": {},
   "outputs": [],
   "source": [
    "movies.genre.value_counts(normalize=True)"
   ]
  },
  {
   "cell_type": "code",
   "execution_count": null,
   "id": "progressive-renewal",
   "metadata": {},
   "outputs": [],
   "source": [
    "movies.genre.nunique()"
   ]
  },
  {
   "cell_type": "code",
   "execution_count": null,
   "id": "radio-magnitude",
   "metadata": {},
   "outputs": [],
   "source": [
    "pd.crosstab(movies.genre,movies.content_rating)"
   ]
  },
  {
   "cell_type": "code",
   "execution_count": null,
   "id": "pacific-violation",
   "metadata": {},
   "outputs": [],
   "source": [
    "movies.genre.value_counts().plot(kind='bar')"
   ]
  },
  {
   "cell_type": "code",
   "execution_count": null,
   "id": "chemical-serbia",
   "metadata": {},
   "outputs": [],
   "source": [
    "import pandas as pd\n",
    "ufo=pd.read_csv('ufo.txt')\n",
    "ufo.head()"
   ]
  },
  {
   "cell_type": "code",
   "execution_count": null,
   "id": "acquired-given",
   "metadata": {},
   "outputs": [],
   "source": [
    "ufo.isnull()"
   ]
  },
  {
   "cell_type": "code",
   "execution_count": null,
   "id": "coral-hometown",
   "metadata": {},
   "outputs": [],
   "source": [
    "ufo.isnull().sum()"
   ]
  },
  {
   "cell_type": "code",
   "execution_count": null,
   "id": "angry-aluminum",
   "metadata": {},
   "outputs": [],
   "source": [
    "ufo[ufo.City.isnull()]"
   ]
  },
  {
   "cell_type": "code",
   "execution_count": null,
   "id": "threatened-identifier",
   "metadata": {},
   "outputs": [],
   "source": [
    "ufo.dropna(how='any')#it drop all the missing value in the data frame"
   ]
  },
  {
   "cell_type": "code",
   "execution_count": null,
   "id": "swiss-relay",
   "metadata": {},
   "outputs": [],
   "source": [
    "ufo.dropna(subset=['City','Shape Reported'],how='any')"
   ]
  },
  {
   "cell_type": "code",
   "execution_count": null,
   "id": "healthy-niagara",
   "metadata": {},
   "outputs": [],
   "source": [
    "#important fillnull\n",
    "ufo['Shape Reported'].fillna(value='various',inplace=True)"
   ]
  },
  {
   "cell_type": "code",
   "execution_count": null,
   "id": "acting-portrait",
   "metadata": {},
   "outputs": [],
   "source": [
    "# ufo['shape Reported'].value_counts(dropna=False)\n",
    "ufo['Shape Reported'].value_counts(dropna=False)"
   ]
  },
  {
   "cell_type": "code",
   "execution_count": null,
   "id": "exposed-warren",
   "metadata": {},
   "outputs": [],
   "source": [
    "drinks=pd.read_csv('drinks_by_country.txt')\n",
    "drinks.head()"
   ]
  },
  {
   "cell_type": "markdown",
   "id": "smoking-swedish",
   "metadata": {},
   "source": [
    "# use of index \n",
    " - set_index,make index,loc method"
   ]
  },
  {
   "cell_type": "code",
   "execution_count": null,
   "id": "useful-bradford",
   "metadata": {},
   "outputs": [],
   "source": [
    "drinks.head()"
   ]
  },
  {
   "cell_type": "code",
   "execution_count": null,
   "id": "ahead-chicago",
   "metadata": {},
   "outputs": [],
   "source": [
    "drinks.set_index('continent',inplace=True)"
   ]
  },
  {
   "cell_type": "code",
   "execution_count": null,
   "id": "flush-header",
   "metadata": {},
   "outputs": [],
   "source": [
    "drinks.columns"
   ]
  },
  {
   "cell_type": "code",
   "execution_count": null,
   "id": "precious-cycle",
   "metadata": {},
   "outputs": [],
   "source": [
    "drinks.index"
   ]
  },
  {
   "cell_type": "code",
   "execution_count": null,
   "id": "controversial-qatar",
   "metadata": {},
   "outputs": [],
   "source": [
    "# drinks.loc[20,'beer_servings']#it does not work because we take indexing before it\n",
    "drinks.loc['South America','beer_servings']"
   ]
  },
  {
   "cell_type": "code",
   "execution_count": null,
   "id": "weekly-mississippi",
   "metadata": {},
   "outputs": [],
   "source": [
    "drinks.index.name=None#escape continent\n",
    "drinks.head()"
   ]
  },
  {
   "cell_type": "code",
   "execution_count": null,
   "id": "surgical-tribune",
   "metadata": {},
   "outputs": [],
   "source": [
    "drinks.index.name='continent'\n",
    "drinks.reset_index(inplace=True)\n",
    "drinks.head()"
   ]
  },
  {
   "cell_type": "code",
   "execution_count": null,
   "id": "casual-situation",
   "metadata": {},
   "outputs": [],
   "source": [
    "drinks.describe().index"
   ]
  },
  {
   "cell_type": "code",
   "execution_count": null,
   "id": "economic-internship",
   "metadata": {},
   "outputs": [],
   "source": [
    "drinks.describe().loc['50%','beer_servings']"
   ]
  },
  {
   "cell_type": "code",
   "execution_count": null,
   "id": "bearing-imaging",
   "metadata": {},
   "outputs": [],
   "source": [
    "drinks.value_counts()"
   ]
  },
  {
   "cell_type": "code",
   "execution_count": null,
   "id": "effective-blair",
   "metadata": {},
   "outputs": [],
   "source": [
    "drinks=pd.read_csv('drinks_by_country.txt')\n",
    "drinks.head()"
   ]
  },
  {
   "cell_type": "code",
   "execution_count": null,
   "id": "confidential-standard",
   "metadata": {},
   "outputs": [],
   "source": [
    "drinks.continent.value_counts()"
   ]
  },
  {
   "cell_type": "code",
   "execution_count": null,
   "id": "indie-religion",
   "metadata": {},
   "outputs": [],
   "source": [
    "drinks.continent.value_counts().index"
   ]
  },
  {
   "cell_type": "code",
   "execution_count": null,
   "id": "agreed-graham",
   "metadata": {},
   "outputs": [],
   "source": [
    "drinks.continent.value_counts().values"
   ]
  },
  {
   "cell_type": "code",
   "execution_count": null,
   "id": "boxed-captain",
   "metadata": {},
   "outputs": [],
   "source": [
    "drinks.continent.value_counts()['Africa']"
   ]
  },
  {
   "cell_type": "code",
   "execution_count": null,
   "id": "featured-wedding",
   "metadata": {},
   "outputs": [],
   "source": [
    "drinks.continent.value_counts().sort_values"
   ]
  },
  {
   "cell_type": "code",
   "execution_count": null,
   "id": "animated-subscription",
   "metadata": {},
   "outputs": [],
   "source": [
    "import pandas as pd\n",
    "ufo=pd.read_csv('ufo.txt')\n",
    "ufo.head()"
   ]
  },
  {
   "cell_type": "code",
   "execution_count": null,
   "id": "incident-biology",
   "metadata": {},
   "outputs": [],
   "source": [
    "ufo.loc[:,'City':'State']"
   ]
  },
  {
   "cell_type": "code",
   "execution_count": null,
   "id": "dying-duncan",
   "metadata": {},
   "outputs": [],
   "source": [
    "ufo.loc[:,['City','State','Colors Reported']]"
   ]
  },
  {
   "cell_type": "code",
   "execution_count": null,
   "id": "alpha-netherlands",
   "metadata": {},
   "outputs": [],
   "source": [
    "ufo.loc[ufo.City=='Grant Park',:]"
   ]
  },
  {
   "cell_type": "code",
   "execution_count": null,
   "id": "superior-hygiene",
   "metadata": {},
   "outputs": [],
   "source": [
    "ufo.drop('City',axis=1,inplace=True)#inplace mean parmanently"
   ]
  },
  {
   "cell_type": "code",
   "execution_count": null,
   "id": "instructional-resort",
   "metadata": {},
   "outputs": [],
   "source": [
    "ufo.head()#city remove automatically"
   ]
  },
  {
   "cell_type": "code",
   "execution_count": null,
   "id": "dressed-founder",
   "metadata": {},
   "outputs": [],
   "source": [
    "import pandas as pd\n",
    "df=pd.DataFrame({'id':[100,101,302,405],'quality':['good','very good','exccellent','good']})\n",
    "df"
   ]
  },
  {
   "cell_type": "code",
   "execution_count": null,
   "id": "split-pendant",
   "metadata": {},
   "outputs": [],
   "source": [
    "df.sort_values('quality')"
   ]
  },
  {
   "cell_type": "code",
   "execution_count": null,
   "id": "adverse-cable",
   "metadata": {},
   "outputs": [],
   "source": [
    "df.astype('category')"
   ]
  },
  {
   "cell_type": "code",
   "execution_count": null,
   "id": "satisfied-summit",
   "metadata": {},
   "outputs": [],
   "source": [
    "df['quality'] = df.quality.astype('category', categories=['good', 'very good', 'excellent'], ordered=True)\n",
    "df.quality"
   ]
  },
  {
   "cell_type": "code",
   "execution_count": null,
   "id": "clinical-processing",
   "metadata": {},
   "outputs": [],
   "source": [
    "ufo.memory_usage(deep=True)"
   ]
  },
  {
   "cell_type": "code",
   "execution_count": null,
   "id": "olympic-direction",
   "metadata": {},
   "outputs": [],
   "source": [
    ">>> ser = pd.Series([1, 2], dtype='int32')\n",
    ">>> ser.astype('category')\n",
    ">>> cat_dtype = pd.api.types.CategoricalDtype(\n",
    "...     categories=[2, 1], ordered=True)\n",
    ">>> ser.astype(cat_dtype)"
   ]
  },
  {
   "cell_type": "code",
   "execution_count": null,
   "id": "tender-reservoir",
   "metadata": {},
   "outputs": [],
   "source": [
    " cato_dtype = pd.CategoricalDtype(categories=['good','very good','exccellent'], ordered=True)\n",
    "df.astype(cato_dtype)\n",
    "df.sort_values('quality')"
   ]
  },
  {
   "cell_type": "code",
   "execution_count": null,
   "id": "instrumental-scientist",
   "metadata": {},
   "outputs": [],
   "source": [
    "df.dtypes"
   ]
  },
  {
   "cell_type": "code",
   "execution_count": null,
   "id": "disturbed-island",
   "metadata": {},
   "outputs": [],
   "source": [
    ">>> \n",
    ">>> df.astype('category')\n",
    ">>> cat_dtype = pd.api.types.CategoricalDtype(\n",
    "...     categories=['good','very good','excellent'], ordered=True)\n",
    ">>> df.astype(cat_dtype)"
   ]
  },
  {
   "cell_type": "code",
   "execution_count": null,
   "id": "artistic-boundary",
   "metadata": {},
   "outputs": [],
   "source": [
    "import pandas as pd\n",
    "drinks=pd.read_csv('drinks_by_country.txt')\n",
    "drinks.head(2)"
   ]
  },
  {
   "cell_type": "code",
   "execution_count": null,
   "id": "freelance-section",
   "metadata": {},
   "outputs": [],
   "source": [
    "drinks.info()"
   ]
  },
  {
   "cell_type": "code",
   "execution_count": null,
   "id": "subjective-presence",
   "metadata": {},
   "outputs": [],
   "source": [
    "drinks.memory_usage(deep=True)"
   ]
  },
  {
   "cell_type": "code",
   "execution_count": null,
   "id": "residential-stockholm",
   "metadata": {},
   "outputs": [],
   "source": [
    "drinks.memory_usage(deep=True).sum()"
   ]
  },
  {
   "cell_type": "code",
   "execution_count": null,
   "id": "progressive-aerospace",
   "metadata": {},
   "outputs": [],
   "source": [
    "sorted(drinks.memory_usage(deep=True))"
   ]
  },
  {
   "cell_type": "code",
   "execution_count": null,
   "id": "three-birth",
   "metadata": {},
   "outputs": [],
   "source": [
    "sorted(drinks.continent.unique())"
   ]
  },
  {
   "cell_type": "code",
   "execution_count": null,
   "id": "diagnostic-return",
   "metadata": {},
   "outputs": [],
   "source": [
    "drinks.continent"
   ]
  },
  {
   "cell_type": "code",
   "execution_count": null,
   "id": "particular-healthcare",
   "metadata": {},
   "outputs": [],
   "source": [
    "# continent                       12332\n",
    "drinks['continent']=drinks.continent.astype('category')\n",
    "drinks.head()"
   ]
  },
  {
   "cell_type": "code",
   "execution_count": null,
   "id": "indian-denmark",
   "metadata": {},
   "outputs": [],
   "source": [
    "drinks.memory_usage(deep=True)\n",
    "'''after:# continent                       12332\n",
    "   before:continent                         756'''"
   ]
  },
  {
   "cell_type": "code",
   "execution_count": null,
   "id": "removable-lending",
   "metadata": {},
   "outputs": [],
   "source": [
    "drinks['country'] =drinks.country.astype('category')\n",
    "drinks.continent.head()#file size not change\n",
    "drinks.country.cat().category()"
   ]
  },
  {
   "cell_type": "code",
   "execution_count": null,
   "id": "afraid-ribbon",
   "metadata": {},
   "outputs": [],
   "source": [
    "train=pd.read_csv('train.txt')\n",
    "train.dtypes"
   ]
  },
  {
   "cell_type": "code",
   "execution_count": null,
   "id": "fifty-worcester",
   "metadata": {},
   "outputs": [],
   "source": [
    "train.columns"
   ]
  },
  {
   "cell_type": "code",
   "execution_count": null,
   "id": "biblical-inspector",
   "metadata": {},
   "outputs": [],
   "source": [
    "# create a feature matrix 'X' by selecting two DataFrame columns\n",
    "feature_cols = ['Pclass', 'Parch']\n",
    "X = train.loc[:, feature_cols]\n",
    "X.shape"
   ]
  },
  {
   "cell_type": "code",
   "execution_count": null,
   "id": "considerable-emperor",
   "metadata": {},
   "outputs": [],
   "source": [
    "# tutorial 22 is not recognize because of scikit learn"
   ]
  },
  {
   "cell_type": "code",
   "execution_count": null,
   "id": "asian-literacy",
   "metadata": {},
   "outputs": [],
   "source": [
    "# learn predict scikit learn"
   ]
  },
  {
   "cell_type": "code",
   "execution_count": null,
   "id": "coordinate-seminar",
   "metadata": {},
   "outputs": [],
   "source": [
    "ufo=pd.read_csv('ufo.txt')\n",
    "ufo.head()"
   ]
  },
  {
   "cell_type": "code",
   "execution_count": null,
   "id": "several-grill",
   "metadata": {},
   "outputs": [],
   "source": [
    "ufo.sample(n=3,random_state=2)"
   ]
  },
  {
   "cell_type": "code",
   "execution_count": null,
   "id": "lyric-senior",
   "metadata": {},
   "outputs": [],
   "source": [
    "ufo.sample(frac=0.75)"
   ]
  },
  {
   "cell_type": "code",
   "execution_count": null,
   "id": "endless-venue",
   "metadata": {},
   "outputs": [],
   "source": [
    "test=ufo.loc[~ufo.index.isin(train.index),:]\n",
    "test"
   ]
  },
  {
   "cell_type": "code",
   "execution_count": null,
   "id": "abstract-seller",
   "metadata": {},
   "outputs": [],
   "source": [
    "ufo.index.isin(train.index)"
   ]
  },
  {
   "cell_type": "code",
   "execution_count": null,
   "id": "limiting-cologne",
   "metadata": {},
   "outputs": [],
   "source": [
    "train.index(start=0,stop=40,step=2)"
   ]
  },
  {
   "cell_type": "code",
   "execution_count": null,
   "id": "stuffed-armstrong",
   "metadata": {},
   "outputs": [],
   "source": [
    "import pandas as pd\n",
    "train=pd.read_csv('train.txt')\n",
    "train.head()"
   ]
  },
  {
   "cell_type": "code",
   "execution_count": null,
   "id": "yellow-establishment",
   "metadata": {},
   "outputs": [],
   "source": [
    "train['new_sex']=train.Sex.map({'male':0,'female':1})\n",
    "train"
   ]
  },
  {
   "cell_type": "code",
   "execution_count": null,
   "id": "educated-keyboard",
   "metadata": {},
   "outputs": [],
   "source": [
    "train.Embarked.value_counts()"
   ]
  },
  {
   "cell_type": "code",
   "execution_count": null,
   "id": "rental-expansion",
   "metadata": {},
   "outputs": [],
   "source": [
    "pd.get_dummies(train.Sex)\n",
    "pd.get_dummies(train.Sex).iloc[:,1:]\n",
    "pd.get_dummies(train.Sex,prefix='legend').iloc[:,1:]\n"
   ]
  },
  {
   "cell_type": "code",
   "execution_count": null,
   "id": "hourly-telling",
   "metadata": {},
   "outputs": [],
   "source": [
    "pd.get_dummies(train.Embarked,prefix='new')"
   ]
  },
  {
   "cell_type": "code",
   "execution_count": null,
   "id": "premium-camel",
   "metadata": {},
   "outputs": [],
   "source": [
    "new_embraket=pd.get_dummies(train.Embarked)\n",
    "train=pd.concat([train,new_embraket],axis=0)\n",
    "train.head()"
   ]
  },
  {
   "cell_type": "code",
   "execution_count": null,
   "id": "powerful-lucas",
   "metadata": {},
   "outputs": [],
   "source": [
    "pd.get_dummies(train,columns=['Sex','Embarked'])"
   ]
  },
  {
   "cell_type": "code",
   "execution_count": null,
   "id": "artistic-giant",
   "metadata": {},
   "outputs": [],
   "source": [
    "pd.get_dummies(train,columns=['Sex','Embarked'],drop_first=True)"
   ]
  },
  {
   "cell_type": "markdown",
   "id": "competent-image",
   "metadata": {},
   "source": [
    "### here we learn map,embark ,loc,get_dummies,concat`"
   ]
  },
  {
   "cell_type": "code",
   "execution_count": null,
   "id": "young-newspaper",
   "metadata": {},
   "outputs": [],
   "source": [
    "ufo=pd.read_csv('ufo.txt')"
   ]
  },
  {
   "cell_type": "code",
   "execution_count": null,
   "id": "sporting-venue",
   "metadata": {},
   "outputs": [],
   "source": [
    "ufo.Time"
   ]
  },
  {
   "cell_type": "code",
   "execution_count": null,
   "id": "missing-cambridge",
   "metadata": {},
   "outputs": [],
   "source": [
    "# ufo.Time.str.slice().astype(int).head()\n",
    "ufo.Time.str.slice(-5,-3).astype(int).head()\n"
   ]
  },
  {
   "cell_type": "code",
   "execution_count": null,
   "id": "falling-diameter",
   "metadata": {},
   "outputs": [],
   "source": [
    "ufo['Time']=pd.to_datetime(ufo.Time)\n",
    "ufo.dtypes"
   ]
  },
  {
   "cell_type": "code",
   "execution_count": null,
   "id": "positive-dakota",
   "metadata": {},
   "outputs": [],
   "source": [
    "ufo.Time.dt.weekday"
   ]
  },
  {
   "cell_type": "code",
   "execution_count": null,
   "id": "assigned-serve",
   "metadata": {},
   "outputs": [],
   "source": [
    "set_datetime=pd.to_datetime('1/1/1999')\n",
    "set_datetime"
   ]
  },
  {
   "cell_type": "code",
   "execution_count": null,
   "id": "through-treatment",
   "metadata": {},
   "outputs": [],
   "source": [
    "ufo.loc[ufo.Time >= set_datetime,:]"
   ]
  },
  {
   "cell_type": "code",
   "execution_count": null,
   "id": "swedish-character",
   "metadata": {},
   "outputs": [],
   "source": [
    "ufo.Time.max()-ufo.Time.min()"
   ]
  },
  {
   "cell_type": "code",
   "execution_count": null,
   "id": "alien-chicago",
   "metadata": {},
   "outputs": [],
   "source": [
    "(ufo.Time.max()-ufo.Time.min()).days"
   ]
  },
  {
   "cell_type": "code",
   "execution_count": null,
   "id": "opened-constraint",
   "metadata": {},
   "outputs": [],
   "source": [
    "%matplotlib inline\n",
    "ufo['year']=ufo.Time.dt.year\n",
    "ufo.year.value_counts().sort_index().head()"
   ]
  },
  {
   "cell_type": "code",
   "execution_count": null,
   "id": "declared-machinery",
   "metadata": {},
   "outputs": [],
   "source": [
    "ufo.year.value_counts().sort_index().plot()"
   ]
  },
  {
   "cell_type": "code",
   "execution_count": null,
   "id": "noticed-trout",
   "metadata": {},
   "outputs": [],
   "source": [
    "ufo.year.value_counts().sort_index().plot()"
   ]
  },
  {
   "cell_type": "code",
   "execution_count": null,
   "id": "crucial-insulin",
   "metadata": {},
   "outputs": [],
   "source": []
  },
  {
   "cell_type": "code",
   "execution_count": null,
   "id": "portable-float",
   "metadata": {},
   "outputs": [],
   "source": []
  },
  {
   "cell_type": "code",
   "execution_count": null,
   "id": "consecutive-applicant",
   "metadata": {
    "scrolled": true
   },
   "outputs": [],
   "source": [
    "'''x='rakibhasan'\n",
    "(lamda x : print(x))(x)'''\n",
    "\n",
    "# Python program to demonstrate\n",
    "# lambda functions\n",
    "\n",
    "\n",
    "x =\"GeeksforGeeks\"\n",
    "\n",
    "# lambda gets pass to print\n",
    "(lambda x : print(x))(x)\n"
   ]
  },
  {
   "cell_type": "code",
   "execution_count": null,
   "id": "polyphonic-newport",
   "metadata": {},
   "outputs": [],
   "source": [
    "a=[1,2,3,4,4,5]\n",
    "filter_data=filter(lambda x: x%2==0,a)\n",
    "print(list(filter_data))\n",
    "# --------------------------------------------\n",
    "filtered = filter (lambda x: x % 2 == 0, a) \n",
    "print(list(filtered))\n",
    "# --------------------------------------------\n",
    "maped = map (lambda x: x % 2 == 0, a) \n",
    "print('this is map function :',list(maped))"
   ]
  },
  {
   "cell_type": "code",
   "execution_count": null,
   "id": "hairy-freedom",
   "metadata": {},
   "outputs": [],
   "source": [
    "list_comprahansion=[var for var in range(1,20) if var%2==0]\n",
    "print('this is using list comparihension' ,list_comprahansion)\n",
    "\n",
    "dic_comprahansion={var:var for var in range(1,20) if var%2==0}\n",
    "print('this is using dictionary comparihension' ,dic_comprahansion)"
   ]
  },
  {
   "cell_type": "code",
   "execution_count": null,
   "id": "paperback-barrel",
   "metadata": {},
   "outputs": [],
   "source": [
    "# Python code to demonstrate the working of\n",
    "# unzip\n",
    "\n",
    "# initializing lists\n",
    "\n",
    "name = [ \"Manjeet\", \"Nikhil\", \"Shambhavi\", \"Astha\" ]\n",
    "roll_no = [ 4, 1, 3, 2 ]\n",
    "marks = [ 40, 50, 60, 70 ]\n",
    "\n",
    "# using zip() to map values\n",
    "mapped = zip(name, roll_no, marks)\n",
    "\n",
    "# converting values to print as list\n",
    "mapped = list(mapped)\n",
    "\n",
    "# printing resultant values\n",
    "print (\"The zipped result is : \",end=\"\")\n",
    "print (mapped)\n",
    "\n",
    "print(\"\\n\")\n",
    "\n",
    "# unzipping values\n",
    "namz, roll_noz, marksz = zip(*mapped)\n",
    "\n",
    "print (\"The unzipped result: \\n\",end=\"\")\n",
    "\n",
    "# printing initial lists\n",
    "print (\"The name list is : \",end=\"\")\n",
    "print (namz)\n",
    "\n",
    "print (\"The roll_no list is : \",end=\"\")\n",
    "print (roll_noz)\n",
    "\n",
    "print (\"The marks list is : \",end=\"\")\n",
    "print (marksz)\n"
   ]
  },
  {
   "cell_type": "code",
   "execution_count": null,
   "id": "narrative-bradley",
   "metadata": {},
   "outputs": [],
   "source": [
    "state = ['Gujarat', 'Maharashtra', 'Rajasthan']\n",
    "capital = ['Gandhinagar', 'Mumbai', 'Jaipur']\n",
    "  \n",
    "output_dict = {}\n",
    "for (key,value) in zip(state,capital):\n",
    "    output_dict[key]=value\n",
    "print(output_dict)\n",
    "# -------------------------------------------------\n",
    "with_zip_comparihansion={key:value for (key,value) in zip(state,capital)}\n",
    "print(with_zip_comparihansion)#use dictionary because zip is is dictionary fuction"
   ]
  },
  {
   "cell_type": "code",
   "execution_count": null,
   "id": "lasting-hebrew",
   "metadata": {},
   "outputs": [],
   "source": [
    "import pandas as pd\n",
    "user_cols = ['user_id', 'age', 'gender', 'occupation', 'zip_code']\n",
    "users = pd.read_table('movie_user.txt', sep='|', header=None, names=user_cols, index_col='user_id')\n",
    "users.head()"
   ]
  },
  {
   "cell_type": "code",
   "execution_count": null,
   "id": "persistent-reach",
   "metadata": {},
   "outputs": [],
   "source": [
    "users.occupation.duplicated().sum()"
   ]
  },
  {
   "cell_type": "code",
   "execution_count": null,
   "id": "elect-parade",
   "metadata": {},
   "outputs": [],
   "source": [
    "users.occupation.duplicated().sum()"
   ]
  },
  {
   "cell_type": "code",
   "execution_count": null,
   "id": "falling-inspection",
   "metadata": {},
   "outputs": [],
   "source": [
    "users.occupation.duplicated(keep=False).sum()"
   ]
  },
  {
   "cell_type": "code",
   "execution_count": null,
   "id": "desperate-siemens",
   "metadata": {},
   "outputs": [],
   "source": [
    "users.loc[users.duplicated(keep=False),:]"
   ]
  },
  {
   "cell_type": "code",
   "execution_count": null,
   "id": "continent-indiana",
   "metadata": {},
   "outputs": [],
   "source": [
    "users.occupation.shape"
   ]
  },
  {
   "cell_type": "code",
   "execution_count": null,
   "id": "academic-institution",
   "metadata": {},
   "outputs": [],
   "source": [
    "users.occupation.duplicated(keep=False).shape#nochange"
   ]
  },
  {
   "cell_type": "code",
   "execution_count": null,
   "id": "subtle-depth",
   "metadata": {},
   "outputs": [],
   "source": [
    "users.occupation.drop_duplicates(keep=False).shape #totally change"
   ]
  },
  {
   "cell_type": "code",
   "execution_count": null,
   "id": "radical-airplane",
   "metadata": {},
   "outputs": [],
   "source": [
    "users.drop_duplicates(subset=['age','zip_code']).shape"
   ]
  },
  {
   "cell_type": "code",
   "execution_count": null,
   "id": "human-saskatchewan",
   "metadata": {},
   "outputs": [],
   "source": [
    "users.shape"
   ]
  },
  {
   "cell_type": "markdown",
   "id": "encouraging-spirit",
   "metadata": {},
   "source": [
    "<!-- avoid settig copyright warning -->"
   ]
  },
  {
   "cell_type": "markdown",
   "id": "vietnamese-senator",
   "metadata": {},
   "source": [
    "# avoid copy warning"
   ]
  },
  {
   "cell_type": "code",
   "execution_count": null,
   "id": "provincial-invasion",
   "metadata": {},
   "outputs": [],
   "source": [
    "import pandas as pd\n",
    "movie=pd.read_csv('imbd_rating.txt')\n",
    "movie.head()"
   ]
  },
  {
   "cell_type": "code",
   "execution_count": null,
   "id": "negative-detail",
   "metadata": {},
   "outputs": [],
   "source": [
    "movie.content_rating.isnull().sum()"
   ]
  },
  {
   "cell_type": "code",
   "execution_count": null,
   "id": "advanced-zimbabwe",
   "metadata": {},
   "outputs": [],
   "source": [
    "import numpy as np\n",
    "movie[movie.content_rating.isnull()=='NOT RATED']==np.nan\n"
   ]
  },
  {
   "cell_type": "code",
   "execution_count": null,
   "id": "understood-ottawa",
   "metadata": {},
   "outputs": [],
   "source": [
    "movie.content_rating.isnull().sum()"
   ]
  },
  {
   "cell_type": "code",
   "execution_count": null,
   "id": "hourly-latvia",
   "metadata": {},
   "outputs": [],
   "source": [
    "# movie.loc[movie.content_rating=='NOT RATED','content_rating']=np.nan\n",
    "movie.loc[movie.content_rating=='NOT RATED','content_rating']=np.nan"
   ]
  },
  {
   "cell_type": "code",
   "execution_count": null,
   "id": "gothic-holiday",
   "metadata": {},
   "outputs": [],
   "source": [
    "movie.content_rating.isnull().sum()#it worked"
   ]
  },
  {
   "cell_type": "code",
   "execution_count": null,
   "id": "moving-breeding",
   "metadata": {},
   "outputs": [],
   "source": [
    "top_movies=movie.loc[movie.star_rating >= 9,:]\n",
    "top_movies.loc[0,'duration'] = 150\n",
    "top_movies.head(8)"
   ]
  },
  {
   "cell_type": "code",
   "execution_count": null,
   "id": "sixth-algeria",
   "metadata": {},
   "outputs": [],
   "source": [
    "#important .copy\n",
    "top_movies=movie.loc[movie.star_rating >= 9,:].copy()\n",
    "top_movies.loc[0,'duration'] = 150\n",
    "top_movies.head(8)"
   ]
  },
  {
   "cell_type": "code",
   "execution_count": null,
   "id": "controlling-cedar",
   "metadata": {},
   "outputs": [],
   "source": [
    "train=pd.read_csv('train.txt')\n",
    "train"
   ]
  },
  {
   "cell_type": "code",
   "execution_count": null,
   "id": "infinite-framing",
   "metadata": {},
   "outputs": [],
   "source": [
    "pd.get_option('display.max_colwidth')"
   ]
  },
  {
   "cell_type": "code",
   "execution_count": null,
   "id": "running-belly",
   "metadata": {},
   "outputs": [],
   "source": [
    "pd.set_option('display.max_colwidth',300)#we want to see 300 rows"
   ]
  },
  {
   "cell_type": "code",
   "execution_count": null,
   "id": "quantitative-johns",
   "metadata": {},
   "outputs": [],
   "source": [
    "pd.set_option('precision',3)\n",
    "train"
   ]
  },
  {
   "cell_type": "code",
   "execution_count": null,
   "id": "flexible-bedroom",
   "metadata": {},
   "outputs": [],
   "source": [
    "import pandas as pd\n",
    "drinks=pd.read_csv('drinks_by_country.txt')\n",
    "drinks.head()"
   ]
  },
  {
   "cell_type": "code",
   "execution_count": null,
   "id": "prescribed-punch",
   "metadata": {},
   "outputs": [],
   "source": [
    "drinks['x']=drinks.wine_servings*1000\n",
    "drinks['y']=drinks.total_litres_of_pure_alcohol * 1000\n",
    "drinks"
   ]
  },
  {
   "cell_type": "code",
   "execution_count": null,
   "id": "selective-friendship",
   "metadata": {},
   "outputs": [],
   "source": [
    "pd.set_option('display.float_format','{:,}'.format)#this is for setting comma"
   ]
  },
  {
   "cell_type": "code",
   "execution_count": null,
   "id": "hungry-helping",
   "metadata": {},
   "outputs": [],
   "source": [
    "drinks"
   ]
  },
  {
   "cell_type": "code",
   "execution_count": null,
   "id": "military-humor",
   "metadata": {},
   "outputs": [],
   "source": [
    "import pandas as pd\n",
    "drinks=pd.read_csv('drinks_by_country.txt')\n",
    "drinks.head()"
   ]
  },
  {
   "cell_type": "markdown",
   "id": "loving-congo",
   "metadata": {},
   "source": [
    "## here we learn: 1.get_option 2.set_option 3.set_option"
   ]
  },
  {
   "cell_type": "code",
   "execution_count": null,
   "id": "regular-resolution",
   "metadata": {},
   "outputs": [],
   "source": [
    "pd.get_option('display.max_rows')"
   ]
  },
  {
   "cell_type": "code",
   "execution_count": null,
   "id": "engaged-costume",
   "metadata": {},
   "outputs": [],
   "source": [
    "pd.set_option('display.max_rows',None)#that is the meanning i want to see all the rows\n",
    "drinks"
   ]
  },
  {
   "cell_type": "code",
   "execution_count": null,
   "id": "joined-literature",
   "metadata": {},
   "outputs": [],
   "source": [
    "pd.reset_option('display.max_rows')"
   ]
  },
  {
   "cell_type": "code",
   "execution_count": null,
   "id": "played-electron",
   "metadata": {},
   "outputs": [],
   "source": [
    "pd.get_option('display.max_rows')"
   ]
  },
  {
   "cell_type": "markdown",
   "id": "republican-microphone",
   "metadata": {},
   "source": [
    "<!-- pandas data frame -->"
   ]
  },
  {
   "cell_type": "markdown",
   "id": "narrow-barcelona",
   "metadata": {},
   "source": [
    "### pandas dataframe"
   ]
  },
  {
   "cell_type": "code",
   "execution_count": null,
   "id": "naughty-seventh",
   "metadata": {},
   "outputs": [],
   "source": [
    "data=pd.DataFrame({'name':['rakib','hasan','m'],'roll':[3,4,2],'index':['a','b','c']})\n",
    "data"
   ]
  },
  {
   "cell_type": "code",
   "execution_count": null,
   "id": "hundred-experiment",
   "metadata": {},
   "outputs": [],
   "source": [
    "df=pd.DataFrame({'id':[100,101,102],'color':['red','blue','green']},columns=['id','color'],index=['a','b','c'])\n",
    "df"
   ]
  },
  {
   "cell_type": "code",
   "execution_count": null,
   "id": "received-pilot",
   "metadata": {},
   "outputs": [],
   "source": [
    "pd.DataFrame([[1,3],[5,4],[4,5]],columns=['id','rolls']).set_index('id')"
   ]
  },
  {
   "cell_type": "code",
   "execution_count": null,
   "id": "greek-multimedia",
   "metadata": {},
   "outputs": [],
   "source": [
    "import numpy as np"
   ]
  },
  {
   "cell_type": "code",
   "execution_count": null,
   "id": "disabled-prize",
   "metadata": {},
   "outputs": [],
   "source": [
    "data_frame=np.random.rand(4,2)\n",
    "pd.DataFrame(data_frame,columns=['id','roll'])"
   ]
  },
  {
   "cell_type": "code",
   "execution_count": null,
   "id": "adequate-virtue",
   "metadata": {},
   "outputs": [],
   "source": [
    "pd.DataFrame({'student':np.arange(100,110,1),'id':np.random.randint(60,110,10)}).set_index('student')"
   ]
  },
  {
   "cell_type": "code",
   "execution_count": null,
   "id": "competent-control",
   "metadata": {},
   "outputs": [],
   "source": [
    "s=pd.Series(['blue','green'],index=['a','b'],name='s')\n",
    "s"
   ]
  },
  {
   "cell_type": "code",
   "execution_count": null,
   "id": "streaming-persian",
   "metadata": {},
   "outputs": [],
   "source": [
    "pd.concat([s,df],axis=0)"
   ]
  },
  {
   "cell_type": "markdown",
   "id": "frozen-alliance",
   "metadata": {},
   "source": [
    "# important : apply function"
   ]
  },
  {
   "cell_type": "code",
   "execution_count": null,
   "id": "downtown-spanish",
   "metadata": {},
   "outputs": [],
   "source": [
    "import pandas as pd\n",
    "train=pd.read_csv('train.txt')\n",
    "train.head()"
   ]
  },
  {
   "cell_type": "code",
   "execution_count": null,
   "id": "handmade-power",
   "metadata": {},
   "outputs": [],
   "source": [
    "train['name_length']=train.Name.apply(len)\n",
    "train.loc[0:4,['Name','name_length']]"
   ]
  },
  {
   "cell_type": "code",
   "execution_count": null,
   "id": "therapeutic-johnson",
   "metadata": {},
   "outputs": [],
   "source": [
    "import numpy as np\n",
    "train['celi_fare']=train.Fare.apply(np.ceil)\n",
    "train.loc[0:4,['Fare','celi_fare']]"
   ]
  },
  {
   "cell_type": "code",
   "execution_count": null,
   "id": "instant-appointment",
   "metadata": {},
   "outputs": [],
   "source": [
    "train.Name.str.split(',').head()"
   ]
  },
  {
   "cell_type": "code",
   "execution_count": null,
   "id": "pregnant-while",
   "metadata": {},
   "outputs": [],
   "source": [
    "def make_a_function(take_list,position):\n",
    "    return take_list[position]"
   ]
  },
  {
   "cell_type": "code",
   "execution_count": null,
   "id": "capable-cigarette",
   "metadata": {},
   "outputs": [],
   "source": [
    "train.Name.str.split(',').apply(make_a_function,position=0).head()"
   ]
  },
  {
   "cell_type": "code",
   "execution_count": null,
   "id": "medieval-sport",
   "metadata": {},
   "outputs": [],
   "source": [
    "train.Name.str.split(',').apply(lambda x : x[1]).head()"
   ]
  },
  {
   "cell_type": "code",
   "execution_count": null,
   "id": "unexpected-chester",
   "metadata": {},
   "outputs": [],
   "source": [
    "drinks=pd.read_csv('drinks_by_country.txt')\n",
    "drinks.head()"
   ]
  },
  {
   "cell_type": "code",
   "execution_count": null,
   "id": "greek-theater",
   "metadata": {},
   "outputs": [],
   "source": [
    "drinks.loc[:,'beer_servings':'wine_servings'].apply(max,axis=0)"
   ]
  },
  {
   "cell_type": "code",
   "execution_count": null,
   "id": "later-slave",
   "metadata": {},
   "outputs": [],
   "source": [
    "drinks.loc[:, 'beer_servings':'wine_servings'].apply(np.argmax, axis=1).head()"
   ]
  },
  {
   "cell_type": "code",
   "execution_count": null,
   "id": "curious-wagner",
   "metadata": {},
   "outputs": [],
   "source": [
    "drinks.loc[:, 'beer_servings':'wine_servings'].applymap(float)"
   ]
  },
  {
   "cell_type": "code",
   "execution_count": null,
   "id": "behind-partner",
   "metadata": {},
   "outputs": [],
   "source": [
    "# important\n",
    "drinks.loc[:,'beer_servings':'wine_servings']=drinks.loc[:,'beer_servings':'wine_servings'].applymap(float)\n",
    "drinks.head()#it is done floating"
   ]
  },
  {
   "cell_type": "code",
   "execution_count": null,
   "id": "dirty-italian",
   "metadata": {},
   "outputs": [],
   "source": [
    "drinks.loc[:, 'beer_servings':'wine_servings'].applymap(float)\n",
    "drinks#float value not worked"
   ]
  },
  {
   "cell_type": "code",
   "execution_count": null,
   "id": "eleven-cycle",
   "metadata": {},
   "outputs": [],
   "source": [
    "import pandas as pd"
   ]
  },
  {
   "cell_type": "code",
   "execution_count": null,
   "id": "vocational-japan",
   "metadata": {},
   "outputs": [],
   "source": [
    "# pandas.DataFrame.apply\n",
    "# DataFrame.apply(func, axis=0, raw=False, result_type=None, args=(), **kwds)[source]\n",
    "# Apply a function along an axis of the DataFrame.\n",
    "\n",
    "# Objects passed to the function are Series objects whose index is either the DataFrame’s index (axis=0) or the DataFrame’s columns (axis=1). By default (result_type=None), the final return type is inferred from the return type of the applied function. Otherwise, it depends on the result_type argument.\n",
    "\n",
    "# Parameters\n",
    "# funcfunction\n",
    "# Function to apply to each column or row.\n",
    "\n",
    "# axis{0 or ‘index’, 1 or ‘columns’}, default 0\n",
    "# Axis along which the function is applied:\n",
    "\n",
    "# 0 or ‘index’: apply function to each column.\n",
    "\n",
    "# 1 or ‘columns’: apply function to each row.\n",
    "\n",
    "# rawbool, default False\n",
    "# Determines if row or column is passed as a Series or ndarray object:\n",
    "\n",
    "# False : passes each row or column as a Series to the function.\n",
    "\n",
    "# True : the passed function will receive ndarray objects instead. If you are just applying a NumPy reduction function this will achieve much better performance.\n",
    "\n",
    "# result_type{‘expand’, ‘reduce’, ‘broadcast’, None}, default None\n",
    "# These only act when axis=1 (columns):\n",
    "\n",
    "# ‘expand’ : list-like results will be turned into columns.\n",
    "\n",
    "# ‘reduce’ : returns a Series if possible rather than expanding list-like results. This is the opposite of ‘expand’.\n",
    "\n",
    "# ‘broadcast’ : results will be broadcast to the original shape of the DataFrame, the original index and columns will be retained.\n",
    "\n",
    "# The default behaviour (None) depends on the return value of the applied function: list-like results will be returned as a Series of those. However if the apply function returns a Series these are expanded to columns.\n",
    "\n",
    "# argstuple\n",
    "# Positional arguments to pass to func in addition to the array/series.\n",
    "\n",
    "# **kwds\n",
    "# Additional keyword arguments to pass as keywords arguments to func.\n",
    "\n",
    "# Returns\n",
    "# Series or DataFrame\n",
    "# Result of applying func along the given axis of the DataFrame."
   ]
  },
  {
   "cell_type": "code",
   "execution_count": null,
   "id": "existing-invasion",
   "metadata": {},
   "outputs": [],
   "source": [
    "df = pd.DataFrame([[4, 9]] * 3, columns=['A', 'B'])\n",
    "df.apply(lambda x: [1, 20], axis=1, result_type='expand')"
   ]
  },
  {
   "cell_type": "code",
   "execution_count": null,
   "id": "broken-payroll",
   "metadata": {},
   "outputs": [],
   "source": [
    "df.apply(lambda x: pd.Series([1, 2], index=['foo', 'bar']), axis=1)"
   ]
  },
  {
   "cell_type": "code",
   "execution_count": null,
   "id": "surprised-stress",
   "metadata": {},
   "outputs": [],
   "source": [
    "import numpy as np\n",
    "df.apply(np.sqrt)"
   ]
  },
  {
   "cell_type": "markdown",
   "id": "latter-lunch",
   "metadata": {},
   "source": [
    "# indexing"
   ]
  },
  {
   "cell_type": "markdown",
   "id": "afraid-proposition",
   "metadata": {},
   "source": [
    "### Syntax : isinstance(obj, class)\n",
    "### Parameters :\n",
    "### obj : The object that need to be checked as a part of class or not.\n",
    "### class : class/type/tuple of class or type, against which object is needed to be checked.\n",
    "### Returns : True, if object belongs to the given class/type if single class is passed or any of the class/type if tuple of class/type is passed, else returns False. Raises a TypeError if anything other than mentioned valid class type."
   ]
  },
  {
   "cell_type": "code",
   "execution_count": null,
   "id": "animal-semiconductor",
   "metadata": {},
   "outputs": [],
   "source": [
    "# Python 3 code to demonstrate\n",
    "# working of isinstance()\n",
    "# with native types\n",
    "\n",
    "# initializing native types\n",
    "test_int = 5\n",
    "test_str = \"GeeksforGeeks\"\n",
    "test_list = [1, 2, 3]\n",
    "\n",
    "# testing with isinstance\n",
    "print (\"Is test_int integer? : \" + str(isinstance(test_int, int)))\n",
    "print (\"Is test_int string? : \" + str(isinstance(test_int, str)))\n",
    "print (\"Is test_str string? : \" + str(isinstance(test_str, str)))\n",
    "print (\"Is test_list integer? : \" + str(isinstance(test_list, int)))\n",
    "print (\"Is test_list list? : \" + str(isinstance(test_list, list)))\n",
    "\n",
    "# testing with tuple\n",
    "print (\"Is test_int integer or list or string? : \"\n",
    "\t\t+ str(isinstance(test_int, (list, str, int))))\n",
    "\t\t\n",
    "print (\"Is test_list string or tuple? : \"\n",
    "\t\t+ str(isinstance(test_list, (str, tuple))))\n"
   ]
  },
  {
   "cell_type": "code",
   "execution_count": null,
   "id": "earlier-might",
   "metadata": {},
   "outputs": [],
   "source": [
    "import pandas as pd\n",
    "stock=pd.read_csv('stock_data.txt')\n",
    "stock"
   ]
  },
  {
   "cell_type": "code",
   "execution_count": null,
   "id": "norman-remove",
   "metadata": {},
   "outputs": [],
   "source": [
    "stock.columns"
   ]
  },
  {
   "cell_type": "code",
   "execution_count": null,
   "id": "dominican-pittsburgh",
   "metadata": {},
   "outputs": [],
   "source": [
    "# ser=stock.groupby(['Date','Symbol']).mean()\n",
    "# print(ser)\n",
    "print('with close value :\\n\\n',stock.groupby(['Date','Symbol']).Close.mean())"
   ]
  },
  {
   "cell_type": "code",
   "execution_count": null,
   "id": "colored-source",
   "metadata": {},
   "outputs": [],
   "source": [
    "ser.index"
   ]
  },
  {
   "cell_type": "code",
   "execution_count": null,
   "id": "manual-commissioner",
   "metadata": {},
   "outputs": [],
   "source": [
    "#ser without close column\n",
    "\n",
    "ser.unstack()"
   ]
  },
  {
   "cell_type": "code",
   "execution_count": null,
   "id": "cloudy-classroom",
   "metadata": {},
   "outputs": [],
   "source": [
    "stock.index"
   ]
  },
  {
   "cell_type": "code",
   "execution_count": null,
   "id": "coral-applicant",
   "metadata": {},
   "outputs": [],
   "source": [
    "stock.groupby(['Symbol']).Close.mean()"
   ]
  },
  {
   "cell_type": "code",
   "execution_count": null,
   "id": "celtic-harassment",
   "metadata": {},
   "outputs": [],
   "source": []
  },
  {
   "cell_type": "code",
   "execution_count": null,
   "id": "smoking-mountain",
   "metadata": {},
   "outputs": [],
   "source": [
    "#ser with close column\n",
    "ser=stock.groupby(['Date','Symbol']).Close.mean()\n",
    "ser.unstack()"
   ]
  },
  {
   "cell_type": "code",
   "execution_count": null,
   "id": "religious-latest",
   "metadata": {},
   "outputs": [],
   "source": [
    "ser.index"
   ]
  },
  {
   "cell_type": "code",
   "execution_count": null,
   "id": "social-sierra",
   "metadata": {},
   "outputs": [],
   "source": [
    "ser=stock.groupby(['Date','Symbol']).Close.mean()\n",
    "ser.loc['AAPL']"
   ]
  },
  {
   "cell_type": "code",
   "execution_count": null,
   "id": "interior-thong",
   "metadata": {},
   "outputs": [],
   "source": [
    "ser.loc['AAPL','2016-10-03']#here sr and df give same result ufe ser=df\n",
    "#it does not work because use pivot table"
   ]
  },
  {
   "cell_type": "code",
   "execution_count": null,
   "id": "colored-heading",
   "metadata": {},
   "outputs": [],
   "source": [
    "df=stock.pivot_table(values='Close',index='Symbol',columns='Date')\n",
    "df"
   ]
  },
  {
   "cell_type": "code",
   "execution_count": null,
   "id": "exempt-hybrid",
   "metadata": {},
   "outputs": [],
   "source": [
    "ser.loc['AAPL','2016-10-03']#unfortunately it does not work"
   ]
  },
  {
   "cell_type": "code",
   "execution_count": null,
   "id": "black-harvest",
   "metadata": {},
   "outputs": [],
   "source": [
    "import pandas as pd\n",
    "stock=pd.read_csv('stock_data.txt')\n",
    "stock"
   ]
  },
  {
   "cell_type": "code",
   "execution_count": null,
   "id": "professional-harmony",
   "metadata": {},
   "outputs": [],
   "source": [
    "ser=stock.groupby(['Symbol','Date']).Close.mean()\n",
    "ser"
   ]
  },
  {
   "cell_type": "code",
   "execution_count": null,
   "id": "animated-trainer",
   "metadata": {},
   "outputs": [],
   "source": [
    "ser.index"
   ]
  },
  {
   "cell_type": "code",
   "execution_count": null,
   "id": "piano-relief",
   "metadata": {},
   "outputs": [],
   "source": [
    "ser.loc['AAPL']"
   ]
  },
  {
   "cell_type": "code",
   "execution_count": null,
   "id": "miniature-concert",
   "metadata": {},
   "outputs": [],
   "source": [
    "ser.loc['AAPL','2016-10-04']"
   ]
  },
  {
   "cell_type": "code",
   "execution_count": null,
   "id": "micro-flight",
   "metadata": {},
   "outputs": [],
   "source": [
    "import pandas as pd\n",
    "stock=pd.read_csv('stock_data.txt')\n",
    "stock.set_index(['Symbol','Date'],inplace=True)\n",
    "stock"
   ]
  },
  {
   "cell_type": "code",
   "execution_count": null,
   "id": "grateful-genealogy",
   "metadata": {},
   "outputs": [],
   "source": [
    "stock.sort_index(inplace=True)\n",
    "stock"
   ]
  },
  {
   "cell_type": "code",
   "execution_count": null,
   "id": "dietary-routine",
   "metadata": {},
   "outputs": [],
   "source": [
    "stock.loc['AAPL']"
   ]
  },
  {
   "cell_type": "code",
   "execution_count": null,
   "id": "english-disorder",
   "metadata": {},
   "outputs": [],
   "source": [
    "stock.loc[('AAPL','2016-10-03'),:]#important\n",
    "#it take only indexing values"
   ]
  },
  {
   "cell_type": "code",
   "execution_count": null,
   "id": "cardiovascular-metadata",
   "metadata": {},
   "outputs": [],
   "source": [
    "stock.loc[('AAPL','2016-10-05'),'Volume'] "
   ]
  },
  {
   "cell_type": "code",
   "execution_count": null,
   "id": "straight-browser",
   "metadata": {},
   "outputs": [],
   "source": [
    "stock.loc[(['AAPl','CSCO'],'2016-10-04'),'Close']\n",
    "#when you pass multiple value or row/column use []"
   ]
  },
  {
   "cell_type": "code",
   "execution_count": null,
   "id": "compatible-layout",
   "metadata": {},
   "outputs": [],
   "source": [
    "#important:slice(None)\n",
    "stock.loc[(slice(None),['2016-10-05','2016-10-04']),:]"
   ]
  },
  {
   "cell_type": "code",
   "execution_count": null,
   "id": "sexual-blackjack",
   "metadata": {},
   "outputs": [],
   "source": [
    "# stock.loc[('AAPl',['2016-10-04','2016-10-05']),'Close']\n",
    "stock.loc[('AAPL',['2016-10-05','2016-10-04']),'Close'] "
   ]
  },
  {
   "cell_type": "markdown",
   "id": "minor-turtle",
   "metadata": {},
   "source": [
    "# margeing value"
   ]
  },
  {
   "cell_type": "code",
   "execution_count": null,
   "id": "perfect-lloyd",
   "metadata": {},
   "outputs": [],
   "source": [
    "stock.columns"
   ]
  },
  {
   "cell_type": "code",
   "execution_count": null,
   "id": "jewish-report",
   "metadata": {},
   "outputs": [],
   "source": [
    "close = pd.read_csv('stock_data.txt', usecols=[0, 1, 3], index_col=['Symbol', 'Date']).sort_index()\n",
    "close"
   ]
  },
  {
   "cell_type": "code",
   "execution_count": null,
   "id": "successful-scheduling",
   "metadata": {},
   "outputs": [],
   "source": [
    "volume = pd.read_csv('stock_data.txt', usecols=[0, 2, 3], index_col=['Symbol', 'Date']).sort_index()\n",
    "volume"
   ]
  },
  {
   "cell_type": "code",
   "execution_count": null,
   "id": "local-shelter",
   "metadata": {},
   "outputs": [],
   "source": [
    "both=pd.merge(close,volume,left_index=True,right_index=True)\n",
    "#you should use left index and right index otherwise it is not worke\n",
    "both"
   ]
  },
  {
   "cell_type": "code",
   "execution_count": null,
   "id": "mechanical-bowling",
   "metadata": {},
   "outputs": [],
   "source": [
    "both.reset_index"
   ]
  },
  {
   "cell_type": "markdown",
   "id": "global-praise",
   "metadata": {},
   "source": [
    "# marge data"
   ]
  },
  {
   "cell_type": "code",
   "execution_count": null,
   "id": "polish-defeat",
   "metadata": {},
   "outputs": [],
   "source": [
    "import pandas as pd\n",
    "movie_cols = ['movie_id', 'title']\n",
    "movies = pd.read_table('u.item', sep='|', header=None, names=movie_cols, usecols=[0, 1])\n",
    "movies.head()"
   ]
  },
  {
   "cell_type": "markdown",
   "id": "young-scottish",
   "metadata": {},
   "source": [
    "Taken from [Merging DataFrames with pandas](https://www.datacamp.com/courses/merging-dataframes-with-pandas?tap_a=5644-dce66f&tap_s=280411-a25fc8) (DataCamp course):\n",
    "\n",
    "- `df1.append(df2)`: stacking vertically\n",
    "- `pd.concat([df1, df2])`:\n",
    "  - stacking many horizontally or vertically\n",
    "  - simple inner/outer joins on Indexes\n",
    "- `df1.join(df2)`: inner/outer/left/right joins on Indexes\n",
    "- `pd.merge(df1, df2)`: many joins on multiple columns"
   ]
  },
  {
   "cell_type": "code",
   "execution_count": null,
   "id": "north-vocabulary",
   "metadata": {},
   "outputs": [],
   "source": [
    "movies.columns"
   ]
  },
  {
   "cell_type": "code",
   "execution_count": null,
   "id": "conditional-intro",
   "metadata": {},
   "outputs": [],
   "source": [
    "movies.shape"
   ]
  },
  {
   "cell_type": "code",
   "execution_count": null,
   "id": "universal-password",
   "metadata": {},
   "outputs": [],
   "source": [
    "movies.nunique()"
   ]
  },
  {
   "cell_type": "code",
   "execution_count": null,
   "id": "binary-mambo",
   "metadata": {},
   "outputs": [],
   "source": [
    "df = pd.DataFrame({'A': [1, 2, 3], 'B': [1, 1, 1]})\n",
    "print('This is df : \\n',df)\n",
    "print('This is df.nunique(): \\n',df.nunique())\n",
    "print('This is df.nunique(dropna=False): \\n',df.nunique(dropna=False))"
   ]
  },
  {
   "cell_type": "code",
   "execution_count": null,
   "id": "unnecessary-material",
   "metadata": {},
   "outputs": [],
   "source": [
    "rating_cols = ['user_id', 'movie_id', 'rating', 'timestamp']\n",
    "ratings = pd.read_table('u.data', sep='\\t',header=None,names=rating_cols)\n",
    "ratings.head()"
   ]
  },
  {
   "cell_type": "code",
   "execution_count": null,
   "id": "eleven-reminder",
   "metadata": {},
   "outputs": [],
   "source": [
    "movies.columns"
   ]
  },
  {
   "cell_type": "code",
   "execution_count": null,
   "id": "celtic-default",
   "metadata": {},
   "outputs": [],
   "source": [
    "ratings.columns"
   ]
  },
  {
   "cell_type": "code",
   "execution_count": null,
   "id": "native-spotlight",
   "metadata": {},
   "outputs": [],
   "source": [
    "movies_ratings=pd.merge(movies,ratings)\n",
    "movies_ratings"
   ]
  },
  {
   "cell_type": "code",
   "execution_count": null,
   "id": "faced-announcement",
   "metadata": {},
   "outputs": [],
   "source": [
    "movies.columns=['m_id','title']\n",
    "movies.columns"
   ]
  },
  {
   "cell_type": "code",
   "execution_count": null,
   "id": "chief-steering",
   "metadata": {},
   "outputs": [],
   "source": [
    "pd.merge(movies,ratings,left_on='m_id',right_on='movie_id')"
   ]
  },
  {
   "cell_type": "code",
   "execution_count": null,
   "id": "streaming-fiction",
   "metadata": {},
   "outputs": [],
   "source": [
    "movies=movies.set_index('m_id')\n",
    "movies.head()#movies object should be given othetwise it doesn't work"
   ]
  },
  {
   "cell_type": "code",
   "execution_count": null,
   "id": "ceramic-cycle",
   "metadata": {},
   "outputs": [],
   "source": [
    "# important : we make m_id index and it is situated left\n",
    "pd.merge(movies,ratings,left_index=True,right_on='movie_id')"
   ]
  },
  {
   "cell_type": "code",
   "execution_count": null,
   "id": "successful-intellectual",
   "metadata": {},
   "outputs": [],
   "source": [
    "#\n",
    "ratings.columns\n",
    "ratings=ratings.set_index('movie_id')\n",
    "ratings"
   ]
  },
  {
   "cell_type": "code",
   "execution_count": null,
   "id": "dependent-plane",
   "metadata": {},
   "outputs": [],
   "source": [
    "pd.merge(movies,ratings,left_index=True,right_index=True)"
   ]
  },
  {
   "cell_type": "code",
   "execution_count": null,
   "id": "empty-blond",
   "metadata": {},
   "outputs": [],
   "source": [
    "\n",
    "A = pd.DataFrame({'color': ['green', 'yellow', 'red'], 'num':[1, 2, 3]})\n",
    "B = pd.DataFrame({'color': ['green', 'yellow', 'pink'], 'size':['S', 'M', 'L']})\n",
    "print(A.head(),'\\n this is data of B :\\n',B.head())"
   ]
  },
  {
   "cell_type": "code",
   "execution_count": null,
   "id": "czech-georgia",
   "metadata": {},
   "outputs": [],
   "source": [
    "print('how=inner :\\n\\n',pd.merge(A,B,how='inner'))\n",
    "print('how=outer :\\n\\n',pd.merge(A,B,how='outer'))\n",
    "print('how=left :\\n\\n',pd.merge(A,B,how='left'))\n",
    "print('how=right :\\n\\n',pd.merge(A,B,how='right'))"
   ]
  },
  {
   "cell_type": "code",
   "execution_count": null,
   "id": "circular-agent",
   "metadata": {},
   "outputs": [],
   "source": [
    "# create an example DataFrame\n",
    "df = pd.DataFrame([[12, 25, 2017, 10], [1, 15, 2018, 11]],\n",
    "                  columns=['month', 'day', 'year', 'hour'])\n",
    "df"
   ]
  },
  {
   "cell_type": "code",
   "execution_count": null,
   "id": "solid-messenger",
   "metadata": {},
   "outputs": [],
   "source": [
    "pd.to_datetime(df)"
   ]
  },
  {
   "cell_type": "code",
   "execution_count": null,
   "id": "bridal-monkey",
   "metadata": {},
   "outputs": [],
   "source": [
    "pd.to_datetime(df[['day','year','month']])\n",
    "# pd.to_datetime(df[['month', 'day', 'year']])"
   ]
  },
  {
   "cell_type": "code",
   "execution_count": null,
   "id": "fundamental-concord",
   "metadata": {},
   "outputs": [],
   "source": [
    "#important df.index\n",
    "# overwrite the index\n",
    "df.index = pd.to_datetime(df[['month', 'day', 'year']])\n",
    "df"
   ]
  },
  {
   "cell_type": "markdown",
   "id": "fifty-launch",
   "metadata": {},
   "source": [
    "# astype"
   ]
  },
  {
   "cell_type": "code",
   "execution_count": null,
   "id": "european-turner",
   "metadata": {},
   "outputs": [],
   "source": [
    "drinks=pd.read_csv('drinks_by_country.txt')\n",
    "drinks"
   ]
  },
  {
   "cell_type": "code",
   "execution_count": null,
   "id": "proper-cocktail",
   "metadata": {},
   "outputs": [],
   "source": [
    "drinks['beer_servings']=drinks.beer_servings.astype('category')\n",
    "drinks.dtypes"
   ]
  },
  {
   "cell_type": "code",
   "execution_count": null,
   "id": "reserved-tribute",
   "metadata": {},
   "outputs": [],
   "source": [
    "# new way\n",
    "drinks=pd.read_csv('drinks_by_country.txt',dtype={'beer_servings':'category'})\n",
    "drinks.dtypes"
   ]
  },
  {
   "cell_type": "code",
   "execution_count": null,
   "id": "million-version",
   "metadata": {},
   "outputs": [],
   "source": [
    "#important :new way\n",
    "drinks = drinks.astype({'beer_servings':'float', 'spirit_servings':'float'})\n",
    "drinks.dtypes"
   ]
  },
  {
   "cell_type": "code",
   "execution_count": null,
   "id": "adolescent-enforcement",
   "metadata": {},
   "outputs": [],
   "source": [
    "drinks.beer_servings.agg(['min','max','mean'])"
   ]
  },
  {
   "cell_type": "code",
   "execution_count": null,
   "id": "elementary-rogers",
   "metadata": {},
   "outputs": [],
   "source": [
    "drinks.describe()"
   ]
  },
  {
   "cell_type": "markdown",
   "id": "twenty-level",
   "metadata": {},
   "source": [
    "# pandas short tricks"
   ]
  },
  {
   "cell_type": "code",
   "execution_count": null,
   "id": "loaded-potato",
   "metadata": {},
   "outputs": [],
   "source": [
    "import pandas as pd\n",
    "df=pd.DataFrame({'col1':[100,200],'col2':[300,400]})\n",
    "df"
   ]
  },
  {
   "cell_type": "code",
   "execution_count": null,
   "id": "middle-pantyhose",
   "metadata": {},
   "outputs": [],
   "source": [
    "df.columns=['column1','column2']\n",
    "df"
   ]
  },
  {
   "cell_type": "code",
   "execution_count": null,
   "id": "unexpected-capture",
   "metadata": {},
   "outputs": [],
   "source": [
    "df=df.rename({'column1':'rename1','column2':'rename2'},axis='columns')\n",
    "df"
   ]
  },
  {
   "cell_type": "code",
   "execution_count": null,
   "id": "tight-crowd",
   "metadata": {},
   "outputs": [],
   "source": [
    "import numpy as np\n",
    "pd.DataFrame(np.random.rand(4,4),columns=list('abcd'))"
   ]
  },
  {
   "cell_type": "code",
   "execution_count": null,
   "id": "electronic-regression",
   "metadata": {},
   "outputs": [],
   "source": [
    "df.add_prefix('X_')"
   ]
  },
  {
   "cell_type": "code",
   "execution_count": null,
   "id": "broke-cooking",
   "metadata": {},
   "outputs": [],
   "source": [
    "# reverse row order\n",
    "drink=pd.read_csv('drinks_by_country.txt')\n",
    "drink.head()"
   ]
  },
  {
   "cell_type": "code",
   "execution_count": null,
   "id": "least-contemporary",
   "metadata": {},
   "outputs": [],
   "source": [
    "#reverse row column\n",
    "drink.loc[::-1]"
   ]
  },
  {
   "cell_type": "code",
   "execution_count": null,
   "id": "fifty-laptop",
   "metadata": {},
   "outputs": [],
   "source": [
    "# important : reset_index\n",
    "drink.loc[::-1].reset_index(drop=True)"
   ]
  },
  {
   "cell_type": "code",
   "execution_count": null,
   "id": "steady-standing",
   "metadata": {},
   "outputs": [],
   "source": [
    "drink.loc[:,::-1].head()"
   ]
  },
  {
   "cell_type": "code",
   "execution_count": null,
   "id": "powered-garage",
   "metadata": {},
   "outputs": [],
   "source": [
    "drink.dtypes"
   ]
  },
  {
   "cell_type": "code",
   "execution_count": null,
   "id": "sustainable-attention",
   "metadata": {},
   "outputs": [],
   "source": [
    "drink.select_dtypes(include=['object','float64'])#important"
   ]
  },
  {
   "cell_type": "code",
   "execution_count": null,
   "id": "prostate-northwest",
   "metadata": {},
   "outputs": [],
   "source": [
    "df=pd.DataFrame({\n",
    "    'col1':['4.3','3.9','7.3'],\n",
    "    'col2':['5.3','3.3','3.2'],\n",
    "    'col3':['3','9.3','-']\n",
    "})\n",
    "df"
   ]
  },
  {
   "cell_type": "code",
   "execution_count": null,
   "id": "multiple-province",
   "metadata": {},
   "outputs": [],
   "source": [
    "df.dtypes"
   ]
  },
  {
   "cell_type": "code",
   "execution_count": null,
   "id": "applied-academy",
   "metadata": {},
   "outputs": [],
   "source": [
    "df.astype({'col1':'float','col2':'float'}).dtypes\n",
    "# don't give df.dtypes otherwise it is not work important"
   ]
  },
  {
   "cell_type": "code",
   "execution_count": null,
   "id": "varying-chick",
   "metadata": {},
   "outputs": [],
   "source": [
    "pd.to_numeric(df.col3,errors='coerce').fillna(0)\n",
    "df"
   ]
  },
  {
   "cell_type": "code",
   "execution_count": null,
   "id": "quality-plasma",
   "metadata": {},
   "outputs": [],
   "source": [
    "#important\n",
    "df.apply(pd.to_numeric,errors='coerce').fillna(0)"
   ]
  },
  {
   "cell_type": "code",
   "execution_count": null,
   "id": "introductory-cincinnati",
   "metadata": {},
   "outputs": [],
   "source": [
    "cols=['beer_servings','continent']\n",
    "smalldrinks=pd.read_csv('drinks_by_country.txt',usecols=cols)\n",
    "smalldrinks.info(memory_usage='deep')"
   ]
  },
  {
   "cell_type": "code",
   "execution_count": null,
   "id": "recorded-hierarchy",
   "metadata": {},
   "outputs": [],
   "source": [
    "cols=['beer_servings','continent']\n",
    "smalldrinks=pd.read_csv('drinks_by_country.txt',usecols=cols,dtype={'continent':'category'})\n",
    "# smalldrinks.astype('category') #notworking\n",
    "smalldrinks.info(memory_usage='deep')#important"
   ]
  },
  {
   "cell_type": "markdown",
   "id": "affected-smoke",
   "metadata": {},
   "source": [
    "# important build data from multiple data"
   ]
  },
  {
   "cell_type": "code",
   "execution_count": null,
   "id": "compressed-disclosure",
   "metadata": {},
   "outputs": [],
   "source": [
    "from glob import glob\n",
    "stock_file=sorted(glob('stock_data*.txt'))\n",
    "stock_file"
   ]
  },
  {
   "cell_type": "code",
   "execution_count": null,
   "id": "approximate-speaking",
   "metadata": {},
   "outputs": [],
   "source": [
    "pd.concat((pd.read_csv(file) for file in stock_file))"
   ]
  },
  {
   "cell_type": "code",
   "execution_count": null,
   "id": "arranged-oxford",
   "metadata": {},
   "outputs": [],
   "source": [
    "pd.concat((pd.read_csv(file) for file in stock_file),ignore_index=True)"
   ]
  },
  {
   "cell_type": "code",
   "execution_count": null,
   "id": "coastal-transfer",
   "metadata": {},
   "outputs": [],
   "source": [
    "movie=pd.read_csv('movie_user.txt',sep='|')\n",
    "movie"
   ]
  },
  {
   "cell_type": "code",
   "execution_count": null,
   "id": "constant-diagram",
   "metadata": {},
   "outputs": [],
   "source": [
    "movie1=movie.sample(frac=0.74,random_state=1234)\n",
    "movie1"
   ]
  },
  {
   "cell_type": "code",
   "execution_count": null,
   "id": "threatened-tissue",
   "metadata": {},
   "outputs": [],
   "source": [
    "movie2=movie.drop(movie1.index)\n",
    "movie2\n",
    "#important look row reduce"
   ]
  },
  {
   "cell_type": "code",
   "execution_count": null,
   "id": "continental-adaptation",
   "metadata": {},
   "outputs": [],
   "source": [
    "df = pd.DataFrame(np.arange(12).reshape(3, 4),\n",
    "...                   columns=['A', 'B', 'C', 'D'])\n",
    "print(df)\n",
    "print('\\n after drop \\n',df.drop([0,1]))#indexing means row 0,1"
   ]
  },
  {
   "cell_type": "code",
   "execution_count": null,
   "id": "southeast-motor",
   "metadata": {},
   "outputs": [],
   "source": [
    "midx = pd.MultiIndex(levels=[['lama', 'cow', 'falcon'],\n",
    "...                              ['speed', 'weight', 'length']],\n",
    "...                      codes=[[0, 0, 0, 1, 1, 1, 2, 2, 2],\n",
    "...                             [0, 1, 2, 0, 1, 2, 0, 1, 2]])\n",
    ">>> df = pd.DataFrame(index=midx, columns=['big', 'small'],\n",
    "...                   data=[[45, 30], [200, 100], [1.5, 1], [30, 20],\n",
    "...                         [250, 150], [1.5, 0.8], [320, 250],\n",
    "...                         [1, 0.8], [0.3, 0.2]])\n",
    ">>> df"
   ]
  },
  {
   "cell_type": "code",
   "execution_count": null,
   "id": "beginning-absolute",
   "metadata": {},
   "outputs": [],
   "source": [
    "df.drop(index='cow', columns='small')"
   ]
  },
  {
   "cell_type": "code",
   "execution_count": null,
   "id": "european-definition",
   "metadata": {},
   "outputs": [],
   "source": [
    " df.drop(index='length', level=1)"
   ]
  },
  {
   "cell_type": "code",
   "execution_count": null,
   "id": "disabled-mirror",
   "metadata": {},
   "outputs": [],
   "source": [
    "movie1.index.sort_values"
   ]
  },
  {
   "cell_type": "markdown",
   "id": "olive-fifth",
   "metadata": {},
   "source": [
    "# filter data"
   ]
  },
  {
   "cell_type": "code",
   "execution_count": null,
   "id": "cutting-mexican",
   "metadata": {},
   "outputs": [],
   "source": [
    "movies=pd.read_csv('imbd_rating.txt')\n",
    "movies.head()"
   ]
  },
  {
   "cell_type": "code",
   "execution_count": null,
   "id": "express-treasure",
   "metadata": {},
   "outputs": [],
   "source": [
    "# movies.genre.nunique()\n",
    "movies.genre.unique()"
   ]
  },
  {
   "cell_type": "code",
   "execution_count": null,
   "id": "disturbed-pencil",
   "metadata": {},
   "outputs": [],
   "source": [
    "movies[\n",
    "    (movies.genre == 'Action')|\n",
    "    (movies.genre == 'Drama')\n",
    "]"
   ]
  },
  {
   "cell_type": "code",
   "execution_count": null,
   "id": "interested-feature",
   "metadata": {},
   "outputs": [],
   "source": [
    "# important isin method\n",
    "movies[~movies.genre.isin(['Action','Drama'])]"
   ]
  },
  {
   "cell_type": "markdown",
   "id": "sticky-radius",
   "metadata": {},
   "source": [
    "# Filter Data"
   ]
  },
  {
   "cell_type": "code",
   "execution_count": null,
   "id": "hazardous-bible",
   "metadata": {},
   "outputs": [],
   "source": [
    "counts=movies.genre.value_counts()\n",
    "counts"
   ]
  },
  {
   "cell_type": "code",
   "execution_count": null,
   "id": "million-vertical",
   "metadata": {},
   "outputs": [],
   "source": [
    "movies.genre.value_counts().nlargest(3)"
   ]
  },
  {
   "cell_type": "code",
   "execution_count": null,
   "id": "leading-module",
   "metadata": {},
   "outputs": [],
   "source": [
    "movies.genre.value_counts().nlargest(3).index"
   ]
  },
  {
   "cell_type": "code",
   "execution_count": null,
   "id": "reasonable-allah",
   "metadata": {},
   "outputs": [],
   "source": [
    "# movies[movies.genre.isin(counts.nlargest(3).index)]\n",
    "movies[movies.genre.isin(counts.nlargest(3).index)].head()"
   ]
  },
  {
   "cell_type": "markdown",
   "id": "linear-underground",
   "metadata": {},
   "source": [
    "# handle missing value"
   ]
  },
  {
   "cell_type": "code",
   "execution_count": null,
   "id": "copyrighted-break",
   "metadata": {},
   "outputs": [],
   "source": [
    "ufo=pd.read_csv('ufo.txt')\n",
    "ufo.head()"
   ]
  },
  {
   "cell_type": "code",
   "execution_count": null,
   "id": "prescription-creativity",
   "metadata": {},
   "outputs": [],
   "source": [
    "ufo.isna().sum()"
   ]
  },
  {
   "cell_type": "code",
   "execution_count": null,
   "id": "desirable-ecology",
   "metadata": {},
   "outputs": [],
   "source": [
    "ufo.isna().mean()"
   ]
  },
  {
   "cell_type": "code",
   "execution_count": null,
   "id": "united-dallas",
   "metadata": {},
   "outputs": [],
   "source": [
    "ufo.dropna(axis='columns').head()"
   ]
  },
  {
   "cell_type": "code",
   "execution_count": null,
   "id": "civic-publicity",
   "metadata": {},
   "outputs": [],
   "source": [
    "ufo.dropna(thresh=len(ufo)*0.9,axis='columns').head()"
   ]
  },
  {
   "cell_type": "markdown",
   "id": "resistant-disclosure",
   "metadata": {},
   "source": [
    "# split dataframe into multiple column"
   ]
  },
  {
   "cell_type": "code",
   "execution_count": null,
   "id": "thousand-geometry",
   "metadata": {},
   "outputs": [],
   "source": [
    "import pandas as pd\n",
    "df = pd.DataFrame({'name':['John Arthur Doe', 'Jane Ann Smith'],\n",
    "                   'location':['Los Angeles, CA', 'Washington, DC']})\n",
    "df"
   ]
  },
  {
   "cell_type": "code",
   "execution_count": null,
   "id": "quality-southeast",
   "metadata": {},
   "outputs": [],
   "source": [
    "df.name.str.split(' ',expand=True)"
   ]
  },
  {
   "cell_type": "code",
   "execution_count": null,
   "id": "future-grace",
   "metadata": {},
   "outputs": [],
   "source": [
    "#important\n",
    "df[['first','middle','last']]=df.name.str.split(' ',expand=True)\n",
    "df"
   ]
  },
  {
   "cell_type": "code",
   "execution_count": null,
   "id": "promotional-custody",
   "metadata": {},
   "outputs": [],
   "source": [
    "df['city']=df.location.str.split(', ',expand=True)[0]\n",
    "df"
   ]
  },
  {
   "cell_type": "markdown",
   "id": "cooked-aruba",
   "metadata": {},
   "source": [
    "# expand a series"
   ]
  },
  {
   "cell_type": "code",
   "execution_count": null,
   "id": "apart-grave",
   "metadata": {},
   "outputs": [],
   "source": [
    "df = pd.DataFrame({'col_one':['a', 'b', 'c'], 'col_two':[[10, 40], [20, 50], [30, 60]]})\n",
    "df"
   ]
  },
  {
   "cell_type": "code",
   "execution_count": null,
   "id": "democratic-travel",
   "metadata": {},
   "outputs": [],
   "source": [
    "new1=df.col_two.apply(pd.Series)\n",
    "new1"
   ]
  },
  {
   "cell_type": "code",
   "execution_count": null,
   "id": "forced-university",
   "metadata": {},
   "outputs": [],
   "source": [
    "pd.concat([df,new1],axis='columns')\n",
    "# pd.concat([df,df_new],axis='columns')"
   ]
  },
  {
   "cell_type": "markdown",
   "id": "professional-measure",
   "metadata": {},
   "source": [
    "# aggregate by multiple function"
   ]
  },
  {
   "cell_type": "code",
   "execution_count": null,
   "id": "three-chart",
   "metadata": {},
   "outputs": [],
   "source": [
    "import pandas as pd\n",
    "order=pd.read_csv('chipotle.tsv',sep='\\t')\n",
    "order.head(10)"
   ]
  },
  {
   "cell_type": "code",
   "execution_count": null,
   "id": "treated-pickup",
   "metadata": {},
   "outputs": [],
   "source": [
    "order['item_price'] = order.item_price.str.replace('$', '').astype('float')\n",
    "order[order.order_id==1].item_price.sum()"
   ]
  },
  {
   "cell_type": "code",
   "execution_count": null,
   "id": "sorted-proposal",
   "metadata": {},
   "outputs": [],
   "source": [
    "order.groupby('order_id').item_price.agg(['sum','count']).head()"
   ]
  },
  {
   "cell_type": "markdown",
   "id": "local-description",
   "metadata": {},
   "source": [
    "# combine item "
   ]
  },
  {
   "cell_type": "code",
   "execution_count": null,
   "id": "german-humidity",
   "metadata": {},
   "outputs": [],
   "source": [
    "order.head()"
   ]
  },
  {
   "cell_type": "code",
   "execution_count": null,
   "id": "advance-warrant",
   "metadata": {},
   "outputs": [],
   "source": [
    "order.set_index('order_id')\n",
    "order.head()"
   ]
  },
  {
   "cell_type": "code",
   "execution_count": null,
   "id": "blond-blocking",
   "metadata": {},
   "outputs": [],
   "source": [
    "order.groupby('order_id').item_price.sum()"
   ]
  },
  {
   "cell_type": "code",
   "execution_count": null,
   "id": "finished-actor",
   "metadata": {},
   "outputs": [],
   "source": [
    "len(order.groupby('order_id').item_price.sum())"
   ]
  },
  {
   "cell_type": "code",
   "execution_count": null,
   "id": "shared-phase",
   "metadata": {},
   "outputs": [],
   "source": []
  },
  {
   "cell_type": "code",
   "execution_count": null,
   "id": "falling-taylor",
   "metadata": {},
   "outputs": [],
   "source": []
  },
  {
   "cell_type": "code",
   "execution_count": null,
   "id": "increased-pointer",
   "metadata": {},
   "outputs": [],
   "source": [
    "total_price=order.groupby('order_id').item_price.transform('sum')\n",
    "len(total_price)\n"
   ]
  },
  {
   "cell_type": "code",
   "execution_count": null,
   "id": "confident-survivor",
   "metadata": {},
   "outputs": [],
   "source": [
    "\n",
    "order['total_price']=total_price\n",
    "order.head()"
   ]
  },
  {
   "cell_type": "code",
   "execution_count": null,
   "id": "vocal-quick",
   "metadata": {},
   "outputs": [],
   "source": [
    "#select a slice of row and column \n",
    "import pandas as pd\n",
    "titanic=pd.read_csv('titanic_train.txt')\n",
    "titanic.head()"
   ]
  },
  {
   "cell_type": "code",
   "execution_count": null,
   "id": "significant-individual",
   "metadata": {},
   "outputs": [],
   "source": [
    "titanic.describe()"
   ]
  },
  {
   "cell_type": "code",
   "execution_count": null,
   "id": "pursuant-pennsylvania",
   "metadata": {},
   "outputs": [],
   "source": [
    "titanic.describe().loc['min':'max']"
   ]
  },
  {
   "cell_type": "code",
   "execution_count": null,
   "id": "interior-spending",
   "metadata": {},
   "outputs": [],
   "source": [
    "titanic.describe().loc['min':'max', 'Pclass':'Parch']"
   ]
  },
  {
   "cell_type": "markdown",
   "id": "through-motivation",
   "metadata": {},
   "source": [
    "# reshape multindex"
   ]
  },
  {
   "cell_type": "code",
   "execution_count": null,
   "id": "sustained-fraud",
   "metadata": {},
   "outputs": [],
   "source": [
    "titanic.columns"
   ]
  },
  {
   "cell_type": "code",
   "execution_count": null,
   "id": "solar-christopher",
   "metadata": {},
   "outputs": [],
   "source": [
    "titanic.Survived.mean()"
   ]
  },
  {
   "cell_type": "code",
   "execution_count": null,
   "id": "incorrect-persian",
   "metadata": {},
   "outputs": [],
   "source": [
    "titanic.groupby(['Sex','Pclass']).Survived.mean()"
   ]
  },
  {
   "cell_type": "code",
   "execution_count": null,
   "id": "considerable-spice",
   "metadata": {},
   "outputs": [],
   "source": [
    "\n",
    "titanic.groupby(['Sex','Pclass']).Survived.mean().unstack()"
   ]
  },
  {
   "cell_type": "markdown",
   "id": "hindu-programmer",
   "metadata": {},
   "source": [
    "#  Pivot table"
   ]
  },
  {
   "cell_type": "code",
   "execution_count": null,
   "id": "dense-permit",
   "metadata": {},
   "outputs": [],
   "source": [
    "#important\n",
    "#topic pivot table\n",
    "titanic.pivot_table(index='Sex',columns='Pclass',values='Survived',aggfunc='mean')"
   ]
  },
  {
   "cell_type": "code",
   "execution_count": null,
   "id": "spare-agenda",
   "metadata": {},
   "outputs": [],
   "source": [
    "#margine =True\n",
    "#topic pivot table\n",
    "#it will also give all value\n",
    "titanic.pivot_table(index='Sex',columns='Pclass',values='Survived',aggfunc='mean',margins=True)"
   ]
  },
  {
   "cell_type": "code",
   "execution_count": null,
   "id": "passive-macedonia",
   "metadata": {},
   "outputs": [],
   "source": [
    "#important\n",
    "#topic cut function\n",
    "pd.cut(titanic.Age,bins=[0,8,25,99],labels=['child','young','old']).head(10)"
   ]
  },
  {
   "cell_type": "code",
   "execution_count": null,
   "id": "collectible-desperate",
   "metadata": {},
   "outputs": [],
   "source": [
    "pd.cut(titanic.Age,bins=[0,8,25,99],labels=['child','young','old']).head(10)\n",
    "#bins means interval 0 to 8= child,8 to 25=young"
   ]
  },
  {
   "cell_type": "code",
   "execution_count": null,
   "id": "interior-facility",
   "metadata": {},
   "outputs": [],
   "source": [
    "titanic.head(4)"
   ]
  },
  {
   "cell_type": "markdown",
   "id": "productive-corruption",
   "metadata": {},
   "source": [
    "# Display Option"
   ]
  },
  {
   "cell_type": "code",
   "execution_count": null,
   "id": "beneficial-multimedia",
   "metadata": {},
   "outputs": [],
   "source": [
    "pd.set_option('display.float_format','{:.2f}'.format)\n",
    "titanic.head()# here we got 2 decimal point after dot"
   ]
  },
  {
   "cell_type": "code",
   "execution_count": null,
   "id": "private-congress",
   "metadata": {},
   "outputs": [],
   "source": [
    "pd.reset_option('display.float_format')"
   ]
  },
  {
   "cell_type": "markdown",
   "id": "continental-depth",
   "metadata": {},
   "source": [
    "# style dataframe"
   ]
  },
  {
   "cell_type": "code",
   "execution_count": null,
   "id": "russian-example",
   "metadata": {},
   "outputs": [],
   "source": [
    "stocks=pd.read_csv('stock_data.txt')\n",
    "stocks"
   ]
  },
  {
   "cell_type": "code",
   "execution_count": null,
   "id": "developing-error",
   "metadata": {},
   "outputs": [],
   "source": [
    "stocks.style.format(\n",
    "{'Date':'{%m/%d/%y}', 'Close':'${:.2f}', 'Volume':'{:,}'}\n",
    ")"
   ]
  },
  {
   "cell_type": "code",
   "execution_count": null,
   "id": "postal-steal",
   "metadata": {},
   "outputs": [],
   "source": [
    "# most important\n",
    "import numpy as np\n",
    "df = pd.DataFrame(np.random.randn(4, 2), columns=['a', 'b'])\n",
    "df.style.format(\"{:.2%}\")\n",
    "df['c'] = ['a', 'b', 'c', 'd']\n",
    "df.style.format({'c': str.upper})"
   ]
  },
  {
   "cell_type": "code",
   "execution_count": null,
   "id": "subjective-shannon",
   "metadata": {},
   "outputs": [],
   "source": [
    "#important\n",
    "(stocks.style\n",
    " .hide_index()\n",
    " .highlight_min('Close', color='red')\n",
    " .highlight_max('Close', color='lightgreen')\n",
    ")\n",
    "# format value here not working"
   ]
  },
  {
   "cell_type": "code",
   "execution_count": null,
   "id": "micro-thriller",
   "metadata": {},
   "outputs": [],
   "source": [
    "(stocks.style.format({'Volume':'{:,}'}).hide_index()\n",
    ".background_gradient(subset=\"Volume\",cmap='Blues'))\n"
   ]
  },
  {
   "cell_type": "code",
   "execution_count": null,
   "id": "electrical-january",
   "metadata": {},
   "outputs": [],
   "source": [
    "(stocks.style.hide_index()\n",
    ".bar('Volume',color='lightblue',align='zero')\n",
    ".set_caption('stock price from october 2016'))"
   ]
  },
  {
   "cell_type": "code",
   "execution_count": null,
   "id": "developing-jackson",
   "metadata": {},
   "outputs": [],
   "source": [
    "(stocks.style.format({'Volume':'{:,}'}).hide_index().background_gradient(subset=\"Volume\",cmap='Blues'))\n"
   ]
  },
  {
   "cell_type": "code",
   "execution_count": null,
   "id": "unsigned-fetish",
   "metadata": {},
   "outputs": [],
   "source": [
    "import pandas_profiling"
   ]
  },
  {
   "cell_type": "code",
   "execution_count": null,
   "id": "listed-bookmark",
   "metadata": {},
   "outputs": [],
   "source": [
    "pandas_profiling.ProfileReport(titanic)"
   ]
  },
  {
   "cell_type": "code",
   "execution_count": null,
   "id": "tough-grain",
   "metadata": {},
   "outputs": [],
   "source": [
    "import pandas as pd\n",
    "# read the drinks dataset into a DataFrame\n",
    "drinks = pd.read_csv('drinks_by_country.txt', index_col='country')\n",
    "drinks.head()"
   ]
  },
  {
   "cell_type": "code",
   "execution_count": null,
   "id": "proud-mambo",
   "metadata": {},
   "outputs": [],
   "source": [
    "#important don't use ix it is depricated"
   ]
  },
  {
   "cell_type": "code",
   "execution_count": null,
   "id": "adaptive-edgar",
   "metadata": {},
   "outputs": [],
   "source": [
    "drinks.loc['Angola','spirit_servings']\n",
    "#alternative\n",
    "drinks.loc[drinks.index[4],'spirit_servings']"
   ]
  },
  {
   "cell_type": "code",
   "execution_count": null,
   "id": "trying-forum",
   "metadata": {},
   "outputs": [],
   "source": [
    "#important use of iloc\n",
    "drinks.iloc[drinks.index.get_loc('Angola'), 1]\n",
    "# alternative\n",
    "drinks.iloc[4,drinks.columns.get_loc('beer_servings')]"
   ]
  },
  {
   "cell_type": "markdown",
   "id": "limiting-sweet",
   "metadata": {},
   "source": [
    "# use of isnull and notnull"
   ]
  },
  {
   "cell_type": "code",
   "execution_count": null,
   "id": "editorial-injury",
   "metadata": {},
   "outputs": [],
   "source": [
    "ufo = pd.read_csv('ufo.txt')\n",
    "ufo.head()"
   ]
  },
  {
   "cell_type": "code",
   "execution_count": null,
   "id": "greenhouse-occurrence",
   "metadata": {},
   "outputs": [],
   "source": [
    "ufo.isnull().head(3)"
   ]
  },
  {
   "cell_type": "code",
   "execution_count": null,
   "id": "promotional-roller",
   "metadata": {},
   "outputs": [],
   "source": [
    "ufo.notnull().head(3)"
   ]
  },
  {
   "cell_type": "code",
   "execution_count": null,
   "id": "strong-heading",
   "metadata": {},
   "outputs": [],
   "source": [
    "ufo.dropna().head()"
   ]
  },
  {
   "cell_type": "code",
   "execution_count": null,
   "id": "beautiful-alarm",
   "metadata": {},
   "outputs": [],
   "source": [
    "ufo.fillna('unknown').head()\n",
    "#if not given nan\n",
    "# movie.loc[movie.content_rating=='NOT RATED','content_rating']=np.nan\n",
    "'''movie.loc[movie.content_rating=='NOT RATED','content_rating']=np.nan'''"
   ]
  },
  {
   "cell_type": "markdown",
   "id": "piano-weapon",
   "metadata": {},
   "source": [
    "## 3. `drop` now accepts \"index\" and \"columns\" keywords\n"
   ]
  },
  {
   "cell_type": "code",
   "execution_count": null,
   "id": "joined-investigator",
   "metadata": {},
   "outputs": [],
   "source": [
    "# read the UFO dataset into a DataFrame\n",
    "ufo = pd.read_csv('ufo.txt')\n",
    "ufo.head()"
   ]
  },
  {
   "cell_type": "code",
   "execution_count": null,
   "id": "visible-wholesale",
   "metadata": {},
   "outputs": [],
   "source": [
    "# old way to drop rows: specify labels and axis\n",
    "ufo.drop([0, 1], axis=0).head()\n",
    "ufo.drop([0, 1], axis='index').head()"
   ]
  },
  {
   "cell_type": "code",
   "execution_count": null,
   "id": "embedded-scholar",
   "metadata": {},
   "outputs": [],
   "source": [
    "#new way important\n",
    "ufo.drop(index=[0,1])"
   ]
  },
  {
   "cell_type": "code",
   "execution_count": null,
   "id": "magnetic-republic",
   "metadata": {},
   "outputs": [],
   "source": [
    "# old way to drop columns: specify labels and axis\n",
    "ufo.drop(['City', 'State'], axis=1).head()\n",
    "ufo.drop(['City', 'State'], axis='columns').head()"
   ]
  },
  {
   "cell_type": "code",
   "execution_count": null,
   "id": "spatial-reading",
   "metadata": {},
   "outputs": [],
   "source": [
    "# new way\n",
    "ufo.drop(columns=['City','State']).head(3)"
   ]
  },
  {
   "cell_type": "code",
   "execution_count": null,
   "id": "civilian-local",
   "metadata": {},
   "outputs": [],
   "source": [
    "# old way to rename columns: specify columns\n",
    "ufo.rename(columns={'City':'CITY', 'State':'STATE'}).head()"
   ]
  },
  {
   "cell_type": "code",
   "execution_count": null,
   "id": "blind-hungary",
   "metadata": {},
   "outputs": [],
   "source": [
    "# new way\n",
    "ufo.rename({'City':'new city','State':'new state'},axis='columns').head(3)"
   ]
  },
  {
   "cell_type": "markdown",
   "id": "fantastic-respondent",
   "metadata": {},
   "source": [
    "# important caterogical data"
   ]
  },
  {
   "cell_type": "code",
   "execution_count": null,
   "id": "frequent-picnic",
   "metadata": {},
   "outputs": [],
   "source": [
    "# create a small DataFrame\n",
    "df = pd.DataFrame({'ID':[100, 101, 102, 103],\n",
    "                   'quality':['good', 'very good', 'good', 'excellent']})\n",
    "df"
   ]
  },
  {
   "cell_type": "code",
   "execution_count": null,
   "id": "stretch-antigua",
   "metadata": {},
   "outputs": [],
   "source": [
    "# old way to create an ordered category (deprecated)\n",
    "df.quality.astype('category', categories=['good', 'very good', 'excellent'], ordered=True)"
   ]
  },
  {
   "cell_type": "code",
   "execution_count": null,
   "id": "blank-miniature",
   "metadata": {},
   "outputs": [],
   "source": [
    "#important new categories\n",
    "from pandas.api.types import CategoricalDtype\n",
    "new_data=CategoricalDtype(['good','very_good','excellent'],ordered=True)\n",
    "df['quality']=df.quality.astype(new_data)\n",
    "df.quality"
   ]
  },
  {
   "cell_type": "markdown",
   "id": "smooth-arbitration",
   "metadata": {},
   "source": [
    "# panda practice"
   ]
  },
  {
   "cell_type": "code",
   "execution_count": 97,
   "id": "stopped-village",
   "metadata": {},
   "outputs": [],
   "source": [
    "import pandas as pd\n",
    "import matplotlib.pyplot as plt\n",
    "%matplotlib inline"
   ]
  },
  {
   "cell_type": "code",
   "execution_count": 98,
   "id": "alpine-northwest",
   "metadata": {},
   "outputs": [
    {
     "data": {
      "text/plain": [
       "(2550, 17)"
      ]
     },
     "execution_count": 98,
     "metadata": {},
     "output_type": "execute_result"
    }
   ],
   "source": [
    "ted=pd.read_csv('ted.txt')\n",
    "ted.shape"
   ]
  },
  {
   "cell_type": "code",
   "execution_count": 99,
   "id": "indirect-graphic",
   "metadata": {},
   "outputs": [
    {
     "data": {
      "text/plain": [
       "comments               int64\n",
       "description           object\n",
       "duration               int64\n",
       "event                 object\n",
       "film_date              int64\n",
       "languages              int64\n",
       "main_speaker          object\n",
       "name                  object\n",
       "num_speaker            int64\n",
       "published_date         int64\n",
       "ratings               object\n",
       "related_talks         object\n",
       "speaker_occupation    object\n",
       "tags                  object\n",
       "title                 object\n",
       "url                   object\n",
       "views                  int64\n",
       "dtype: object"
      ]
     },
     "execution_count": 99,
     "metadata": {},
     "output_type": "execute_result"
    }
   ],
   "source": [
    "ted.dtypes"
   ]
  },
  {
   "cell_type": "code",
   "execution_count": 100,
   "id": "ambient-distinction",
   "metadata": {},
   "outputs": [
    {
     "data": {
      "text/plain": [
       "comments              0\n",
       "description           0\n",
       "duration              0\n",
       "event                 0\n",
       "film_date             0\n",
       "languages             0\n",
       "main_speaker          0\n",
       "name                  0\n",
       "num_speaker           0\n",
       "published_date        0\n",
       "ratings               0\n",
       "related_talks         0\n",
       "speaker_occupation    6\n",
       "tags                  0\n",
       "title                 0\n",
       "url                   0\n",
       "views                 0\n",
       "dtype: int64"
      ]
     },
     "execution_count": 100,
     "metadata": {},
     "output_type": "execute_result"
    }
   ],
   "source": [
    "ted.isna().sum()\n"
   ]
  },
  {
   "cell_type": "code",
   "execution_count": 101,
   "id": "thick-reservoir",
   "metadata": {},
   "outputs": [
    {
     "data": {
      "text/html": [
       "<div>\n",
       "<style scoped>\n",
       "    .dataframe tbody tr th:only-of-type {\n",
       "        vertical-align: middle;\n",
       "    }\n",
       "\n",
       "    .dataframe tbody tr th {\n",
       "        vertical-align: top;\n",
       "    }\n",
       "\n",
       "    .dataframe thead th {\n",
       "        text-align: right;\n",
       "    }\n",
       "</style>\n",
       "<table border=\"1\" class=\"dataframe\">\n",
       "  <thead>\n",
       "    <tr style=\"text-align: right;\">\n",
       "      <th></th>\n",
       "      <th>comments</th>\n",
       "      <th>description</th>\n",
       "      <th>duration</th>\n",
       "      <th>event</th>\n",
       "      <th>film_date</th>\n",
       "      <th>languages</th>\n",
       "      <th>main_speaker</th>\n",
       "      <th>name</th>\n",
       "      <th>num_speaker</th>\n",
       "      <th>published_date</th>\n",
       "      <th>ratings</th>\n",
       "      <th>related_talks</th>\n",
       "      <th>speaker_occupation</th>\n",
       "      <th>tags</th>\n",
       "      <th>title</th>\n",
       "      <th>url</th>\n",
       "      <th>views</th>\n",
       "    </tr>\n",
       "  </thead>\n",
       "  <tbody>\n",
       "    <tr>\n",
       "      <th>2534</th>\n",
       "      <td>2</td>\n",
       "      <td>What the astronauts felt when they saw Earth f...</td>\n",
       "      <td>725</td>\n",
       "      <td>TEDxSkoll</td>\n",
       "      <td>1491523200</td>\n",
       "      <td>1</td>\n",
       "      <td>Benjamin Grant</td>\n",
       "      <td>Benjamin Grant: What it feels like to see Eart...</td>\n",
       "      <td>1</td>\n",
       "      <td>1504814438</td>\n",
       "      <td>[{'id': 10, 'name': 'Inspiring', 'count': 46},...</td>\n",
       "      <td>[{'id': 2511, 'hero': 'https://pe.tedcdn.com/i...</td>\n",
       "      <td>Author</td>\n",
       "      <td>['TEDx', 'art', 'climate change', 'environment...</td>\n",
       "      <td>What it feels like to see Earth from space</td>\n",
       "      <td>https://www.ted.com/talks/benjamin_grant_what_...</td>\n",
       "      <td>646174</td>\n",
       "    </tr>\n",
       "    <tr>\n",
       "      <th>2542</th>\n",
       "      <td>3</td>\n",
       "      <td>In the century-old statues that occupy Cape To...</td>\n",
       "      <td>795</td>\n",
       "      <td>TEDGlobal 2017</td>\n",
       "      <td>1503792000</td>\n",
       "      <td>1</td>\n",
       "      <td>Sethembile Msezane</td>\n",
       "      <td>Sethembile Msezane: Living sculptures that sta...</td>\n",
       "      <td>1</td>\n",
       "      <td>1505488093</td>\n",
       "      <td>[{'id': 1, 'name': 'Beautiful', 'count': 41}, ...</td>\n",
       "      <td>[{'id': 2873, 'hero': 'https://pe.tedcdn.com/i...</td>\n",
       "      <td>Artist</td>\n",
       "      <td>['Africa', 'activism', 'art', 'community', 'hi...</td>\n",
       "      <td>Living sculptures that stand for history's truths</td>\n",
       "      <td>https://www.ted.com/talks/sethembile_msezane_l...</td>\n",
       "      <td>542088</td>\n",
       "    </tr>\n",
       "    <tr>\n",
       "      <th>2528</th>\n",
       "      <td>3</td>\n",
       "      <td>Digital archaeologist Chance Coughenour is usi...</td>\n",
       "      <td>717</td>\n",
       "      <td>TEDxHamburg</td>\n",
       "      <td>1465344000</td>\n",
       "      <td>5</td>\n",
       "      <td>Chance Coughenour</td>\n",
       "      <td>Chance Coughenour: How your pictures can help ...</td>\n",
       "      <td>1</td>\n",
       "      <td>1504209631</td>\n",
       "      <td>[{'id': 9, 'name': 'Ingenious', 'count': 16}, ...</td>\n",
       "      <td>[{'id': 2673, 'hero': 'https://pe.tedcdn.com/i...</td>\n",
       "      <td>Digital archaeologist</td>\n",
       "      <td>['TEDx', 'ancient world', 'archaeology', 'cons...</td>\n",
       "      <td>How your pictures can help reclaim lost history</td>\n",
       "      <td>https://www.ted.com/talks/chance_coughenour_ho...</td>\n",
       "      <td>539207</td>\n",
       "    </tr>\n",
       "    <tr>\n",
       "      <th>2501</th>\n",
       "      <td>3</td>\n",
       "      <td>Meet Françoise Mouly, The New Yorker's art dir...</td>\n",
       "      <td>509</td>\n",
       "      <td>TEDNYC</td>\n",
       "      <td>1488931200</td>\n",
       "      <td>12</td>\n",
       "      <td>Françoise Mouly</td>\n",
       "      <td>Françoise Mouly: The stories behind The New Yo...</td>\n",
       "      <td>1</td>\n",
       "      <td>1501770244</td>\n",
       "      <td>[{'id': 7, 'name': 'Funny', 'count': 10}, {'id...</td>\n",
       "      <td>[{'id': 2479, 'hero': 'https://pe.tedcdn.com/i...</td>\n",
       "      <td>Art editor</td>\n",
       "      <td>['TEDNYC', 'art', 'creativity', 'culture', 'de...</td>\n",
       "      <td>The stories behind The New Yorker's iconic covers</td>\n",
       "      <td>https://www.ted.com/talks/francoise_mouly_the_...</td>\n",
       "      <td>839040</td>\n",
       "    </tr>\n",
       "    <tr>\n",
       "      <th>2407</th>\n",
       "      <td>5</td>\n",
       "      <td>Grammy-winning Silk Road Ensemble display thei...</td>\n",
       "      <td>389</td>\n",
       "      <td>TED2016</td>\n",
       "      <td>1455494400</td>\n",
       "      <td>0</td>\n",
       "      <td>Silk Road Ensemble</td>\n",
       "      <td>Silk Road Ensemble: \"Turceasca\"</td>\n",
       "      <td>1</td>\n",
       "      <td>1489759215</td>\n",
       "      <td>[{'id': 1, 'name': 'Beautiful', 'count': 80}, ...</td>\n",
       "      <td>[{'id': 2611, 'hero': 'https://pe.tedcdn.com/i...</td>\n",
       "      <td>Musical explorers</td>\n",
       "      <td>['art', 'live music', 'music', 'performance']</td>\n",
       "      <td>\"Turceasca\"</td>\n",
       "      <td>https://www.ted.com/talks/silk_road_ensemble_t...</td>\n",
       "      <td>640734</td>\n",
       "    </tr>\n",
       "  </tbody>\n",
       "</table>\n",
       "</div>"
      ],
      "text/plain": [
       "      comments                                        description  duration  \\\n",
       "2534         2  What the astronauts felt when they saw Earth f...       725   \n",
       "2542         3  In the century-old statues that occupy Cape To...       795   \n",
       "2528         3  Digital archaeologist Chance Coughenour is usi...       717   \n",
       "2501         3  Meet Françoise Mouly, The New Yorker's art dir...       509   \n",
       "2407         5  Grammy-winning Silk Road Ensemble display thei...       389   \n",
       "\n",
       "               event   film_date  languages         main_speaker  \\\n",
       "2534       TEDxSkoll  1491523200          1       Benjamin Grant   \n",
       "2542  TEDGlobal 2017  1503792000          1   Sethembile Msezane   \n",
       "2528     TEDxHamburg  1465344000          5    Chance Coughenour   \n",
       "2501          TEDNYC  1488931200         12      Françoise Mouly   \n",
       "2407         TED2016  1455494400          0   Silk Road Ensemble   \n",
       "\n",
       "                                                   name  num_speaker  \\\n",
       "2534  Benjamin Grant: What it feels like to see Eart...            1   \n",
       "2542  Sethembile Msezane: Living sculptures that sta...            1   \n",
       "2528  Chance Coughenour: How your pictures can help ...            1   \n",
       "2501  Françoise Mouly: The stories behind The New Yo...            1   \n",
       "2407                    Silk Road Ensemble: \"Turceasca\"            1   \n",
       "\n",
       "      published_date                                            ratings  \\\n",
       "2534      1504814438  [{'id': 10, 'name': 'Inspiring', 'count': 46},...   \n",
       "2542      1505488093  [{'id': 1, 'name': 'Beautiful', 'count': 41}, ...   \n",
       "2528      1504209631  [{'id': 9, 'name': 'Ingenious', 'count': 16}, ...   \n",
       "2501      1501770244  [{'id': 7, 'name': 'Funny', 'count': 10}, {'id...   \n",
       "2407      1489759215  [{'id': 1, 'name': 'Beautiful', 'count': 80}, ...   \n",
       "\n",
       "                                          related_talks  \\\n",
       "2534  [{'id': 2511, 'hero': 'https://pe.tedcdn.com/i...   \n",
       "2542  [{'id': 2873, 'hero': 'https://pe.tedcdn.com/i...   \n",
       "2528  [{'id': 2673, 'hero': 'https://pe.tedcdn.com/i...   \n",
       "2501  [{'id': 2479, 'hero': 'https://pe.tedcdn.com/i...   \n",
       "2407  [{'id': 2611, 'hero': 'https://pe.tedcdn.com/i...   \n",
       "\n",
       "         speaker_occupation  \\\n",
       "2534                 Author   \n",
       "2542                 Artist   \n",
       "2528  Digital archaeologist   \n",
       "2501             Art editor   \n",
       "2407      Musical explorers   \n",
       "\n",
       "                                                   tags  \\\n",
       "2534  ['TEDx', 'art', 'climate change', 'environment...   \n",
       "2542  ['Africa', 'activism', 'art', 'community', 'hi...   \n",
       "2528  ['TEDx', 'ancient world', 'archaeology', 'cons...   \n",
       "2501  ['TEDNYC', 'art', 'creativity', 'culture', 'de...   \n",
       "2407      ['art', 'live music', 'music', 'performance']   \n",
       "\n",
       "                                                  title  \\\n",
       "2534         What it feels like to see Earth from space   \n",
       "2542  Living sculptures that stand for history's truths   \n",
       "2528    How your pictures can help reclaim lost history   \n",
       "2501  The stories behind The New Yorker's iconic covers   \n",
       "2407                                        \"Turceasca\"   \n",
       "\n",
       "                                                    url   views  \n",
       "2534  https://www.ted.com/talks/benjamin_grant_what_...  646174  \n",
       "2542  https://www.ted.com/talks/sethembile_msezane_l...  542088  \n",
       "2528  https://www.ted.com/talks/chance_coughenour_ho...  539207  \n",
       "2501  https://www.ted.com/talks/francoise_mouly_the_...  839040  \n",
       "2407  https://www.ted.com/talks/silk_road_ensemble_t...  640734  "
      ]
     },
     "execution_count": 101,
     "metadata": {},
     "output_type": "execute_result"
    }
   ],
   "source": [
    "ted.sort_values('comments').head()"
   ]
  },
  {
   "cell_type": "code",
   "execution_count": 102,
   "id": "viral-acrylic",
   "metadata": {},
   "outputs": [
    {
     "data": {
      "text/plain": [
       "Index(['comments', 'description', 'duration', 'event', 'film_date',\n",
       "       'languages', 'main_speaker', 'name', 'num_speaker', 'published_date',\n",
       "       'ratings', 'related_talks', 'speaker_occupation', 'tags', 'title',\n",
       "       'url', 'views'],\n",
       "      dtype='object')"
      ]
     },
     "execution_count": 102,
     "metadata": {},
     "output_type": "execute_result"
    }
   ],
   "source": [
    "ted.columns"
   ]
  },
  {
   "cell_type": "code",
   "execution_count": 103,
   "id": "analyzed-grave",
   "metadata": {},
   "outputs": [
    {
     "data": {
      "text/html": [
       "<div>\n",
       "<style scoped>\n",
       "    .dataframe tbody tr th:only-of-type {\n",
       "        vertical-align: middle;\n",
       "    }\n",
       "\n",
       "    .dataframe tbody tr th {\n",
       "        vertical-align: top;\n",
       "    }\n",
       "\n",
       "    .dataframe thead th {\n",
       "        text-align: right;\n",
       "    }\n",
       "</style>\n",
       "<table border=\"1\" class=\"dataframe\">\n",
       "  <thead>\n",
       "    <tr style=\"text-align: right;\">\n",
       "      <th></th>\n",
       "      <th>comments</th>\n",
       "      <th>description</th>\n",
       "      <th>duration</th>\n",
       "      <th>event</th>\n",
       "      <th>film_date</th>\n",
       "      <th>languages</th>\n",
       "      <th>main_speaker</th>\n",
       "      <th>name</th>\n",
       "      <th>num_speaker</th>\n",
       "      <th>published_date</th>\n",
       "      <th>ratings</th>\n",
       "      <th>related_talks</th>\n",
       "      <th>speaker_occupation</th>\n",
       "      <th>tags</th>\n",
       "      <th>title</th>\n",
       "      <th>url</th>\n",
       "      <th>views</th>\n",
       "      <th>comment Per View</th>\n",
       "    </tr>\n",
       "  </thead>\n",
       "  <tbody>\n",
       "    <tr>\n",
       "      <th>0</th>\n",
       "      <td>4553</td>\n",
       "      <td>Sir Ken Robinson makes an entertaining and pro...</td>\n",
       "      <td>1164</td>\n",
       "      <td>TED2006</td>\n",
       "      <td>1140825600</td>\n",
       "      <td>60</td>\n",
       "      <td>Ken Robinson</td>\n",
       "      <td>Ken Robinson: Do schools kill creativity?</td>\n",
       "      <td>1</td>\n",
       "      <td>1151367060</td>\n",
       "      <td>[{'id': 7, 'name': 'Funny', 'count': 19645}, {...</td>\n",
       "      <td>[{'id': 865, 'hero': 'https://pe.tedcdn.com/im...</td>\n",
       "      <td>Author/educator</td>\n",
       "      <td>['children', 'creativity', 'culture', 'dance',...</td>\n",
       "      <td>Do schools kill creativity?</td>\n",
       "      <td>https://www.ted.com/talks/ken_robinson_says_sc...</td>\n",
       "      <td>47227110</td>\n",
       "      <td>10372.745443</td>\n",
       "    </tr>\n",
       "    <tr>\n",
       "      <th>1</th>\n",
       "      <td>265</td>\n",
       "      <td>With the same humor and humanity he exuded in ...</td>\n",
       "      <td>977</td>\n",
       "      <td>TED2006</td>\n",
       "      <td>1140825600</td>\n",
       "      <td>43</td>\n",
       "      <td>Al Gore</td>\n",
       "      <td>Al Gore: Averting the climate crisis</td>\n",
       "      <td>1</td>\n",
       "      <td>1151367060</td>\n",
       "      <td>[{'id': 7, 'name': 'Funny', 'count': 544}, {'i...</td>\n",
       "      <td>[{'id': 243, 'hero': 'https://pe.tedcdn.com/im...</td>\n",
       "      <td>Climate advocate</td>\n",
       "      <td>['alternative energy', 'cars', 'climate change...</td>\n",
       "      <td>Averting the climate crisis</td>\n",
       "      <td>https://www.ted.com/talks/al_gore_on_averting_...</td>\n",
       "      <td>3200520</td>\n",
       "      <td>12077.433962</td>\n",
       "    </tr>\n",
       "    <tr>\n",
       "      <th>2</th>\n",
       "      <td>124</td>\n",
       "      <td>New York Times columnist David Pogue takes aim...</td>\n",
       "      <td>1286</td>\n",
       "      <td>TED2006</td>\n",
       "      <td>1140739200</td>\n",
       "      <td>26</td>\n",
       "      <td>David Pogue</td>\n",
       "      <td>David Pogue: Simplicity sells</td>\n",
       "      <td>1</td>\n",
       "      <td>1151367060</td>\n",
       "      <td>[{'id': 7, 'name': 'Funny', 'count': 964}, {'i...</td>\n",
       "      <td>[{'id': 1725, 'hero': 'https://pe.tedcdn.com/i...</td>\n",
       "      <td>Technology columnist</td>\n",
       "      <td>['computers', 'entertainment', 'interface desi...</td>\n",
       "      <td>Simplicity sells</td>\n",
       "      <td>https://www.ted.com/talks/david_pogue_says_sim...</td>\n",
       "      <td>1636292</td>\n",
       "      <td>13195.903226</td>\n",
       "    </tr>\n",
       "    <tr>\n",
       "      <th>3</th>\n",
       "      <td>200</td>\n",
       "      <td>In an emotionally charged talk, MacArthur-winn...</td>\n",
       "      <td>1116</td>\n",
       "      <td>TED2006</td>\n",
       "      <td>1140912000</td>\n",
       "      <td>35</td>\n",
       "      <td>Majora Carter</td>\n",
       "      <td>Majora Carter: Greening the ghetto</td>\n",
       "      <td>1</td>\n",
       "      <td>1151367060</td>\n",
       "      <td>[{'id': 3, 'name': 'Courageous', 'count': 760}...</td>\n",
       "      <td>[{'id': 1041, 'hero': 'https://pe.tedcdn.com/i...</td>\n",
       "      <td>Activist for environmental justice</td>\n",
       "      <td>['MacArthur grant', 'activism', 'business', 'c...</td>\n",
       "      <td>Greening the ghetto</td>\n",
       "      <td>https://www.ted.com/talks/majora_carter_s_tale...</td>\n",
       "      <td>1697550</td>\n",
       "      <td>8487.750000</td>\n",
       "    </tr>\n",
       "  </tbody>\n",
       "</table>\n",
       "</div>"
      ],
      "text/plain": [
       "   comments                                        description  duration  \\\n",
       "0      4553  Sir Ken Robinson makes an entertaining and pro...      1164   \n",
       "1       265  With the same humor and humanity he exuded in ...       977   \n",
       "2       124  New York Times columnist David Pogue takes aim...      1286   \n",
       "3       200  In an emotionally charged talk, MacArthur-winn...      1116   \n",
       "\n",
       "     event   film_date  languages   main_speaker  \\\n",
       "0  TED2006  1140825600         60   Ken Robinson   \n",
       "1  TED2006  1140825600         43        Al Gore   \n",
       "2  TED2006  1140739200         26    David Pogue   \n",
       "3  TED2006  1140912000         35  Majora Carter   \n",
       "\n",
       "                                        name  num_speaker  published_date  \\\n",
       "0  Ken Robinson: Do schools kill creativity?            1      1151367060   \n",
       "1       Al Gore: Averting the climate crisis            1      1151367060   \n",
       "2              David Pogue: Simplicity sells            1      1151367060   \n",
       "3         Majora Carter: Greening the ghetto            1      1151367060   \n",
       "\n",
       "                                             ratings  \\\n",
       "0  [{'id': 7, 'name': 'Funny', 'count': 19645}, {...   \n",
       "1  [{'id': 7, 'name': 'Funny', 'count': 544}, {'i...   \n",
       "2  [{'id': 7, 'name': 'Funny', 'count': 964}, {'i...   \n",
       "3  [{'id': 3, 'name': 'Courageous', 'count': 760}...   \n",
       "\n",
       "                                       related_talks  \\\n",
       "0  [{'id': 865, 'hero': 'https://pe.tedcdn.com/im...   \n",
       "1  [{'id': 243, 'hero': 'https://pe.tedcdn.com/im...   \n",
       "2  [{'id': 1725, 'hero': 'https://pe.tedcdn.com/i...   \n",
       "3  [{'id': 1041, 'hero': 'https://pe.tedcdn.com/i...   \n",
       "\n",
       "                   speaker_occupation  \\\n",
       "0                     Author/educator   \n",
       "1                    Climate advocate   \n",
       "2                Technology columnist   \n",
       "3  Activist for environmental justice   \n",
       "\n",
       "                                                tags  \\\n",
       "0  ['children', 'creativity', 'culture', 'dance',...   \n",
       "1  ['alternative energy', 'cars', 'climate change...   \n",
       "2  ['computers', 'entertainment', 'interface desi...   \n",
       "3  ['MacArthur grant', 'activism', 'business', 'c...   \n",
       "\n",
       "                         title  \\\n",
       "0  Do schools kill creativity?   \n",
       "1  Averting the climate crisis   \n",
       "2             Simplicity sells   \n",
       "3          Greening the ghetto   \n",
       "\n",
       "                                                 url     views  \\\n",
       "0  https://www.ted.com/talks/ken_robinson_says_sc...  47227110   \n",
       "1  https://www.ted.com/talks/al_gore_on_averting_...   3200520   \n",
       "2  https://www.ted.com/talks/david_pogue_says_sim...   1636292   \n",
       "3  https://www.ted.com/talks/majora_carter_s_tale...   1697550   \n",
       "\n",
       "   comment Per View  \n",
       "0      10372.745443  \n",
       "1      12077.433962  \n",
       "2      13195.903226  \n",
       "3       8487.750000  "
      ]
     },
     "execution_count": 103,
     "metadata": {},
     "output_type": "execute_result"
    }
   ],
   "source": [
    "ted['comment Per View']=ted.views/ted.comments\n",
    "ted.head(4)"
   ]
  },
  {
   "cell_type": "code",
   "execution_count": 104,
   "id": "exciting-galaxy",
   "metadata": {},
   "outputs": [
    {
     "data": {
      "text/plain": [
       "<AxesSubplot:>"
      ]
     },
     "execution_count": 104,
     "metadata": {},
     "output_type": "execute_result"
    },
    {
     "data": {
      "image/png": "[encoded data removed]",
      "text/plain": [
       "<Figure size 432x288 with 1 Axes>"
      ]
     },
     "metadata": {
      "needs_background": "light"
     },
     "output_type": "display_data"
    }
   ],
   "source": [
    "ted.comments.plot()"
   ]
  },
  {
   "cell_type": "code",
   "execution_count": 105,
   "id": "connected-willow",
   "metadata": {},
   "outputs": [
    {
     "data": {
      "text/plain": [
       "<AxesSubplot:ylabel='Frequency'>"
      ]
     },
     "execution_count": 105,
     "metadata": {},
     "output_type": "execute_result"
    },
    {
     "data": {
      "image/png": "[encoded data removed]",
      "text/plain": [
       "<Figure size 432x288 with 1 Axes>"
      ]
     },
     "metadata": {
      "needs_background": "light"
     },
     "output_type": "display_data"
    }
   ],
   "source": [
    "ted.loc[ted.comments < 1000, 'comments'].plot(kind='hist',bins=20)"
   ]
  },
  {
   "cell_type": "code",
   "execution_count": 106,
   "id": "qualified-artist",
   "metadata": {},
   "outputs": [
    {
     "data": {
      "text/plain": [
       "2469    TEDxRiodelaPlata\n",
       "910              TED2011\n",
       "1176             TED2012\n",
       "803       TEDGlobal 2010\n",
       "240              TED2003\n",
       "2194             TED2016\n",
       "1160             TED2012\n",
       "502            TED@State\n",
       "843     TEDxToronto 2010\n",
       "2178             TED2016\n",
       "Name: event, dtype: object"
      ]
     },
     "execution_count": 106,
     "metadata": {},
     "output_type": "execute_result"
    }
   ],
   "source": [
    "ted.event.sample(10)"
   ]
  },
  {
   "cell_type": "code",
   "execution_count": 107,
   "id": "former-fancy",
   "metadata": {},
   "outputs": [
    {
     "data": {
      "text/plain": [
       "0       1140825600\n",
       "1       1140825600\n",
       "2       1140739200\n",
       "3       1140912000\n",
       "4       1140566400\n",
       "           ...    \n",
       "2545    1496707200\n",
       "2546    1492992000\n",
       "2547    1492992000\n",
       "2548    1499472000\n",
       "2549    1492992000\n",
       "Name: film_date, Length: 2550, dtype: int64"
      ]
     },
     "execution_count": 107,
     "metadata": {},
     "output_type": "execute_result"
    }
   ],
   "source": [
    "ted.film_date"
   ]
  },
  {
   "cell_type": "code",
   "execution_count": 108,
   "id": "working-inside",
   "metadata": {},
   "outputs": [
    {
     "data": {
      "text/plain": [
       "0      1970-01-01 00:00:01.140825600\n",
       "1      1970-01-01 00:00:01.140825600\n",
       "2      1970-01-01 00:00:01.140739200\n",
       "3      1970-01-01 00:00:01.140912000\n",
       "4      1970-01-01 00:00:01.140566400\n",
       "                    ...             \n",
       "2545   1970-01-01 00:00:01.496707200\n",
       "2546   1970-01-01 00:00:01.492992000\n",
       "2547   1970-01-01 00:00:01.492992000\n",
       "2548   1970-01-01 00:00:01.499472000\n",
       "2549   1970-01-01 00:00:01.492992000\n",
       "Name: film_date, Length: 2550, dtype: datetime64[ns]"
      ]
     },
     "execution_count": 108,
     "metadata": {},
     "output_type": "execute_result"
    }
   ],
   "source": [
    "pd.to_datetime(ted.film_date)"
   ]
  },
  {
   "cell_type": "code",
   "execution_count": 109,
   "id": "parental-rover",
   "metadata": {},
   "outputs": [
    {
     "data": {
      "text/html": [
       "<div>\n",
       "<style scoped>\n",
       "    .dataframe tbody tr th:only-of-type {\n",
       "        vertical-align: middle;\n",
       "    }\n",
       "\n",
       "    .dataframe tbody tr th {\n",
       "        vertical-align: top;\n",
       "    }\n",
       "\n",
       "    .dataframe thead th {\n",
       "        text-align: right;\n",
       "    }\n",
       "</style>\n",
       "<table border=\"1\" class=\"dataframe\">\n",
       "  <thead>\n",
       "    <tr style=\"text-align: right;\">\n",
       "      <th></th>\n",
       "      <th>comments</th>\n",
       "      <th>description</th>\n",
       "      <th>duration</th>\n",
       "      <th>event</th>\n",
       "      <th>film_date</th>\n",
       "      <th>languages</th>\n",
       "      <th>main_speaker</th>\n",
       "      <th>name</th>\n",
       "      <th>num_speaker</th>\n",
       "      <th>published_date</th>\n",
       "      <th>ratings</th>\n",
       "      <th>related_talks</th>\n",
       "      <th>speaker_occupation</th>\n",
       "      <th>tags</th>\n",
       "      <th>title</th>\n",
       "      <th>url</th>\n",
       "      <th>views</th>\n",
       "      <th>comment Per View</th>\n",
       "      <th>New_Date_Time</th>\n",
       "    </tr>\n",
       "  </thead>\n",
       "  <tbody>\n",
       "    <tr>\n",
       "      <th>0</th>\n",
       "      <td>4553</td>\n",
       "      <td>Sir Ken Robinson makes an entertaining and pro...</td>\n",
       "      <td>1164</td>\n",
       "      <td>TED2006</td>\n",
       "      <td>1140825600</td>\n",
       "      <td>60</td>\n",
       "      <td>Ken Robinson</td>\n",
       "      <td>Ken Robinson: Do schools kill creativity?</td>\n",
       "      <td>1</td>\n",
       "      <td>1151367060</td>\n",
       "      <td>[{'id': 7, 'name': 'Funny', 'count': 19645}, {...</td>\n",
       "      <td>[{'id': 865, 'hero': 'https://pe.tedcdn.com/im...</td>\n",
       "      <td>Author/educator</td>\n",
       "      <td>['children', 'creativity', 'culture', 'dance',...</td>\n",
       "      <td>Do schools kill creativity?</td>\n",
       "      <td>https://www.ted.com/talks/ken_robinson_says_sc...</td>\n",
       "      <td>47227110</td>\n",
       "      <td>10372.745443</td>\n",
       "      <td>2006-02-25</td>\n",
       "    </tr>\n",
       "    <tr>\n",
       "      <th>1</th>\n",
       "      <td>265</td>\n",
       "      <td>With the same humor and humanity he exuded in ...</td>\n",
       "      <td>977</td>\n",
       "      <td>TED2006</td>\n",
       "      <td>1140825600</td>\n",
       "      <td>43</td>\n",
       "      <td>Al Gore</td>\n",
       "      <td>Al Gore: Averting the climate crisis</td>\n",
       "      <td>1</td>\n",
       "      <td>1151367060</td>\n",
       "      <td>[{'id': 7, 'name': 'Funny', 'count': 544}, {'i...</td>\n",
       "      <td>[{'id': 243, 'hero': 'https://pe.tedcdn.com/im...</td>\n",
       "      <td>Climate advocate</td>\n",
       "      <td>['alternative energy', 'cars', 'climate change...</td>\n",
       "      <td>Averting the climate crisis</td>\n",
       "      <td>https://www.ted.com/talks/al_gore_on_averting_...</td>\n",
       "      <td>3200520</td>\n",
       "      <td>12077.433962</td>\n",
       "      <td>2006-02-25</td>\n",
       "    </tr>\n",
       "    <tr>\n",
       "      <th>2</th>\n",
       "      <td>124</td>\n",
       "      <td>New York Times columnist David Pogue takes aim...</td>\n",
       "      <td>1286</td>\n",
       "      <td>TED2006</td>\n",
       "      <td>1140739200</td>\n",
       "      <td>26</td>\n",
       "      <td>David Pogue</td>\n",
       "      <td>David Pogue: Simplicity sells</td>\n",
       "      <td>1</td>\n",
       "      <td>1151367060</td>\n",
       "      <td>[{'id': 7, 'name': 'Funny', 'count': 964}, {'i...</td>\n",
       "      <td>[{'id': 1725, 'hero': 'https://pe.tedcdn.com/i...</td>\n",
       "      <td>Technology columnist</td>\n",
       "      <td>['computers', 'entertainment', 'interface desi...</td>\n",
       "      <td>Simplicity sells</td>\n",
       "      <td>https://www.ted.com/talks/david_pogue_says_sim...</td>\n",
       "      <td>1636292</td>\n",
       "      <td>13195.903226</td>\n",
       "      <td>2006-02-24</td>\n",
       "    </tr>\n",
       "    <tr>\n",
       "      <th>3</th>\n",
       "      <td>200</td>\n",
       "      <td>In an emotionally charged talk, MacArthur-winn...</td>\n",
       "      <td>1116</td>\n",
       "      <td>TED2006</td>\n",
       "      <td>1140912000</td>\n",
       "      <td>35</td>\n",
       "      <td>Majora Carter</td>\n",
       "      <td>Majora Carter: Greening the ghetto</td>\n",
       "      <td>1</td>\n",
       "      <td>1151367060</td>\n",
       "      <td>[{'id': 3, 'name': 'Courageous', 'count': 760}...</td>\n",
       "      <td>[{'id': 1041, 'hero': 'https://pe.tedcdn.com/i...</td>\n",
       "      <td>Activist for environmental justice</td>\n",
       "      <td>['MacArthur grant', 'activism', 'business', 'c...</td>\n",
       "      <td>Greening the ghetto</td>\n",
       "      <td>https://www.ted.com/talks/majora_carter_s_tale...</td>\n",
       "      <td>1697550</td>\n",
       "      <td>8487.750000</td>\n",
       "      <td>2006-02-26</td>\n",
       "    </tr>\n",
       "  </tbody>\n",
       "</table>\n",
       "</div>"
      ],
      "text/plain": [
       "   comments                                        description  duration  \\\n",
       "0      4553  Sir Ken Robinson makes an entertaining and pro...      1164   \n",
       "1       265  With the same humor and humanity he exuded in ...       977   \n",
       "2       124  New York Times columnist David Pogue takes aim...      1286   \n",
       "3       200  In an emotionally charged talk, MacArthur-winn...      1116   \n",
       "\n",
       "     event   film_date  languages   main_speaker  \\\n",
       "0  TED2006  1140825600         60   Ken Robinson   \n",
       "1  TED2006  1140825600         43        Al Gore   \n",
       "2  TED2006  1140739200         26    David Pogue   \n",
       "3  TED2006  1140912000         35  Majora Carter   \n",
       "\n",
       "                                        name  num_speaker  published_date  \\\n",
       "0  Ken Robinson: Do schools kill creativity?            1      1151367060   \n",
       "1       Al Gore: Averting the climate crisis            1      1151367060   \n",
       "2              David Pogue: Simplicity sells            1      1151367060   \n",
       "3         Majora Carter: Greening the ghetto            1      1151367060   \n",
       "\n",
       "                                             ratings  \\\n",
       "0  [{'id': 7, 'name': 'Funny', 'count': 19645}, {...   \n",
       "1  [{'id': 7, 'name': 'Funny', 'count': 544}, {'i...   \n",
       "2  [{'id': 7, 'name': 'Funny', 'count': 964}, {'i...   \n",
       "3  [{'id': 3, 'name': 'Courageous', 'count': 760}...   \n",
       "\n",
       "                                       related_talks  \\\n",
       "0  [{'id': 865, 'hero': 'https://pe.tedcdn.com/im...   \n",
       "1  [{'id': 243, 'hero': 'https://pe.tedcdn.com/im...   \n",
       "2  [{'id': 1725, 'hero': 'https://pe.tedcdn.com/i...   \n",
       "3  [{'id': 1041, 'hero': 'https://pe.tedcdn.com/i...   \n",
       "\n",
       "                   speaker_occupation  \\\n",
       "0                     Author/educator   \n",
       "1                    Climate advocate   \n",
       "2                Technology columnist   \n",
       "3  Activist for environmental justice   \n",
       "\n",
       "                                                tags  \\\n",
       "0  ['children', 'creativity', 'culture', 'dance',...   \n",
       "1  ['alternative energy', 'cars', 'climate change...   \n",
       "2  ['computers', 'entertainment', 'interface desi...   \n",
       "3  ['MacArthur grant', 'activism', 'business', 'c...   \n",
       "\n",
       "                         title  \\\n",
       "0  Do schools kill creativity?   \n",
       "1  Averting the climate crisis   \n",
       "2             Simplicity sells   \n",
       "3          Greening the ghetto   \n",
       "\n",
       "                                                 url     views  \\\n",
       "0  https://www.ted.com/talks/ken_robinson_says_sc...  47227110   \n",
       "1  https://www.ted.com/talks/al_gore_on_averting_...   3200520   \n",
       "2  https://www.ted.com/talks/david_pogue_says_sim...   1636292   \n",
       "3  https://www.ted.com/talks/majora_carter_s_tale...   1697550   \n",
       "\n",
       "   comment Per View New_Date_Time  \n",
       "0      10372.745443    2006-02-25  \n",
       "1      12077.433962    2006-02-25  \n",
       "2      13195.903226    2006-02-24  \n",
       "3       8487.750000    2006-02-26  "
      ]
     },
     "execution_count": 109,
     "metadata": {},
     "output_type": "execute_result"
    }
   ],
   "source": [
    "ted['New_Date_Time']=pd.to_datetime(ted.film_date,unit='s')\n",
    "ted.head(4)"
   ]
  },
  {
   "cell_type": "code",
   "execution_count": 110,
   "id": "domestic-whole",
   "metadata": {},
   "outputs": [
    {
     "data": {
      "text/html": [
       "<div>\n",
       "<style scoped>\n",
       "    .dataframe tbody tr th:only-of-type {\n",
       "        vertical-align: middle;\n",
       "    }\n",
       "\n",
       "    .dataframe tbody tr th {\n",
       "        vertical-align: top;\n",
       "    }\n",
       "\n",
       "    .dataframe thead th {\n",
       "        text-align: right;\n",
       "    }\n",
       "</style>\n",
       "<table border=\"1\" class=\"dataframe\">\n",
       "  <thead>\n",
       "    <tr style=\"text-align: right;\">\n",
       "      <th></th>\n",
       "      <th>event</th>\n",
       "      <th>New_Date_Time</th>\n",
       "    </tr>\n",
       "  </thead>\n",
       "  <tbody>\n",
       "    <tr>\n",
       "      <th>1373</th>\n",
       "      <td>TEDxMaui</td>\n",
       "      <td>2012-04-10</td>\n",
       "    </tr>\n",
       "    <tr>\n",
       "      <th>1608</th>\n",
       "      <td>TEDSalon NY2013</td>\n",
       "      <td>2013-07-25</td>\n",
       "    </tr>\n",
       "    <tr>\n",
       "      <th>1874</th>\n",
       "      <td>TED2014</td>\n",
       "      <td>2014-03-20</td>\n",
       "    </tr>\n",
       "    <tr>\n",
       "      <th>487</th>\n",
       "      <td>TED2009</td>\n",
       "      <td>2009-02-06</td>\n",
       "    </tr>\n",
       "    <tr>\n",
       "      <th>979</th>\n",
       "      <td>TEDGlobal 2011</td>\n",
       "      <td>2011-07-12</td>\n",
       "    </tr>\n",
       "  </tbody>\n",
       "</table>\n",
       "</div>"
      ],
      "text/plain": [
       "                event New_Date_Time\n",
       "1373         TEDxMaui    2012-04-10\n",
       "1608  TEDSalon NY2013    2013-07-25\n",
       "1874          TED2014    2014-03-20\n",
       "487           TED2009    2009-02-06\n",
       "979    TEDGlobal 2011    2011-07-12"
      ]
     },
     "execution_count": 110,
     "metadata": {},
     "output_type": "execute_result"
    }
   ],
   "source": [
    "ted[['event','New_Date_Time']].sample(5)"
   ]
  },
  {
   "cell_type": "code",
   "execution_count": 111,
   "id": "exceptional-exploration",
   "metadata": {},
   "outputs": [
    {
     "name": "stdout",
     "output_type": "stream",
     "text": [
      "0       2006\n",
      "1       2006\n",
      "2       2006\n",
      "3       2006\n",
      "4       2006\n",
      "        ... \n",
      "2545    2017\n",
      "2546    2017\n",
      "2547    2017\n",
      "2548    2017\n",
      "2549    2017\n",
      "Name: New_Date_Time, Length: 2550, dtype: int64\n",
      "686     1972\n",
      "629     1983\n",
      "200     1984\n",
      "202     1990\n",
      "600     1991\n",
      "        ... \n",
      "2462    2017\n",
      "2460    2017\n",
      "2458    2017\n",
      "2477    2017\n",
      "2549    2017\n",
      "Name: New_Date_Time, Length: 2550, dtype: int64\n"
     ]
    }
   ],
   "source": [
    "print(ted.New_Date_Time.dt.year)\n",
    "print(ted.New_Date_Time.dt.year.sort_values())"
   ]
  },
  {
   "cell_type": "code",
   "execution_count": 112,
   "id": "unexpected-starter",
   "metadata": {},
   "outputs": [
    {
     "name": "stdout",
     "output_type": "stream",
     "text": [
      "2013    270\n",
      "2011    270\n",
      "2010    267\n",
      "2012    267\n",
      "2016    246\n",
      "2015    239\n",
      "2014    237\n",
      "2009    232\n",
      "2007    114\n",
      "2017     98\n",
      "2008     84\n",
      "2005     66\n",
      "2006     50\n",
      "2003     33\n",
      "2004     33\n",
      "2002     27\n",
      "1998      6\n",
      "2001      5\n",
      "1984      1\n",
      "1983      1\n",
      "1991      1\n",
      "1994      1\n",
      "1990      1\n",
      "1972      1\n",
      "Name: New_Date_Time, dtype: int64\n",
      "1972      1\n",
      "1983      1\n",
      "1984      1\n",
      "1990      1\n",
      "1991      1\n",
      "1994      1\n",
      "1998      6\n",
      "2001      5\n",
      "2002     27\n",
      "2003     33\n",
      "2004     33\n",
      "2005     66\n",
      "2006     50\n",
      "2007    114\n",
      "2008     84\n",
      "2009    232\n",
      "2010    267\n",
      "2011    270\n",
      "2012    267\n",
      "2013    270\n",
      "2014    237\n",
      "2015    239\n",
      "2016    246\n",
      "2017     98\n",
      "Name: New_Date_Time, dtype: int64\n"
     ]
    }
   ],
   "source": [
    "print(ted.New_Date_Time.dt.year.value_counts())\n",
    "print(ted.New_Date_Time.dt.year.value_counts().sort_index())\n"
   ]
  },
  {
   "cell_type": "code",
   "execution_count": 113,
   "id": "innovative-netscape",
   "metadata": {},
   "outputs": [
    {
     "name": "stdout",
     "output_type": "stream",
     "text": [
      "AxesSubplot(0.125,0.125;0.775x0.755)\n",
      "AxesSubplot(0.125,0.125;0.775x0.755)\n"
     ]
    },
    {
     "data": {
      "image/png": "[encoded data removed]",
      "text/plain": [
       "<Figure size 432x288 with 1 Axes>"
      ]
     },
     "metadata": {
      "needs_background": "light"
     },
     "output_type": "display_data"
    }
   ],
   "source": [
    "print(ted.New_Date_Time.dt.year.value_counts().plot())\n",
    "print(ted.New_Date_Time.dt.year.value_counts().sort_index().plot())"
   ]
  },
  {
   "cell_type": "code",
   "execution_count": 114,
   "id": "dominican-verse",
   "metadata": {},
   "outputs": [
    {
     "data": {
      "text/plain": [
       "<AxesSubplot:>"
      ]
     },
     "execution_count": 114,
     "metadata": {},
     "output_type": "execute_result"
    },
    {
     "data": {
      "image/png": "[encoded data removed]",
      "text/plain": [
       "<Figure size 432x288 with 1 Axes>"
      ]
     },
     "metadata": {
      "needs_background": "light"
     },
     "output_type": "display_data"
    }
   ],
   "source": [
    "ted.New_Date_Time.dt.year.value_counts().sort_index().plot()"
   ]
  },
  {
   "cell_type": "markdown",
   "id": "stylish-compression",
   "metadata": {},
   "source": [
    "# best history in ted event"
   ]
  },
  {
   "cell_type": "code",
   "execution_count": 115,
   "id": "bridal-cable",
   "metadata": {},
   "outputs": [
    {
     "data": {
      "text/plain": [
       "TED2014                  84\n",
       "TED2009                  83\n",
       "TED2013                  77\n",
       "TED2016                  77\n",
       "TED2015                  75\n",
       "                         ..\n",
       "SoulPancake               1\n",
       "TEDxEastEnd               1\n",
       "TEDxGoodenoughCollege     1\n",
       "TEDxJaffa 2012            1\n",
       "TEDxZurich 2013           1\n",
       "Name: event, Length: 355, dtype: int64"
      ]
     },
     "execution_count": 115,
     "metadata": {},
     "output_type": "execute_result"
    }
   ],
   "source": [
    "ted.event.value_counts()"
   ]
  },
  {
   "cell_type": "code",
   "execution_count": 116,
   "id": "accompanied-sugar",
   "metadata": {},
   "outputs": [
    {
     "data": {
      "text/plain": [
       "event\n",
       "TEDxNorrkoping        6569493.0\n",
       "TEDxCreativeCoast     8444981.0\n",
       "TEDxBloomington       9484259.5\n",
       "TEDxHouston          16140250.5\n",
       "TEDxPuget Sound      34309432.0\n",
       "Name: views, dtype: float64"
      ]
     },
     "execution_count": 116,
     "metadata": {},
     "output_type": "execute_result"
    }
   ],
   "source": [
    "ted.groupby('event').views.mean().sort_values().tail()"
   ]
  },
  {
   "cell_type": "code",
   "execution_count": 117,
   "id": "painful-preference",
   "metadata": {},
   "outputs": [
    {
     "data": {
      "text/html": [
       "<div>\n",
       "<style scoped>\n",
       "    .dataframe tbody tr th:only-of-type {\n",
       "        vertical-align: middle;\n",
       "    }\n",
       "\n",
       "    .dataframe tbody tr th {\n",
       "        vertical-align: top;\n",
       "    }\n",
       "\n",
       "    .dataframe thead th {\n",
       "        text-align: right;\n",
       "    }\n",
       "</style>\n",
       "<table border=\"1\" class=\"dataframe\">\n",
       "  <thead>\n",
       "    <tr style=\"text-align: right;\">\n",
       "      <th></th>\n",
       "      <th>mean</th>\n",
       "      <th>sum</th>\n",
       "      <th>count</th>\n",
       "    </tr>\n",
       "    <tr>\n",
       "      <th>event</th>\n",
       "      <th></th>\n",
       "      <th></th>\n",
       "      <th></th>\n",
       "    </tr>\n",
       "  </thead>\n",
       "  <tbody>\n",
       "    <tr>\n",
       "      <th>TEDxNorrkoping</th>\n",
       "      <td>6569493.0</td>\n",
       "      <td>6569493</td>\n",
       "      <td>1</td>\n",
       "    </tr>\n",
       "    <tr>\n",
       "      <th>TEDxCreativeCoast</th>\n",
       "      <td>8444981.0</td>\n",
       "      <td>8444981</td>\n",
       "      <td>1</td>\n",
       "    </tr>\n",
       "    <tr>\n",
       "      <th>TEDxBloomington</th>\n",
       "      <td>9484259.5</td>\n",
       "      <td>18968519</td>\n",
       "      <td>2</td>\n",
       "    </tr>\n",
       "    <tr>\n",
       "      <th>TEDxHouston</th>\n",
       "      <td>16140250.5</td>\n",
       "      <td>32280501</td>\n",
       "      <td>2</td>\n",
       "    </tr>\n",
       "    <tr>\n",
       "      <th>TEDxPuget Sound</th>\n",
       "      <td>34309432.0</td>\n",
       "      <td>34309432</td>\n",
       "      <td>1</td>\n",
       "    </tr>\n",
       "  </tbody>\n",
       "</table>\n",
       "</div>"
      ],
      "text/plain": [
       "                         mean       sum  count\n",
       "event                                         \n",
       "TEDxNorrkoping      6569493.0   6569493      1\n",
       "TEDxCreativeCoast   8444981.0   8444981      1\n",
       "TEDxBloomington     9484259.5  18968519      2\n",
       "TEDxHouston        16140250.5  32280501      2\n",
       "TEDxPuget Sound    34309432.0  34309432      1"
      ]
     },
     "execution_count": 117,
     "metadata": {},
     "output_type": "execute_result"
    }
   ],
   "source": [
    "ted.groupby('event').views.agg(['mean','sum','count']).sort_values('mean').tail()\n",
    "# ted.groupby('event').views.agg(['count','mean','sum']).sort_values('sum').tail()\n"
   ]
  },
  {
   "cell_type": "code",
   "execution_count": 118,
   "id": "humanitarian-peoples",
   "metadata": {},
   "outputs": [
    {
     "data": {
      "text/plain": [
       "0    [{'id': 7, 'name': 'Funny', 'count': 19645}, {...\n",
       "1    [{'id': 7, 'name': 'Funny', 'count': 544}, {'i...\n",
       "2    [{'id': 7, 'name': 'Funny', 'count': 964}, {'i...\n",
       "3    [{'id': 3, 'name': 'Courageous', 'count': 760}...\n",
       "4    [{'id': 9, 'name': 'Ingenious', 'count': 3202}...\n",
       "Name: ratings, dtype: object"
      ]
     },
     "execution_count": 118,
     "metadata": {},
     "output_type": "execute_result"
    }
   ],
   "source": [
    "ted.ratings.head()"
   ]
  },
  {
   "cell_type": "code",
   "execution_count": 119,
   "id": "manufactured-amendment",
   "metadata": {},
   "outputs": [
    {
     "data": {
      "text/plain": [
       "\"[{'id': 7, 'name': 'Funny', 'count': 19645}, {'id': 1, 'name': 'Beautiful', 'count': 4573}, {'id': 9, 'name': 'Ingenious', 'count': 6073}, {'id': 3, 'name': 'Courageous', 'count': 3253}, {'id': 11, 'name': 'Longwinded', 'count': 387}, {'id': 2, 'name': 'Confusing', 'count': 242}, {'id': 8, 'name': 'Informative', 'count': 7346}, {'id': 22, 'name': 'Fascinating', 'count': 10581}, {'id': 21, 'name': 'Unconvincing', 'count': 300}, {'id': 24, 'name': 'Persuasive', 'count': 10704}, {'id': 23, 'name': 'Jaw-dropping', 'count': 4439}, {'id': 25, 'name': 'OK', 'count': 1174}, {'id': 26, 'name': 'Obnoxious', 'count': 209}, {'id': 10, 'name': 'Inspiring', 'count': 24924}]\""
      ]
     },
     "execution_count": 119,
     "metadata": {},
     "output_type": "execute_result"
    }
   ],
   "source": [
    "# ted.ratings.loc([0]).head()#error\n",
    "ted.loc[0,'ratings']"
   ]
  },
  {
   "cell_type": "code",
   "execution_count": 120,
   "id": "romance-medicare",
   "metadata": {},
   "outputs": [
    {
     "data": {
      "text/plain": [
       "str"
      ]
     },
     "execution_count": 120,
     "metadata": {},
     "output_type": "execute_result"
    }
   ],
   "source": [
    "type(ted.ratings[0])"
   ]
  },
  {
   "cell_type": "code",
   "execution_count": 121,
   "id": "fundamental-questionnaire",
   "metadata": {},
   "outputs": [],
   "source": [
    "import ast #it make str to list"
   ]
  },
  {
   "cell_type": "code",
   "execution_count": 122,
   "id": "rational-disability",
   "metadata": {},
   "outputs": [
    {
     "data": {
      "text/plain": [
       "[{'id': 7, 'name': 'Funny', 'count': 19645},\n",
       " {'id': 1, 'name': 'Beautiful', 'count': 4573},\n",
       " {'id': 9, 'name': 'Ingenious', 'count': 6073},\n",
       " {'id': 3, 'name': 'Courageous', 'count': 3253},\n",
       " {'id': 11, 'name': 'Longwinded', 'count': 387},\n",
       " {'id': 2, 'name': 'Confusing', 'count': 242},\n",
       " {'id': 8, 'name': 'Informative', 'count': 7346},\n",
       " {'id': 22, 'name': 'Fascinating', 'count': 10581},\n",
       " {'id': 21, 'name': 'Unconvincing', 'count': 300},\n",
       " {'id': 24, 'name': 'Persuasive', 'count': 10704},\n",
       " {'id': 23, 'name': 'Jaw-dropping', 'count': 4439},\n",
       " {'id': 25, 'name': 'OK', 'count': 1174},\n",
       " {'id': 26, 'name': 'Obnoxious', 'count': 209},\n",
       " {'id': 10, 'name': 'Inspiring', 'count': 24924}]"
      ]
     },
     "execution_count": 122,
     "metadata": {},
     "output_type": "execute_result"
    }
   ],
   "source": [
    "# important\n",
    "ast.literal_eval(ted.ratings[0])"
   ]
  },
  {
   "cell_type": "code",
   "execution_count": 123,
   "id": "substantial-residence",
   "metadata": {},
   "outputs": [
    {
     "data": {
      "text/plain": [
       "list"
      ]
     },
     "execution_count": 123,
     "metadata": {},
     "output_type": "execute_result"
    }
   ],
   "source": [
    "type(ast.literal_eval(ted.ratings[0]))"
   ]
  },
  {
   "cell_type": "code",
   "execution_count": 124,
   "id": "square-miami",
   "metadata": {},
   "outputs": [],
   "source": [
    "def str_to_list(rating_str):\n",
    "    return ast.literal_eval(rating_str)"
   ]
  },
  {
   "cell_type": "code",
   "execution_count": 125,
   "id": "least-clinic",
   "metadata": {},
   "outputs": [
    {
     "data": {
      "text/plain": [
       "[{'id': 7, 'name': 'Funny', 'count': 19645},\n",
       " {'id': 1, 'name': 'Beautiful', 'count': 4573},\n",
       " {'id': 9, 'name': 'Ingenious', 'count': 6073},\n",
       " {'id': 3, 'name': 'Courageous', 'count': 3253},\n",
       " {'id': 11, 'name': 'Longwinded', 'count': 387},\n",
       " {'id': 2, 'name': 'Confusing', 'count': 242},\n",
       " {'id': 8, 'name': 'Informative', 'count': 7346},\n",
       " {'id': 22, 'name': 'Fascinating', 'count': 10581},\n",
       " {'id': 21, 'name': 'Unconvincing', 'count': 300},\n",
       " {'id': 24, 'name': 'Persuasive', 'count': 10704},\n",
       " {'id': 23, 'name': 'Jaw-dropping', 'count': 4439},\n",
       " {'id': 25, 'name': 'OK', 'count': 1174},\n",
       " {'id': 26, 'name': 'Obnoxious', 'count': 209},\n",
       " {'id': 10, 'name': 'Inspiring', 'count': 24924}]"
      ]
     },
     "execution_count": 125,
     "metadata": {},
     "output_type": "execute_result"
    }
   ],
   "source": [
    "str_to_list(ted.ratings[0])"
   ]
  },
  {
   "cell_type": "code",
   "execution_count": 126,
   "id": "greek-stocks",
   "metadata": {},
   "outputs": [
    {
     "data": {
      "text/plain": [
       "0       [{'id': 7, 'name': 'Funny', 'count': 19645}, {...\n",
       "1       [{'id': 7, 'name': 'Funny', 'count': 544}, {'i...\n",
       "2       [{'id': 7, 'name': 'Funny', 'count': 964}, {'i...\n",
       "3       [{'id': 3, 'name': 'Courageous', 'count': 760}...\n",
       "4       [{'id': 9, 'name': 'Ingenious', 'count': 3202}...\n",
       "                              ...                        \n",
       "2545    [{'id': 3, 'name': 'Courageous', 'count': 24},...\n",
       "2546    [{'id': 22, 'name': 'Fascinating', 'count': 32...\n",
       "2547    [{'id': 1, 'name': 'Beautiful', 'count': 14}, ...\n",
       "2548    [{'id': 11, 'name': 'Longwinded', 'count': 3},...\n",
       "2549    [{'id': 21, 'name': 'Unconvincing', 'count': 2...\n",
       "Name: ratings, Length: 2550, dtype: object"
      ]
     },
     "execution_count": 126,
     "metadata": {},
     "output_type": "execute_result"
    }
   ],
   "source": [
    "#samethings with apply function\n",
    "ted.ratings.apply(ast.literal_eval)"
   ]
  },
  {
   "cell_type": "code",
   "execution_count": 127,
   "id": "choice-price",
   "metadata": {},
   "outputs": [],
   "source": [
    "#important with lambda function\n",
    "ted['new_ratings']=ted.ratings.apply(lambda x : ast.literal_eval(x))"
   ]
  },
  {
   "cell_type": "code",
   "execution_count": 128,
   "id": "bridal-designer",
   "metadata": {},
   "outputs": [
    {
     "data": {
      "text/plain": [
       "comments                       int64\n",
       "description                   object\n",
       "duration                       int64\n",
       "event                         object\n",
       "film_date                      int64\n",
       "languages                      int64\n",
       "main_speaker                  object\n",
       "name                          object\n",
       "num_speaker                    int64\n",
       "published_date                 int64\n",
       "ratings                       object\n",
       "related_talks                 object\n",
       "speaker_occupation            object\n",
       "tags                          object\n",
       "title                         object\n",
       "url                           object\n",
       "views                          int64\n",
       "comment Per View             float64\n",
       "New_Date_Time         datetime64[ns]\n",
       "new_ratings                   object\n",
       "dtype: object"
      ]
     },
     "execution_count": 128,
     "metadata": {},
     "output_type": "execute_result"
    }
   ],
   "source": [
    "ted.dtypes\n",
    "#rating is a object not str"
   ]
  },
  {
   "cell_type": "markdown",
   "id": "human-simon",
   "metadata": {},
   "source": [
    "# count total number of ratings eatch talk"
   ]
  },
  {
   "cell_type": "code",
   "execution_count": 129,
   "id": "human-opera",
   "metadata": {
    "scrolled": true
   },
   "outputs": [
    {
     "data": {
      "text/plain": [
       "[{'id': 7, 'name': 'Funny', 'count': 19645},\n",
       " {'id': 1, 'name': 'Beautiful', 'count': 4573},\n",
       " {'id': 9, 'name': 'Ingenious', 'count': 6073},\n",
       " {'id': 3, 'name': 'Courageous', 'count': 3253},\n",
       " {'id': 11, 'name': 'Longwinded', 'count': 387},\n",
       " {'id': 2, 'name': 'Confusing', 'count': 242},\n",
       " {'id': 8, 'name': 'Informative', 'count': 7346},\n",
       " {'id': 22, 'name': 'Fascinating', 'count': 10581},\n",
       " {'id': 21, 'name': 'Unconvincing', 'count': 300},\n",
       " {'id': 24, 'name': 'Persuasive', 'count': 10704},\n",
       " {'id': 23, 'name': 'Jaw-dropping', 'count': 4439},\n",
       " {'id': 25, 'name': 'OK', 'count': 1174},\n",
       " {'id': 26, 'name': 'Obnoxious', 'count': 209},\n",
       " {'id': 10, 'name': 'Inspiring', 'count': 24924}]"
      ]
     },
     "execution_count": 129,
     "metadata": {},
     "output_type": "execute_result"
    }
   ],
   "source": [
    "ted.new_ratings[0]"
   ]
  },
  {
   "cell_type": "code",
   "execution_count": 130,
   "id": "unavailable-morning",
   "metadata": {},
   "outputs": [
    {
     "data": {
      "text/plain": [
       "3253"
      ]
     },
     "execution_count": 130,
     "metadata": {},
     "output_type": "execute_result"
    }
   ],
   "source": [
    "ted.new_ratings[0][3]['count']"
   ]
  },
  {
   "cell_type": "code",
   "execution_count": 131,
   "id": "infrared-agent",
   "metadata": {},
   "outputs": [],
   "source": [
    "#important\n",
    "def get_ratings_count(count_ratings):\n",
    "    return count_ratings[0]['count']"
   ]
  },
  {
   "cell_type": "code",
   "execution_count": 132,
   "id": "white-prescription",
   "metadata": {},
   "outputs": [
    {
     "data": {
      "text/plain": [
       "760"
      ]
     },
     "execution_count": 132,
     "metadata": {},
     "output_type": "execute_result"
    }
   ],
   "source": [
    "get_ratings_count(ted.new_ratings[3])#gives a unknown value"
   ]
  },
  {
   "cell_type": "code",
   "execution_count": 133,
   "id": "metric-brazil",
   "metadata": {},
   "outputs": [
    {
     "data": {
      "text/plain": [
       "93850"
      ]
     },
     "execution_count": 133,
     "metadata": {},
     "output_type": "execute_result"
    }
   ],
   "source": [
    "def get_ratings(list_of_dict):\n",
    "    num=0\n",
    "    for d in list_of_dict:\n",
    "        num = num + d['count']\n",
    "    return num\n",
    "get_ratings(ted.new_ratings[0])"
   ]
  },
  {
   "cell_type": "code",
   "execution_count": 137,
   "id": "quiet-saturday",
   "metadata": {},
   "outputs": [],
   "source": [
    "# apply method is missing here \n"
   ]
  },
  {
   "cell_type": "code",
   "execution_count": 138,
   "id": "constitutional-vampire",
   "metadata": {},
   "outputs": [
    {
     "data": {
      "text/plain": [
       "93850"
      ]
     },
     "execution_count": 138,
     "metadata": {},
     "output_type": "execute_result"
    }
   ],
   "source": [
    "#another short method\n",
    "pd.DataFrame(ted.new_ratings[0])['count'].sum()"
   ]
  },
  {
   "cell_type": "code",
   "execution_count": 139,
   "id": "racial-bones",
   "metadata": {},
   "outputs": [
    {
     "data": {
      "text/plain": [
       "0    19645\n",
       "1     4573\n",
       "2     6073\n",
       "3     3253\n",
       "4      387\n",
       "Name: count, dtype: int64"
      ]
     },
     "execution_count": 139,
     "metadata": {},
     "output_type": "execute_result"
    }
   ],
   "source": [
    "pd.DataFrame(ted.new_ratings[0])['count'].head()"
   ]
  },
  {
   "cell_type": "markdown",
   "id": "equal-basics",
   "metadata": {},
   "source": [
    "# which occupation is funny "
   ]
  },
  {
   "cell_type": "code",
   "execution_count": 141,
   "id": "extra-wound",
   "metadata": {},
   "outputs": [
    {
     "data": {
      "text/plain": [
       "0       19645\n",
       "1         544\n",
       "2         964\n",
       "3          59\n",
       "4        1390\n",
       "        ...  \n",
       "2545        1\n",
       "2546       20\n",
       "2547        1\n",
       "2548       63\n",
       "2549        0\n",
       "Name: new_ratings, Length: 2550, dtype: int64"
      ]
     },
     "execution_count": 141,
     "metadata": {},
     "output_type": "execute_result"
    }
   ],
   "source": [
    "def get_funny_ratings(list_of_ratings):\n",
    "    for d in list_of_ratings:\n",
    "        if d['name']=='Funny':\n",
    "            return d['count']\n",
    "ted.new_ratings.apply(get_funny_ratings)"
   ]
  },
  {
   "cell_type": "code",
   "execution_count": 143,
   "id": "freelance-prairie",
   "metadata": {},
   "outputs": [
    {
     "data": {
      "text/plain": [
       "0       19645\n",
       "1         544\n",
       "2         964\n",
       "3          59\n",
       "4        1390\n",
       "        ...  \n",
       "2545        1\n",
       "2546       20\n",
       "2547        1\n",
       "2548       63\n",
       "2549        0\n",
       "Name: funny_ratings, Length: 2550, dtype: int64"
      ]
     },
     "execution_count": 143,
     "metadata": {},
     "output_type": "execute_result"
    }
   ],
   "source": [
    "#create a new column\n",
    "ted['funny_ratings']=ted.new_ratings.apply(get_funny_ratings)\n",
    "ted.funny_ratings"
   ]
  },
  {
   "cell_type": "code",
   "execution_count": 147,
   "id": "requested-species",
   "metadata": {},
   "outputs": [],
   "source": [
    "ted['num_ratings']=ted.new_ratings.apply(get_ratings)"
   ]
  },
  {
   "cell_type": "code",
   "execution_count": 149,
   "id": "encouraging-track",
   "metadata": {},
   "outputs": [],
   "source": [
    "ted['funny_rate']=ted.funny_ratings/ted.num_ratings"
   ]
  },
  {
   "cell_type": "code",
   "execution_count": 151,
   "id": "right-tuning",
   "metadata": {},
   "outputs": [
    {
     "data": {
      "text/plain": [
       "2549     Game designer\n",
       "1612         Biologist\n",
       "612           Sculptor\n",
       "998     Penguin expert\n",
       "593           Engineer\n",
       "Name: speaker_occupation, dtype: object"
      ]
     },
     "execution_count": 151,
     "metadata": {},
     "output_type": "execute_result"
    }
   ],
   "source": [
    "ted.sort_values('funny_rate').speaker_occupation.head()"
   ]
  },
  {
   "cell_type": "markdown",
   "id": "passing-shepherd",
   "metadata": {},
   "source": [
    "# focus on data well represent occupation"
   ]
  },
  {
   "cell_type": "code",
   "execution_count": 152,
   "id": "wooden-accident",
   "metadata": {},
   "outputs": [
    {
     "data": {
      "text/plain": [
       "Writer                              45\n",
       "Artist                              34\n",
       "Designer                            34\n",
       "Journalist                          33\n",
       "Entrepreneur                        31\n",
       "                                    ..\n",
       "Materials scientist                  1\n",
       "Information security specialist      1\n",
       "Regenerative neurologist             1\n",
       "Polar explorer                       1\n",
       "Medical futurist                     1\n",
       "Name: speaker_occupation, Length: 1458, dtype: int64"
      ]
     },
     "execution_count": 152,
     "metadata": {},
     "output_type": "execute_result"
    }
   ],
   "source": [
    "ted.speaker_occupation.value_counts()"
   ]
  },
  {
   "cell_type": "code",
   "execution_count": 154,
   "id": "irish-catholic",
   "metadata": {},
   "outputs": [
    {
     "data": {
      "text/plain": [
       "Index(['Writer', 'Artist', 'Designer', 'Journalist', 'Entrepreneur',\n",
       "       'Architect', 'Inventor', 'Psychologist', 'Photographer', 'Filmmaker',\n",
       "       'Neuroscientist', 'Educator', 'Economist', 'Author', 'Roboticist',\n",
       "       'Philosopher', 'Biologist', 'Physicist', 'Marine biologist', 'Musician',\n",
       "       'Technologist', 'Activist', 'Global health expert; data visionary',\n",
       "       'Philanthropist', 'Astronomer', 'Oceanographer', 'Behavioral economist',\n",
       "       'Poet', 'Historian', 'Graphic designer', 'Singer/songwriter',\n",
       "       'Social psychologist', 'Computer scientist', 'Futurist', 'Engineer',\n",
       "       'Novelist', 'Mathematician', 'Astrophysicist', 'Techno-illusionist',\n",
       "       'Evolutionary biologist', 'Writer, activist', 'Comedian',\n",
       "       'Legal activist', 'Reporter', 'Photojournalist', 'Singer-songwriter',\n",
       "       'Climate advocate', 'Social entrepreneur',\n",
       "       'Performance poet, multimedia artist'],\n",
       "      dtype='object')"
      ]
     },
     "execution_count": 154,
     "metadata": {},
     "output_type": "execute_result"
    }
   ],
   "source": [
    "new_speaker_occupation=ted.speaker_occupation.value_counts()\n",
    "new_speaker_occupation[new_speaker_occupation > 5].index"
   ]
  },
  {
   "cell_type": "code",
   "execution_count": 156,
   "id": "moderate-sustainability",
   "metadata": {},
   "outputs": [
    {
     "data": {
      "text/html": [
       "<div>\n",
       "<style scoped>\n",
       "    .dataframe tbody tr th:only-of-type {\n",
       "        vertical-align: middle;\n",
       "    }\n",
       "\n",
       "    .dataframe tbody tr th {\n",
       "        vertical-align: top;\n",
       "    }\n",
       "\n",
       "    .dataframe thead th {\n",
       "        text-align: right;\n",
       "    }\n",
       "</style>\n",
       "<table border=\"1\" class=\"dataframe\">\n",
       "  <thead>\n",
       "    <tr style=\"text-align: right;\">\n",
       "      <th></th>\n",
       "      <th>comments</th>\n",
       "      <th>description</th>\n",
       "      <th>duration</th>\n",
       "      <th>event</th>\n",
       "      <th>film_date</th>\n",
       "      <th>languages</th>\n",
       "      <th>main_speaker</th>\n",
       "      <th>name</th>\n",
       "      <th>num_speaker</th>\n",
       "      <th>published_date</th>\n",
       "      <th>...</th>\n",
       "      <th>tags</th>\n",
       "      <th>title</th>\n",
       "      <th>url</th>\n",
       "      <th>views</th>\n",
       "      <th>comment Per View</th>\n",
       "      <th>New_Date_Time</th>\n",
       "      <th>new_ratings</th>\n",
       "      <th>funny_ratings</th>\n",
       "      <th>num_ratings</th>\n",
       "      <th>funny_rate</th>\n",
       "    </tr>\n",
       "  </thead>\n",
       "  <tbody>\n",
       "    <tr>\n",
       "      <th>1</th>\n",
       "      <td>265</td>\n",
       "      <td>With the same humor and humanity he exuded in ...</td>\n",
       "      <td>977</td>\n",
       "      <td>TED2006</td>\n",
       "      <td>1140825600</td>\n",
       "      <td>43</td>\n",
       "      <td>Al Gore</td>\n",
       "      <td>Al Gore: Averting the climate crisis</td>\n",
       "      <td>1</td>\n",
       "      <td>1151367060</td>\n",
       "      <td>...</td>\n",
       "      <td>['alternative energy', 'cars', 'climate change...</td>\n",
       "      <td>Averting the climate crisis</td>\n",
       "      <td>https://www.ted.com/talks/al_gore_on_averting_...</td>\n",
       "      <td>3200520</td>\n",
       "      <td>12077.433962</td>\n",
       "      <td>2006-02-25</td>\n",
       "      <td>[{'id': 7, 'name': 'Funny', 'count': 544}, {'i...</td>\n",
       "      <td>544</td>\n",
       "      <td>2936</td>\n",
       "      <td>0.185286</td>\n",
       "    </tr>\n",
       "    <tr>\n",
       "      <th>4</th>\n",
       "      <td>593</td>\n",
       "      <td>You've never seen data presented like this. Wi...</td>\n",
       "      <td>1190</td>\n",
       "      <td>TED2006</td>\n",
       "      <td>1140566400</td>\n",
       "      <td>48</td>\n",
       "      <td>Hans Rosling</td>\n",
       "      <td>Hans Rosling: The best stats you've ever seen</td>\n",
       "      <td>1</td>\n",
       "      <td>1151440680</td>\n",
       "      <td>...</td>\n",
       "      <td>['Africa', 'Asia', 'Google', 'demo', 'economic...</td>\n",
       "      <td>The best stats you've ever seen</td>\n",
       "      <td>https://www.ted.com/talks/hans_rosling_shows_t...</td>\n",
       "      <td>12005869</td>\n",
       "      <td>20245.984823</td>\n",
       "      <td>2006-02-22</td>\n",
       "      <td>[{'id': 9, 'name': 'Ingenious', 'count': 3202}...</td>\n",
       "      <td>1390</td>\n",
       "      <td>25620</td>\n",
       "      <td>0.054254</td>\n",
       "    </tr>\n",
       "    <tr>\n",
       "      <th>7</th>\n",
       "      <td>46</td>\n",
       "      <td>Architect Joshua Prince-Ramus takes the audien...</td>\n",
       "      <td>1198</td>\n",
       "      <td>TED2006</td>\n",
       "      <td>1140652800</td>\n",
       "      <td>19</td>\n",
       "      <td>Joshua Prince-Ramus</td>\n",
       "      <td>Joshua Prince-Ramus: Behind the design of Seat...</td>\n",
       "      <td>1</td>\n",
       "      <td>1152490260</td>\n",
       "      <td>...</td>\n",
       "      <td>['architecture', 'collaboration', 'culture', '...</td>\n",
       "      <td>Behind the design of Seattle's library</td>\n",
       "      <td>https://www.ted.com/talks/joshua_prince_ramus_...</td>\n",
       "      <td>967741</td>\n",
       "      <td>21037.847826</td>\n",
       "      <td>2006-02-23</td>\n",
       "      <td>[{'id': 9, 'name': 'Ingenious', 'count': 195},...</td>\n",
       "      <td>9</td>\n",
       "      <td>1024</td>\n",
       "      <td>0.008789</td>\n",
       "    </tr>\n",
       "    <tr>\n",
       "      <th>11</th>\n",
       "      <td>55</td>\n",
       "      <td>Jehane Noujaim unveils her 2006 TED Prize wish...</td>\n",
       "      <td>1538</td>\n",
       "      <td>TED2006</td>\n",
       "      <td>1140912000</td>\n",
       "      <td>20</td>\n",
       "      <td>Jehane Noujaim</td>\n",
       "      <td>Jehane Noujaim: My wish: A global day of film</td>\n",
       "      <td>1</td>\n",
       "      <td>1153786260</td>\n",
       "      <td>...</td>\n",
       "      <td>['TED Prize', 'art', 'culture', 'entertainment...</td>\n",
       "      <td>My wish: A global day of film</td>\n",
       "      <td>https://www.ted.com/talks/jehane_noujaim_inspi...</td>\n",
       "      <td>387877</td>\n",
       "      <td>7052.309091</td>\n",
       "      <td>2006-02-26</td>\n",
       "      <td>[{'id': 1, 'name': 'Beautiful', 'count': 70}, ...</td>\n",
       "      <td>5</td>\n",
       "      <td>592</td>\n",
       "      <td>0.008446</td>\n",
       "    </tr>\n",
       "    <tr>\n",
       "      <th>26</th>\n",
       "      <td>507</td>\n",
       "      <td>Biologist Richard Dawkins makes a case for \"th...</td>\n",
       "      <td>1316</td>\n",
       "      <td>TEDGlobal 2005</td>\n",
       "      <td>1120694400</td>\n",
       "      <td>36</td>\n",
       "      <td>Richard Dawkins</td>\n",
       "      <td>Richard Dawkins: Why the universe seems so str...</td>\n",
       "      <td>1</td>\n",
       "      <td>1158019860</td>\n",
       "      <td>...</td>\n",
       "      <td>['astronomy', 'biology', 'cognitive science', ...</td>\n",
       "      <td>Why the universe seems so strange</td>\n",
       "      <td>https://www.ted.com/talks/richard_dawkins_on_o...</td>\n",
       "      <td>2885999</td>\n",
       "      <td>5692.305720</td>\n",
       "      <td>2005-07-07</td>\n",
       "      <td>[{'id': 1, 'name': 'Beautiful', 'count': 333},...</td>\n",
       "      <td>127</td>\n",
       "      <td>4594</td>\n",
       "      <td>0.027645</td>\n",
       "    </tr>\n",
       "  </tbody>\n",
       "</table>\n",
       "<p>5 rows × 23 columns</p>\n",
       "</div>"
      ],
      "text/plain": [
       "    comments                                        description  duration  \\\n",
       "1        265  With the same humor and humanity he exuded in ...       977   \n",
       "4        593  You've never seen data presented like this. Wi...      1190   \n",
       "7         46  Architect Joshua Prince-Ramus takes the audien...      1198   \n",
       "11        55  Jehane Noujaim unveils her 2006 TED Prize wish...      1538   \n",
       "26       507  Biologist Richard Dawkins makes a case for \"th...      1316   \n",
       "\n",
       "             event   film_date  languages         main_speaker  \\\n",
       "1          TED2006  1140825600         43              Al Gore   \n",
       "4          TED2006  1140566400         48         Hans Rosling   \n",
       "7          TED2006  1140652800         19  Joshua Prince-Ramus   \n",
       "11         TED2006  1140912000         20       Jehane Noujaim   \n",
       "26  TEDGlobal 2005  1120694400         36      Richard Dawkins   \n",
       "\n",
       "                                                 name  num_speaker  \\\n",
       "1                Al Gore: Averting the climate crisis            1   \n",
       "4       Hans Rosling: The best stats you've ever seen            1   \n",
       "7   Joshua Prince-Ramus: Behind the design of Seat...            1   \n",
       "11      Jehane Noujaim: My wish: A global day of film            1   \n",
       "26  Richard Dawkins: Why the universe seems so str...            1   \n",
       "\n",
       "    published_date  ...                                               tags  \\\n",
       "1       1151367060  ...  ['alternative energy', 'cars', 'climate change...   \n",
       "4       1151440680  ...  ['Africa', 'Asia', 'Google', 'demo', 'economic...   \n",
       "7       1152490260  ...  ['architecture', 'collaboration', 'culture', '...   \n",
       "11      1153786260  ...  ['TED Prize', 'art', 'culture', 'entertainment...   \n",
       "26      1158019860  ...  ['astronomy', 'biology', 'cognitive science', ...   \n",
       "\n",
       "                                     title  \\\n",
       "1              Averting the climate crisis   \n",
       "4          The best stats you've ever seen   \n",
       "7   Behind the design of Seattle's library   \n",
       "11           My wish: A global day of film   \n",
       "26       Why the universe seems so strange   \n",
       "\n",
       "                                                  url     views  \\\n",
       "1   https://www.ted.com/talks/al_gore_on_averting_...   3200520   \n",
       "4   https://www.ted.com/talks/hans_rosling_shows_t...  12005869   \n",
       "7   https://www.ted.com/talks/joshua_prince_ramus_...    967741   \n",
       "11  https://www.ted.com/talks/jehane_noujaim_inspi...    387877   \n",
       "26  https://www.ted.com/talks/richard_dawkins_on_o...   2885999   \n",
       "\n",
       "   comment Per View New_Date_Time  \\\n",
       "1      12077.433962    2006-02-25   \n",
       "4      20245.984823    2006-02-22   \n",
       "7      21037.847826    2006-02-23   \n",
       "11      7052.309091    2006-02-26   \n",
       "26      5692.305720    2005-07-07   \n",
       "\n",
       "                                          new_ratings  funny_ratings  \\\n",
       "1   [{'id': 7, 'name': 'Funny', 'count': 544}, {'i...            544   \n",
       "4   [{'id': 9, 'name': 'Ingenious', 'count': 3202}...           1390   \n",
       "7   [{'id': 9, 'name': 'Ingenious', 'count': 195},...              9   \n",
       "11  [{'id': 1, 'name': 'Beautiful', 'count': 70}, ...              5   \n",
       "26  [{'id': 1, 'name': 'Beautiful', 'count': 333},...            127   \n",
       "\n",
       "   num_ratings funny_rate  \n",
       "1         2936   0.185286  \n",
       "4        25620   0.054254  \n",
       "7         1024   0.008789  \n",
       "11         592   0.008446  \n",
       "26        4594   0.027645  \n",
       "\n",
       "[5 rows x 23 columns]"
      ]
     },
     "execution_count": 156,
     "metadata": {},
     "output_type": "execute_result"
    }
   ],
   "source": [
    "top_occupation=new_speaker_occupation[new_speaker_occupation > 5].index\n",
    "ted[ted.speaker_occupation.isin(top_occupation)].head()"
   ]
  },
  {
   "cell_type": "code",
   "execution_count": 159,
   "id": "comprehensive-logging",
   "metadata": {},
   "outputs": [
    {
     "data": {
      "text/plain": [
       "(691, 23)"
      ]
     },
     "execution_count": 159,
     "metadata": {},
     "output_type": "execute_result"
    }
   ],
   "source": [
    "get_shape=ted[ted.speaker_occupation.isin(top_occupation)]\n",
    "get_shape.shape"
   ]
  },
  {
   "cell_type": "code",
   "execution_count": 166,
   "id": "dietary-empty",
   "metadata": {},
   "outputs": [
    {
     "data": {
      "text/plain": [
       "(691, 23)"
      ]
     },
     "execution_count": 166,
     "metadata": {},
     "output_type": "execute_result"
    }
   ],
   "source": [
    "ted_top_occupation=ted[ted.speaker_occupation.isin(top_occupation)]\n",
    "ted_top_occupation.shape"
   ]
  },
  {
   "cell_type": "code",
   "execution_count": 167,
   "id": "preliminary-oriental",
   "metadata": {},
   "outputs": [
    {
     "data": {
      "text/plain": [
       "speaker_occupation\n",
       "Photojournalist                         0.004908\n",
       "Photographer                            0.007152\n",
       "Singer-songwriter                       0.010597\n",
       "Philanthropist                          0.012522\n",
       "Activist                                0.012539\n",
       "Astrophysicist                          0.013147\n",
       "Oceanographer                           0.014596\n",
       "Social psychologist                     0.015887\n",
       "Social entrepreneur                     0.017921\n",
       "Inventor                                0.021801\n",
       "Legal activist                          0.022303\n",
       "Historian                               0.023215\n",
       "Economist                               0.025488\n",
       "Writer, activist                        0.026665\n",
       "Journalist                              0.027997\n",
       "Computer scientist                      0.029070\n",
       "Architect                               0.030579\n",
       "Engineer                                0.031711\n",
       "Biologist                               0.031965\n",
       "Neuroscientist                          0.032170\n",
       "Philosopher                             0.033817\n",
       "Mathematician                           0.034739\n",
       "Climate advocate                        0.034983\n",
       "Educator                                0.035141\n",
       "Marine biologist                        0.040059\n",
       "Roboticist                              0.042777\n",
       "Astronomer                              0.044581\n",
       "Psychologist                            0.044984\n",
       "Musician                                0.045336\n",
       "Physicist                               0.046302\n",
       "Filmmaker                               0.048603\n",
       "Futurist                                0.050460\n",
       "Behavioral economist                    0.050460\n",
       "Technologist                            0.050965\n",
       "Designer                                0.059287\n",
       "Writer                                  0.060745\n",
       "Reporter                                0.066250\n",
       "Evolutionary biologist                  0.069157\n",
       "Novelist                                0.070876\n",
       "Entrepreneur                            0.073295\n",
       "Author                                  0.075508\n",
       "Artist                                  0.078939\n",
       "Global health expert; data visionary    0.090306\n",
       "Poet                                    0.107398\n",
       "Graphic designer                        0.135718\n",
       "Techno-illusionist                      0.152171\n",
       "Singer/songwriter                       0.252205\n",
       "Performance poet, multimedia artist     0.306468\n",
       "Comedian                                0.512457\n",
       "Name: funny_rate, dtype: float64"
      ]
     },
     "execution_count": 167,
     "metadata": {},
     "output_type": "execute_result"
    }
   ],
   "source": [
    "#important\n",
    "# top_occupation.groupby('speaker_occupation').funny_rate.mean().sort_values()#error because not having ted\n",
    "ted_top_occupation.groupby('speaker_occupation').funny_rate.mean().sort_values()"
   ]
  },
  {
   "cell_type": "code",
   "execution_count": 1,
   "id": "freelance-synthetic",
   "metadata": {},
   "outputs": [],
   "source": [
    "import pandas as pd\n",
    "drinks = pd.read_csv('drinks_by_country.txt')\n",
    "movies = pd.read_csv('imbd_rating.txt')\n",
    "train = pd.read_csv('train.txt')\n",
    "ufo = pd.read_csv('ufo.txt', parse_dates=['Time'])"
   ]
  },
  {
   "cell_type": "code",
   "execution_count": 2,
   "id": "coordinated-cowboy",
   "metadata": {},
   "outputs": [
    {
     "data": {
      "text/html": [
       "<div>\n",
       "<style scoped>\n",
       "    .dataframe tbody tr th:only-of-type {\n",
       "        vertical-align: middle;\n",
       "    }\n",
       "\n",
       "    .dataframe tbody tr th {\n",
       "        vertical-align: top;\n",
       "    }\n",
       "\n",
       "    .dataframe thead th {\n",
       "        text-align: right;\n",
       "    }\n",
       "</style>\n",
       "<table border=\"1\" class=\"dataframe\">\n",
       "  <thead>\n",
       "    <tr style=\"text-align: right;\">\n",
       "      <th></th>\n",
       "      <th>country</th>\n",
       "      <th>beer_servings</th>\n",
       "      <th>spirit_servings</th>\n",
       "      <th>wine_servings</th>\n",
       "      <th>total_litres_of_pure_alcohol</th>\n",
       "      <th>continent</th>\n",
       "    </tr>\n",
       "  </thead>\n",
       "  <tbody>\n",
       "    <tr>\n",
       "      <th>0</th>\n",
       "      <td>Afghanistan</td>\n",
       "      <td>0</td>\n",
       "      <td>0</td>\n",
       "      <td>0</td>\n",
       "      <td>0.0</td>\n",
       "      <td>Asia</td>\n",
       "    </tr>\n",
       "    <tr>\n",
       "      <th>1</th>\n",
       "      <td>Albania</td>\n",
       "      <td>89</td>\n",
       "      <td>132</td>\n",
       "      <td>54</td>\n",
       "      <td>4.9</td>\n",
       "      <td>Europe</td>\n",
       "    </tr>\n",
       "    <tr>\n",
       "      <th>2</th>\n",
       "      <td>Algeria</td>\n",
       "      <td>25</td>\n",
       "      <td>0</td>\n",
       "      <td>14</td>\n",
       "      <td>0.7</td>\n",
       "      <td>Africa</td>\n",
       "    </tr>\n",
       "    <tr>\n",
       "      <th>3</th>\n",
       "      <td>Andorra</td>\n",
       "      <td>245</td>\n",
       "      <td>138</td>\n",
       "      <td>312</td>\n",
       "      <td>12.4</td>\n",
       "      <td>Europe</td>\n",
       "    </tr>\n",
       "    <tr>\n",
       "      <th>4</th>\n",
       "      <td>Angola</td>\n",
       "      <td>217</td>\n",
       "      <td>57</td>\n",
       "      <td>45</td>\n",
       "      <td>5.9</td>\n",
       "      <td>Africa</td>\n",
       "    </tr>\n",
       "  </tbody>\n",
       "</table>\n",
       "</div>"
      ],
      "text/plain": [
       "       country  beer_servings  spirit_servings  wine_servings  \\\n",
       "0  Afghanistan              0                0              0   \n",
       "1      Albania             89              132             54   \n",
       "2      Algeria             25                0             14   \n",
       "3      Andorra            245              138            312   \n",
       "4       Angola            217               57             45   \n",
       "\n",
       "   total_litres_of_pure_alcohol continent  \n",
       "0                           0.0      Asia  \n",
       "1                           4.9    Europe  \n",
       "2                           0.7    Africa  \n",
       "3                          12.4    Europe  \n",
       "4                           5.9    Africa  "
      ]
     },
     "execution_count": 2,
     "metadata": {},
     "output_type": "execute_result"
    }
   ],
   "source": [
    "drinks.head()"
   ]
  },
  {
   "cell_type": "code",
   "execution_count": 3,
   "id": "answering-maldives",
   "metadata": {},
   "outputs": [
    {
     "data": {
      "text/plain": [
       "continent\n",
       "Africa            61.471698\n",
       "Asia              37.045455\n",
       "Europe           193.777778\n",
       "North America    145.434783\n",
       "Oceania           89.687500\n",
       "South America    175.083333\n",
       "Name: beer_servings, dtype: float64"
      ]
     },
     "execution_count": 3,
     "metadata": {},
     "output_type": "execute_result"
    }
   ],
   "source": [
    "drinks.groupby('continent').beer_servings.mean()"
   ]
  },
  {
   "cell_type": "code",
   "execution_count": 4,
   "id": "laden-congress",
   "metadata": {},
   "outputs": [
    {
     "data": {
      "text/html": [
       "<div>\n",
       "<style scoped>\n",
       "    .dataframe tbody tr th:only-of-type {\n",
       "        vertical-align: middle;\n",
       "    }\n",
       "\n",
       "    .dataframe tbody tr th {\n",
       "        vertical-align: top;\n",
       "    }\n",
       "\n",
       "    .dataframe thead th {\n",
       "        text-align: right;\n",
       "    }\n",
       "</style>\n",
       "<table border=\"1\" class=\"dataframe\">\n",
       "  <thead>\n",
       "    <tr style=\"text-align: right;\">\n",
       "      <th></th>\n",
       "      <th>country</th>\n",
       "      <th>beer_servings</th>\n",
       "      <th>spirit_servings</th>\n",
       "      <th>wine_servings</th>\n",
       "      <th>total_litres_of_pure_alcohol</th>\n",
       "    </tr>\n",
       "    <tr>\n",
       "      <th>continent</th>\n",
       "      <th></th>\n",
       "      <th></th>\n",
       "      <th></th>\n",
       "      <th></th>\n",
       "      <th></th>\n",
       "    </tr>\n",
       "  </thead>\n",
       "  <tbody>\n",
       "    <tr>\n",
       "      <th>Africa</th>\n",
       "      <td>Zimbabwe</td>\n",
       "      <td>376</td>\n",
       "      <td>152</td>\n",
       "      <td>233</td>\n",
       "      <td>9.1</td>\n",
       "    </tr>\n",
       "    <tr>\n",
       "      <th>Asia</th>\n",
       "      <td>Yemen</td>\n",
       "      <td>247</td>\n",
       "      <td>326</td>\n",
       "      <td>123</td>\n",
       "      <td>11.5</td>\n",
       "    </tr>\n",
       "    <tr>\n",
       "      <th>Europe</th>\n",
       "      <td>United Kingdom</td>\n",
       "      <td>361</td>\n",
       "      <td>373</td>\n",
       "      <td>370</td>\n",
       "      <td>14.4</td>\n",
       "    </tr>\n",
       "    <tr>\n",
       "      <th>North America</th>\n",
       "      <td>USA</td>\n",
       "      <td>285</td>\n",
       "      <td>438</td>\n",
       "      <td>100</td>\n",
       "      <td>11.9</td>\n",
       "    </tr>\n",
       "    <tr>\n",
       "      <th>Oceania</th>\n",
       "      <td>Vanuatu</td>\n",
       "      <td>306</td>\n",
       "      <td>254</td>\n",
       "      <td>212</td>\n",
       "      <td>10.4</td>\n",
       "    </tr>\n",
       "    <tr>\n",
       "      <th>South America</th>\n",
       "      <td>Venezuela</td>\n",
       "      <td>333</td>\n",
       "      <td>302</td>\n",
       "      <td>221</td>\n",
       "      <td>8.3</td>\n",
       "    </tr>\n",
       "  </tbody>\n",
       "</table>\n",
       "</div>"
      ],
      "text/plain": [
       "                      country  beer_servings  spirit_servings  wine_servings  \\\n",
       "continent                                                                      \n",
       "Africa               Zimbabwe            376              152            233   \n",
       "Asia                    Yemen            247              326            123   \n",
       "Europe         United Kingdom            361              373            370   \n",
       "North America             USA            285              438            100   \n",
       "Oceania               Vanuatu            306              254            212   \n",
       "South America       Venezuela            333              302            221   \n",
       "\n",
       "               total_litres_of_pure_alcohol  \n",
       "continent                                    \n",
       "Africa                                  9.1  \n",
       "Asia                                   11.5  \n",
       "Europe                                 14.4  \n",
       "North America                          11.9  \n",
       "Oceania                                10.4  \n",
       "South America                           8.3  "
      ]
     },
     "execution_count": 4,
     "metadata": {},
     "output_type": "execute_result"
    }
   ],
   "source": [
    "drinks.groupby('continent').max()"
   ]
  },
  {
   "cell_type": "code",
   "execution_count": 5,
   "id": "forced-package",
   "metadata": {},
   "outputs": [
    {
     "data": {
      "text/plain": [
       "       continent    \n",
       "count  Africa            53.000000\n",
       "       Asia              44.000000\n",
       "       Europe            45.000000\n",
       "       North America     23.000000\n",
       "       Oceania           16.000000\n",
       "       South America     12.000000\n",
       "mean   Africa            61.471698\n",
       "       Asia              37.045455\n",
       "       Europe           193.777778\n",
       "       North America    145.434783\n",
       "       Oceania           89.687500\n",
       "       South America    175.083333\n",
       "std    Africa            80.557816\n",
       "       Asia              49.469725\n",
       "       Europe            99.631569\n",
       "       North America     79.621163\n",
       "       Oceania           96.641412\n",
       "       South America     65.242845\n",
       "min    Africa             0.000000\n",
       "       Asia               0.000000\n",
       "       Europe             0.000000\n",
       "       North America      1.000000\n",
       "       Oceania            0.000000\n",
       "       South America     93.000000\n",
       "25%    Africa            15.000000\n",
       "       Asia               4.250000\n",
       "       Europe           127.000000\n",
       "       North America     80.000000\n",
       "       Oceania           21.000000\n",
       "       South America    129.500000\n",
       "50%    Africa            32.000000\n",
       "       Asia              17.500000\n",
       "       Europe           219.000000\n",
       "       North America    143.000000\n",
       "       Oceania           52.500000\n",
       "       South America    162.500000\n",
       "75%    Africa            76.000000\n",
       "       Asia              60.500000\n",
       "       Europe           270.000000\n",
       "       North America    198.000000\n",
       "       Oceania          125.750000\n",
       "       South America    198.000000\n",
       "max    Africa           376.000000\n",
       "       Asia             247.000000\n",
       "       Europe           361.000000\n",
       "       North America    285.000000\n",
       "       Oceania          306.000000\n",
       "       South America    333.000000\n",
       "dtype: float64"
      ]
     },
     "execution_count": 5,
     "metadata": {},
     "output_type": "execute_result"
    }
   ],
   "source": [
    "#stack and unstack method important\n",
    "drinks.groupby('continent').beer_servings.describe().unstack()"
   ]
  },
  {
   "cell_type": "code",
   "execution_count": 6,
   "id": "little-applicant",
   "metadata": {},
   "outputs": [
    {
     "data": {
      "text/html": [
       "<div>\n",
       "<style scoped>\n",
       "    .dataframe tbody tr th:only-of-type {\n",
       "        vertical-align: middle;\n",
       "    }\n",
       "\n",
       "    .dataframe tbody tr th {\n",
       "        vertical-align: top;\n",
       "    }\n",
       "\n",
       "    .dataframe thead th {\n",
       "        text-align: right;\n",
       "    }\n",
       "</style>\n",
       "<table border=\"1\" class=\"dataframe\">\n",
       "  <thead>\n",
       "    <tr style=\"text-align: right;\">\n",
       "      <th></th>\n",
       "      <th>count</th>\n",
       "      <th>mean</th>\n",
       "      <th>std</th>\n",
       "      <th>min</th>\n",
       "      <th>25%</th>\n",
       "      <th>50%</th>\n",
       "      <th>75%</th>\n",
       "      <th>max</th>\n",
       "    </tr>\n",
       "    <tr>\n",
       "      <th>continent</th>\n",
       "      <th></th>\n",
       "      <th></th>\n",
       "      <th></th>\n",
       "      <th></th>\n",
       "      <th></th>\n",
       "      <th></th>\n",
       "      <th></th>\n",
       "      <th></th>\n",
       "    </tr>\n",
       "  </thead>\n",
       "  <tbody>\n",
       "    <tr>\n",
       "      <th>Africa</th>\n",
       "      <td>53.0</td>\n",
       "      <td>61.471698</td>\n",
       "      <td>80.557816</td>\n",
       "      <td>0.0</td>\n",
       "      <td>15.00</td>\n",
       "      <td>32.0</td>\n",
       "      <td>76.00</td>\n",
       "      <td>376.0</td>\n",
       "    </tr>\n",
       "    <tr>\n",
       "      <th>Asia</th>\n",
       "      <td>44.0</td>\n",
       "      <td>37.045455</td>\n",
       "      <td>49.469725</td>\n",
       "      <td>0.0</td>\n",
       "      <td>4.25</td>\n",
       "      <td>17.5</td>\n",
       "      <td>60.50</td>\n",
       "      <td>247.0</td>\n",
       "    </tr>\n",
       "    <tr>\n",
       "      <th>Europe</th>\n",
       "      <td>45.0</td>\n",
       "      <td>193.777778</td>\n",
       "      <td>99.631569</td>\n",
       "      <td>0.0</td>\n",
       "      <td>127.00</td>\n",
       "      <td>219.0</td>\n",
       "      <td>270.00</td>\n",
       "      <td>361.0</td>\n",
       "    </tr>\n",
       "    <tr>\n",
       "      <th>North America</th>\n",
       "      <td>23.0</td>\n",
       "      <td>145.434783</td>\n",
       "      <td>79.621163</td>\n",
       "      <td>1.0</td>\n",
       "      <td>80.00</td>\n",
       "      <td>143.0</td>\n",
       "      <td>198.00</td>\n",
       "      <td>285.0</td>\n",
       "    </tr>\n",
       "    <tr>\n",
       "      <th>Oceania</th>\n",
       "      <td>16.0</td>\n",
       "      <td>89.687500</td>\n",
       "      <td>96.641412</td>\n",
       "      <td>0.0</td>\n",
       "      <td>21.00</td>\n",
       "      <td>52.5</td>\n",
       "      <td>125.75</td>\n",
       "      <td>306.0</td>\n",
       "    </tr>\n",
       "    <tr>\n",
       "      <th>South America</th>\n",
       "      <td>12.0</td>\n",
       "      <td>175.083333</td>\n",
       "      <td>65.242845</td>\n",
       "      <td>93.0</td>\n",
       "      <td>129.50</td>\n",
       "      <td>162.5</td>\n",
       "      <td>198.00</td>\n",
       "      <td>333.0</td>\n",
       "    </tr>\n",
       "  </tbody>\n",
       "</table>\n",
       "</div>"
      ],
      "text/plain": [
       "               count        mean        std   min     25%    50%     75%  \\\n",
       "continent                                                                  \n",
       "Africa          53.0   61.471698  80.557816   0.0   15.00   32.0   76.00   \n",
       "Asia            44.0   37.045455  49.469725   0.0    4.25   17.5   60.50   \n",
       "Europe          45.0  193.777778  99.631569   0.0  127.00  219.0  270.00   \n",
       "North America   23.0  145.434783  79.621163   1.0   80.00  143.0  198.00   \n",
       "Oceania         16.0   89.687500  96.641412   0.0   21.00   52.5  125.75   \n",
       "South America   12.0  175.083333  65.242845  93.0  129.50  162.5  198.00   \n",
       "\n",
       "                 max  \n",
       "continent             \n",
       "Africa         376.0  \n",
       "Asia           247.0  \n",
       "Europe         361.0  \n",
       "North America  285.0  \n",
       "Oceania        306.0  \n",
       "South America  333.0  "
      ]
     },
     "execution_count": 6,
     "metadata": {},
     "output_type": "execute_result"
    }
   ],
   "source": [
    "drinks.groupby('continent').beer_servings.describe()"
   ]
  },
  {
   "cell_type": "code",
   "execution_count": 7,
   "id": "suburban-traffic",
   "metadata": {},
   "outputs": [
    {
     "data": {
      "text/plain": [
       "continent           \n",
       "Africa         count     53.000000\n",
       "               mean      61.471698\n",
       "               std       80.557816\n",
       "               min        0.000000\n",
       "               25%       15.000000\n",
       "               50%       32.000000\n",
       "               75%       76.000000\n",
       "               max      376.000000\n",
       "Asia           count     44.000000\n",
       "               mean      37.045455\n",
       "               std       49.469725\n",
       "               min        0.000000\n",
       "               25%        4.250000\n",
       "               50%       17.500000\n",
       "               75%       60.500000\n",
       "               max      247.000000\n",
       "Europe         count     45.000000\n",
       "               mean     193.777778\n",
       "               std       99.631569\n",
       "               min        0.000000\n",
       "               25%      127.000000\n",
       "               50%      219.000000\n",
       "               75%      270.000000\n",
       "               max      361.000000\n",
       "North America  count     23.000000\n",
       "               mean     145.434783\n",
       "               std       79.621163\n",
       "               min        1.000000\n",
       "               25%       80.000000\n",
       "               50%      143.000000\n",
       "               75%      198.000000\n",
       "               max      285.000000\n",
       "Oceania        count     16.000000\n",
       "               mean      89.687500\n",
       "               std       96.641412\n",
       "               min        0.000000\n",
       "               25%       21.000000\n",
       "               50%       52.500000\n",
       "               75%      125.750000\n",
       "               max      306.000000\n",
       "South America  count     12.000000\n",
       "               mean     175.083333\n",
       "               std       65.242845\n",
       "               min       93.000000\n",
       "               25%      129.500000\n",
       "               50%      162.500000\n",
       "               75%      198.000000\n",
       "               max      333.000000\n",
       "dtype: float64"
      ]
     },
     "execution_count": 7,
     "metadata": {},
     "output_type": "execute_result"
    }
   ],
   "source": [
    "# stack and unstack method\n",
    "drinks.groupby('continent').beer_servings.describe().stack()\n"
   ]
  },
  {
   "cell_type": "markdown",
   "id": "surrounded-venice",
   "metadata": {},
   "source": [
    "### stack give continant information when we groupby continent,on the otherwise unstack give min max count std etc."
   ]
  },
  {
   "cell_type": "code",
   "execution_count": 8,
   "id": "fifty-philadelphia",
   "metadata": {},
   "outputs": [
    {
     "data": {
      "text/html": [
       "<div>\n",
       "<style scoped>\n",
       "    .dataframe tbody tr th:only-of-type {\n",
       "        vertical-align: middle;\n",
       "    }\n",
       "\n",
       "    .dataframe tbody tr th {\n",
       "        vertical-align: top;\n",
       "    }\n",
       "\n",
       "    .dataframe thead th {\n",
       "        text-align: right;\n",
       "    }\n",
       "</style>\n",
       "<table border=\"1\" class=\"dataframe\">\n",
       "  <thead>\n",
       "    <tr style=\"text-align: right;\">\n",
       "      <th></th>\n",
       "      <th>count</th>\n",
       "      <th>mean</th>\n",
       "      <th>std</th>\n",
       "      <th>min</th>\n",
       "      <th>25%</th>\n",
       "      <th>50%</th>\n",
       "      <th>75%</th>\n",
       "      <th>max</th>\n",
       "    </tr>\n",
       "    <tr>\n",
       "      <th>continent</th>\n",
       "      <th></th>\n",
       "      <th></th>\n",
       "      <th></th>\n",
       "      <th></th>\n",
       "      <th></th>\n",
       "      <th></th>\n",
       "      <th></th>\n",
       "      <th></th>\n",
       "    </tr>\n",
       "  </thead>\n",
       "  <tbody>\n",
       "    <tr>\n",
       "      <th>Africa</th>\n",
       "      <td>53.0</td>\n",
       "      <td>61.471698</td>\n",
       "      <td>80.557816</td>\n",
       "      <td>0.0</td>\n",
       "      <td>15.00</td>\n",
       "      <td>32.0</td>\n",
       "      <td>76.00</td>\n",
       "      <td>376.0</td>\n",
       "    </tr>\n",
       "    <tr>\n",
       "      <th>Asia</th>\n",
       "      <td>44.0</td>\n",
       "      <td>37.045455</td>\n",
       "      <td>49.469725</td>\n",
       "      <td>0.0</td>\n",
       "      <td>4.25</td>\n",
       "      <td>17.5</td>\n",
       "      <td>60.50</td>\n",
       "      <td>247.0</td>\n",
       "    </tr>\n",
       "    <tr>\n",
       "      <th>Europe</th>\n",
       "      <td>45.0</td>\n",
       "      <td>193.777778</td>\n",
       "      <td>99.631569</td>\n",
       "      <td>0.0</td>\n",
       "      <td>127.00</td>\n",
       "      <td>219.0</td>\n",
       "      <td>270.00</td>\n",
       "      <td>361.0</td>\n",
       "    </tr>\n",
       "    <tr>\n",
       "      <th>North America</th>\n",
       "      <td>23.0</td>\n",
       "      <td>145.434783</td>\n",
       "      <td>79.621163</td>\n",
       "      <td>1.0</td>\n",
       "      <td>80.00</td>\n",
       "      <td>143.0</td>\n",
       "      <td>198.00</td>\n",
       "      <td>285.0</td>\n",
       "    </tr>\n",
       "    <tr>\n",
       "      <th>Oceania</th>\n",
       "      <td>16.0</td>\n",
       "      <td>89.687500</td>\n",
       "      <td>96.641412</td>\n",
       "      <td>0.0</td>\n",
       "      <td>21.00</td>\n",
       "      <td>52.5</td>\n",
       "      <td>125.75</td>\n",
       "      <td>306.0</td>\n",
       "    </tr>\n",
       "    <tr>\n",
       "      <th>South America</th>\n",
       "      <td>12.0</td>\n",
       "      <td>175.083333</td>\n",
       "      <td>65.242845</td>\n",
       "      <td>93.0</td>\n",
       "      <td>129.50</td>\n",
       "      <td>162.5</td>\n",
       "      <td>198.00</td>\n",
       "      <td>333.0</td>\n",
       "    </tr>\n",
       "  </tbody>\n",
       "</table>\n",
       "</div>"
      ],
      "text/plain": [
       "               count        mean        std   min     25%    50%     75%  \\\n",
       "continent                                                                  \n",
       "Africa          53.0   61.471698  80.557816   0.0   15.00   32.0   76.00   \n",
       "Asia            44.0   37.045455  49.469725   0.0    4.25   17.5   60.50   \n",
       "Europe          45.0  193.777778  99.631569   0.0  127.00  219.0  270.00   \n",
       "North America   23.0  145.434783  79.621163   1.0   80.00  143.0  198.00   \n",
       "Oceania         16.0   89.687500  96.641412   0.0   21.00   52.5  125.75   \n",
       "South America   12.0  175.083333  65.242845  93.0  129.50  162.5  198.00   \n",
       "\n",
       "                 max  \n",
       "continent             \n",
       "Africa         376.0  \n",
       "Asia           247.0  \n",
       "Europe         361.0  \n",
       "North America  285.0  \n",
       "Oceania        306.0  \n",
       "South America  333.0  "
      ]
     },
     "execution_count": 8,
     "metadata": {},
     "output_type": "execute_result"
    }
   ],
   "source": [
    "drinks.groupby('continent').beer_servings.describe()\n"
   ]
  },
  {
   "cell_type": "code",
   "execution_count": 9,
   "id": "approved-hierarchy",
   "metadata": {},
   "outputs": [
    {
     "data": {
      "text/html": [
       "<div>\n",
       "<style scoped>\n",
       "    .dataframe tbody tr th:only-of-type {\n",
       "        vertical-align: middle;\n",
       "    }\n",
       "\n",
       "    .dataframe tbody tr th {\n",
       "        vertical-align: top;\n",
       "    }\n",
       "\n",
       "    .dataframe thead th {\n",
       "        text-align: right;\n",
       "    }\n",
       "</style>\n",
       "<table border=\"1\" class=\"dataframe\">\n",
       "  <thead>\n",
       "    <tr style=\"text-align: right;\">\n",
       "      <th></th>\n",
       "      <th>count</th>\n",
       "      <th>mean</th>\n",
       "      <th>std</th>\n",
       "      <th>min</th>\n",
       "      <th>25%</th>\n",
       "      <th>50%</th>\n",
       "      <th>75%</th>\n",
       "      <th>max</th>\n",
       "    </tr>\n",
       "  </thead>\n",
       "  <tbody>\n",
       "    <tr>\n",
       "      <th>count</th>\n",
       "      <td>6.000000</td>\n",
       "      <td>6.000000</td>\n",
       "      <td>6.000000</td>\n",
       "      <td>6.000000</td>\n",
       "      <td>6.000000</td>\n",
       "      <td>6.000000</td>\n",
       "      <td>6.000000</td>\n",
       "      <td>6.000000</td>\n",
       "    </tr>\n",
       "    <tr>\n",
       "      <th>mean</th>\n",
       "      <td>32.166667</td>\n",
       "      <td>117.083424</td>\n",
       "      <td>78.527422</td>\n",
       "      <td>15.666667</td>\n",
       "      <td>62.791667</td>\n",
       "      <td>104.416667</td>\n",
       "      <td>154.708333</td>\n",
       "      <td>318.000000</td>\n",
       "    </tr>\n",
       "    <tr>\n",
       "      <th>std</th>\n",
       "      <td>17.267503</td>\n",
       "      <td>63.716701</td>\n",
       "      <td>18.971822</td>\n",
       "      <td>37.887553</td>\n",
       "      <td>57.142895</td>\n",
       "      <td>81.836066</td>\n",
       "      <td>81.177955</td>\n",
       "      <td>48.398347</td>\n",
       "    </tr>\n",
       "    <tr>\n",
       "      <th>min</th>\n",
       "      <td>12.000000</td>\n",
       "      <td>37.045455</td>\n",
       "      <td>49.469725</td>\n",
       "      <td>0.000000</td>\n",
       "      <td>4.250000</td>\n",
       "      <td>17.500000</td>\n",
       "      <td>60.500000</td>\n",
       "      <td>247.000000</td>\n",
       "    </tr>\n",
       "    <tr>\n",
       "      <th>25%</th>\n",
       "      <td>17.750000</td>\n",
       "      <td>68.525649</td>\n",
       "      <td>68.837424</td>\n",
       "      <td>0.000000</td>\n",
       "      <td>16.500000</td>\n",
       "      <td>37.125000</td>\n",
       "      <td>88.437500</td>\n",
       "      <td>290.250000</td>\n",
       "    </tr>\n",
       "    <tr>\n",
       "      <th>50%</th>\n",
       "      <td>33.500000</td>\n",
       "      <td>117.561141</td>\n",
       "      <td>80.089490</td>\n",
       "      <td>0.000000</td>\n",
       "      <td>50.500000</td>\n",
       "      <td>97.750000</td>\n",
       "      <td>161.875000</td>\n",
       "      <td>319.500000</td>\n",
       "    </tr>\n",
       "    <tr>\n",
       "      <th>75%</th>\n",
       "      <td>44.750000</td>\n",
       "      <td>167.671196</td>\n",
       "      <td>92.620513</td>\n",
       "      <td>0.750000</td>\n",
       "      <td>115.250000</td>\n",
       "      <td>157.625000</td>\n",
       "      <td>198.000000</td>\n",
       "      <td>354.000000</td>\n",
       "    </tr>\n",
       "    <tr>\n",
       "      <th>max</th>\n",
       "      <td>53.000000</td>\n",
       "      <td>193.777778</td>\n",
       "      <td>99.631569</td>\n",
       "      <td>93.000000</td>\n",
       "      <td>129.500000</td>\n",
       "      <td>219.000000</td>\n",
       "      <td>270.000000</td>\n",
       "      <td>376.000000</td>\n",
       "    </tr>\n",
       "  </tbody>\n",
       "</table>\n",
       "</div>"
      ],
      "text/plain": [
       "           count        mean        std        min         25%         50%  \\\n",
       "count   6.000000    6.000000   6.000000   6.000000    6.000000    6.000000   \n",
       "mean   32.166667  117.083424  78.527422  15.666667   62.791667  104.416667   \n",
       "std    17.267503   63.716701  18.971822  37.887553   57.142895   81.836066   \n",
       "min    12.000000   37.045455  49.469725   0.000000    4.250000   17.500000   \n",
       "25%    17.750000   68.525649  68.837424   0.000000   16.500000   37.125000   \n",
       "50%    33.500000  117.561141  80.089490   0.000000   50.500000   97.750000   \n",
       "75%    44.750000  167.671196  92.620513   0.750000  115.250000  157.625000   \n",
       "max    53.000000  193.777778  99.631569  93.000000  129.500000  219.000000   \n",
       "\n",
       "              75%         max  \n",
       "count    6.000000    6.000000  \n",
       "mean   154.708333  318.000000  \n",
       "std     81.177955   48.398347  \n",
       "min     60.500000  247.000000  \n",
       "25%     88.437500  290.250000  \n",
       "50%    161.875000  319.500000  \n",
       "75%    198.000000  354.000000  \n",
       "max    270.000000  376.000000  "
      ]
     },
     "execution_count": 9,
     "metadata": {},
     "output_type": "execute_result"
    }
   ],
   "source": [
    "drinks.groupby('continent').beer_servings.describe().describe()\n"
   ]
  },
  {
   "cell_type": "code",
   "execution_count": 10,
   "id": "perceived-lighter",
   "metadata": {},
   "outputs": [
    {
     "data": {
      "text/html": [
       "<div>\n",
       "<style scoped>\n",
       "    .dataframe tbody tr th:only-of-type {\n",
       "        vertical-align: middle;\n",
       "    }\n",
       "\n",
       "    .dataframe tbody tr th {\n",
       "        vertical-align: top;\n",
       "    }\n",
       "\n",
       "    .dataframe thead th {\n",
       "        text-align: right;\n",
       "    }\n",
       "</style>\n",
       "<table border=\"1\" class=\"dataframe\">\n",
       "  <thead>\n",
       "    <tr style=\"text-align: right;\">\n",
       "      <th></th>\n",
       "      <th>name</th>\n",
       "      <th>days</th>\n",
       "      <th>weitht</th>\n",
       "      <th>height</th>\n",
       "    </tr>\n",
       "  </thead>\n",
       "  <tbody>\n",
       "    <tr>\n",
       "      <th>0</th>\n",
       "      <td>A</td>\n",
       "      <td>1</td>\n",
       "      <td>10</td>\n",
       "      <td>29</td>\n",
       "    </tr>\n",
       "    <tr>\n",
       "      <th>1</th>\n",
       "      <td>A</td>\n",
       "      <td>2</td>\n",
       "      <td>30</td>\n",
       "      <td>30</td>\n",
       "    </tr>\n",
       "    <tr>\n",
       "      <th>2</th>\n",
       "      <td>B</td>\n",
       "      <td>1</td>\n",
       "      <td>28</td>\n",
       "      <td>40</td>\n",
       "    </tr>\n",
       "    <tr>\n",
       "      <th>3</th>\n",
       "      <td>B</td>\n",
       "      <td>2</td>\n",
       "      <td>20</td>\n",
       "      <td>50</td>\n",
       "    </tr>\n",
       "  </tbody>\n",
       "</table>\n",
       "</div>"
      ],
      "text/plain": [
       "  name  days  weitht  height\n",
       "0    A     1      10      29\n",
       "1    A     2      30      30\n",
       "2    B     1      28      40\n",
       "3    B     2      20      50"
      ]
     },
     "execution_count": 10,
     "metadata": {},
     "output_type": "execute_result"
    }
   ],
   "source": [
    "df=pd.DataFrame({'name':['A','A','B','B'],'days':[1,2,1,2],'weitht':[10,30,28,20],\n",
    "                'height':[29,30,40,50]})\n",
    "df"
   ]
  },
  {
   "cell_type": "code",
   "execution_count": 11,
   "id": "discrete-herald",
   "metadata": {},
   "outputs": [
    {
     "data": {
      "text/html": [
       "<div>\n",
       "<style scoped>\n",
       "    .dataframe tbody tr th:only-of-type {\n",
       "        vertical-align: middle;\n",
       "    }\n",
       "\n",
       "    .dataframe tbody tr th {\n",
       "        vertical-align: top;\n",
       "    }\n",
       "\n",
       "    .dataframe thead th {\n",
       "        text-align: right;\n",
       "    }\n",
       "</style>\n",
       "<table border=\"1\" class=\"dataframe\">\n",
       "  <thead>\n",
       "    <tr style=\"text-align: right;\">\n",
       "      <th></th>\n",
       "      <th></th>\n",
       "      <th>weitht</th>\n",
       "      <th>height</th>\n",
       "    </tr>\n",
       "    <tr>\n",
       "      <th>name</th>\n",
       "      <th>days</th>\n",
       "      <th></th>\n",
       "      <th></th>\n",
       "    </tr>\n",
       "  </thead>\n",
       "  <tbody>\n",
       "    <tr>\n",
       "      <th rowspan=\"2\" valign=\"top\">A</th>\n",
       "      <th>1</th>\n",
       "      <td>10</td>\n",
       "      <td>29</td>\n",
       "    </tr>\n",
       "    <tr>\n",
       "      <th>2</th>\n",
       "      <td>30</td>\n",
       "      <td>30</td>\n",
       "    </tr>\n",
       "    <tr>\n",
       "      <th rowspan=\"2\" valign=\"top\">B</th>\n",
       "      <th>1</th>\n",
       "      <td>28</td>\n",
       "      <td>40</td>\n",
       "    </tr>\n",
       "    <tr>\n",
       "      <th>2</th>\n",
       "      <td>20</td>\n",
       "      <td>50</td>\n",
       "    </tr>\n",
       "  </tbody>\n",
       "</table>\n",
       "</div>"
      ],
      "text/plain": [
       "           weitht  height\n",
       "name days                \n",
       "A    1         10      29\n",
       "     2         30      30\n",
       "B    1         28      40\n",
       "     2         20      50"
      ]
     },
     "execution_count": 11,
     "metadata": {},
     "output_type": "execute_result"
    }
   ],
   "source": [
    "df.set_index(['name','days'])"
   ]
  },
  {
   "cell_type": "code",
   "execution_count": 12,
   "id": "hollywood-format",
   "metadata": {},
   "outputs": [
    {
     "data": {
      "text/plain": [
       "<AxesSubplot:>"
      ]
     },
     "execution_count": 12,
     "metadata": {},
     "output_type": "execute_result"
    },
    {
     "data": {
      "image/png": "[encoded data removed]",
      "text/plain": [
       "<Figure size 432x288 with 1 Axes>"
      ]
     },
     "metadata": {
      "needs_background": "light"
     },
     "output_type": "display_data"
    }
   ],
   "source": [
    "drinks.plot(kind='box')"
   ]
  },
  {
   "cell_type": "code",
   "execution_count": 13,
   "id": "through-purse",
   "metadata": {},
   "outputs": [],
   "source": [
    "%matplotlib inline"
   ]
  },
  {
   "cell_type": "code",
   "execution_count": 14,
   "id": "supported-playlist",
   "metadata": {},
   "outputs": [
    {
     "data": {
      "text/html": [
       "<div>\n",
       "<style scoped>\n",
       "    .dataframe tbody tr th:only-of-type {\n",
       "        vertical-align: middle;\n",
       "    }\n",
       "\n",
       "    .dataframe tbody tr th {\n",
       "        vertical-align: top;\n",
       "    }\n",
       "\n",
       "    .dataframe thead th {\n",
       "        text-align: right;\n",
       "    }\n",
       "</style>\n",
       "<table border=\"1\" class=\"dataframe\">\n",
       "  <thead>\n",
       "    <tr style=\"text-align: right;\">\n",
       "      <th></th>\n",
       "      <th>genre</th>\n",
       "    </tr>\n",
       "  </thead>\n",
       "  <tbody>\n",
       "    <tr>\n",
       "      <th>2</th>\n",
       "      <td>Crime</td>\n",
       "    </tr>\n",
       "    <tr>\n",
       "      <th>7</th>\n",
       "      <td>Adventure</td>\n",
       "    </tr>\n",
       "    <tr>\n",
       "      <th>17</th>\n",
       "      <td>Drama</td>\n",
       "    </tr>\n",
       "    <tr>\n",
       "      <th>78</th>\n",
       "      <td>Crime</td>\n",
       "    </tr>\n",
       "    <tr>\n",
       "      <th>85</th>\n",
       "      <td>Adventure</td>\n",
       "    </tr>\n",
       "    <tr>\n",
       "      <th>142</th>\n",
       "      <td>Adventure</td>\n",
       "    </tr>\n",
       "    <tr>\n",
       "      <th>157</th>\n",
       "      <td>Drama</td>\n",
       "    </tr>\n",
       "    <tr>\n",
       "      <th>204</th>\n",
       "      <td>Adventure</td>\n",
       "    </tr>\n",
       "    <tr>\n",
       "      <th>445</th>\n",
       "      <td>Adventure</td>\n",
       "    </tr>\n",
       "    <tr>\n",
       "      <th>476</th>\n",
       "      <td>Drama</td>\n",
       "    </tr>\n",
       "    <tr>\n",
       "      <th>630</th>\n",
       "      <td>Biography</td>\n",
       "    </tr>\n",
       "    <tr>\n",
       "      <th>767</th>\n",
       "      <td>Action</td>\n",
       "    </tr>\n",
       "  </tbody>\n",
       "</table>\n",
       "</div>"
      ],
      "text/plain": [
       "         genre\n",
       "2        Crime\n",
       "7    Adventure\n",
       "17       Drama\n",
       "78       Crime\n",
       "85   Adventure\n",
       "142  Adventure\n",
       "157      Drama\n",
       "204  Adventure\n",
       "445  Adventure\n",
       "476      Drama\n",
       "630  Biography\n",
       "767     Action"
      ]
     },
     "execution_count": 14,
     "metadata": {},
     "output_type": "execute_result"
    }
   ],
   "source": [
    "movies[movies.duration >= 200]\n",
    "movies.loc[movies.duration >= 200,['genre']]"
   ]
  },
  {
   "cell_type": "code",
   "execution_count": 18,
   "id": "structural-turkey",
   "metadata": {},
   "outputs": [
    {
     "data": {
      "text/plain": [
       "2          Crime\n",
       "7      Adventure\n",
       "17         Drama\n",
       "78         Crime\n",
       "85     Adventure\n",
       "142    Adventure\n",
       "157        Drama\n",
       "204    Adventure\n",
       "445    Adventure\n",
       "476        Drama\n",
       "630    Biography\n",
       "767       Action\n",
       "Name: genre, dtype: object"
      ]
     },
     "execution_count": 18,
     "metadata": {},
     "output_type": "execute_result"
    }
   ],
   "source": [
    "movies.loc[movies.duration >= 200,'genre']\n",
    "movies[movies.duration >= 200].genre# it will give same result"
   ]
  },
  {
   "cell_type": "code",
   "execution_count": 19,
   "id": "mighty-trout",
   "metadata": {},
   "outputs": [
    {
     "data": {
      "text/plain": [
       "Africa           53\n",
       "Europe           45\n",
       "Asia             44\n",
       "North America    23\n",
       "Oceania          16\n",
       "South America    12\n",
       "Name: continent, dtype: int64"
      ]
     },
     "execution_count": 19,
     "metadata": {},
     "output_type": "execute_result"
    }
   ],
   "source": [
    "#best way to use value count\n",
    "drinks.continent.value_counts()"
   ]
  },
  {
   "cell_type": "code",
   "execution_count": 20,
   "id": "native-overhead",
   "metadata": {},
   "outputs": [
    {
     "data": {
      "text/plain": [
       "Africa           0.274611\n",
       "Europe           0.233161\n",
       "Asia             0.227979\n",
       "North America    0.119171\n",
       "Oceania          0.082902\n",
       "South America    0.062176\n",
       "Name: continent, dtype: float64"
      ]
     },
     "execution_count": 20,
     "metadata": {},
     "output_type": "execute_result"
    }
   ],
   "source": [
    "drinks.continent.value_counts(normalize=True)#important give percentage value"
   ]
  },
  {
   "cell_type": "code",
   "execution_count": 21,
   "id": "hybrid-three",
   "metadata": {},
   "outputs": [
    {
     "data": {
      "text/plain": [
       "country                         AfghanistanAlbaniaAlgeriaAndorraAngolaAntigua ...\n",
       "beer_servings                                                               20489\n",
       "spirit_servings                                                             15632\n",
       "wine_servings                                                                9544\n",
       "total_litres_of_pure_alcohol                                                910.4\n",
       "continent                       AsiaEuropeAfricaEuropeAfricaNorth AmericaSouth...\n",
       "dtype: object"
      ]
     },
     "execution_count": 21,
     "metadata": {},
     "output_type": "execute_result"
    }
   ],
   "source": [
    "drinks.sum(axis=0)"
   ]
  },
  {
   "cell_type": "code",
   "execution_count": 22,
   "id": "italian-young",
   "metadata": {},
   "outputs": [
    {
     "data": {
      "text/plain": [
       "0        0.0\n",
       "1      279.9\n",
       "2       39.7\n",
       "3      707.4\n",
       "4      324.9\n",
       "       ...  \n",
       "188    443.7\n",
       "189    116.0\n",
       "190      6.1\n",
       "191     57.5\n",
       "192     90.7\n",
       "Length: 193, dtype: float64"
      ]
     },
     "execution_count": 22,
     "metadata": {},
     "output_type": "execute_result"
    }
   ],
   "source": [
    "drinks.sum(axis=1)"
   ]
  },
  {
   "cell_type": "code",
   "execution_count": 24,
   "id": "worthy-qatar",
   "metadata": {},
   "outputs": [
    {
     "data": {
      "text/html": [
       "<div>\n",
       "<style scoped>\n",
       "    .dataframe tbody tr th:only-of-type {\n",
       "        vertical-align: middle;\n",
       "    }\n",
       "\n",
       "    .dataframe tbody tr th {\n",
       "        vertical-align: top;\n",
       "    }\n",
       "\n",
       "    .dataframe thead th {\n",
       "        text-align: right;\n",
       "    }\n",
       "</style>\n",
       "<table border=\"1\" class=\"dataframe\">\n",
       "  <thead>\n",
       "    <tr style=\"text-align: right;\">\n",
       "      <th></th>\n",
       "      <th>continent</th>\n",
       "      <th>continent</th>\n",
       "    </tr>\n",
       "  </thead>\n",
       "  <tbody>\n",
       "    <tr>\n",
       "      <th>Africa</th>\n",
       "      <td>53</td>\n",
       "      <td>0.274611</td>\n",
       "    </tr>\n",
       "    <tr>\n",
       "      <th>Europe</th>\n",
       "      <td>45</td>\n",
       "      <td>0.233161</td>\n",
       "    </tr>\n",
       "    <tr>\n",
       "      <th>Asia</th>\n",
       "      <td>44</td>\n",
       "      <td>0.227979</td>\n",
       "    </tr>\n",
       "    <tr>\n",
       "      <th>North America</th>\n",
       "      <td>23</td>\n",
       "      <td>0.119171</td>\n",
       "    </tr>\n",
       "    <tr>\n",
       "      <th>Oceania</th>\n",
       "      <td>16</td>\n",
       "      <td>0.082902</td>\n",
       "    </tr>\n",
       "    <tr>\n",
       "      <th>South America</th>\n",
       "      <td>12</td>\n",
       "      <td>0.062176</td>\n",
       "    </tr>\n",
       "  </tbody>\n",
       "</table>\n",
       "</div>"
      ],
      "text/plain": [
       "               continent  continent\n",
       "Africa                53   0.274611\n",
       "Europe                45   0.233161\n",
       "Asia                  44   0.227979\n",
       "North America         23   0.119171\n",
       "Oceania               16   0.082902\n",
       "South America         12   0.062176"
      ]
     },
     "execution_count": 24,
     "metadata": {},
     "output_type": "execute_result"
    }
   ],
   "source": [
    "a=drinks.continent.value_counts()\n",
    "b=drinks.continent.value_counts(normalize=True)\n",
    "pd.concat([a,b],axis=1)"
   ]
  },
  {
   "cell_type": "code",
   "execution_count": 25,
   "id": "confidential-transaction",
   "metadata": {},
   "outputs": [
    {
     "data": {
      "text/plain": [
       "country                          object\n",
       "beer_servings                     int64\n",
       "spirit_servings                   int64\n",
       "wine_servings                     int64\n",
       "total_litres_of_pure_alcohol    float64\n",
       "continent                        object\n",
       "beer                             object\n",
       "dtype: object"
      ]
     },
     "execution_count": 25,
     "metadata": {},
     "output_type": "execute_result"
    }
   ],
   "source": [
    "drinks['beer']=drinks.beer_servings.astype('str')\n",
    "drinks.dtypes"
   ]
  },
  {
   "cell_type": "code",
   "execution_count": 26,
   "id": "interesting-installation",
   "metadata": {},
   "outputs": [
    {
     "data": {
      "text/html": [
       "<div>\n",
       "<style scoped>\n",
       "    .dataframe tbody tr th:only-of-type {\n",
       "        vertical-align: middle;\n",
       "    }\n",
       "\n",
       "    .dataframe tbody tr th {\n",
       "        vertical-align: top;\n",
       "    }\n",
       "\n",
       "    .dataframe thead th {\n",
       "        text-align: right;\n",
       "    }\n",
       "</style>\n",
       "<table border=\"1\" class=\"dataframe\">\n",
       "  <thead>\n",
       "    <tr style=\"text-align: right;\">\n",
       "      <th></th>\n",
       "      <th>star_rating</th>\n",
       "      <th>title</th>\n",
       "      <th>content_rating</th>\n",
       "      <th>genre</th>\n",
       "      <th>duration</th>\n",
       "      <th>actors_list</th>\n",
       "    </tr>\n",
       "  </thead>\n",
       "  <tbody>\n",
       "    <tr>\n",
       "      <th>0</th>\n",
       "      <td>9.3</td>\n",
       "      <td>The Shawshank Redemption</td>\n",
       "      <td>R</td>\n",
       "      <td>Crime</td>\n",
       "      <td>142</td>\n",
       "      <td>[u'Tim Robbins', u'Morgan Freeman', u'Bob Gunt...</td>\n",
       "    </tr>\n",
       "    <tr>\n",
       "      <th>1</th>\n",
       "      <td>9.2</td>\n",
       "      <td>The Godfather</td>\n",
       "      <td>R</td>\n",
       "      <td>Crime</td>\n",
       "      <td>175</td>\n",
       "      <td>[u'Marlon Brando', u'Al Pacino', u'James Caan']</td>\n",
       "    </tr>\n",
       "    <tr>\n",
       "      <th>2</th>\n",
       "      <td>9.1</td>\n",
       "      <td>The Godfather: Part II</td>\n",
       "      <td>R</td>\n",
       "      <td>Crime</td>\n",
       "      <td>200</td>\n",
       "      <td>[u'Al Pacino', u'Robert De Niro', u'Robert Duv...</td>\n",
       "    </tr>\n",
       "    <tr>\n",
       "      <th>3</th>\n",
       "      <td>9.0</td>\n",
       "      <td>The Dark Knight</td>\n",
       "      <td>PG-13</td>\n",
       "      <td>Action</td>\n",
       "      <td>152</td>\n",
       "      <td>[u'Christian Bale', u'Heath Ledger', u'Aaron E...</td>\n",
       "    </tr>\n",
       "    <tr>\n",
       "      <th>4</th>\n",
       "      <td>8.9</td>\n",
       "      <td>Pulp Fiction</td>\n",
       "      <td>R</td>\n",
       "      <td>Crime</td>\n",
       "      <td>154</td>\n",
       "      <td>[u'John Travolta', u'Uma Thurman', u'Samuel L....</td>\n",
       "    </tr>\n",
       "  </tbody>\n",
       "</table>\n",
       "</div>"
      ],
      "text/plain": [
       "   star_rating                     title content_rating   genre  duration  \\\n",
       "0          9.3  The Shawshank Redemption              R   Crime       142   \n",
       "1          9.2             The Godfather              R   Crime       175   \n",
       "2          9.1    The Godfather: Part II              R   Crime       200   \n",
       "3          9.0           The Dark Knight          PG-13  Action       152   \n",
       "4          8.9              Pulp Fiction              R   Crime       154   \n",
       "\n",
       "                                         actors_list  \n",
       "0  [u'Tim Robbins', u'Morgan Freeman', u'Bob Gunt...  \n",
       "1    [u'Marlon Brando', u'Al Pacino', u'James Caan']  \n",
       "2  [u'Al Pacino', u'Robert De Niro', u'Robert Duv...  \n",
       "3  [u'Christian Bale', u'Heath Ledger', u'Aaron E...  \n",
       "4  [u'John Travolta', u'Uma Thurman', u'Samuel L....  "
      ]
     },
     "execution_count": 26,
     "metadata": {},
     "output_type": "execute_result"
    }
   ],
   "source": [
    "movies.head()"
   ]
  },
  {
   "cell_type": "code",
   "execution_count": 27,
   "id": "julian-familiar",
   "metadata": {},
   "outputs": [
    {
     "data": {
      "text/plain": [
       "R            460\n",
       "PG-13        189\n",
       "PG           123\n",
       "NOT RATED     65\n",
       "APPROVED      47\n",
       "UNRATED       38\n",
       "G             32\n",
       "PASSED         7\n",
       "NC-17          7\n",
       "X              4\n",
       "GP             3\n",
       "TV-MA          1\n",
       "Name: content_rating, dtype: int64"
      ]
     },
     "execution_count": 27,
     "metadata": {},
     "output_type": "execute_result"
    }
   ],
   "source": [
    "movies.content_rating.value_counts()"
   ]
  },
  {
   "cell_type": "code",
   "execution_count": 28,
   "id": "cheap-success",
   "metadata": {},
   "outputs": [
    {
     "data": {
      "text/plain": [
       "new R     460\n",
       "new PG    123\n",
       "Name: content_rating, dtype: int64"
      ]
     },
     "execution_count": 28,
     "metadata": {},
     "output_type": "execute_result"
    }
   ],
   "source": [
    "#important using of maping\n",
    "mapping={'R':'new R','PG':'new PG'}\n",
    "movies.content_rating.map(mapping).value_counts()"
   ]
  },
  {
   "cell_type": "code",
   "execution_count": 29,
   "id": "special-singer",
   "metadata": {},
   "outputs": [
    {
     "data": {
      "text/html": [
       "<div>\n",
       "<style scoped>\n",
       "    .dataframe tbody tr th:only-of-type {\n",
       "        vertical-align: middle;\n",
       "    }\n",
       "\n",
       "    .dataframe tbody tr th {\n",
       "        vertical-align: top;\n",
       "    }\n",
       "\n",
       "    .dataframe thead th {\n",
       "        text-align: right;\n",
       "    }\n",
       "</style>\n",
       "<table border=\"1\" class=\"dataframe\">\n",
       "  <thead>\n",
       "    <tr style=\"text-align: right;\">\n",
       "      <th></th>\n",
       "      <th>ratings</th>\n",
       "      <th>kids</th>\n",
       "    </tr>\n",
       "  </thead>\n",
       "  <tbody>\n",
       "    <tr>\n",
       "      <th>0</th>\n",
       "      <td>R</td>\n",
       "      <td>no</td>\n",
       "    </tr>\n",
       "    <tr>\n",
       "      <th>1</th>\n",
       "      <td>PG-13</td>\n",
       "      <td>yees</td>\n",
       "    </tr>\n",
       "  </tbody>\n",
       "</table>\n",
       "</div>"
      ],
      "text/plain": [
       "  ratings  kids\n",
       "0       R    no\n",
       "1   PG-13  yees"
      ]
     },
     "execution_count": 29,
     "metadata": {},
     "output_type": "execute_result"
    }
   ],
   "source": [
    "mapping2=pd.DataFrame({'ratings':['R','PG-13'],'kids':['no','yees']})\n",
    "mapping2"
   ]
  },
  {
   "cell_type": "code",
   "execution_count": 30,
   "id": "brief-journey",
   "metadata": {},
   "outputs": [
    {
     "data": {
      "text/html": [
       "<div>\n",
       "<style scoped>\n",
       "    .dataframe tbody tr th:only-of-type {\n",
       "        vertical-align: middle;\n",
       "    }\n",
       "\n",
       "    .dataframe tbody tr th {\n",
       "        vertical-align: top;\n",
       "    }\n",
       "\n",
       "    .dataframe thead th {\n",
       "        text-align: right;\n",
       "    }\n",
       "</style>\n",
       "<table border=\"1\" class=\"dataframe\">\n",
       "  <thead>\n",
       "    <tr style=\"text-align: right;\">\n",
       "      <th></th>\n",
       "      <th>star_rating</th>\n",
       "      <th>title</th>\n",
       "      <th>content_rating</th>\n",
       "      <th>genre</th>\n",
       "      <th>duration</th>\n",
       "      <th>actors_list</th>\n",
       "      <th>ratings</th>\n",
       "      <th>kids</th>\n",
       "    </tr>\n",
       "  </thead>\n",
       "  <tbody>\n",
       "    <tr>\n",
       "      <th>0</th>\n",
       "      <td>9.3</td>\n",
       "      <td>The Shawshank Redemption</td>\n",
       "      <td>R</td>\n",
       "      <td>Crime</td>\n",
       "      <td>142</td>\n",
       "      <td>[u'Tim Robbins', u'Morgan Freeman', u'Bob Gunt...</td>\n",
       "      <td>R</td>\n",
       "      <td>no</td>\n",
       "    </tr>\n",
       "    <tr>\n",
       "      <th>1</th>\n",
       "      <td>9.2</td>\n",
       "      <td>The Godfather</td>\n",
       "      <td>R</td>\n",
       "      <td>Crime</td>\n",
       "      <td>175</td>\n",
       "      <td>[u'Marlon Brando', u'Al Pacino', u'James Caan']</td>\n",
       "      <td>R</td>\n",
       "      <td>no</td>\n",
       "    </tr>\n",
       "    <tr>\n",
       "      <th>2</th>\n",
       "      <td>9.1</td>\n",
       "      <td>The Godfather: Part II</td>\n",
       "      <td>R</td>\n",
       "      <td>Crime</td>\n",
       "      <td>200</td>\n",
       "      <td>[u'Al Pacino', u'Robert De Niro', u'Robert Duv...</td>\n",
       "      <td>R</td>\n",
       "      <td>no</td>\n",
       "    </tr>\n",
       "    <tr>\n",
       "      <th>3</th>\n",
       "      <td>8.9</td>\n",
       "      <td>Pulp Fiction</td>\n",
       "      <td>R</td>\n",
       "      <td>Crime</td>\n",
       "      <td>154</td>\n",
       "      <td>[u'John Travolta', u'Uma Thurman', u'Samuel L....</td>\n",
       "      <td>R</td>\n",
       "      <td>no</td>\n",
       "    </tr>\n",
       "    <tr>\n",
       "      <th>4</th>\n",
       "      <td>8.9</td>\n",
       "      <td>Schindler's List</td>\n",
       "      <td>R</td>\n",
       "      <td>Biography</td>\n",
       "      <td>195</td>\n",
       "      <td>[u'Liam Neeson', u'Ralph Fiennes', u'Ben Kings...</td>\n",
       "      <td>R</td>\n",
       "      <td>no</td>\n",
       "    </tr>\n",
       "    <tr>\n",
       "      <th>...</th>\n",
       "      <td>...</td>\n",
       "      <td>...</td>\n",
       "      <td>...</td>\n",
       "      <td>...</td>\n",
       "      <td>...</td>\n",
       "      <td>...</td>\n",
       "      <td>...</td>\n",
       "      <td>...</td>\n",
       "    </tr>\n",
       "    <tr>\n",
       "      <th>644</th>\n",
       "      <td>7.4</td>\n",
       "      <td>Lincoln</td>\n",
       "      <td>PG-13</td>\n",
       "      <td>Biography</td>\n",
       "      <td>150</td>\n",
       "      <td>[u'Daniel Day-Lewis', u'Sally Field', u'David ...</td>\n",
       "      <td>PG-13</td>\n",
       "      <td>yees</td>\n",
       "    </tr>\n",
       "    <tr>\n",
       "      <th>645</th>\n",
       "      <td>7.4</td>\n",
       "      <td>Limitless</td>\n",
       "      <td>PG-13</td>\n",
       "      <td>Mystery</td>\n",
       "      <td>105</td>\n",
       "      <td>[u'Bradley Cooper', u'Anna Friel', u'Abbie Cor...</td>\n",
       "      <td>PG-13</td>\n",
       "      <td>yees</td>\n",
       "    </tr>\n",
       "    <tr>\n",
       "      <th>646</th>\n",
       "      <td>7.4</td>\n",
       "      <td>The Simpsons Movie</td>\n",
       "      <td>PG-13</td>\n",
       "      <td>Animation</td>\n",
       "      <td>87</td>\n",
       "      <td>[u'Dan Castellaneta', u'Julie Kavner', u'Nancy...</td>\n",
       "      <td>PG-13</td>\n",
       "      <td>yees</td>\n",
       "    </tr>\n",
       "    <tr>\n",
       "      <th>647</th>\n",
       "      <td>7.4</td>\n",
       "      <td>The Cider House Rules</td>\n",
       "      <td>PG-13</td>\n",
       "      <td>Drama</td>\n",
       "      <td>126</td>\n",
       "      <td>[u'Tobey Maguire', u'Charlize Theron', u'Micha...</td>\n",
       "      <td>PG-13</td>\n",
       "      <td>yees</td>\n",
       "    </tr>\n",
       "    <tr>\n",
       "      <th>648</th>\n",
       "      <td>7.4</td>\n",
       "      <td>Master and Commander: The Far Side of the World</td>\n",
       "      <td>PG-13</td>\n",
       "      <td>Action</td>\n",
       "      <td>138</td>\n",
       "      <td>[u'Russell Crowe', u'Paul Bettany', u'Billy Bo...</td>\n",
       "      <td>PG-13</td>\n",
       "      <td>yees</td>\n",
       "    </tr>\n",
       "  </tbody>\n",
       "</table>\n",
       "<p>649 rows × 8 columns</p>\n",
       "</div>"
      ],
      "text/plain": [
       "     star_rating                                            title  \\\n",
       "0            9.3                         The Shawshank Redemption   \n",
       "1            9.2                                    The Godfather   \n",
       "2            9.1                           The Godfather: Part II   \n",
       "3            8.9                                     Pulp Fiction   \n",
       "4            8.9                                 Schindler's List   \n",
       "..           ...                                              ...   \n",
       "644          7.4                                          Lincoln   \n",
       "645          7.4                                        Limitless   \n",
       "646          7.4                               The Simpsons Movie   \n",
       "647          7.4                            The Cider House Rules   \n",
       "648          7.4  Master and Commander: The Far Side of the World   \n",
       "\n",
       "    content_rating      genre  duration  \\\n",
       "0                R      Crime       142   \n",
       "1                R      Crime       175   \n",
       "2                R      Crime       200   \n",
       "3                R      Crime       154   \n",
       "4                R  Biography       195   \n",
       "..             ...        ...       ...   \n",
       "644          PG-13  Biography       150   \n",
       "645          PG-13    Mystery       105   \n",
       "646          PG-13  Animation        87   \n",
       "647          PG-13      Drama       126   \n",
       "648          PG-13     Action       138   \n",
       "\n",
       "                                           actors_list ratings  kids  \n",
       "0    [u'Tim Robbins', u'Morgan Freeman', u'Bob Gunt...       R    no  \n",
       "1      [u'Marlon Brando', u'Al Pacino', u'James Caan']       R    no  \n",
       "2    [u'Al Pacino', u'Robert De Niro', u'Robert Duv...       R    no  \n",
       "3    [u'John Travolta', u'Uma Thurman', u'Samuel L....       R    no  \n",
       "4    [u'Liam Neeson', u'Ralph Fiennes', u'Ben Kings...       R    no  \n",
       "..                                                 ...     ...   ...  \n",
       "644  [u'Daniel Day-Lewis', u'Sally Field', u'David ...   PG-13  yees  \n",
       "645  [u'Bradley Cooper', u'Anna Friel', u'Abbie Cor...   PG-13  yees  \n",
       "646  [u'Dan Castellaneta', u'Julie Kavner', u'Nancy...   PG-13  yees  \n",
       "647  [u'Tobey Maguire', u'Charlize Theron', u'Micha...   PG-13  yees  \n",
       "648  [u'Russell Crowe', u'Paul Bettany', u'Billy Bo...   PG-13  yees  \n",
       "\n",
       "[649 rows x 8 columns]"
      ]
     },
     "execution_count": 30,
     "metadata": {},
     "output_type": "execute_result"
    }
   ],
   "source": [
    "pd.merge(movies,mapping2,left_on='content_rating',right_on='ratings')\n",
    "#we can use marge instance of mapping"
   ]
  },
  {
   "cell_type": "markdown",
   "id": "spectacular-overhead",
   "metadata": {},
   "source": [
    "# how to remove last 30 rows"
   ]
  },
  {
   "cell_type": "code",
   "execution_count": 32,
   "id": "built-speaker",
   "metadata": {},
   "outputs": [
    {
     "data": {
      "text/plain": [
       "(18211, 5)"
      ]
     },
     "execution_count": 32,
     "metadata": {},
     "output_type": "execute_result"
    }
   ],
   "source": [
    "ufo.iloc[:-30,:].shape"
   ]
  },
  {
   "cell_type": "code",
   "execution_count": 33,
   "id": "studied-offense",
   "metadata": {},
   "outputs": [
    {
     "name": "stdout",
     "output_type": "stream",
     "text": [
      "[0, 1, 2, 3, 4, 5, 6, 7, 8, 9, 10, 11, 12, 13, 14, 15, 16, 17, 18, 19, 20, 21, 22, 23, 24, 25, 26, 27, 28, 29, 30, 31, 32, 33, 34, 35, 36, 37, 38, 39, 40, 41, 42, 43, 44, 45, 46, 47, 48, 49, 50, 51, 52, 53, 54, 55, 56, 57, 58, 59, 60, 61, 62, 63, 64, 65, 66, 67, 68, 69, 70, 71, 72, 73, 74, 75, 76, 77, 78, 79, 80, 81, 82, 83, 84, 85, 86, 87, 88, 89, 90, 91, 92, 93, 94, 95, 96, 97, 98, 99]\n",
      "[0, 1, 2, 3, 4, 5, 6, 7, 8, 9, 10, 11, 12, 13, 14, 15, 16, 17, 18, 19, 20, 21, 22, 23, 24, 25, 26, 27, 28, 29, 30, 31, 32, 33, 34, 35, 36, 37, 38, 39, 40, 41, 42, 43, 44, 45, 46, 47, 48, 49, 50, 51, 52, 53, 54, 55, 56, 57, 58, 59, 60, 61, 62, 63, 64, 65, 66, 67, 68, 69]\n"
     ]
    }
   ],
   "source": [
    "x=list(range(100))\n",
    "print(x)\n",
    "print(x[:-30])"
   ]
  },
  {
   "cell_type": "code",
   "execution_count": 34,
   "id": "stuck-arrangement",
   "metadata": {},
   "outputs": [
    {
     "data": {
      "text/html": [
       "<div>\n",
       "<style scoped>\n",
       "    .dataframe tbody tr th:only-of-type {\n",
       "        vertical-align: middle;\n",
       "    }\n",
       "\n",
       "    .dataframe tbody tr th {\n",
       "        vertical-align: top;\n",
       "    }\n",
       "\n",
       "    .dataframe thead th {\n",
       "        text-align: right;\n",
       "    }\n",
       "</style>\n",
       "<table border=\"1\" class=\"dataframe\">\n",
       "  <thead>\n",
       "    <tr style=\"text-align: right;\">\n",
       "      <th></th>\n",
       "      <th>City</th>\n",
       "      <th>Colors Reported</th>\n",
       "      <th>Shape Reported</th>\n",
       "      <th>State</th>\n",
       "      <th>Time</th>\n",
       "    </tr>\n",
       "  </thead>\n",
       "  <tbody>\n",
       "    <tr>\n",
       "      <th>0</th>\n",
       "      <td>Ithaca</td>\n",
       "      <td>NaN</td>\n",
       "      <td>TRIANGLE</td>\n",
       "      <td>NY</td>\n",
       "      <td>1930-06-01 22:00:00</td>\n",
       "    </tr>\n",
       "    <tr>\n",
       "      <th>1</th>\n",
       "      <td>Willingboro</td>\n",
       "      <td>NaN</td>\n",
       "      <td>OTHER</td>\n",
       "      <td>NJ</td>\n",
       "      <td>1930-06-30 20:00:00</td>\n",
       "    </tr>\n",
       "    <tr>\n",
       "      <th>2</th>\n",
       "      <td>Holyoke</td>\n",
       "      <td>NaN</td>\n",
       "      <td>OVAL</td>\n",
       "      <td>CO</td>\n",
       "      <td>1931-02-15 14:00:00</td>\n",
       "    </tr>\n",
       "    <tr>\n",
       "      <th>3</th>\n",
       "      <td>Abilene</td>\n",
       "      <td>NaN</td>\n",
       "      <td>DISK</td>\n",
       "      <td>KS</td>\n",
       "      <td>1931-06-01 13:00:00</td>\n",
       "    </tr>\n",
       "    <tr>\n",
       "      <th>4</th>\n",
       "      <td>New York Worlds Fair</td>\n",
       "      <td>NaN</td>\n",
       "      <td>LIGHT</td>\n",
       "      <td>NY</td>\n",
       "      <td>1933-04-18 19:00:00</td>\n",
       "    </tr>\n",
       "  </tbody>\n",
       "</table>\n",
       "</div>"
      ],
      "text/plain": [
       "                   City Colors Reported Shape Reported State  \\\n",
       "0                Ithaca             NaN       TRIANGLE    NY   \n",
       "1           Willingboro             NaN          OTHER    NJ   \n",
       "2               Holyoke             NaN           OVAL    CO   \n",
       "3               Abilene             NaN           DISK    KS   \n",
       "4  New York Worlds Fair             NaN          LIGHT    NY   \n",
       "\n",
       "                 Time  \n",
       "0 1930-06-01 22:00:00  \n",
       "1 1930-06-30 20:00:00  \n",
       "2 1931-02-15 14:00:00  \n",
       "3 1931-06-01 13:00:00  \n",
       "4 1933-04-18 19:00:00  "
      ]
     },
     "execution_count": 34,
     "metadata": {},
     "output_type": "execute_result"
    }
   ],
   "source": [
    "ufo.head()"
   ]
  },
  {
   "cell_type": "code",
   "execution_count": 2,
   "id": "latest-cover",
   "metadata": {},
   "outputs": [
    {
     "data": {
      "text/html": [
       "<div>\n",
       "<style scoped>\n",
       "    .dataframe tbody tr th:only-of-type {\n",
       "        vertical-align: middle;\n",
       "    }\n",
       "\n",
       "    .dataframe tbody tr th {\n",
       "        vertical-align: top;\n",
       "    }\n",
       "\n",
       "    .dataframe thead th {\n",
       "        text-align: right;\n",
       "    }\n",
       "</style>\n",
       "<table border=\"1\" class=\"dataframe\">\n",
       "  <thead>\n",
       "    <tr style=\"text-align: right;\">\n",
       "      <th></th>\n",
       "      <th>City</th>\n",
       "      <th>Colors Reported</th>\n",
       "      <th>Shape Reported</th>\n",
       "      <th>State</th>\n",
       "      <th>Time</th>\n",
       "    </tr>\n",
       "  </thead>\n",
       "  <tbody>\n",
       "    <tr>\n",
       "      <th>0</th>\n",
       "      <td>Ithaca</td>\n",
       "      <td>NaN</td>\n",
       "      <td>TRIANGLE</td>\n",
       "      <td>NY</td>\n",
       "      <td>1930-06-01 22:00:00</td>\n",
       "    </tr>\n",
       "    <tr>\n",
       "      <th>1</th>\n",
       "      <td>Willingboro</td>\n",
       "      <td>NaN</td>\n",
       "      <td>OTHER</td>\n",
       "      <td>NJ</td>\n",
       "      <td>1930-06-30 20:00:00</td>\n",
       "    </tr>\n",
       "    <tr>\n",
       "      <th>2</th>\n",
       "      <td>Holyoke</td>\n",
       "      <td>NaN</td>\n",
       "      <td>OVAL</td>\n",
       "      <td>CO</td>\n",
       "      <td>1931-02-15 14:00:00</td>\n",
       "    </tr>\n",
       "    <tr>\n",
       "      <th>3</th>\n",
       "      <td>Abilene</td>\n",
       "      <td>NaN</td>\n",
       "      <td>DISK</td>\n",
       "      <td>KS</td>\n",
       "      <td>1931-06-01 13:00:00</td>\n",
       "    </tr>\n",
       "    <tr>\n",
       "      <th>4</th>\n",
       "      <td>New York Worlds Fair</td>\n",
       "      <td>NaN</td>\n",
       "      <td>LIGHT</td>\n",
       "      <td>NY</td>\n",
       "      <td>1933-04-18 19:00:00</td>\n",
       "    </tr>\n",
       "  </tbody>\n",
       "</table>\n",
       "</div>"
      ],
      "text/plain": [
       "                   City Colors Reported Shape Reported State  \\\n",
       "0                Ithaca             NaN       TRIANGLE    NY   \n",
       "1           Willingboro             NaN          OTHER    NJ   \n",
       "2               Holyoke             NaN           OVAL    CO   \n",
       "3               Abilene             NaN           DISK    KS   \n",
       "4  New York Worlds Fair             NaN          LIGHT    NY   \n",
       "\n",
       "                 Time  \n",
       "0 1930-06-01 22:00:00  \n",
       "1 1930-06-30 20:00:00  \n",
       "2 1931-02-15 14:00:00  \n",
       "3 1931-06-01 13:00:00  \n",
       "4 1933-04-18 19:00:00  "
      ]
     },
     "execution_count": 2,
     "metadata": {},
     "output_type": "execute_result"
    }
   ],
   "source": [
    "ufo.head()"
   ]
  },
  {
   "cell_type": "code",
   "execution_count": 3,
   "id": "academic-amplifier",
   "metadata": {},
   "outputs": [
    {
     "data": {
      "text/plain": [
       "City                       object\n",
       "Colors Reported            object\n",
       "Shape Reported             object\n",
       "State                      object\n",
       "Time               datetime64[ns]\n",
       "dtype: object"
      ]
     },
     "execution_count": 3,
     "metadata": {},
     "output_type": "execute_result"
    }
   ],
   "source": [
    "ufo.dtypes"
   ]
  },
  {
   "cell_type": "code",
   "execution_count": 4,
   "id": "mounted-sequence",
   "metadata": {},
   "outputs": [
    {
     "data": {
      "text/plain": [
       "City                       object\n",
       "Colors Reported            object\n",
       "Shape Reported             object\n",
       "State                      object\n",
       "Time               datetime64[ns]\n",
       "year                       object\n",
       "dtype: object"
      ]
     },
     "execution_count": 4,
     "metadata": {},
     "output_type": "execute_result"
    }
   ],
   "source": [
    "ufo['year']=ufo.Time.dt.year.astype(str)\n",
    "ufo.dtypes"
   ]
  },
  {
   "cell_type": "code",
   "execution_count": 5,
   "id": "brazilian-payday",
   "metadata": {},
   "outputs": [
    {
     "data": {
      "text/plain": [
       "0         6\n",
       "1         6\n",
       "2         2\n",
       "3         6\n",
       "4         4\n",
       "         ..\n",
       "18236    12\n",
       "18237    12\n",
       "18238    12\n",
       "18239    12\n",
       "18240    12\n",
       "Name: Time, Length: 18241, dtype: int64"
      ]
     },
     "execution_count": 5,
     "metadata": {},
     "output_type": "execute_result"
    }
   ],
   "source": [
    "ufo.Time.dt.month"
   ]
  },
  {
   "cell_type": "markdown",
   "id": "charming-helen",
   "metadata": {},
   "source": [
    "# important: str.pad , str.cat method"
   ]
  },
  {
   "cell_type": "code",
   "execution_count": 8,
   "id": "norman-secretary",
   "metadata": {},
   "outputs": [
    {
     "data": {
      "text/plain": [
       "0        006\n",
       "1        006\n",
       "2        002\n",
       "3        006\n",
       "4        004\n",
       "        ... \n",
       "18236    012\n",
       "18237    012\n",
       "18238    012\n",
       "18239    012\n",
       "18240    012\n",
       "Name: Time, Length: 18241, dtype: object"
      ]
     },
     "execution_count": 8,
     "metadata": {},
     "output_type": "execute_result"
    }
   ],
   "source": [
    "ufo.Time.dt.month.astype('str').str.pad(width=3,fillchar='0')"
   ]
  },
  {
   "cell_type": "code",
   "execution_count": 9,
   "id": "powered-declaration",
   "metadata": {},
   "outputs": [],
   "source": [
    "ufo['month']=ufo.Time.dt.month.astype('str').str.pad(width=3,fillchar='0')"
   ]
  },
  {
   "cell_type": "code",
   "execution_count": 11,
   "id": "several-general",
   "metadata": {},
   "outputs": [],
   "source": [
    "ufo['year']=ufo.Time.dt.year.astype('str').str.cat(ufo.month,sep='---')"
   ]
  },
  {
   "cell_type": "code",
   "execution_count": 12,
   "id": "musical-defense",
   "metadata": {},
   "outputs": [
    {
     "data": {
      "text/html": [
       "<div>\n",
       "<style scoped>\n",
       "    .dataframe tbody tr th:only-of-type {\n",
       "        vertical-align: middle;\n",
       "    }\n",
       "\n",
       "    .dataframe tbody tr th {\n",
       "        vertical-align: top;\n",
       "    }\n",
       "\n",
       "    .dataframe thead th {\n",
       "        text-align: right;\n",
       "    }\n",
       "</style>\n",
       "<table border=\"1\" class=\"dataframe\">\n",
       "  <thead>\n",
       "    <tr style=\"text-align: right;\">\n",
       "      <th></th>\n",
       "      <th>City</th>\n",
       "      <th>Colors Reported</th>\n",
       "      <th>Shape Reported</th>\n",
       "      <th>State</th>\n",
       "      <th>Time</th>\n",
       "      <th>year</th>\n",
       "      <th>month</th>\n",
       "    </tr>\n",
       "  </thead>\n",
       "  <tbody>\n",
       "    <tr>\n",
       "      <th>0</th>\n",
       "      <td>Ithaca</td>\n",
       "      <td>NaN</td>\n",
       "      <td>TRIANGLE</td>\n",
       "      <td>NY</td>\n",
       "      <td>1930-06-01 22:00:00</td>\n",
       "      <td>1930---006</td>\n",
       "      <td>006</td>\n",
       "    </tr>\n",
       "    <tr>\n",
       "      <th>1</th>\n",
       "      <td>Willingboro</td>\n",
       "      <td>NaN</td>\n",
       "      <td>OTHER</td>\n",
       "      <td>NJ</td>\n",
       "      <td>1930-06-30 20:00:00</td>\n",
       "      <td>1930---006</td>\n",
       "      <td>006</td>\n",
       "    </tr>\n",
       "    <tr>\n",
       "      <th>2</th>\n",
       "      <td>Holyoke</td>\n",
       "      <td>NaN</td>\n",
       "      <td>OVAL</td>\n",
       "      <td>CO</td>\n",
       "      <td>1931-02-15 14:00:00</td>\n",
       "      <td>1931---002</td>\n",
       "      <td>002</td>\n",
       "    </tr>\n",
       "    <tr>\n",
       "      <th>3</th>\n",
       "      <td>Abilene</td>\n",
       "      <td>NaN</td>\n",
       "      <td>DISK</td>\n",
       "      <td>KS</td>\n",
       "      <td>1931-06-01 13:00:00</td>\n",
       "      <td>1931---006</td>\n",
       "      <td>006</td>\n",
       "    </tr>\n",
       "    <tr>\n",
       "      <th>4</th>\n",
       "      <td>New York Worlds Fair</td>\n",
       "      <td>NaN</td>\n",
       "      <td>LIGHT</td>\n",
       "      <td>NY</td>\n",
       "      <td>1933-04-18 19:00:00</td>\n",
       "      <td>1933---004</td>\n",
       "      <td>004</td>\n",
       "    </tr>\n",
       "  </tbody>\n",
       "</table>\n",
       "</div>"
      ],
      "text/plain": [
       "                   City Colors Reported Shape Reported State  \\\n",
       "0                Ithaca             NaN       TRIANGLE    NY   \n",
       "1           Willingboro             NaN          OTHER    NJ   \n",
       "2               Holyoke             NaN           OVAL    CO   \n",
       "3               Abilene             NaN           DISK    KS   \n",
       "4  New York Worlds Fair             NaN          LIGHT    NY   \n",
       "\n",
       "                 Time        year month  \n",
       "0 1930-06-01 22:00:00  1930---006   006  \n",
       "1 1930-06-30 20:00:00  1930---006   006  \n",
       "2 1931-02-15 14:00:00  1931---002   002  \n",
       "3 1931-06-01 13:00:00  1931---006   006  \n",
       "4 1933-04-18 19:00:00  1933---004   004  "
      ]
     },
     "execution_count": 12,
     "metadata": {},
     "output_type": "execute_result"
    }
   ],
   "source": [
    "ufo.head()"
   ]
  },
  {
   "cell_type": "code",
   "execution_count": 13,
   "id": "horizontal-hypothesis",
   "metadata": {},
   "outputs": [
    {
     "data": {
      "text/html": [
       "<div>\n",
       "<style scoped>\n",
       "    .dataframe tbody tr th:only-of-type {\n",
       "        vertical-align: middle;\n",
       "    }\n",
       "\n",
       "    .dataframe tbody tr th {\n",
       "        vertical-align: top;\n",
       "    }\n",
       "\n",
       "    .dataframe thead th {\n",
       "        text-align: right;\n",
       "    }\n",
       "</style>\n",
       "<table border=\"1\" class=\"dataframe\">\n",
       "  <thead>\n",
       "    <tr style=\"text-align: right;\">\n",
       "      <th></th>\n",
       "      <th>PassengerId</th>\n",
       "      <th>Survived</th>\n",
       "      <th>Pclass</th>\n",
       "      <th>Name</th>\n",
       "      <th>Sex</th>\n",
       "      <th>Age</th>\n",
       "      <th>SibSp</th>\n",
       "      <th>Parch</th>\n",
       "      <th>Ticket</th>\n",
       "      <th>Fare</th>\n",
       "      <th>Cabin</th>\n",
       "      <th>Embarked</th>\n",
       "    </tr>\n",
       "  </thead>\n",
       "  <tbody>\n",
       "    <tr>\n",
       "      <th>0</th>\n",
       "      <td>1</td>\n",
       "      <td>0</td>\n",
       "      <td>3</td>\n",
       "      <td>Braund, Mr. Owen Harris</td>\n",
       "      <td>male</td>\n",
       "      <td>22.0</td>\n",
       "      <td>1</td>\n",
       "      <td>0</td>\n",
       "      <td>A/5 21171</td>\n",
       "      <td>7.2500</td>\n",
       "      <td>NaN</td>\n",
       "      <td>S</td>\n",
       "    </tr>\n",
       "    <tr>\n",
       "      <th>1</th>\n",
       "      <td>2</td>\n",
       "      <td>1</td>\n",
       "      <td>1</td>\n",
       "      <td>Cumings, Mrs. John Bradley (Florence Briggs Th...</td>\n",
       "      <td>female</td>\n",
       "      <td>38.0</td>\n",
       "      <td>1</td>\n",
       "      <td>0</td>\n",
       "      <td>PC 17599</td>\n",
       "      <td>71.2833</td>\n",
       "      <td>C85</td>\n",
       "      <td>C</td>\n",
       "    </tr>\n",
       "    <tr>\n",
       "      <th>2</th>\n",
       "      <td>3</td>\n",
       "      <td>1</td>\n",
       "      <td>3</td>\n",
       "      <td>Heikkinen, Miss. Laina</td>\n",
       "      <td>female</td>\n",
       "      <td>26.0</td>\n",
       "      <td>0</td>\n",
       "      <td>0</td>\n",
       "      <td>STON/O2. 3101282</td>\n",
       "      <td>7.9250</td>\n",
       "      <td>NaN</td>\n",
       "      <td>S</td>\n",
       "    </tr>\n",
       "    <tr>\n",
       "      <th>3</th>\n",
       "      <td>4</td>\n",
       "      <td>1</td>\n",
       "      <td>1</td>\n",
       "      <td>Futrelle, Mrs. Jacques Heath (Lily May Peel)</td>\n",
       "      <td>female</td>\n",
       "      <td>35.0</td>\n",
       "      <td>1</td>\n",
       "      <td>0</td>\n",
       "      <td>113803</td>\n",
       "      <td>53.1000</td>\n",
       "      <td>C123</td>\n",
       "      <td>S</td>\n",
       "    </tr>\n",
       "    <tr>\n",
       "      <th>4</th>\n",
       "      <td>5</td>\n",
       "      <td>0</td>\n",
       "      <td>3</td>\n",
       "      <td>Allen, Mr. William Henry</td>\n",
       "      <td>male</td>\n",
       "      <td>35.0</td>\n",
       "      <td>0</td>\n",
       "      <td>0</td>\n",
       "      <td>373450</td>\n",
       "      <td>8.0500</td>\n",
       "      <td>NaN</td>\n",
       "      <td>S</td>\n",
       "    </tr>\n",
       "  </tbody>\n",
       "</table>\n",
       "</div>"
      ],
      "text/plain": [
       "   PassengerId  Survived  Pclass  \\\n",
       "0            1         0       3   \n",
       "1            2         1       1   \n",
       "2            3         1       3   \n",
       "3            4         1       1   \n",
       "4            5         0       3   \n",
       "\n",
       "                                                Name     Sex   Age  SibSp  \\\n",
       "0                            Braund, Mr. Owen Harris    male  22.0      1   \n",
       "1  Cumings, Mrs. John Bradley (Florence Briggs Th...  female  38.0      1   \n",
       "2                             Heikkinen, Miss. Laina  female  26.0      0   \n",
       "3       Futrelle, Mrs. Jacques Heath (Lily May Peel)  female  35.0      1   \n",
       "4                           Allen, Mr. William Henry    male  35.0      0   \n",
       "\n",
       "   Parch            Ticket     Fare Cabin Embarked  \n",
       "0      0         A/5 21171   7.2500   NaN        S  \n",
       "1      0          PC 17599  71.2833   C85        C  \n",
       "2      0  STON/O2. 3101282   7.9250   NaN        S  \n",
       "3      0            113803  53.1000  C123        S  \n",
       "4      0            373450   8.0500   NaN        S  "
      ]
     },
     "execution_count": 13,
     "metadata": {},
     "output_type": "execute_result"
    }
   ],
   "source": [
    "train.head()"
   ]
  },
  {
   "cell_type": "code",
   "execution_count": 14,
   "id": "nominated-cheese",
   "metadata": {},
   "outputs": [
    {
     "data": {
      "text/plain": [
       "0       True\n",
       "1      False\n",
       "2      False\n",
       "3      False\n",
       "4      False\n",
       "       ...  \n",
       "886     True\n",
       "887    False\n",
       "888    False\n",
       "889     True\n",
       "890    False\n",
       "Length: 891, dtype: bool"
      ]
     },
     "execution_count": 14,
     "metadata": {},
     "output_type": "execute_result"
    }
   ],
   "source": [
    "#i want to find young male from column\n",
    "(train.Age <=30) & (train.Sex =='male')"
   ]
  },
  {
   "cell_type": "code",
   "execution_count": 18,
   "id": "military-resident",
   "metadata": {},
   "outputs": [],
   "source": [
    "train['young']=((train.Age <=30) & (train.Sex =='male')).map({True:'young',False:'not young'})\n",
    "# important map function please use {} otherwise it give sintex error"
   ]
  },
  {
   "cell_type": "code",
   "execution_count": 19,
   "id": "close-court",
   "metadata": {},
   "outputs": [
    {
     "data": {
      "text/html": [
       "<div>\n",
       "<style scoped>\n",
       "    .dataframe tbody tr th:only-of-type {\n",
       "        vertical-align: middle;\n",
       "    }\n",
       "\n",
       "    .dataframe tbody tr th {\n",
       "        vertical-align: top;\n",
       "    }\n",
       "\n",
       "    .dataframe thead th {\n",
       "        text-align: right;\n",
       "    }\n",
       "</style>\n",
       "<table border=\"1\" class=\"dataframe\">\n",
       "  <thead>\n",
       "    <tr style=\"text-align: right;\">\n",
       "      <th></th>\n",
       "      <th>PassengerId</th>\n",
       "      <th>Survived</th>\n",
       "      <th>Pclass</th>\n",
       "      <th>Name</th>\n",
       "      <th>Sex</th>\n",
       "      <th>Age</th>\n",
       "      <th>SibSp</th>\n",
       "      <th>Parch</th>\n",
       "      <th>Ticket</th>\n",
       "      <th>Fare</th>\n",
       "      <th>Cabin</th>\n",
       "      <th>Embarked</th>\n",
       "      <th>young</th>\n",
       "    </tr>\n",
       "  </thead>\n",
       "  <tbody>\n",
       "    <tr>\n",
       "      <th>0</th>\n",
       "      <td>1</td>\n",
       "      <td>0</td>\n",
       "      <td>3</td>\n",
       "      <td>Braund, Mr. Owen Harris</td>\n",
       "      <td>male</td>\n",
       "      <td>22.0</td>\n",
       "      <td>1</td>\n",
       "      <td>0</td>\n",
       "      <td>A/5 21171</td>\n",
       "      <td>7.2500</td>\n",
       "      <td>NaN</td>\n",
       "      <td>S</td>\n",
       "      <td>young</td>\n",
       "    </tr>\n",
       "    <tr>\n",
       "      <th>1</th>\n",
       "      <td>2</td>\n",
       "      <td>1</td>\n",
       "      <td>1</td>\n",
       "      <td>Cumings, Mrs. John Bradley (Florence Briggs Th...</td>\n",
       "      <td>female</td>\n",
       "      <td>38.0</td>\n",
       "      <td>1</td>\n",
       "      <td>0</td>\n",
       "      <td>PC 17599</td>\n",
       "      <td>71.2833</td>\n",
       "      <td>C85</td>\n",
       "      <td>C</td>\n",
       "      <td>not young</td>\n",
       "    </tr>\n",
       "    <tr>\n",
       "      <th>2</th>\n",
       "      <td>3</td>\n",
       "      <td>1</td>\n",
       "      <td>3</td>\n",
       "      <td>Heikkinen, Miss. Laina</td>\n",
       "      <td>female</td>\n",
       "      <td>26.0</td>\n",
       "      <td>0</td>\n",
       "      <td>0</td>\n",
       "      <td>STON/O2. 3101282</td>\n",
       "      <td>7.9250</td>\n",
       "      <td>NaN</td>\n",
       "      <td>S</td>\n",
       "      <td>not young</td>\n",
       "    </tr>\n",
       "    <tr>\n",
       "      <th>3</th>\n",
       "      <td>4</td>\n",
       "      <td>1</td>\n",
       "      <td>1</td>\n",
       "      <td>Futrelle, Mrs. Jacques Heath (Lily May Peel)</td>\n",
       "      <td>female</td>\n",
       "      <td>35.0</td>\n",
       "      <td>1</td>\n",
       "      <td>0</td>\n",
       "      <td>113803</td>\n",
       "      <td>53.1000</td>\n",
       "      <td>C123</td>\n",
       "      <td>S</td>\n",
       "      <td>not young</td>\n",
       "    </tr>\n",
       "    <tr>\n",
       "      <th>4</th>\n",
       "      <td>5</td>\n",
       "      <td>0</td>\n",
       "      <td>3</td>\n",
       "      <td>Allen, Mr. William Henry</td>\n",
       "      <td>male</td>\n",
       "      <td>35.0</td>\n",
       "      <td>0</td>\n",
       "      <td>0</td>\n",
       "      <td>373450</td>\n",
       "      <td>8.0500</td>\n",
       "      <td>NaN</td>\n",
       "      <td>S</td>\n",
       "      <td>not young</td>\n",
       "    </tr>\n",
       "  </tbody>\n",
       "</table>\n",
       "</div>"
      ],
      "text/plain": [
       "   PassengerId  Survived  Pclass  \\\n",
       "0            1         0       3   \n",
       "1            2         1       1   \n",
       "2            3         1       3   \n",
       "3            4         1       1   \n",
       "4            5         0       3   \n",
       "\n",
       "                                                Name     Sex   Age  SibSp  \\\n",
       "0                            Braund, Mr. Owen Harris    male  22.0      1   \n",
       "1  Cumings, Mrs. John Bradley (Florence Briggs Th...  female  38.0      1   \n",
       "2                             Heikkinen, Miss. Laina  female  26.0      0   \n",
       "3       Futrelle, Mrs. Jacques Heath (Lily May Peel)  female  35.0      1   \n",
       "4                           Allen, Mr. William Henry    male  35.0      0   \n",
       "\n",
       "   Parch            Ticket     Fare Cabin Embarked      young  \n",
       "0      0         A/5 21171   7.2500   NaN        S      young  \n",
       "1      0          PC 17599  71.2833   C85        C  not young  \n",
       "2      0  STON/O2. 3101282   7.9250   NaN        S  not young  \n",
       "3      0            113803  53.1000  C123        S  not young  \n",
       "4      0            373450   8.0500   NaN        S  not young  "
      ]
     },
     "execution_count": 19,
     "metadata": {},
     "output_type": "execute_result"
    }
   ],
   "source": [
    "train.head()"
   ]
  },
  {
   "cell_type": "code",
   "execution_count": 20,
   "id": "certain-maintenance",
   "metadata": {},
   "outputs": [
    {
     "data": {
      "text/plain": [
       "male      577\n",
       "female    314\n",
       "Name: Sex, dtype: int64"
      ]
     },
     "execution_count": 20,
     "metadata": {},
     "output_type": "execute_result"
    }
   ],
   "source": [
    "train.Sex.value_counts()"
   ]
  },
  {
   "cell_type": "code",
   "execution_count": 25,
   "id": "agricultural-distinction",
   "metadata": {},
   "outputs": [
    {
     "data": {
      "text/html": [
       "<div>\n",
       "<style scoped>\n",
       "    .dataframe tbody tr th:only-of-type {\n",
       "        vertical-align: middle;\n",
       "    }\n",
       "\n",
       "    .dataframe tbody tr th {\n",
       "        vertical-align: top;\n",
       "    }\n",
       "\n",
       "    .dataframe thead th {\n",
       "        text-align: right;\n",
       "    }\n",
       "</style>\n",
       "<table border=\"1\" class=\"dataframe\">\n",
       "  <thead>\n",
       "    <tr style=\"text-align: right;\">\n",
       "      <th></th>\n",
       "      <th>City</th>\n",
       "      <th>Colors Reported</th>\n",
       "      <th>Shape Reported</th>\n",
       "      <th>State</th>\n",
       "      <th>Time</th>\n",
       "      <th>year</th>\n",
       "      <th>month</th>\n",
       "    </tr>\n",
       "  </thead>\n",
       "  <tbody>\n",
       "  </tbody>\n",
       "</table>\n",
       "</div>"
      ],
      "text/plain": [
       "Empty DataFrame\n",
       "Columns: [City, Colors Reported, Shape Reported, State, Time, year, month]\n",
       "Index: []"
      ]
     },
     "execution_count": 25,
     "metadata": {},
     "output_type": "execute_result"
    }
   ],
   "source": [
    "ufo.loc[(ufo.City.isnull()) & (ufo['Colors Reported']=='RED')] #important"
   ]
  },
  {
   "cell_type": "code",
   "execution_count": 26,
   "id": "iraqi-affiliation",
   "metadata": {},
   "outputs": [
    {
     "name": "stdout",
     "output_type": "stream",
     "text": [
      "Wall time: 21.5 ms\n"
     ]
    },
    {
     "data": {
      "text/plain": [
       "23"
      ]
     },
     "execution_count": 26,
     "metadata": {},
     "output_type": "execute_result"
    }
   ],
   "source": [
    "%time ufo.City.isnull().sum()"
   ]
  },
  {
   "cell_type": "code",
   "execution_count": 27,
   "id": "defensive-facial",
   "metadata": {},
   "outputs": [],
   "source": [
    "drinks2=pd.read_csv('drinks_by_country.txt')"
   ]
  },
  {
   "cell_type": "code",
   "execution_count": 28,
   "id": "interpreted-conditions",
   "metadata": {},
   "outputs": [
    {
     "data": {
      "text/html": [
       "<div>\n",
       "<style scoped>\n",
       "    .dataframe tbody tr th:only-of-type {\n",
       "        vertical-align: middle;\n",
       "    }\n",
       "\n",
       "    .dataframe tbody tr th {\n",
       "        vertical-align: top;\n",
       "    }\n",
       "\n",
       "    .dataframe thead th {\n",
       "        text-align: right;\n",
       "    }\n",
       "</style>\n",
       "<table border=\"1\" class=\"dataframe\">\n",
       "  <thead>\n",
       "    <tr style=\"text-align: right;\">\n",
       "      <th></th>\n",
       "      <th>country</th>\n",
       "      <th>beer_servings</th>\n",
       "      <th>spirit_servings</th>\n",
       "      <th>wine_servings</th>\n",
       "      <th>total_litres_of_pure_alcohol</th>\n",
       "      <th>continent</th>\n",
       "    </tr>\n",
       "  </thead>\n",
       "  <tbody>\n",
       "    <tr>\n",
       "      <th>0</th>\n",
       "      <td>True</td>\n",
       "      <td>True</td>\n",
       "      <td>True</td>\n",
       "      <td>True</td>\n",
       "      <td>True</td>\n",
       "      <td>True</td>\n",
       "    </tr>\n",
       "    <tr>\n",
       "      <th>1</th>\n",
       "      <td>True</td>\n",
       "      <td>True</td>\n",
       "      <td>True</td>\n",
       "      <td>True</td>\n",
       "      <td>True</td>\n",
       "      <td>True</td>\n",
       "    </tr>\n",
       "    <tr>\n",
       "      <th>2</th>\n",
       "      <td>True</td>\n",
       "      <td>True</td>\n",
       "      <td>True</td>\n",
       "      <td>True</td>\n",
       "      <td>True</td>\n",
       "      <td>True</td>\n",
       "    </tr>\n",
       "    <tr>\n",
       "      <th>3</th>\n",
       "      <td>True</td>\n",
       "      <td>True</td>\n",
       "      <td>True</td>\n",
       "      <td>True</td>\n",
       "      <td>True</td>\n",
       "      <td>True</td>\n",
       "    </tr>\n",
       "    <tr>\n",
       "      <th>4</th>\n",
       "      <td>True</td>\n",
       "      <td>True</td>\n",
       "      <td>True</td>\n",
       "      <td>True</td>\n",
       "      <td>True</td>\n",
       "      <td>True</td>\n",
       "    </tr>\n",
       "  </tbody>\n",
       "</table>\n",
       "</div>"
      ],
      "text/plain": [
       "   country  beer_servings  spirit_servings  wine_servings  \\\n",
       "0     True           True             True           True   \n",
       "1     True           True             True           True   \n",
       "2     True           True             True           True   \n",
       "3     True           True             True           True   \n",
       "4     True           True             True           True   \n",
       "\n",
       "   total_litres_of_pure_alcohol  continent  \n",
       "0                          True       True  \n",
       "1                          True       True  \n",
       "2                          True       True  \n",
       "3                          True       True  \n",
       "4                          True       True  "
      ]
     },
     "execution_count": 28,
     "metadata": {},
     "output_type": "execute_result"
    }
   ],
   "source": [
    "(drinks==drinks2).head()"
   ]
  },
  {
   "cell_type": "code",
   "execution_count": 29,
   "id": "judicial-monte",
   "metadata": {},
   "outputs": [
    {
     "data": {
      "text/plain": [
       "country                         0\n",
       "beer_servings                   0\n",
       "spirit_servings                 0\n",
       "wine_servings                   0\n",
       "total_litres_of_pure_alcohol    0\n",
       "continent                       0\n",
       "dtype: int64"
      ]
     },
     "execution_count": 29,
     "metadata": {},
     "output_type": "execute_result"
    }
   ],
   "source": [
    "(drinks!=drinks2).sum()\n",
    "#here we check the meanninful data similarity and disimilarity of data"
   ]
  },
  {
   "cell_type": "code",
   "execution_count": 30,
   "id": "psychological-bottle",
   "metadata": {},
   "outputs": [
    {
     "data": {
      "text/html": [
       "<div>\n",
       "<style scoped>\n",
       "    .dataframe tbody tr th:only-of-type {\n",
       "        vertical-align: middle;\n",
       "    }\n",
       "\n",
       "    .dataframe tbody tr th {\n",
       "        vertical-align: top;\n",
       "    }\n",
       "\n",
       "    .dataframe thead th {\n",
       "        text-align: right;\n",
       "    }\n",
       "</style>\n",
       "<table border=\"1\" class=\"dataframe\">\n",
       "  <thead>\n",
       "    <tr style=\"text-align: right;\">\n",
       "      <th></th>\n",
       "      <th>country</th>\n",
       "      <th>beer_servings</th>\n",
       "      <th>spirit_servings</th>\n",
       "      <th>wine_servings</th>\n",
       "      <th>total_litres_of_pure_alcohol</th>\n",
       "      <th>continent</th>\n",
       "    </tr>\n",
       "  </thead>\n",
       "  <tbody>\n",
       "    <tr>\n",
       "      <th>0</th>\n",
       "      <td>Afghanistan</td>\n",
       "      <td>0</td>\n",
       "      <td>0</td>\n",
       "      <td>0</td>\n",
       "      <td>0.0</td>\n",
       "      <td>Asia</td>\n",
       "    </tr>\n",
       "    <tr>\n",
       "      <th>2</th>\n",
       "      <td>Algeria</td>\n",
       "      <td>25</td>\n",
       "      <td>0</td>\n",
       "      <td>14</td>\n",
       "      <td>0.7</td>\n",
       "      <td>Africa</td>\n",
       "    </tr>\n",
       "    <tr>\n",
       "      <th>4</th>\n",
       "      <td>Angola</td>\n",
       "      <td>217</td>\n",
       "      <td>57</td>\n",
       "      <td>45</td>\n",
       "      <td>5.9</td>\n",
       "      <td>Africa</td>\n",
       "    </tr>\n",
       "    <tr>\n",
       "      <th>12</th>\n",
       "      <td>Bahrain</td>\n",
       "      <td>42</td>\n",
       "      <td>63</td>\n",
       "      <td>7</td>\n",
       "      <td>2.0</td>\n",
       "      <td>Asia</td>\n",
       "    </tr>\n",
       "    <tr>\n",
       "      <th>13</th>\n",
       "      <td>Bangladesh</td>\n",
       "      <td>0</td>\n",
       "      <td>0</td>\n",
       "      <td>0</td>\n",
       "      <td>0.0</td>\n",
       "      <td>Asia</td>\n",
       "    </tr>\n",
       "    <tr>\n",
       "      <th>...</th>\n",
       "      <td>...</td>\n",
       "      <td>...</td>\n",
       "      <td>...</td>\n",
       "      <td>...</td>\n",
       "      <td>...</td>\n",
       "      <td>...</td>\n",
       "    </tr>\n",
       "    <tr>\n",
       "      <th>186</th>\n",
       "      <td>Uzbekistan</td>\n",
       "      <td>25</td>\n",
       "      <td>101</td>\n",
       "      <td>8</td>\n",
       "      <td>2.4</td>\n",
       "      <td>Asia</td>\n",
       "    </tr>\n",
       "    <tr>\n",
       "      <th>189</th>\n",
       "      <td>Vietnam</td>\n",
       "      <td>111</td>\n",
       "      <td>2</td>\n",
       "      <td>1</td>\n",
       "      <td>2.0</td>\n",
       "      <td>Asia</td>\n",
       "    </tr>\n",
       "    <tr>\n",
       "      <th>190</th>\n",
       "      <td>Yemen</td>\n",
       "      <td>6</td>\n",
       "      <td>0</td>\n",
       "      <td>0</td>\n",
       "      <td>0.1</td>\n",
       "      <td>Asia</td>\n",
       "    </tr>\n",
       "    <tr>\n",
       "      <th>191</th>\n",
       "      <td>Zambia</td>\n",
       "      <td>32</td>\n",
       "      <td>19</td>\n",
       "      <td>4</td>\n",
       "      <td>2.5</td>\n",
       "      <td>Africa</td>\n",
       "    </tr>\n",
       "    <tr>\n",
       "      <th>192</th>\n",
       "      <td>Zimbabwe</td>\n",
       "      <td>64</td>\n",
       "      <td>18</td>\n",
       "      <td>4</td>\n",
       "      <td>4.7</td>\n",
       "      <td>Africa</td>\n",
       "    </tr>\n",
       "  </tbody>\n",
       "</table>\n",
       "<p>97 rows × 6 columns</p>\n",
       "</div>"
      ],
      "text/plain": [
       "         country  beer_servings  spirit_servings  wine_servings  \\\n",
       "0    Afghanistan              0                0              0   \n",
       "2        Algeria             25                0             14   \n",
       "4         Angola            217               57             45   \n",
       "12       Bahrain             42               63              7   \n",
       "13    Bangladesh              0                0              0   \n",
       "..           ...            ...              ...            ...   \n",
       "186   Uzbekistan             25              101              8   \n",
       "189      Vietnam            111                2              1   \n",
       "190        Yemen              6                0              0   \n",
       "191       Zambia             32               19              4   \n",
       "192     Zimbabwe             64               18              4   \n",
       "\n",
       "     total_litres_of_pure_alcohol continent  \n",
       "0                             0.0      Asia  \n",
       "2                             0.7    Africa  \n",
       "4                             5.9    Africa  \n",
       "12                            2.0      Asia  \n",
       "13                            0.0      Asia  \n",
       "..                            ...       ...  \n",
       "186                           2.4      Asia  \n",
       "189                           2.0      Asia  \n",
       "190                           0.1      Asia  \n",
       "191                           2.5    Africa  \n",
       "192                           4.7    Africa  \n",
       "\n",
       "[97 rows x 6 columns]"
      ]
     },
     "execution_count": 30,
     "metadata": {},
     "output_type": "execute_result"
    }
   ],
   "source": [
    "drinks[drinks.continent.isin(['Asia','Africa'])]#i want just asia and africa"
   ]
  },
  {
   "cell_type": "code",
   "execution_count": 31,
   "id": "unknown-killing",
   "metadata": {},
   "outputs": [
    {
     "data": {
      "text/html": [
       "<div>\n",
       "<style scoped>\n",
       "    .dataframe tbody tr th:only-of-type {\n",
       "        vertical-align: middle;\n",
       "    }\n",
       "\n",
       "    .dataframe tbody tr th {\n",
       "        vertical-align: top;\n",
       "    }\n",
       "\n",
       "    .dataframe thead th {\n",
       "        text-align: right;\n",
       "    }\n",
       "</style>\n",
       "<table border=\"1\" class=\"dataframe\">\n",
       "  <thead>\n",
       "    <tr style=\"text-align: right;\">\n",
       "      <th></th>\n",
       "      <th>country</th>\n",
       "      <th>beer_servings</th>\n",
       "      <th>spirit_servings</th>\n",
       "      <th>wine_servings</th>\n",
       "      <th>total_litres_of_pure_alcohol</th>\n",
       "      <th>continent</th>\n",
       "    </tr>\n",
       "  </thead>\n",
       "  <tbody>\n",
       "    <tr>\n",
       "      <th>1</th>\n",
       "      <td>Albania</td>\n",
       "      <td>89</td>\n",
       "      <td>132</td>\n",
       "      <td>54</td>\n",
       "      <td>4.9</td>\n",
       "      <td>Europe</td>\n",
       "    </tr>\n",
       "    <tr>\n",
       "      <th>3</th>\n",
       "      <td>Andorra</td>\n",
       "      <td>245</td>\n",
       "      <td>138</td>\n",
       "      <td>312</td>\n",
       "      <td>12.4</td>\n",
       "      <td>Europe</td>\n",
       "    </tr>\n",
       "    <tr>\n",
       "      <th>5</th>\n",
       "      <td>Antigua &amp; Barbuda</td>\n",
       "      <td>102</td>\n",
       "      <td>128</td>\n",
       "      <td>45</td>\n",
       "      <td>4.9</td>\n",
       "      <td>North America</td>\n",
       "    </tr>\n",
       "    <tr>\n",
       "      <th>6</th>\n",
       "      <td>Argentina</td>\n",
       "      <td>193</td>\n",
       "      <td>25</td>\n",
       "      <td>221</td>\n",
       "      <td>8.3</td>\n",
       "      <td>South America</td>\n",
       "    </tr>\n",
       "    <tr>\n",
       "      <th>7</th>\n",
       "      <td>Armenia</td>\n",
       "      <td>21</td>\n",
       "      <td>179</td>\n",
       "      <td>11</td>\n",
       "      <td>3.8</td>\n",
       "      <td>Europe</td>\n",
       "    </tr>\n",
       "    <tr>\n",
       "      <th>...</th>\n",
       "      <td>...</td>\n",
       "      <td>...</td>\n",
       "      <td>...</td>\n",
       "      <td>...</td>\n",
       "      <td>...</td>\n",
       "      <td>...</td>\n",
       "    </tr>\n",
       "    <tr>\n",
       "      <th>182</th>\n",
       "      <td>United Kingdom</td>\n",
       "      <td>219</td>\n",
       "      <td>126</td>\n",
       "      <td>195</td>\n",
       "      <td>10.4</td>\n",
       "      <td>Europe</td>\n",
       "    </tr>\n",
       "    <tr>\n",
       "      <th>184</th>\n",
       "      <td>USA</td>\n",
       "      <td>249</td>\n",
       "      <td>158</td>\n",
       "      <td>84</td>\n",
       "      <td>8.7</td>\n",
       "      <td>North America</td>\n",
       "    </tr>\n",
       "    <tr>\n",
       "      <th>185</th>\n",
       "      <td>Uruguay</td>\n",
       "      <td>115</td>\n",
       "      <td>35</td>\n",
       "      <td>220</td>\n",
       "      <td>6.6</td>\n",
       "      <td>South America</td>\n",
       "    </tr>\n",
       "    <tr>\n",
       "      <th>187</th>\n",
       "      <td>Vanuatu</td>\n",
       "      <td>21</td>\n",
       "      <td>18</td>\n",
       "      <td>11</td>\n",
       "      <td>0.9</td>\n",
       "      <td>Oceania</td>\n",
       "    </tr>\n",
       "    <tr>\n",
       "      <th>188</th>\n",
       "      <td>Venezuela</td>\n",
       "      <td>333</td>\n",
       "      <td>100</td>\n",
       "      <td>3</td>\n",
       "      <td>7.7</td>\n",
       "      <td>South America</td>\n",
       "    </tr>\n",
       "  </tbody>\n",
       "</table>\n",
       "<p>96 rows × 6 columns</p>\n",
       "</div>"
      ],
      "text/plain": [
       "               country  beer_servings  spirit_servings  wine_servings  \\\n",
       "1              Albania             89              132             54   \n",
       "3              Andorra            245              138            312   \n",
       "5    Antigua & Barbuda            102              128             45   \n",
       "6            Argentina            193               25            221   \n",
       "7              Armenia             21              179             11   \n",
       "..                 ...            ...              ...            ...   \n",
       "182     United Kingdom            219              126            195   \n",
       "184                USA            249              158             84   \n",
       "185            Uruguay            115               35            220   \n",
       "187            Vanuatu             21               18             11   \n",
       "188          Venezuela            333              100              3   \n",
       "\n",
       "     total_litres_of_pure_alcohol      continent  \n",
       "1                             4.9         Europe  \n",
       "3                            12.4         Europe  \n",
       "5                             4.9  North America  \n",
       "6                             8.3  South America  \n",
       "7                             3.8         Europe  \n",
       "..                            ...            ...  \n",
       "182                          10.4         Europe  \n",
       "184                           8.7  North America  \n",
       "185                           6.6  South America  \n",
       "187                           0.9        Oceania  \n",
       "188                           7.7  South America  \n",
       "\n",
       "[96 rows x 6 columns]"
      ]
     },
     "execution_count": 31,
     "metadata": {},
     "output_type": "execute_result"
    }
   ],
   "source": [
    "drinks[~drinks.continent.isin(['Asia','Africa'])]#except asia and africa"
   ]
  },
  {
   "cell_type": "code",
   "execution_count": 32,
   "id": "excess-elimination",
   "metadata": {},
   "outputs": [
    {
     "data": {
      "text/plain": [
       "count        193\n",
       "unique         6\n",
       "top       Africa\n",
       "freq          53\n",
       "Name: continent, dtype: object"
      ]
     },
     "execution_count": 32,
     "metadata": {},
     "output_type": "execute_result"
    }
   ],
   "source": [
    "drinks.continent.describe()"
   ]
  },
  {
   "cell_type": "code",
   "execution_count": 33,
   "id": "tribal-airfare",
   "metadata": {},
   "outputs": [
    {
     "data": {
      "text/plain": [
       "0       True\n",
       "1      False\n",
       "2       True\n",
       "3      False\n",
       "4       True\n",
       "       ...  \n",
       "188    False\n",
       "189     True\n",
       "190     True\n",
       "191     True\n",
       "192     True\n",
       "Name: continent, Length: 193, dtype: bool"
      ]
     },
     "execution_count": 33,
     "metadata": {},
     "output_type": "execute_result"
    }
   ],
   "source": [
    "((drinks.continent=='Asia')|(drinks.continent=='Africa'))"
   ]
  },
  {
   "cell_type": "code",
   "execution_count": 34,
   "id": "agricultural-guarantee",
   "metadata": {},
   "outputs": [
    {
     "ename": "TypeError",
     "evalue": "map() missing 1 required positional argument: 'arg'",
     "output_type": "error",
     "traceback": [
      "\u001b[1;31m---------------------------------------------------------------------------\u001b[0m",
      "\u001b[1;31mTypeError\u001b[0m                                 Traceback (most recent call last)",
      "\u001b[1;32m<ipython-input-34-38b147470904>\u001b[0m in \u001b[0;36m<module>\u001b[1;34m\u001b[0m\n\u001b[1;32m----> 1\u001b[1;33m \u001b[1;33m(\u001b[0m\u001b[1;33m(\u001b[0m\u001b[0mdrinks\u001b[0m\u001b[1;33m.\u001b[0m\u001b[0mcontinent\u001b[0m\u001b[1;33m==\u001b[0m\u001b[1;34m'Asia'\u001b[0m\u001b[1;33m)\u001b[0m\u001b[1;33m|\u001b[0m\u001b[1;33m(\u001b[0m\u001b[0mdrinks\u001b[0m\u001b[1;33m.\u001b[0m\u001b[0mcontinent\u001b[0m\u001b[1;33m==\u001b[0m\u001b[1;34m'Africa'\u001b[0m\u001b[1;33m)\u001b[0m\u001b[1;33m)\u001b[0m\u001b[1;33m.\u001b[0m\u001b[0mmap\u001b[0m\u001b[1;33m(\u001b[0m\u001b[1;33m)\u001b[0m\u001b[1;33m\u001b[0m\u001b[1;33m\u001b[0m\u001b[0m\n\u001b[0m",
      "\u001b[1;31mTypeError\u001b[0m: map() missing 1 required positional argument: 'arg'"
     ]
    }
   ],
   "source": [
    "((drinks.continent=='Asia')|(drinks.continent=='Africa')).map()"
   ]
  },
  {
   "cell_type": "code",
   "execution_count": null,
   "id": "consecutive-apache",
   "metadata": {},
   "outputs": [],
   "source": []
  }
 ],
 "metadata": {
  "kernelspec": {
   "display_name": "Python 3",
   "language": "python",
   "name": "python3"
  },
  "language_info": {
   "codemirror_mode": {
    "name": "ipython",
    "version": 3
   },
   "file_extension": ".py",
   "mimetype": "text/x-python",
   "name": "python",
   "nbconvert_exporter": "python",
   "pygments_lexer": "ipython3",
   "version": "3.9.2"
  }
 },
 "nbformat": 4,
 "nbformat_minor": 5
}
