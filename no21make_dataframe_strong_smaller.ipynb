{
 "cells": [
  {
   "cell_type": "code",
   "execution_count": null,
   "id": "common-reservation",
   "metadata": {},
   "outputs": [],
   "source": [
    "import pandas as pd\n",
    "drinks=pd.read_csv('https://raw.githubusercontent.com/justmarkham/pandas-videos/master/data/drinks.csv')\n",
    "drinks.head()"
   ]
  },
  {
   "cell_type": "code",
   "execution_count": null,
   "id": "tested-disaster",
   "metadata": {},
   "outputs": [],
   "source": [
    "drinks.info()\n",
    "drinks.info(mamory_usage='deep')\n",
    "drinks.mamory_usage(deep=True)\n",
    "drinks.mamory_usage(deep=True).sum()\n",
    "sorted(drinks.continent.unique())\n",
    "# ----\n",
    "drinks.continent.head()\n",
    "# ------------\n",
    "drinks['continent'] =drinks.continent.astype('category')\n",
    "drinks.continent.head()\n",
    "#--------------\n",
    "drinks.continent.cat.code.head()#to know how pandas represent data as a integer\n",
    "#-----------\n",
    "drinks.mamory_usage(deep=True)#here you see continent consume less memory than other\n",
    "#-----------\n",
    "drinks['country'] =drinks.country.astype('category')\n",
    "drinks.continent.head()#file size not change\n",
    "drinks.country.cat.category\n",
    "#--------------------------\n",
    "\n"
   ]
  }
 ],
 "metadata": {
  "kernelspec": {
   "display_name": "Python 3",
   "language": "python",
   "name": "python3"
  },
  "language_info": {
   "codemirror_mode": {
    "name": "ipython",
    "version": 3
   },
   "file_extension": ".py",
   "mimetype": "text/x-python",
   "name": "python",
   "nbconvert_exporter": "python",
   "pygments_lexer": "ipython3",
   "version": "3.9.2"
  }
 },
 "nbformat": 4,
 "nbformat_minor": 5
}
